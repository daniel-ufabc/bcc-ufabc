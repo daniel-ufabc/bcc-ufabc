{
 "cells": [
  {
   "cell_type": "markdown",
   "metadata": {},
   "source": [
    "# Unidade 7 - Modelagem e simulação\n",
    "\n",
    "## Números aleatórios\n",
    "\n",
    "Em simulações, muitas vezes precisamos de um gerador de números aleatórios. \n",
    "\n",
    "Esses números não são aleatórios de verdade, mas eles tentam *parecer* aleatórios e são chamados de *pseudo-aleatórios*. No fundo, o computador usa alguns dados como por exemplo o horário para gerar esses números. \n",
    "\n",
    "No Python, a biblioteca para gerar esses números é a biblioteca **`random`**\n",
    "\n",
    "Vamos começar importando essa biblioteca (vamos dar o apelido de **`rd`** para ela): "
   ]
  },
  {
   "cell_type": "code",
   "execution_count": 1,
   "metadata": {
    "collapsed": true
   },
   "outputs": [],
   "source": [
    "import random as rd"
   ]
  },
  {
   "cell_type": "markdown",
   "metadata": {},
   "source": [
    "Vamos ver agora como usá-la. Para pedir um número de 0 a 1 usamos a função **`random()`**:"
   ]
  },
  {
   "cell_type": "code",
   "execution_count": null,
   "metadata": {
    "collapsed": false
   },
   "outputs": [],
   "source": [
    "rd.random()"
   ]
  },
  {
   "cell_type": "markdown",
   "metadata": {},
   "source": [
    "Execute as caixas abaixo:"
   ]
  },
  {
   "cell_type": "code",
   "execution_count": null,
   "metadata": {
    "collapsed": false
   },
   "outputs": [],
   "source": [
    "rd.random()"
   ]
  },
  {
   "cell_type": "code",
   "execution_count": null,
   "metadata": {
    "collapsed": false
   },
   "outputs": [],
   "source": [
    "rd.random()"
   ]
  },
  {
   "cell_type": "code",
   "execution_count": null,
   "metadata": {
    "collapsed": false
   },
   "outputs": [],
   "source": [
    "rd.random()"
   ]
  },
  {
   "cell_type": "code",
   "execution_count": null,
   "metadata": {
    "collapsed": false
   },
   "outputs": [],
   "source": [
    "rd.random()"
   ]
  },
  {
   "cell_type": "markdown",
   "metadata": {},
   "source": [
    "Como você pode ver cada vez que rodamos **`rd.random()`** ganhamos um número de 0 a 1. \n",
    "\n",
    "Qualquer número de 0 a 1 tem (aproximadamente) a mesma chance de ser escolhido.\n",
    "\n",
    "Então qual é a chance do número escolhido ser menor que 0.5? \n",
    "\n",
    "Bom, a chance é (aproximadamente) 0.5 (que é o mesmo que 50%). \n",
    "\n",
    "Por que?\n",
    "\n",
    "Porque metade dos números de 0 a 1 estão abaixo de 0.5.\n",
    "\n",
    "E qual a chance de ser menor que 0.6?\n",
    "\n",
    "A chance é (aproximadamente) 0.6, que é o mesmo que 60%, pois 60% dos números de 0 a 1 estão abaixo de 0.6.\n",
    "\n",
    "Então, se quisermos fazer uma moeda que dá cara com 60% de chance e coroa com 40% de chance, podemos usar **`rd.random()`** como abaixo:"
   ]
  },
  {
   "cell_type": "code",
   "execution_count": null,
   "metadata": {
    "collapsed": false
   },
   "outputs": [],
   "source": [
    "numAleatorio = rd.random()\n",
    "if (numAleatorio < 0.6):\n",
    "    print(\"Cara\")\n",
    "else :\n",
    "    print(\"Coroa\")"
   ]
  },
  {
   "cell_type": "markdown",
   "metadata": {},
   "source": [
    "**Questão 1:** Abaixo, modifique **apenas** a condição do **`if`** (e mais nada!) para que tenhamos `Cara` 45% das vezes e `Coroa` 55% das vezes.\n",
    "\n",
    "Responda na página do **Tutorial**."
   ]
  },
  {
   "cell_type": "code",
   "execution_count": null,
   "metadata": {
    "collapsed": true
   },
   "outputs": [],
   "source": [
    "numAleatorio = rd.random()\n",
    "if (numAleatorio < 0.6):\n",
    "    print(\"Cara\")\n",
    "else :\n",
    "    print(\"Coroa\")"
   ]
  },
  {
   "cell_type": "markdown",
   "metadata": {},
   "source": [
    "Será que vai sair `Cara` aproximadamente 60% das vezes mesmo?\n",
    "\n",
    "Vamos rodar o código acima **1000** vezes e ver se sai perto de 60%?\n",
    "\n",
    "É claro que vamos usar laços e contar o número de caras e coroas:"
   ]
  },
  {
   "cell_type": "code",
   "execution_count": null,
   "metadata": {
    "collapsed": false
   },
   "outputs": [],
   "source": [
    "numCaras = 0                         # 0 caras no começo\n",
    "numCoroas = 0                        # 0 coroas no começo\n",
    "\n",
    "for i in range(0,1000):\n",
    "    numAleatorio = rd.random()\n",
    "    if (numAleatorio < 0.6):\n",
    "        numCaras = numCaras + 1      # deu cara! vamos aumentar numCaras de 1\n",
    "    else :\n",
    "        numCoroas = numCoroas + 1    # deu coroa! vamos aumentar numCoroas de 1\n",
    "        \n",
    "print(\"Número de caras:\", numCaras)\n",
    "print(\"Número de coroas:\", numCoroas)"
   ]
  },
  {
   "cell_type": "markdown",
   "metadata": {},
   "source": [
    "O que você acha? Foi próximo o suficiente de 60%? (Esperamos que sim!)\n",
    "\n",
    "**Faça você mesmo!** Modifique o código acima para que ele faça 100000 jogadas de moeda!\n",
    "\n",
    "Temos também uma função que sorteia números inteiros (dado um número mínimo e um número máximo). \n",
    "\n",
    "Cada número tem a mesma chance de sair.\n",
    "\n",
    "A linha a seguir sorteia um número de 1 a 6. Ela é basicamente um dado! Rode o código a seguir várias vezes para ver o que acontece."
   ]
  },
  {
   "cell_type": "code",
   "execution_count": null,
   "metadata": {
    "collapsed": false
   },
   "outputs": [],
   "source": [
    "rd.randint(1,6)"
   ]
  },
  {
   "cell_type": "markdown",
   "metadata": {},
   "source": [
    "**Faça você mesmo!** Modifique o código abaixo para que cada uma das opções a seguir seja impressa com a mesma probabilidade. O código a seguir é basicamente uma bola 8 do bem :-D. Responda a **Questão 2** do **Tutorial**."
   ]
  },
  {
   "cell_type": "code",
   "execution_count": null,
   "metadata": {
    "collapsed": false
   },
   "outputs": [],
   "source": [
    "r = #coloque o valor de r aqui!\n",
    "if r==1:\n",
    "    print(\"Você vai tirar A neste curso!\")\n",
    "elif r==2:\n",
    "    print(\"O seu CR vai ser alto!\")\n",
    "elif r==3:\n",
    "    print(\"O fretado vai estar vazio!\") #Improvável...\n",
    "else:\n",
    "    print(\"O Brasil vai ganhar a Copa!\") #Ninguém acredita nesta opção..."
   ]
  },
  {
   "cell_type": "markdown",
   "metadata": {},
   "source": [
    "Podemos usar randint para fazer um jogador-automático de par ou ímpar.\n",
    "Em cada rodada, o computador escolhe um número entre 1 e 10 e o usuário digita um número de 1 a 10. \n",
    "O usuário ganha se a soma for par (digamos que ele sempre joga no par):"
   ]
  },
  {
   "cell_type": "code",
   "execution_count": null,
   "metadata": {
    "collapsed": false
   },
   "outputs": [],
   "source": [
    "numJogador = int(input(\"Digite o seu número: \"))\n",
    "numComputador = rd.randint(1, 10)\n",
    "print(\"O meu número é\", numComputador);\n",
    "if((numJogador + numComputador) % 2 == 0):\n",
    "    print(\"Deu par! Você ganhou!\")\n",
    "else:\n",
    "    print(\"Deu ímpar! Você perdeu!\")"
   ]
  },
  {
   "cell_type": "markdown",
   "metadata": {},
   "source": [
    "**Questão 3:** Como você modificaria o código acima para que o computador sempre escolha um número par de 2 a 10 (aleatoriamente)?\n",
    "\n",
    "Responda na página do tutorial.\n",
    "\n",
    "## Simulação de um jogo de apostas\n",
    "\n",
    "Um jogador vai para um cassino com 100 reais.\n",
    "\n",
    "Ele gosta de apostar em um jogo onde o valor da aposta é 1 real e a chance dele ganhar é 15% nesse caso ele recebe um prêmio de 5 reais (ou seja, 4 reais de lucro).\n",
    "\n",
    "Ele joga 1000 vezes (se o dinheiro dele não acabar). Em geral, será que o dinheiro dele acaba?\n",
    "\n",
    "Vamos simular! Rode o código abaixo várias vezes!"
   ]
  },
  {
   "cell_type": "code",
   "execution_count": null,
   "metadata": {
    "collapsed": false
   },
   "outputs": [],
   "source": [
    "dinheiro = 100                        # começamos com 100 reais\n",
    "i = 0                                 # i = número de jogadas (apostas)\n",
    "\n",
    "while dinheiro > 0 and i < 1000:      # jogamos 1000 vezes ou até o dinheiro acabar\n",
    "    p = rd.random()\n",
    "    i = i + 1\n",
    "    if (p < 0.15):                    # ele ganhou esta aposta\n",
    "        dinheiro = dinheiro + 4       # ele ganha 4 de lucro (1 real foi para a aposta)\n",
    "    else:                             # ele perdeu esta aposta\n",
    "        dinheiro = dinheiro - 1\n",
    "        \n",
    "print(\"Ele jogou\", i, \"vezes.\")\n",
    "print(\"O dinheiro restante é\", dinheiro)       "
   ]
  },
  {
   "cell_type": "markdown",
   "metadata": {},
   "source": [
    "Você deve ter percebido que esta aposta não é muito boa para o jogador. \n",
    "\n",
    "Um dos motivos para isso é que o ganho esperado por rodada é:\n",
    "\n",
    "$4*0.15-1*0.85 = -0.25$\n",
    "\n",
    "Ou seja, em geral, o jogador deveria esperar ter um prejuízo de 25 centavos por aposta.\n",
    "\n",
    "Tente escolher outros valores para a aposta e a probabilidade.\n",
    "\n",
    "**Questão 4:** Tente escolher valores para a aposta de modo que a aposta seja **favorável ao jogador**. Responda no **Tutorial**."
   ]
  },
  {
   "cell_type": "code",
   "execution_count": null,
   "metadata": {
    "collapsed": false
   },
   "outputs": [],
   "source": []
  },
  {
   "cell_type": "markdown",
   "metadata": {},
   "source": [
    "Poderíamos imprimir em cada rodada quanto dinheiro o jogador tem. Mas são 1000 números.\n",
    "\n",
    "É mais legal ver um gráfico com o dinheiro do jogador por jogada para ter uma ideia de como ele está indo.\n",
    "\n",
    "Vamos importar a biblioteca para gráficos então:"
   ]
  },
  {
   "cell_type": "code",
   "execution_count": null,
   "metadata": {
    "collapsed": true
   },
   "outputs": [],
   "source": [
    "import matplotlib.pyplot as plt\n",
    "%matplotlib notebook"
   ]
  },
  {
   "cell_type": "markdown",
   "metadata": {},
   "source": [
    "Agora vamos fazer assim, na aposta número $i$, vamos colocar uma bolinha em ($i$, dinheiro).\n",
    "\n",
    "O comando plot(i, dinheiro, 'o') coloca uma bolinha (por isso o 'o') na posição (i, dinheiro) (ou seja, x=i e y=dinheiro)."
   ]
  },
  {
   "cell_type": "code",
   "execution_count": null,
   "metadata": {
    "collapsed": false
   },
   "outputs": [],
   "source": [
    "dinheiro = 100                      # começamos com 100 reais\n",
    "i = 0\n",
    "plt.plot(i, dinheiro, 'o')          # O 'o' aqui indica que vamos colocar uma bolinha\n",
    "while dinheiro > 0 and i < 1000:    # jogamos 1000 vezes ou até o dinheiro acabar\n",
    "    p = rd.random()\n",
    "    i = i + 1\n",
    "    if (p < 0.15):                  # ele ganhou esta aposta\n",
    "        dinheiro = dinheiro + 4     # ele ganha 4 de lucro (1 real foi para a aposta)\n",
    "    else:                           # ele perdeu esta aposta\n",
    "        dinheiro = dinheiro - 1\n",
    "    plt.plot(i,dinheiro,'o')        # ATUALIZAMOS O GRAFICO AQUI!!!!\n",
    "    \n",
    "print(\"Ele jogou\", i, \"vezes.\")    \n",
    "print(\"O dinheiro restante é\", dinheiro)   "
   ]
  },
  {
   "cell_type": "markdown",
   "metadata": {},
   "source": [
    "**Faça você mesmo!** Mude as probabilidades no código acima para que a aposta seja **favorável ao jogador** e veja como o gráfico se comporta."
   ]
  },
  {
   "cell_type": "markdown",
   "metadata": {},
   "source": [
    "## Simulando movimentos\n",
    "\n",
    "Por fim, que tal uma simulação de Física?\n",
    "\n",
    "Suponha que uma partícula tem o seguinte comportamento. A partícula vai andar em uma superfície começando da origem.\n",
    "\n",
    "A partícula vai fazer 100 passos (um passo por segundo). \n",
    "\n",
    "A cada passo a partícula vai andar em linha reta para cima, baixo, direita ou esquerda.\n",
    "\n",
    "Ela escolhe para cada passo uma velocidade aleatória entre 1 a 5 (metros por segundo) e uma direção aleatória.\n",
    "\n",
    "Como desenhamos a trajetória dela?\n"
   ]
  },
  {
   "cell_type": "markdown",
   "metadata": {},
   "source": [
    "Mas primeiro, como escolher a direção aleatória?\n",
    "\n",
    "Podemos usar **`randint(1, 4)`** e pensar que 1 é para cima, 2 é para baixo, 3 é para direita e 4 é para a esquerda."
   ]
  },
  {
   "cell_type": "code",
   "execution_count": null,
   "metadata": {
    "collapsed": false
   },
   "outputs": [],
   "source": [
    "direcao = rd.randint(1,4)\n",
    "if(direcao==1):\n",
    "    print(\"cima\")\n",
    "elif (direcao==2):\n",
    "    print(\"baixo\")\n",
    "elif (direcao==3):\n",
    "    print(\"direita\")\n",
    "else:\n",
    "    print(\"esquerda\")"
   ]
  },
  {
   "cell_type": "markdown",
   "metadata": {},
   "source": [
    "E como escolhemos a velocidade? \n",
    "\n",
    "Podemos usar a função **`uniform(1, 5)`** para escolher um número (não necessariamente inteiro) de 1 a 5:"
   ]
  },
  {
   "cell_type": "code",
   "execution_count": null,
   "metadata": {
    "collapsed": false
   },
   "outputs": [],
   "source": [
    "velocidade = rd.uniform(1,5)\n",
    "velocidade"
   ]
  },
  {
   "cell_type": "markdown",
   "metadata": {},
   "source": [
    "Se a partícula está no ponto $(x,y)$ e ela vai andar para cima por $1$ segundo a $2 m/s$, para onde ela irá?\n",
    "\n",
    "Bom, andar para cima é andar no $y$ (aumentando) e ficar parado no $x$.\n",
    "\n",
    "Como a velocidade é $2 m/s$ vamos parar em $(x,y+2)$\n",
    "\n",
    "E a direção se fosse para baixo?\n",
    "\n",
    "Ficaríamos em $(x,y-2)$ (diminuímos o $y$)\n",
    "\n",
    "Em cada passo, vamos colocar uma _marca_ em $(x,y)$ para saber onde estamos."
   ]
  },
  {
   "cell_type": "code",
   "execution_count": null,
   "metadata": {
    "collapsed": false
   },
   "outputs": [],
   "source": [
    "# posicao original:\n",
    "x = 0 \n",
    "y = 0\n",
    "plt.plot(x, y, 'o')\n",
    "\n",
    "for i in range(1,100):\n",
    "    velocidade = rd.uniform(1, 5)\n",
    "    direcao = rd.randint(1, 4)\n",
    "    if(direcao == 1):                  # cima\n",
    "        y = y + velocidade\n",
    "    elif (direcao == 2):               # baixo\n",
    "        y = y - velocidade\n",
    "    elif (direcao == 3):               # direita\n",
    "        x = x + velocidade\n",
    "    else:                              # esquerda\n",
    "        x = x - velocidade\n",
    "    plt.plot(x, y, 'o')"
   ]
  },
  {
   "cell_type": "markdown",
   "metadata": {},
   "source": [
    "Mas o chato é que não dá para ter uma boa ideia da trajetória da partícula dessa forma. \n",
    "\n",
    "O ideal seria colocar uma linha ligando os pontos. Podemos fazer isso de vários jeitos.\n",
    "\n",
    "Uma delas é lembrar qual é a posição anterior e juntá-la com a seguinte:"
   ]
  },
  {
   "cell_type": "code",
   "execution_count": null,
   "metadata": {
    "collapsed": false
   },
   "outputs": [],
   "source": [
    "# posicao original:\n",
    "xAtual = 0                                  \n",
    "yAtual = 0\n",
    "plt.plot(xAtual,yAtual,'o')\n",
    "\n",
    "for i in range(1,100):\n",
    "    xAnterior = xAtual \n",
    "    yAnterior = yAtual\n",
    "    velocidade = rd.uniform(1,5)\n",
    "    direcao = rd.randint(1,4)\n",
    "    if(direcao == 1):                       # cima\n",
    "        yAtual = yAnterior + velocidade     #   atualizando o y\n",
    "    elif (direcao == 2):                    # baixo\n",
    "        yAtual = yAnterior - velocidade     #   atualizando o y\n",
    "    elif (direcao == 3):                    # direita\n",
    "        xAtual = xAnterior + velocidade     #   atualizando o x\n",
    "    else:                                   # esquerda\n",
    "        xAtual = xAnterior - velocidade     #   atualizando o x\n",
    "        \n",
    "    # Aqui em baixo, o 'o-' serve para falar que queremos as linhas:\n",
    "    plt.plot((xAnterior, xAtual), (yAnterior, yAtual), 'o-')    "
   ]
  },
  {
   "cell_type": "markdown",
   "metadata": {},
   "source": [
    "**Questão 5**: Mude o código acima de modo que a velocidade seja escolhida de 1 a 2 ao invés de 1 a 5. Além disso, mude o código de modo que ele escolha para cima com probabilidade 2/6 (33.33%), para baixo com probabilidade 2/6, para a direita com probabilidade 1/6 e para a esquerda com probabilidade 1/6. Responda no **Tutorial**"
   ]
  },
  {
   "cell_type": "code",
   "execution_count": null,
   "metadata": {
    "collapsed": true
   },
   "outputs": [],
   "source": []
  }
 ],
 "metadata": {
  "anaconda-cloud": {},
  "kernelspec": {
   "display_name": "Python 3",
   "language": "python",
   "name": "python3"
  },
  "language_info": {
   "codemirror_mode": {
    "name": "ipython",
    "version": 3
   },
   "file_extension": ".py",
   "mimetype": "text/x-python",
   "name": "python",
   "nbconvert_exporter": "python",
   "pygments_lexer": "ipython3",
   "version": "3.5.1"
  }
 },
 "nbformat": 4,
 "nbformat_minor": 0
}
