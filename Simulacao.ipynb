{
 "cells": [
  {
   "cell_type": "markdown",
   "metadata": {},
   "source": [
    "<div id=\"homesweethome\"></div>\n",
    "\n",
    "<div style=\"width: 100%; text-align: center; color: white; background-color: #222; font-size: 3em; font-weight: 700; padding: .5em .5em .6em .5em; line-height: 1.4em;\">Modelagem e simulação</div>\n",
    "\n",
    "# Números aleatórios entre 0 e 1\n",
    "\n",
    "Em simulações, muitas vezes precisamos de um gerador de números aleatórios. \n",
    "\n",
    "Esses números não são aleatórios de verdade, mas eles tentam *parecer* aleatórios e são chamados de *pseudo-aleatórios*. Alguns geradores de números pseudo-aleatórios, usam o horário atual, a temperatura da CPU, e outros dados para gerar esses números. Outras vezes, esses números são gerados determinísticamente, por um algoritmo (geralmente envolvendo aritmética modular de inteiros) a partir de um número inicial chamado semente.\n",
    "\n",
    "No Python, a biblioteca para gerar esses números é a biblioteca **`random`**\n",
    "\n",
    "Vamos começar importando essa biblioteca (vamos dar o apelido de **`rd`** para ela): "
   ]
  },
  {
   "cell_type": "code",
   "execution_count": null,
   "metadata": {},
   "outputs": [],
   "source": [
    "import random as rd"
   ]
  },
  {
   "cell_type": "markdown",
   "metadata": {},
   "source": [
    "Vamos ver agora como usá-la. Para pedir um número de 0 a 1 usamos a função **`random()`**:"
   ]
  },
  {
   "cell_type": "code",
   "execution_count": null,
   "metadata": {},
   "outputs": [],
   "source": [
    "rd.random()"
   ]
  },
  {
   "cell_type": "markdown",
   "metadata": {},
   "source": [
    "Execute as caixas abaixo:"
   ]
  },
  {
   "cell_type": "code",
   "execution_count": null,
   "metadata": {},
   "outputs": [],
   "source": [
    "rd.random()"
   ]
  },
  {
   "cell_type": "code",
   "execution_count": null,
   "metadata": {},
   "outputs": [],
   "source": [
    "rd.random()"
   ]
  },
  {
   "cell_type": "code",
   "execution_count": null,
   "metadata": {},
   "outputs": [],
   "source": [
    "rd.random()"
   ]
  },
  {
   "cell_type": "code",
   "execution_count": null,
   "metadata": {},
   "outputs": [],
   "source": [
    "rd.random()"
   ]
  },
  {
   "cell_type": "markdown",
   "metadata": {},
   "source": [
    "Como você pode ver, cada vez que rodamos **`rd.random()`**, ganhamos um número entre 0 e 1. \n",
    "\n",
    "A intuição informal por traz da função **`rd.random()`** é que qualquer número de 0 a 1 tem (aproximadamente) a mesma chance de ser escolhido.\n",
    "\n",
    "Então qual é a chance do número escolhido ser menor que 0.5? \n",
    "\n",
    "Bom, a chance é (aproximadamente) 0.5 (que é o mesmo que 50%). \n",
    "\n",
    "Por que?\n",
    "\n",
    "Porque \"metade\" dos números de 0 a 1 estão abaixo de 0.5.\n",
    "\n",
    "E qual a chance de ser menor que 0.6?\n",
    "\n",
    "A chance é (aproximadamente) 0.6, que é o mesmo que 60%, pois 60% dos números de 0 a 1 estão abaixo de 0.6.\n",
    "\n",
    "Então, se quisermos fazer uma moeda que dá `Cara` com 60% de chance e `Coroa` com 40% de chance, podemos usar **`rd.random()`** como abaixo:"
   ]
  },
  {
   "cell_type": "code",
   "execution_count": null,
   "metadata": {},
   "outputs": [],
   "source": [
    "numAleatorio = rd.random()\n",
    "if (numAleatorio < 0.6):\n",
    "    print(\"Cara\")\n",
    "else:\n",
    "    print(\"Coroa\")"
   ]
  },
  {
   "cell_type": "markdown",
   "metadata": {},
   "source": [
    "---\n",
    "\n",
    "### Exercício <span class=\"exec\"></span>: moeda viesada I\n",
    "\n",
    "Copiamos o código do exemplo anterior na célula abaixo. Modifique **apenas** a condição do **`if`** (e mais nada!) para que tenhamos `Cara` com 45% de chance e `Coroa` com 55% de chance."
   ]
  },
  {
   "cell_type": "code",
   "execution_count": null,
   "metadata": {},
   "outputs": [],
   "source": [
    "numAleatorio = rd.random()\n",
    "if (numAleatorio < 0.6):\n",
    "    print(\"Cara\")\n",
    "else:\n",
    "    print(\"Coroa\")"
   ]
  },
  {
   "cell_type": "markdown",
   "metadata": {},
   "source": [
    "---\n",
    "\n",
    "### Exercício <span class=\"exec\"></span>: duas moedas\n",
    "\n",
    "Faça um programa que simule o lançamento **independente** de duas moedas justas (i.e. com chances iguais para cara e coroa). \n",
    "\n",
    "Rode seu programa várias vezes até obter -- pelo menos uma vez -- cada uma das configurações abaixo:\n",
    "\n",
    "    Cara, Cara\n",
    "    Cara, Coroa\n",
    "    Coroa, Cara\n",
    "    Coroa, Coroa"
   ]
  },
  {
   "cell_type": "code",
   "execution_count": null,
   "metadata": {},
   "outputs": [],
   "source": []
  },
  {
   "cell_type": "markdown",
   "metadata": {},
   "source": [
    "---\n",
    "\n",
    "Considere novamente o código que dá `Cara` com 60% de chance e `Coroa` com 40% de chance:"
   ]
  },
  {
   "cell_type": "code",
   "execution_count": null,
   "metadata": {},
   "outputs": [],
   "source": [
    "numAleatorio = rd.random()\n",
    "if (numAleatorio < 0.6):\n",
    "    print(\"Cara\")\n",
    "else:\n",
    "    print(\"Coroa\")"
   ]
  },
  {
   "cell_type": "markdown",
   "metadata": {},
   "source": [
    "Intuitivamente, se executássemos esse programa muitas vezes, o esperado é que vai sair `Cara` aproximadamente 60% das vezes.\n",
    "\n",
    "Mas será verdade mesmo que vai sair `Cara` aproximadamente 60% das vezes?\n",
    "\n",
    "Vamos rodar o código acima **1000** vezes e ver se sai perto de 60%?\n",
    "\n",
    "É claro que vamos usar laços e contar o número de caras e coroas:"
   ]
  },
  {
   "cell_type": "code",
   "execution_count": null,
   "metadata": {},
   "outputs": [],
   "source": [
    "numCaras = 0                         # 0 caras no começo\n",
    "numCoroas = 0                        # 0 coroas no começo\n",
    "\n",
    "for i in range(1000):\n",
    "    numAleatorio = rd.random()\n",
    "    if (numAleatorio < 0.6):\n",
    "        # print(\"Cara\")\n",
    "        numCaras = numCaras + 1      # deu cara! vamos aumentar numCaras de 1\n",
    "    else:\n",
    "        # print(\"Coroa\")\n",
    "        numCoroas = numCoroas + 1    # deu coroa! vamos aumentar numCoroas de 1\n",
    "        \n",
    "print(\"Número de caras:\", numCaras)\n",
    "print(\"Número de coroas:\", numCoroas)"
   ]
  },
  {
   "cell_type": "markdown",
   "metadata": {},
   "source": [
    "<hr> \n",
    "\n",
    "### Exercício <span class=\"exec\"></span>: moeda viesada II\n",
    "\n",
    "Modifique o código acima para que ele faça 100000 jogadas de moeda!\n",
    "\n",
    "<hr>\n"
   ]
  },
  {
   "cell_type": "markdown",
   "metadata": {},
   "source": [
    "# Sorteando números inteiros\n",
    "\n",
    "Temos também uma função que sorteia números inteiros (dado um número mínimo e um número máximo). \n",
    "\n",
    "Cada número tem a mesma chance de sair.\n",
    "\n",
    "A linha a seguir sorteia um número de 1 a 6. Ela é basicamente um dado! Rode o código a seguir várias vezes para ver o que acontece."
   ]
  },
  {
   "cell_type": "code",
   "execution_count": null,
   "metadata": {},
   "outputs": [],
   "source": [
    "rd.randint(1,6)"
   ]
  },
  {
   "cell_type": "markdown",
   "metadata": {},
   "source": [
    "<hr> \n",
    "\n",
    "### Exercício <span class=\"exec\"></span>: bola 8 do bem\n",
    "\n",
    "Modifique o código abaixo para que cada uma das opções a seguir seja impressa com a mesma probabilidade. O código a seguir é basicamente uma bola 8 do bem :-D. "
   ]
  },
  {
   "cell_type": "code",
   "execution_count": null,
   "metadata": {},
   "outputs": [],
   "source": [
    "r = # coloque o valor (pseudo-aleatório) de r aqui!\n",
    "if r == 1:\n",
    "    print(\"Você vai tirar A neste curso!\")\n",
    "elif r == 2:\n",
    "    print(\"O seu CR vai ser alto!\")\n",
    "elif r == 3:\n",
    "    print(\"O fretado vai estar vazio!\")             # Improvável... \n",
    "else:\n",
    "    print(\"Você vai ganhar na loteria.\")            # Quem não joga tem 0% de chance de ganhar ..."
   ]
  },
  {
   "cell_type": "markdown",
   "metadata": {},
   "source": [
    "Podemos usar **`randint`** para fazer um jogador-automático de par ou ímpar.\n",
    "Em cada rodada, o computador escolhe um número entre 1 e 10 e o usuário digita um número de 1 a 10. \n",
    "O usuário ganha se a soma for par (digamos que ele sempre aposta que a soma será par):"
   ]
  },
  {
   "cell_type": "code",
   "execution_count": null,
   "metadata": {},
   "outputs": [],
   "source": [
    "numJogador = int(input(\"Digite o seu número: \"))\n",
    "numComputador = rd.randint(1, 10)\n",
    "print(\"O meu número é\", numComputador);\n",
    "if((numJogador + numComputador) % 2 == 0):\n",
    "    print(\"Deu par! Você ganhou!\")\n",
    "else:\n",
    "    print(\"Deu ímpar! Você perdeu!\")"
   ]
  },
  {
   "cell_type": "markdown",
   "metadata": {},
   "source": [
    "<hr> \n",
    "\n",
    "### Exercício <span class=\"exec\"></span>: só par\n",
    "\n",
    "\n",
    "Como você modificaria o código acima para que o computador sempre escolha um número par de 2 a 10 (aleatoriamente)?\n"
   ]
  },
  {
   "cell_type": "markdown",
   "metadata": {},
   "source": [
    "# Simulação de um jogo de apostas\n",
    "\n",
    "Um jogador vai para um cassino com 100 reais.\n",
    "\n",
    "Ele gosta de apostar em um jogo onde o valor da aposta é 1 real e a chance dele ganhar é 15% nesse caso ele recebe um prêmio de 5 reais (ou seja, 4 reais de lucro).\n",
    "\n",
    "Ele joga 1000 vezes (se o dinheiro dele não acabar). No geral, será que o dinhmeiro dele acaba?\n",
    "\n",
    "Vamos simular! Rode o código abaixo várias vezes!"
   ]
  },
  {
   "cell_type": "code",
   "execution_count": null,
   "metadata": {},
   "outputs": [],
   "source": [
    "dinheiro = 100                        # começamos com 100 reais\n",
    "i = 0                                 # i = número de jogadas (apostas)\n",
    "\n",
    "while dinheiro > 0 and i < 1000:      # jogamos 1000 vezes ou até o dinheiro acabar\n",
    "    p = rd.random()\n",
    "    i = i + 1\n",
    "    if (p < 0.15):                    # ele ganhou esta aposta\n",
    "        dinheiro = dinheiro + 4       # ele ganha 4 de lucro (1 real foi para pagar a aposta)\n",
    "    else:                             # ele perdeu esta aposta\n",
    "        dinheiro = dinheiro - 1\n",
    "        \n",
    "print(\"Ele jogou\", i, \"vezes.\")\n",
    "print(\"O dinheiro restante é\", dinheiro)       "
   ]
  },
  {
   "cell_type": "markdown",
   "metadata": {},
   "source": [
    "Você deve ter percebido que esta aposta não é muito boa para o jogador. \n",
    "\n",
    "Um dos motivos para isso é que o ganho esperado por rodada é:\n",
    "\n",
    "$4*0.15-1*0.85 = -0.25$\n",
    "\n",
    "Ou seja, na média, o jogador tem um prejuízo de 25 centavos por aposta.\n",
    "\n",
    "Tente escolher outros valores para o valor da aposta e para a probabilidade. Simule suas escolhas."
   ]
  },
  {
   "cell_type": "markdown",
   "metadata": {},
   "source": [
    "--- \n",
    "\n",
    "### Exercício <span class=\"exec\"></span>: aposta favorável I\n",
    "\n",
    "Copiamos e colamos o código do exemplo anterior na célula abaixo. \n",
    "\n",
    "Tente escolher valores para a aposta de modo que a aposta seja **favorável ao jogador**."
   ]
  },
  {
   "cell_type": "code",
   "execution_count": null,
   "metadata": {},
   "outputs": [],
   "source": [
    "dinheiro = 100                        \n",
    "i = 0                                 \n",
    "\n",
    "while dinheiro > 0 and i < 1000:      \n",
    "    p = rd.random()\n",
    "    i = i + 1\n",
    "    if (p < 0.15):                    \n",
    "        dinheiro = dinheiro + 4       \n",
    "    else:                             \n",
    "        dinheiro = dinheiro - 1\n",
    "        \n",
    "print(\"Ele jogou\", i, \"vezes.\")\n",
    "print(\"O dinheiro restante é\", dinheiro)       "
   ]
  },
  {
   "cell_type": "markdown",
   "metadata": {},
   "source": [
    "Poderíamos imprimir em cada rodada quanto dinheiro o jogador tem. Mas são 1000 números.\n",
    "\n",
    "É mais legal ver um gráfico com o dinheiro do jogador por jogada para ter uma ideia de como ele está indo.\n",
    "\n",
    "Vamos importar a biblioteca para gráficos então:"
   ]
  },
  {
   "cell_type": "code",
   "execution_count": null,
   "metadata": {},
   "outputs": [],
   "source": [
    "import matplotlib.pyplot as plt\n",
    "%matplotlib inline"
   ]
  },
  {
   "cell_type": "markdown",
   "metadata": {},
   "source": [
    "Agora vamos fazer assim, na aposta número $i$, vamos colocar uma bolinha em ($i$, dinheiro).\n",
    "\n",
    "O comando plot(i, dinheiro, 'o') coloca uma bolinha (por isso o 'o') na posição (i, dinheiro) (ou seja, x=i e y=dinheiro)."
   ]
  },
  {
   "cell_type": "code",
   "execution_count": null,
   "metadata": {},
   "outputs": [],
   "source": [
    "dinheiro = 100                      # começamos com 100 reais\n",
    "i = 0\n",
    "plt.plot(i, dinheiro, 'o')          # O 'o' aqui indica que vamos colocar uma bolinha\n",
    "while dinheiro > 0 and i < 1000:    # jogamos 1000 vezes ou até o dinheiro acabar\n",
    "    p = rd.random()\n",
    "    i = i + 1\n",
    "    if (p < 0.15):                  # ele ganhou esta aposta\n",
    "        dinheiro = dinheiro + 4     # ele ganha 4 de lucro (1 real foi para a aposta)\n",
    "    else:                           # ele perdeu esta aposta\n",
    "        dinheiro = dinheiro - 1\n",
    "    plt.plot(i,dinheiro,'o')        # ATUALIZAMOS O GRAFICO AQUI!!!!\n",
    "    \n",
    "print(\"Ele jogou\", i, \"vezes.\")    \n",
    "print(\"O dinheiro restante é\", dinheiro)   "
   ]
  },
  {
   "cell_type": "markdown",
   "metadata": {},
   "source": [
    "---\n",
    "\n",
    "### Exercício <span class=\"exec\"></span>: aposta favorável II\n",
    "\n",
    "\n",
    "Mude as probabilidades no código acima para que a aposta seja **favorável ao jogador** e veja como o gráfico se comporta."
   ]
  },
  {
   "cell_type": "markdown",
   "metadata": {},
   "source": [
    "# Simulando movimentos\n",
    "\n",
    "Por fim, que tal uma simulação de movimento?\n",
    "\n",
    "Suponha que uma partícula tem o seguinte comportamento. A partícula vai andar em uma superfície começando da origem.\n",
    "\n",
    "A partícula vai fazer 100 passos (um passo por segundo). \n",
    "\n",
    "A cada passo a partícula vai andar em linha reta para cima, baixo, direita ou esquerda.\n",
    "\n",
    "Ela escolhe para cada passo uma velocidade aleatória entre 1 a 5 (metros por segundo) e uma direção aleatória.\n",
    "\n",
    "Como desenhamos a trajetória dela?\n"
   ]
  },
  {
   "cell_type": "markdown",
   "metadata": {},
   "source": [
    "Mas primeiro, como escolher a direção aleatória?\n",
    "\n",
    "Podemos usar **`randint(1, 4)`** e pensar que 1 é para cima, 2 é para baixo, 3 é para direita e 4 é para a esquerda."
   ]
  },
  {
   "cell_type": "code",
   "execution_count": null,
   "metadata": {},
   "outputs": [],
   "source": [
    "direcao = rd.randint(1,4)\n",
    "if(direcao==1):\n",
    "    print(\"cima\")\n",
    "elif (direcao==2):\n",
    "    print(\"baixo\")\n",
    "elif (direcao==3):\n",
    "    print(\"direita\")\n",
    "else:\n",
    "    print(\"esquerda\")"
   ]
  },
  {
   "cell_type": "markdown",
   "metadata": {},
   "source": [
    "E como escolhemos a velocidade? \n",
    "\n",
    "Podemos usar a função **`uniform(1, 5)`** para escolher um número (não necessariamente inteiro) de 1 a 5:"
   ]
  },
  {
   "cell_type": "code",
   "execution_count": null,
   "metadata": {},
   "outputs": [],
   "source": [
    "velocidade = rd.uniform(1,5)\n",
    "velocidade"
   ]
  },
  {
   "cell_type": "markdown",
   "metadata": {},
   "source": [
    "Se a partícula está no ponto $(x,y)$ e ela vai andar para cima por $1$ segundo a $2 m/s$, para onde ela irá?\n",
    "\n",
    "Bom, andar para cima é andar no $y$ (aumentando) e ficar parado no $x$.\n",
    "\n",
    "Como a velocidade é $2 m/s$ vamos parar em $(x,y+2)$\n",
    "\n",
    "E a direção se fosse para baixo?\n",
    "\n",
    "Ficaríamos em $(x,y-2)$ (diminuímos o $y$)\n",
    "\n",
    "Em cada passo, vamos colocar uma _marca_ em $(x,y)$ para saber onde estamos."
   ]
  },
  {
   "cell_type": "code",
   "execution_count": null,
   "metadata": {},
   "outputs": [],
   "source": [
    "# posicao original:\n",
    "x = 0 \n",
    "y = 0\n",
    "plt.plot(x, y, 'o')\n",
    "\n",
    "for i in range(1,100):\n",
    "    velocidade = rd.uniform(1, 5)\n",
    "    direcao = rd.randint(1, 4)\n",
    "    if(direcao == 1):                  # cima\n",
    "        y = y + velocidade\n",
    "    elif (direcao == 2):               # baixo\n",
    "        y = y - velocidade\n",
    "    elif (direcao == 3):               # direita\n",
    "        x = x + velocidade\n",
    "    else:                              # esquerda\n",
    "        x = x - velocidade\n",
    "    plt.plot(x, y, 'o')"
   ]
  },
  {
   "cell_type": "markdown",
   "metadata": {},
   "source": [
    "Mas o chato é que não dá para ter uma boa ideia da trajetória da partícula dessa forma. \n",
    "\n",
    "O ideal seria colocar uma linha ligando os pontos. Podemos fazer isso de vários jeitos.\n",
    "\n",
    "Uma delas é lembrar qual é a posição anterior e juntá-la com a seguinte:"
   ]
  },
  {
   "cell_type": "code",
   "execution_count": null,
   "metadata": {},
   "outputs": [],
   "source": [
    "# posicao original:\n",
    "xAtual = 0                                  \n",
    "yAtual = 0\n",
    "plt.plot(xAtual,yAtual,'o')\n",
    "\n",
    "for i in range(1,100):\n",
    "    xAnterior = xAtual \n",
    "    yAnterior = yAtual\n",
    "    velocidade = rd.uniform(1,5)\n",
    "    direcao = rd.randint(1,4)\n",
    "    if direcao == 1:                       # cima\n",
    "        yAtual = yAnterior + velocidade     #   atualizando o y\n",
    "    elif direcao == 2:                    # baixo\n",
    "        yAtual = yAnterior - velocidade     #   atualizando o y\n",
    "    elif direcao == 3:                    # direita\n",
    "        xAtual = xAnterior + velocidade     #   atualizando o x\n",
    "    else:                                   # esquerda\n",
    "        xAtual = xAnterior - velocidade     #   atualizando o x\n",
    "        \n",
    "    # Aqui em baixo, o 'o-' serve para falar que queremos as linhas:\n",
    "    plt.plot((xAnterior, xAtual), (yAnterior, yAtual), 'o-')    \n",
    "plt.axis('equal')"
   ]
  },
  {
   "cell_type": "markdown",
   "metadata": {},
   "source": [
    "<hr> \n",
    "\n",
    "### Exercício <span class=\"exec\"></span>: passeio aleatório I\n",
    "\n",
    "Copie o código acima e cole na célula abaixo. \n",
    "\n",
    "Depois modeifique o código de modo que a velocidade seja escolhida de 1 a 2 ao invés de 1 a 5. Além disso, mude o código de modo que ele escolha para cima com probabilidade 2/6 (33.33%), para baixo com probabilidade 2/6, para a direita com probabilidade 1/6 e para a esquerda com probabilidade 1/6. Rode algumas vezes."
   ]
  },
  {
   "cell_type": "code",
   "execution_count": null,
   "metadata": {},
   "outputs": [],
   "source": []
  },
  {
   "cell_type": "markdown",
   "metadata": {},
   "source": [
    "---\n",
    "\n",
    "# Simulação de lançamentos\n",
    "\n",
    "Vamos agora simular o lançamento oblíquo de uma partícula feito apartir da origem. \n",
    "\n",
    "O ângulo de lançamento será um ângulo aleatório $\\alpha$ que varia de $0$ a $90°$, ou seja, de $0 \\leq \\alpha \\leq \\pi/2$.\n",
    "\n",
    "A velocidade inicial será de $3m/s$.\n",
    "\n",
    "A simulação termina quando a partícula atinge o solo. Vamos simular uma câmera que captura imagens a 60 f.p.s (_frames per second_).\n",
    "\n",
    "Assim que a partícula é lançada, podemos decompor o vetor velocidade em duas componentes: a componente $v_x$ que permanecerá constante até o fim da simulação e a componente $v_y$ que varia de acordo com a aceleração da gravidade ($9.8m/s^2$).\n",
    "\n",
    "A posição $y$ da partícula varia conforme a equação\n",
    "\n",
    "$$ y = s_0 + v_0 t - \\frac{a t^2}{2} $$\n",
    "\n",
    "Ou seja\n",
    "\n",
    "$$ y = v_y t - 4.9 t^2 $$\n",
    "\n",
    "A posição $x$ da partícula obedece $x = v_x t$"
   ]
  },
  {
   "cell_type": "code",
   "execution_count": null,
   "metadata": {},
   "outputs": [],
   "source": [
    "import matplotlib.pyplot as pp\n",
    "%matplotlib inline\n",
    "import random as rd\n",
    "import math                 # para podermos usar a constante pi\n",
    "\n",
    "fps = 60\n",
    "alfa = rd.random() * math.pi / 2\n",
    "print('O ângulo escolhido foi de', 180*alfa/math.pi,'graus')\n",
    "v_0 = 3\n",
    "v_x = v_0 * math.cos(alfa)\n",
    "v_y = v_0 * math.sin(alfa)\n",
    "x = 0.0\n",
    "y = 0.0\n",
    "t = 0\n",
    "\n",
    "# a linha abaixo ajusta a escala do eixo x para ir de 0 a 1 e a escala do eixo y para ir de 0 a 0.5\n",
    "pp.axis([0, 1, 0, 0.5])\n",
    "# pp.axis('equal')\n",
    "# enquanto a particula está acima do solo\n",
    "while y >= 0:\n",
    "    pp.plot(x, y, 'or')\n",
    "    t = t + 1 / fps\n",
    "    x = v_x * t\n",
    "    y = v_y * t - 4.9 * t**2\n",
    "    "
   ]
  },
  {
   "cell_type": "markdown",
   "metadata": {},
   "source": [
    "---\n",
    "\n",
    "### Exercício <span class=\"exec\"></span>: lançamento I\n",
    "\n",
    "Mude o código acima, variando a velocidade inicial, a velocidade de captura de imagens da câmera (f.p.s.) e execute diversas vezes para ganhar intuição sobre o que está acontecendo. \n",
    "\n",
    "Comente a linha `pp.axis([0, 1, 0, 0.5])` (colocando # na frente) e descomente a linha `pp.axis('equal')` (tirando o # da frente) para melhor acomodar os gráficos que você fizer.\n",
    "\n",
    "Leia o programa acima linha a linha. Você deve entender todas elas!\n"
   ]
  },
  {
   "cell_type": "code",
   "execution_count": null,
   "metadata": {},
   "outputs": [],
   "source": []
  },
  {
   "cell_type": "markdown",
   "metadata": {},
   "source": [
    "# Mais exercícios"
   ]
  },
  {
   "cell_type": "markdown",
   "metadata": {},
   "source": [
    "---\n",
    "\n",
    "### Exercício <span class=\"exec\"></span>: vigarista\n",
    "\n",
    "Um vigarista usa uma moeda viesada para ganhar dinheiro com passantes na rua. Ele aposta R$ 2,00 que consegue fazer sua moeda mostrar cara 3 vezes seguidas em no máximo 5 lançamentos. Os passantes não sabem, mas sua moeda tem probabilidade 90% de mostrar cara e 10% de mostrar coroa. Em média ele consegue convencer 200 passantes a apostarem contra ele durante um dia de 'trabalho'. Faça um programa em Python que simule a aposta do vigarista com 200 passantes e que mostra na tela o quanto de dinheiro ele fez no dia. "
   ]
  },
  {
   "cell_type": "code",
   "execution_count": null,
   "metadata": {},
   "outputs": [],
   "source": []
  },
  {
   "cell_type": "markdown",
   "metadata": {},
   "source": [
    "---\n",
    "\n",
    "### Exercício <span class=\"exec\"></span>: queda livre\n",
    "\n",
    "Um motorista descuidado não prestou atenção nas placas que sinalizavam o fim de uma rodovia. A rodovia era perfeitamente plana, e o veículo estava a uma velocidade de 50m/s quando foi projetado de um penhasco de 1000m de altura. \n",
    "\n",
    "A posição x do motorista no instante $t = 0$ é $0$ e varia com o tempo segundo a fórmula\n",
    "\n",
    "$$x = 50t$$\n",
    "\n",
    "A posição y do motorista no instante $t = 0$ é 1000 e varia com o tempo segundo a fórmula\n",
    "\n",
    "$$y = 1000 - 4.9t^2$$\n",
    "\n",
    "O intante em que ocorre o impacto é o instante $t$ que faz com que $y$ na equação acima seja igual a $0$.\n",
    "\n",
    "Um observador distante filmava a cena com uma câmera amadora que registrava tudo a 1fps (1 foto por segundo). Faça um programa que mostre (num plot) a sobreposição das imagens capturadas pela câmera do observador. Utilize a opção `'o'` na hora de fazer o plot. Utilize a mesma escala para os dois eixos do gráfico (como uma câmera fotográfica faria). "
   ]
  },
  {
   "cell_type": "code",
   "execution_count": null,
   "metadata": {},
   "outputs": [],
   "source": []
  },
  {
   "cell_type": "markdown",
   "metadata": {},
   "source": [
    "---\n",
    "\n",
    "### Exercício <span class=\"exec\"></span>: bêbado I\n",
    "\n",
    "Um bêbado segue por um trilho de trem abandonado muito comprido. Com\n",
    "probabilidade 0.5 ele dá um passo para o leste e com probabilidade 0.5 ele dá um passo para o oeste.\n",
    "Por conveniência, chame o ponto de partida do bêbado de ponto 0, e suponha que o trilho se\n",
    "prolongue por 40 passos para o leste e por 80 passos para o oeste desse ponto. \n",
    "\n",
    "Faça um programa que simule o passeio do bêbado nesse trilho e que diga, no momento em que ele sai do trilho, se foi pela extremidade leste ou oeste."
   ]
  },
  {
   "cell_type": "code",
   "execution_count": null,
   "metadata": {},
   "outputs": [],
   "source": []
  },
  {
   "cell_type": "markdown",
   "metadata": {},
   "source": [
    "---\n",
    "\n",
    "### Exercício <span class=\"exec\"></span>: bêbado II\n",
    "\n",
    "Agora suponha que, toda noite, o bêbado parte do ponto 0 com o mesmo comportamento errante do exercício anterior. Modifique seu programa para estimar a probabilidade de ele sair pelo lado oeste. Dica: repita a simulação do bêbado muitas vezes e veja com que frequência ele sai por cada extremidade."
   ]
  },
  {
   "cell_type": "code",
   "execution_count": null,
   "metadata": {},
   "outputs": [],
   "source": []
  },
  {
   "cell_type": "markdown",
   "metadata": {},
   "source": [
    "---\n",
    "\n",
    "### Exercício <span class=\"exec\"></span>: Porta da Esperança I\n",
    "\n",
    "O Programa Sílvio Santos tinha uma quadro muito popular chamado *Porta da Esperança* que era baseado no show americano *Let's Make a Deal* apresentado por Monty Hall na década de 70. O quadro *Porta da Esperança* funcionava mais ou menos assim. \n",
    "\n",
    "Uma pessoa era selecionada para participar do show e ela tinha um sonho que gostaria de realizar (ganhar um carro, fazer uma viagem, encontrar com um ídolo, etc.). No palco havia três portas fechadas e atrás de uma delas estava o objeto do seu desejo (ou algém que iria realizar o seu desejo). Atrás das outras duas portas não havia nada.\n",
    "\n",
    "O participante escolhia uma das três portas. O apresentador, então, abria uma das outras duas portas (que o participante não escolheu) e que **não** tinha o prêmio. Neste momento do show há apenas duas portas fechadas: a que o participante escolheu e uma outra, e sabe-se que o prêmio está atrás de uma delas.\n",
    "\n",
    "Em seguida, Sílvio Santos perguntava ao participante se ele gostaria de manter a sua escolha ou se ele gostaria de trocar de porta. Após longo período de exploração sentimental do participante, uma vez que ele tomou sua decição (trocar ou ficar), o apresentador abria a porta combinada e o participante ganhava ou não o prêmio.\n",
    "\n",
    "------------\n",
    "\n",
    "Há uma certa discórdia com relação a qual seria a melhor estratégia para o participante. Algumas pessoas argumentam que é sempre mais vantagioso trocar de porta depois que o apresentador abriu uma delas, pois a chance do participante ter acertado a porta na primeira escolha era de apenas 1/3. Outras dizem que tanto faz trocar ou ficar pois, como restaram duas portas, a chance do prêmio estar atrás de qualquer uma delas é 50%. Chamemos o primeiro grupo de *Grupo A* e o segundo de *Grupo B*.\n",
    "\n",
    "Primeiro, reflita um pouco sobre o problema e veja com qual desses grupos você acha que concorda. \n",
    "\n",
    "---\n",
    "\n",
    "Faça um programa que simule o comportamento do Sílvio Santos. Seu programa deve:\n",
    "1. escolher aleatóriamente uma das três portas e colocar o prêmio atrás dela (**não informe o usuário onde está o prêmio**);\n",
    "2. pedir ao usuário que ele escolha uma das três portas;\n",
    "3. abrir uma porta que não tenha o prêmio e que o usuário não tenha escolhido (se houver mais de uma escolha para a porta a ser aberta, seu programa deve abrir qualquer uma delas com igual probabilidade);\n",
    "4. mostrar ao usuário qual porta foi aberta;\n",
    "5. perguntar ao usuário se ele deseja manter sua escolha inicial ou se ele deseja trocar de porta;\n",
    "6. mostrar ao usuário se ele ganhou ou não o prêmio."
   ]
  },
  {
   "cell_type": "code",
   "execution_count": null,
   "metadata": {},
   "outputs": [],
   "source": []
  },
  {
   "cell_type": "markdown",
   "metadata": {},
   "source": [
    "---\n",
    "\n",
    "### Exercício <span class=\"exec\"></span>: Porta da Esperança II\n",
    "\n",
    "Faça um programa que simule o quadro porta da esperança 1000 vezes.\n",
    "\n",
    "Em cada uma das 1000 iterações, seu programa deve:\n",
    "1. escolher aleatóriamente uma das três portas e colocar o prêmio atrás dela;\n",
    "2. simular uma escolha aleatória de uma dessas três portas pelo participante;\n",
    "3. abrir uma porta que não tem o prêmio e que o participante não tenha escolhido (se houver mais de uma escolha para a porta a ser aberta, seu programa deve abrir qualquer uma delas com igual probabilidade);\n",
    "4. decidir quem ganha: aquele que quis manter a porta ou aquele que decidiu trocar.\n",
    "\n",
    "No final das 1000 simulações mostre quantas vezes o participante teria ganhado o prêmio se ele:\n",
    "1. sempre trocasse de porta;\n",
    "2. sempre mantivesse a escolha inicial."
   ]
  },
  {
   "cell_type": "code",
   "execution_count": null,
   "metadata": {},
   "outputs": [],
   "source": []
  },
  {
   "cell_type": "markdown",
   "metadata": {},
   "source": [
    "---\n",
    "\n",
    "### Exercício <span class=\"exec\"></span>: balística\n",
    "\n",
    "Um morteiro é lançado da origem (do plano cartesiano), no tempo $t = 0$, com um ângulo de lançamento $\\alpha$, para algum $\\alpha$ entre 30 e 90 graus. Sua velocidade inicial é $50 m/s$. Uma câmera de vídeo filma o evento capturando $5 fps$ (5 *frames per second*). Ou seja, a câmera tira 5 fotos por segundo para depois compor o vídeo. \n",
    "\n",
    "Faça um programa que pergunte ao usuário o ângulo $\\alpha$ e crie o gráfico que consiste da sobreposição de todas as fótos tiradas pela câmera, desde o lançamento do morteiro até o momento em que ele toca o chão novamente. Use a opção `'o'` da função plot."
   ]
  },
  {
   "cell_type": "code",
   "execution_count": null,
   "metadata": {},
   "outputs": [],
   "source": []
  },
  {
   "cell_type": "code",
   "execution_count": 78,
   "metadata": {
    "init_cell": true
   },
   "outputs": [
    {
     "data": {
      "text/html": [
       "<style>\n",
       ".rendered_html h1 {\n",
       "    background-color: #555;\n",
       "    color: white;\n",
       "    padding: .5em;\n",
       "    // border-bottom: 2px solid #000;\n",
       "    // padding-bottom: .6em;\n",
       "    margin-bottom: 1em;\n",
       "}\n",
       "\n",
       ".rendered_html h1 code {\n",
       "    color: #EBB7C5;\n",
       "    background-color: rgba(0,0,0,0);\n",
       "}\n",
       "\n",
       ".rendered_html h2 {\n",
       "    border-bottom: 1px solid #333;\n",
       "    padding-bottom: .6em;\n",
       "}\n",
       "                                      \n",
       ".rendered_html h3 {\n",
       "    color: #034f84;\n",
       "}\n",
       "\n",
       ".rendered_html code  {\n",
       "    padding: 2px 4px;\n",
       "    font-size: 90%;\n",
       "    color: #c7254e;\n",
       "    background-color: #f9f2f4;\n",
       "    border-radius: 4px;\n",
       "}\n",
       "\n",
       ".rendered_html pre code {\n",
       "    padding: 0px;\n",
       "    font-size: 90%;\n",
       "    color: #c7254e;\n",
       "    background-color: rgba(0, 0, 0, 0);\n",
       "}\n",
       "\n",
       "kbd {\n",
       "    border-radius: 3px;  \n",
       "    padding: 2px, 3px;\n",
       "}\n",
       "\n",
       "body {\n",
       "    counter-reset: h1counter excounter;\n",
       "}\n",
       "h1:before {\n",
       "    content: counter(h1counter) \".\\0000a0\\0000a0\";\n",
       "    counter-increment: h1counter;\n",
       "}\n",
       "span.exec:before {\n",
       "    content: counter(excounter);\n",
       "    counter-increment: excounter;\n",
       "}\n",
       "\n",
       "\n",
       "</style>  \n",
       "<script>\n",
       "location.hash = \"#homesweethome\";\n",
       "</script>\n"
      ],
      "text/plain": [
       "<IPython.core.display.HTML object>"
      ]
     },
     "metadata": {},
     "output_type": "display_data"
    }
   ],
   "source": [
    "%%html\n",
    "<style>\n",
    ".rendered_html h1 {\n",
    "    background-color: #555;\n",
    "    color: white;\n",
    "    padding: .5em;\n",
    "    // border-bottom: 2px solid #000;\n",
    "    // padding-bottom: .6em;\n",
    "    margin-bottom: 1em;\n",
    "}\n",
    "\n",
    ".rendered_html h1 code {\n",
    "    color: #EBB7C5;\n",
    "    background-color: rgba(0,0,0,0);\n",
    "}\n",
    "\n",
    ".rendered_html h2 {\n",
    "    border-bottom: 1px solid #333;\n",
    "    padding-bottom: .6em;\n",
    "}\n",
    "                                      \n",
    ".rendered_html h3 {\n",
    "    color: #034f84;\n",
    "}\n",
    "\n",
    ".rendered_html code  {\n",
    "    padding: 2px 4px;\n",
    "    font-size: 90%;\n",
    "    color: #c7254e;\n",
    "    background-color: #f9f2f4;\n",
    "    border-radius: 4px;\n",
    "}\n",
    "\n",
    ".rendered_html pre code {\n",
    "    padding: 0px;\n",
    "    font-size: 90%;\n",
    "    color: #c7254e;\n",
    "    background-color: rgba(0, 0, 0, 0);\n",
    "}\n",
    "\n",
    "kbd {\n",
    "    border-radius: 3px;  \n",
    "    padding: 2px, 3px;\n",
    "}\n",
    "\n",
    "body {\n",
    "    counter-reset: h1counter excounter;\n",
    "}\n",
    "h1:before {\n",
    "    content: counter(h1counter) \".\\0000a0\\0000a0\";\n",
    "    counter-increment: h1counter;\n",
    "}\n",
    "span.exec:before {\n",
    "    content: counter(excounter);\n",
    "    counter-increment: excounter;\n",
    "}\n",
    "\n",
    "\n",
    "</style>  \n",
    "<script>\n",
    "location.hash = \"#homesweethome\";\n",
    "</script>"
   ]
  },
  {
   "cell_type": "code",
   "execution_count": null,
   "metadata": {},
   "outputs": [],
   "source": []
  }
 ],
 "metadata": {
  "anaconda-cloud": {},
  "kernelspec": {
   "display_name": "Python 3",
   "language": "python",
   "name": "python3"
  },
  "language_info": {
   "codemirror_mode": {
    "name": "ipython",
    "version": 3
   },
   "file_extension": ".py",
   "mimetype": "text/x-python",
   "name": "python",
   "nbconvert_exporter": "python",
   "pygments_lexer": "ipython3",
   "version": "3.6.8"
  }
 },
 "nbformat": 4,
 "nbformat_minor": 1
}
