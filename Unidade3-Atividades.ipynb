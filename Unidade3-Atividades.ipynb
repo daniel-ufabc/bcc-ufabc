{
 "cells": [
  {
   "cell_type": "markdown",
   "metadata": {},
   "source": [
    "# Unidade 3 - Atividades\n",
    "\n",
    "Agora vamos simular como seria uma prova envolvendo alguns problemas de programação com notebooks jupyter."
   ]
  },
  {
   "cell_type": "markdown",
   "metadata": {},
   "source": [
    "## Distribuição de moedas\n",
    "\n",
    "Alice tem várias moedas de 1 real e ela quer distribuí-las entre seus 3 irmãos mais novos.\n",
    "\n",
    "Para não ter briga, ela vai distribuir o máximo possível desde que todos eles recebam exatamente o mesmo número de moedas.\n",
    "\n",
    "Isso significa que podem sobrar algumas moedas que não serão distribuídas.\n",
    "\n",
    "Faça um programa que \n",
    "1. Pergunta a Alice o número de moedas que ela tem.\n",
    "2. Mostra quantas moedas cada irmão recebeu.\n",
    "3. Mostra quantas moedas sobraram com Alice.\n",
    "\n",
    "\n",
    "*Dica:* use o operador de divisão inteira `//` e o operador de resto `%`\n"
   ]
  },
  {
   "cell_type": "code",
   "execution_count": null,
   "metadata": {
    "collapsed": true
   },
   "outputs": [],
   "source": []
  },
  {
   "cell_type": "markdown",
   "metadata": {},
   "source": [
    "## Juros\n",
    "\n",
    "Um banco empresta dinheiro a um juros de $2\\%$ ao mês. Pergunte ao usuário pela quantia $d$ que ele quer emprestar. Depois, pergunte o tempo $t$ em meses que ele pretende ficar com esse dinheiro. Mostre a ele qual será a dívida ao final desses $t$ meses.\n",
    "\n",
    "Use a fórmula $D = d (1.02)^t$. Teste seu programa para $d = 1000.00$ e $t = 36$. "
   ]
  },
  {
   "cell_type": "code",
   "execution_count": null,
   "metadata": {
    "collapsed": true
   },
   "outputs": [],
   "source": []
  },
  {
   "cell_type": "code",
   "execution_count": null,
   "metadata": {},
   "outputs": [],
   "source": []
  },
  {
   "cell_type": "markdown",
   "metadata": {},
   "source": [
    "Salve este arquivo através do menu **_File_ &raquo; _Save and Checkpoint_** ou se estiver numa plataforma online como Binder ou tmpnb.org, vá ao menu **_File_ &raquo; *Download as* &raquo; _Notebook (ipynb)_**.\n",
    "\n",
    "Entregue esse arquivo `.ipynb` em \n",
    "**Tidia &raquo; Atividades &raquo; Unidade 3 - Atividades**."
   ]
  },
  {
   "cell_type": "code",
   "execution_count": null,
   "metadata": {},
   "outputs": [],
   "source": []
  }
 ],
 "metadata": {
  "kernelspec": {
   "display_name": "Python 3",
   "language": "python",
   "name": "python3"
  },
  "language_info": {
   "codemirror_mode": {
    "name": "ipython",
    "version": 3
   },
   "file_extension": ".py",
   "mimetype": "text/x-python",
   "name": "python",
   "nbconvert_exporter": "python",
   "pygments_lexer": "ipython3",
   "version": "3.5.2"
  },
  "widgets": {
   "state": {},
   "version": "1.1.2"
  }
 },
 "nbformat": 4,
 "nbformat_minor": 1
}
