{
 "cells": [
  {
   "cell_type": "markdown",
   "metadata": {},
   "source": [
    "# Unidade 3 - Atividades\n",
    "\n",
    "Agora vamos treinar mais alguns problemas com entrada e saída, e mais alguns cálculos"
   ]
  },
  {
   "cell_type": "markdown",
   "metadata": {},
   "source": [
    "## Conversa\n",
    "\n",
    "Você deve conversar com o usuário. Primeiro, pergunte seu nome. Em todas as outras perguntas, refira-se ao usuário pelo nome. Depois pergunte sua idade. Depois pergunte a ele em que ano ele pretende se formar na UFABC. Mostre ao usuário a idade que ele terá na data em que pretende se formar e quanto tempo (em anos) ainda falta para isso acontecer. \n",
    "\n",
    "Teste seu programa."
   ]
  },
  {
   "cell_type": "code",
   "execution_count": null,
   "metadata": {
    "collapsed": true
   },
   "outputs": [],
   "source": []
  },
  {
   "cell_type": "markdown",
   "metadata": {},
   "source": [
    "## Juros\n",
    "\n",
    "Um banco empresta dinheiro a um juros de 2\\% ao mês. Pergunte ao usuário pela quantia $d$ que ele quer emprestar. Depois, pergunte o tempo $t$ em meses que ele pretende ficar com esse dinheiro. Mostre a ele qual será a dívida ao final desses $t$ meses.\n",
    "\n",
    "Use a fórmula $D = d (1.02)^t$. Teste seu programa para $d = 1000.00$ e $t = 36$. "
   ]
  },
  {
   "cell_type": "code",
   "execution_count": null,
   "metadata": {
    "collapsed": true
   },
   "outputs": [],
   "source": []
  },
  {
   "cell_type": "markdown",
   "metadata": {},
   "source": [
    "## Feira\n",
    "\n",
    "Maria comprou $a$ abacaxis e $b$ bananas por R\\$ 10.00. Na mesma feira, João comprou $c$ abacaxis e $d$ bananas por R\\$ 20.00. Se o preço do abacaxi é $x$ e o da banana é $y$, então para descobrir $x$ e $y$ você deve resolver o sistema\n",
    "\n",
    "$$\\begin{cases}a x + b y = 10.0\\\\c x + d y = 20.0\\end{cases}$$\n",
    "\n",
    "Faça um programa que pergunte quantos abacaxis Maria comprou, depois quantas bananas ela comprou. Depois pergunte quantos abacaxis João comprou e quantas bananas ele comprou. Com os valores de $a, b, c$ e $d$, resolva o sistema e mostre o preço de um abacaxi e o preço de uma banana. (Você pode supor que $a d - c b \\not= 0$.) \n",
    "\n",
    "Teste seu programa dando respostas que façam $a = 4, b = 3, c = 6$ e $d = 8$."
   ]
  },
  {
   "cell_type": "code",
   "execution_count": null,
   "metadata": {
    "collapsed": true
   },
   "outputs": [],
   "source": []
  },
  {
   "cell_type": "markdown",
   "metadata": {},
   "source": [
    "Após fazer estes exercícios e executá-los, vá ao menu *File* &raquo; *Download as* &raquo; *PDF via Latex (.pdf)*. Su o arquivo gerado pelo Tidia em \n",
    "\n",
    "**Tidia &raquo; Atividades &raquo; Unidade 3 - Atividades**."
   ]
  }
 ],
 "metadata": {
  "kernelspec": {
   "display_name": "Python 3",
   "language": "python",
   "name": "python3"
  },
  "language_info": {
   "codemirror_mode": {
    "name": "ipython",
    "version": 3
   },
   "file_extension": ".py",
   "mimetype": "text/x-python",
   "name": "python",
   "nbconvert_exporter": "python",
   "pygments_lexer": "ipython3",
   "version": "3.4.3"
  }
 },
 "nbformat": 4,
 "nbformat_minor": 0
}
