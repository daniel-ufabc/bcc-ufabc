{
 "cells": [
  {
   "cell_type": "markdown",
   "metadata": {},
   "source": [
    "<div id=\"homesweethome\"></div>\n",
    "\n",
    "<div style=\"width: 100%; text-align: center; color: white; background-color: #222; font-size: 3em; font-weight: 700; padding: .5em .5em .6em .5em; line-height: 1.4em;\">Programação em Python para Iniciantes</div>\n",
    "\n",
    "<br>\n",
    "\n",
    "<div style=\"width: 100%; text-align: center; color: white; background-color: #555; font-size: 2.2em; font-weight: 700; padding: .5em .5em .6em .5em; line-height: 1em;\">Estruturas de repetição II</div>\n",
    "\n",
    "<br>\n",
    "\n",
    "Nesta unidade, você vai continuar aprendendendo como fazer para executar um trecho do seu programa várias vezes automaticamente.\n",
    "\n",
    "Isso é muito útil quando o problema que estamos tentando resolver envolve tarefas repetitivas!\n",
    "\n",
    "<span style=\"color: red;\">**Atenção:**</span> **salve seu trabalho frequentemente, pois a atividade desta unidade pede justamente para você entregar este _notebook_ completamente resolvido.**</span>"
   ]
  },
  {
   "cell_type": "markdown",
   "metadata": {},
   "source": [
    "<hr>\n",
    "\n",
    "Re-lembrando: caso você queira imprimir os números de 1 a 5, você poderia fazer o seguinte:"
   ]
  },
  {
   "cell_type": "code",
   "execution_count": null,
   "metadata": {
    "collapsed": true
   },
   "outputs": [],
   "source": [
    "print(1)\n",
    "print(2)\n",
    "print(3)\n",
    "print(4)\n",
    "print(5)"
   ]
  },
  {
   "cell_type": "markdown",
   "metadata": {},
   "source": [
    "Usando intervalos e o comando `for`, fica muito mais fácil mudar o programa caso você queira imprimir os números de 1 até 100."
   ]
  },
  {
   "cell_type": "code",
   "execution_count": null,
   "metadata": {
    "collapsed": true
   },
   "outputs": [],
   "source": [
    "for n in range(1, 101):\n",
    "    print(n)"
   ]
  },
  {
   "cell_type": "markdown",
   "metadata": {},
   "source": [
    "Desta forma, é possível adaptar o programa caso você queira ler um número $n$ da entrada e imprimir os números de $1$ até $n$."
   ]
  },
  {
   "cell_type": "code",
   "execution_count": null,
   "metadata": {
    "collapsed": true
   },
   "outputs": [],
   "source": [
    "n = int(input(\"Digite o valor de n: \"))\n",
    "for n in range(1, n + 1):\n",
    "    print(n)"
   ]
  },
  {
   "cell_type": "markdown",
   "metadata": {},
   "source": [
    "Em todos esses casos é possível calcular o número de vezes que o comando `print()` será executado, antes mesmo de executar a primeira repetição.\n",
    "\n",
    "No entanto, existem situações em que precisamos repetir uma tarefa várias vezes porém não é possível calcular a priori o número de repetições.\n",
    "\n",
    "Por exemplo, suponha você deseja ler uma sequência de números inteiros que termina em zero e mostrar o dobro cada número. Neste caso, não é possível saber quantos números serão lidos até acharmos o zero.\n",
    "\n",
    "Nesta aula vamos aprender um comando da linguagem Python que permite resolver esse problema, o comando `while`.\n",
    "\n",
    "<hr>\n"
   ]
  },
  {
   "cell_type": "markdown",
   "metadata": {},
   "source": [
    "# O comando `while`\n",
    "\n",
    "O comando `while` tem a seguinte estrutura:\n",
    "\n",
    "\n",
    "    while condição:\n",
    "        código indentado\n",
    "        código indentado\n",
    "        ...\n",
    "        código indentado\n",
    "    código após o while\n",
    "\n",
    "\n",
    "Observe que, de forma similar ao comando `if`, o `while` tem uma condição e um bloco de código associado que deve vir _indentado_. \n",
    "\n",
    "O comando `while` executa o bloco de código correspondente enquanto a condição dada for verdadeira. Quando a condição for falsa o fluxo de programa muda e passa a executar bloco depois o while (não indentado).\n",
    "<hr>\n",
    "\n",
    "Veja um fluxograma que explica o funcionamento do while:\n",
    "\n",
    "<img width=\"300px\" src=\"data:image/png;base64,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\" />\n",
    "\n",
    "<hr>\n",
    "Veja a seguir como você pode fazer para imprimir os números de 1 a 5 com o comando `while`:"
   ]
  },
  {
   "cell_type": "code",
   "execution_count": null,
   "metadata": {
    "collapsed": true
   },
   "outputs": [],
   "source": [
    "n = 1               \n",
    "while n <= 5:       \n",
    "    print(n)       \n",
    "    n = n + 1      "
   ]
  },
  {
   "cell_type": "markdown",
   "metadata": {},
   "source": [
    "No exemplo acima, a condição é `n <= 5` e o bloco de código é\n",
    "\n",
    "    print(n)       \n",
    "    n = n + 1      \n",
    "\n",
    "O que exatamente o nosso código está fazendo?\n",
    "\n",
    "Em \"português\" poderíamos escrever o seguinte:\n",
    "\n",
    "    # começamos com n = 1\n",
    "    # enquanto n não ultrapassou 5, faça:\n",
    "    #     imprima n\n",
    "    #     aumente em 1 o valor de n\n",
    "\n",
    "Execute o código a seguir para ver uma animação:"
   ]
  },
  {
   "cell_type": "code",
   "execution_count": null,
   "metadata": {
    "scrolled": false
   },
   "outputs": [],
   "source": [
    "# Código para rodar vídeo\n",
    "from IPython.display import HTML\n",
    "HTML('<iframe width=\"420\" height=\"315\" src=\"https://www.youtube.com/embed/PDQ0Mi-iT1A\"></iframe>')"
   ]
  },
  {
   "cell_type": "markdown",
   "metadata": {},
   "source": [
    "<hr> \n",
    "\n",
    "Outro modo de exibir os números de 1 a 5 é o seguinte:"
   ]
  },
  {
   "cell_type": "code",
   "execution_count": null,
   "metadata": {
    "collapsed": true
   },
   "outputs": [],
   "source": [
    "n = 5\n",
    "while n > 0:\n",
    "    print(6 - n)\n",
    "    n = n - 1"
   ]
  },
  {
   "cell_type": "markdown",
   "metadata": {},
   "source": [
    "<hr> \n",
    "\n",
    "Agora, vamos resolver o exemplo da introdução, i.e. você deseja ler uma sequência de números inteiros que termina em zero e quer mostrar o dobro de cada número lido. Veja abaixo a solução usando o comando `while`. Note que o primeiro número da sequência pode ser zero e, nesse caso, o corpo do while nunca é executado. No final do corpo, precisamos ler o próximo número antes de testar novamente a condição.\n"
   ]
  },
  {
   "cell_type": "code",
   "execution_count": null,
   "metadata": {
    "collapsed": true
   },
   "outputs": [],
   "source": [
    "n = int(input(\"Digite o valor do número: \"))\n",
    "while n != 0:       \n",
    "    print(2*n)       \n",
    "    n = int(input(\"Digite o valor do número: \"))    "
   ]
  },
  {
   "cell_type": "markdown",
   "metadata": {},
   "source": [
    "No programa acima, o primeiro número da entrada é lido antes do comando `while` e os demais, dentro do bloco de código do comando `while`. Esse tratamento diferenciado (da leitura do primeiro número) às vezes é necessário, porém pode levar o programador a cometer erros.\n",
    "\n",
    "É preferível modificar o programa para que a leitura de todos os números seja tratada dentro do `while`. Veja:"
   ]
  },
  {
   "cell_type": "code",
   "execution_count": null,
   "metadata": {},
   "outputs": [],
   "source": [
    "n = 1\n",
    "while n != 0:\n",
    "    n = int(input(\"Digite o valor do número: \"))\n",
    "    print(2*n)"
   ]
  },
  {
   "cell_type": "markdown",
   "metadata": {},
   "source": [
    "Repare que é necessário inicializar a variável `n` antes do `while` pois ela (e portanto, seu valor) será usado na condição do `while`. No caso concreto deste programa, é importante inicializar a variável `n` com um valor diferente de 0 para que a condição do `while` não seja falsa logo da primeira vez. "
   ]
  },
  {
   "cell_type": "markdown",
   "metadata": {},
   "source": [
    "### Exercício <span class=\"exec\"></span>: par ou ímpar? II\n",
    "\n",
    "Modifique o programa anterior de modo que, em vez de imprimir o dobro do número lido, o código dentro do while determine a paridade do número lido (i.e. se ele é par ou ímpar) e mostre uma mensagem `PAR` ou `IMPAR` ao usuário. \n",
    "\n",
    "**Dica:** use o comando `if` dentro do bloco de código do `while`."
   ]
  },
  {
   "cell_type": "code",
   "execution_count": null,
   "metadata": {
    "collapsed": true
   },
   "outputs": [],
   "source": []
  },
  {
   "cell_type": "markdown",
   "metadata": {},
   "source": [
    "### Exercício <span class=\"exec\"></span>: par ou ímpar? III\n",
    "\n",
    "Modifique o programa anterior de modo que, além de determinar se cada número lido é par ou ímpar, ele imprima no final quantos números pares foram lidos.\n",
    "\n",
    "**Dica:** use o comando `if` dentro do bloco de código do `while`; crie uma nova variável para contar os números pares."
   ]
  },
  {
   "cell_type": "code",
   "execution_count": null,
   "metadata": {
    "collapsed": true
   },
   "outputs": [],
   "source": []
  },
  {
   "cell_type": "markdown",
   "metadata": {},
   "source": [
    "### Exercício <span class=\"exec\"></span>: Calculadora\n",
    "\n",
    "Modifique o programa abaixo para simular uma calculadora básica com as operações de soma, subtração, multiplicação e divisão. Seu programa deve mostrar um menu com as opções prenchidas no código abaixo (repare na opção de sair). Faça a validação da opção lida (isto é, reclame ao usuário se ele digitar um número de opção fora do conjunto $\\{1,2,3,4,5\\}$). Depois que o usuário selecionar uma opção, seu programa deve pedir pelos dois operandos, fazer a operação pedida e mostrar o resultado, voltando a mostrar o menú de opções para que o usuário escolha qual conta quer fazer em seguida."
   ]
  },
  {
   "cell_type": "code",
   "execution_count": null,
   "metadata": {
    "collapsed": true
   },
   "outputs": [],
   "source": [
    "opcao = 0\n",
    "while # escreva aqui sua condição :\n",
    "    print(\"Menú\")\n",
    "    print(\"1- Soma\")\n",
    "    print(\"2- Subtração\")\n",
    "    print(\"3- Multiplicação\")\n",
    "    print(\"4- Divisão\")\n",
    "    print(\"5- Terminar o programa\")\n",
    "    opcao = int(input(\"Digite a opção desejada: \"))\n",
    "    \n",
    "    # complete o código\n",
    "    "
   ]
  },
  {
   "cell_type": "markdown",
   "metadata": {},
   "source": [
    "## Sobre a condição do while\n",
    "\n",
    "A condição do  `while` tem as mesmas características da condição do comando `if`; portanto, você pode escrever condições simples ou compostas ou até usar uma única variável ou constante booleana.\n",
    "\n",
    "No entanto, sempre tome muito cuidado quando você for escrever a condição do comando `while`. Note que, se acontecer da condição ser sempre verdadeira, seu programa irá **_entrar em loop_**, ou seja, ele ficará rodando \"para sempre\" e irá travar o kernel do Python.\n",
    "\n",
    "Se a condição envolve variáveis, elas devem ser sempre inicializadas antes do while e autualizadas no corpo.\n",
    "\n",
    "Veja o exemplo abaixo. O código mostra `SENHA CORRETA` se o usuário digita 1234 e `SENHA INCORRETA` se o usuário digita qualquer outro número. \n",
    "\n",
    "Ele fica rodando até o usuário acertar a senha. Neste caso, é usada uma variável booleana para controlar se o corpo do laço deve ser executado novamente ou não.\n"
   ]
  },
  {
   "cell_type": "code",
   "execution_count": null,
   "metadata": {
    "collapsed": true
   },
   "outputs": [],
   "source": [
    "rodar = True\n",
    "while (rodar):\n",
    "    senha = int(input(\"Digite a sua senha numérica: \"))\n",
    "    if senha == 1234:\n",
    "        rodar = False \n",
    "    else: \n",
    "        print(\"SENHA INCORRETA\")\n",
    "print(\"SENHA CORRETA\")"
   ]
  },
  {
   "cell_type": "markdown",
   "metadata": {},
   "source": [
    "Note que, neste caso, o mesmo comportamento pode ser replicado colocando-se a linha `print(\"SENHA CORRETA\")`  dentro do bloco de código do `while` como feito abaixo."
   ]
  },
  {
   "cell_type": "code",
   "execution_count": null,
   "metadata": {
    "collapsed": true
   },
   "outputs": [],
   "source": [
    "rodar = True\n",
    "while (rodar):\n",
    "    senha = int(input(\"Digite a sua senha numérica: \"))\n",
    "    if senha == 1234:\n",
    "        print(\"SENHA CORRETA\")\n",
    "        rodar = False \n",
    "    else: \n",
    "        print(\"SENHA INCORRETA\")"
   ]
  },
  {
   "cell_type": "markdown",
   "metadata": {},
   "source": [
    "### Exercício <span class=\"exec\"></span>: senha limitada I\n",
    "\n",
    "Copiamos o código acima para a célula abaixo.\n",
    "\n",
    "Modifique-o de modo que ele permita no máximo 3 tentativas para acertar a senha e, se o usuário errar três vezes, o programa termina e mostra uma notificação ao usuário.\n",
    "\n",
    "**Dica:** use uma nova variável para contar quantas tentativas foram feitas.\n"
   ]
  },
  {
   "cell_type": "code",
   "execution_count": null,
   "metadata": {
    "collapsed": true
   },
   "outputs": [],
   "source": []
  },
  {
   "cell_type": "markdown",
   "metadata": {},
   "source": [
    "### Exercício <span class=\"exec\"></span>: par ou ímpar\n",
    "\n",
    "\n",
    "Alice e Bob estão jogando par ou ímpar. Alice sempre aposta que soma será par, e Bob que a soma será ímpar. São 7 rodadas. Vence quem ganhar o maior número de rodadas. Isto é, vence quem ganhar 4 rodadas primeiro. Se um deles \n",
    "acumular 4 vitórias em menos de 7 rodadas, eles não continuam a jogar as rodadas que restam, pois já se sabe quem é o vencedor. Em cada rodada, seu programa deve pedir para Alice e Bob digitarem os números que querem jogar. No fim, seu programa deve mostrar quem venceu.\n",
    "\n",
    "**Dica:** comece fazendo um jogo simples de par ou impar (i.e. uma rodada só); depois se preocupe em usar um laço `while` para fazer com que o jogo dure até 7 rodadas."
   ]
  },
  {
   "cell_type": "code",
   "execution_count": null,
   "metadata": {
    "collapsed": true
   },
   "outputs": [],
   "source": []
  },
  {
   "cell_type": "markdown",
   "metadata": {},
   "source": [
    "# `while`   versus `for`\n",
    "\n",
    "\n",
    "Talvez você já tenha reparado que o `while` pode usado no lugar do `for`. Em alguns casos, uma solução usando o `while` pode ser mais eficiente.\n",
    "\n",
    "Por exemplo, poderiamos determinar se um número é primo ou não usando o seguinte programa."
   ]
  },
  {
   "cell_type": "code",
   "execution_count": null,
   "metadata": {
    "collapsed": true
   },
   "outputs": [],
   "source": [
    "n = int(input(\"Qual o número que deseja testar? \"))     # leitura da entrada\n",
    "\n",
    "qDivisores = 0                                          # inicialização das variáveis\n",
    "\n",
    "for i in range(1, n + 1):                               # processamento\n",
    "    if n % i == 0:\n",
    "        qDivisores = qDivisores + 1\n",
    "        \n",
    "if qDivisores == 2:                                     # saida\n",
    "    print(\"Primo\")\n",
    "else:\n",
    "    print(\"Não é primo\")"
   ]
  },
  {
   "cell_type": "markdown",
   "metadata": {},
   "source": [
    "No entanto, para saber que um número $n$ não é primo basta achar **um único divisor** diferente de 1 e o próprio $n$. Se existe um tal divisor, então existe um na faixa $2..\\sqrt{n}$ (você saberia explicar por que?).\n",
    "\n",
    "Veja abaixo, um programa que é mais eficiente do que o anterior. Confira a eficiência de ambos os códigos, testando para $n = 1000000000$. Interrompa o kernel, se precisar, através do botão <img alt=\"stop\" style=\"display: inline; border: 1px solid lightgrey;\" src=\"data:image/png;base64,iVBORw0KGgoAAAANSUhEUgAAACAAAAAZCAIAAADfbbvGAAAAA3NCSVQICAjb4U/gAAAAGXRFWHRTb2Z0d2FyZQBnbm9tZS1zY3JlZW5zaG907wO/PgAAAH9JREFUSIljOHPmzH+agbVr1zIx0BiMWkAQsOCT/Pns5q23v/DqZ5NUUxdhJ9OCB8tLoqfcwms+A4Nx5Y6ZwSK45fEG0eefBEwnAgz9SB61YNSCIW4BmzAvGyH9bDw8+Eoi/GWRVNSCY1GEbCAEhnccjFrAwMAASUVnz56lnQUAuo1xSm7pazkAAAAASUVORK5CYII=\" />."
   ]
  },
  {
   "cell_type": "code",
   "execution_count": null,
   "metadata": {
    "collapsed": true
   },
   "outputs": [],
   "source": [
    "n = int(input(\"Qual o número que deseja testar? \"))     # leitura da entrada\n",
    "\n",
    "maxDivisor = int(n**(1/2))                              # inicialização das variáveis\n",
    "qDivisores = 0\n",
    "i = 2\n",
    "\n",
    "while qDivisores == 0 and i <= maxDivisor:              # processamento\n",
    "    if n % i == 0:\n",
    "        qDivisores = 1                                  # Pode ser uma variável booleana\n",
    "    i = i + 1                                           # atualização da variável de controle do laço\n",
    "    \n",
    "if qDivisores == 0:                                     # saida\n",
    "    print(\"Primo\")\n",
    "else:\n",
    "    print(\"Não é primo\")"
   ]
  },
  {
   "cell_type": "markdown",
   "metadata": {},
   "source": [
    "# Os comandos  `break`  e `else`\n",
    "\n",
    "A grande vantagem do `for` é que não precisamos nós preocupar com a inicialização e com a atualização da variável do laço. Porém, como terminar um laço `for` antes do número máximo de repetições?\n",
    "\n",
    "A linguagem Python oferece a instrução `break` que permite terminar a execução do laço. Além disso, Python também permite colocar um `else` nos laços `for` e `while` após o corpo do laço. \n",
    "\n",
    "Neste caso, a estrutura do comando `for` é a seguinte:\n",
    "\n",
    "    for variável in lista/range:\n",
    "    # ----------------------------------------------------------------- corpo do for\n",
    "        código indentado\n",
    "        ...\n",
    "        código indentado\n",
    "    # ---------------------------------------------------------------- fim do corpo do for\n",
    "    else:      \n",
    "        código indentado\n",
    "        ...\n",
    "        código indentado\n",
    "    código após o for\n",
    "\n",
    "\n",
    "\n",
    "A estrutura do comando `while-else` é análoga. \n",
    "\n",
    "Em ambos casos, o bloco de código do `else` somente é executado uma única vez quando o laço terminou normalmente, isto sem ter executado um `break`.\n",
    "\n",
    "Obviamente, o uso do  `else` é desnecessário quando:\n",
    "\n",
    "* o corpo do laço não contem nenhuma instrução  `break`  pois o `else` sempre será executado; ou\n",
    "* o laço sempre termina com um `break`  pois o `else` nunca será executado.\n",
    "\n",
    "\n",
    "<hr>\n",
    "Veja abaixo mais uma variante eficiente do exemplo anterior."
   ]
  },
  {
   "cell_type": "code",
   "execution_count": null,
   "metadata": {
    "collapsed": true
   },
   "outputs": [],
   "source": [
    "n = int(input(\"Qual o número que deseja testar? \"))                    # leitura da entrada\n",
    "\n",
    "for i in range( 2, int(n**(1/2))+1 ):                                  # processamento\n",
    "    \n",
    "    # ----------------------------------------------------------------- corpo do for\n",
    "    if n % i == 0:\n",
    "        print(n, \" não é primo pois é igual a \", i, \"*\", n // i)\n",
    "        break\n",
    "    # ---------------------------------------------------------------- fim do corpo do for\n",
    "    \n",
    "else:                                                                # Atenção: esse else é do for e não do if!\n",
    "    print(\"Primo\")                                                   # \"primo\" só se o break não foi executado.\n"
   ]
  },
  {
   "cell_type": "markdown",
   "metadata": {},
   "source": [
    "Note que o `else` do `for` somente é executado se o a condição `n % i == 0` é sempre `False`, isto é, nenhum divisor foi encontrado."
   ]
  },
  {
   "cell_type": "markdown",
   "metadata": {},
   "source": [
    "<hr>\n",
    "Veja agora uma variante para o exercício da senha limitada que usa `for-else`."
   ]
  },
  {
   "cell_type": "code",
   "execution_count": null,
   "metadata": {
    "collapsed": true
   },
   "outputs": [],
   "source": [
    "for i in [1, 2, 3]:\n",
    "    # ----------------------------------------------------------------  corpo do for\n",
    "    senha = int(input(\"Digite a sua senha numérica: \"))\n",
    "    if senha == 1234:\n",
    "        print(\"SENHA CORRETA\")\n",
    "        break\n",
    "    else: \n",
    "        print(\"SENHA INCORRETA\")\n",
    "    # ---------------------------------------------------------------- fim do corpo do for\n",
    "else: \n",
    "    print(\"VOCÊ ERROU AS TRÊS TENTATIVAS\")"
   ]
  },
  {
   "cell_type": "markdown",
   "metadata": {},
   "source": [
    "### Exercício <span class=\"exec\"></span>: senha limitada II\n",
    "\n",
    "Modifique o código abaixo **sem mudar a condição do `while`** para ter o mesmo comportamento do programa acima.\n",
    "\n",
    "\n",
    "**Dica:** use uma variável para contar quantas tentativas foram feitas. \n",
    "\n",
    "**Atenção:**  só é possível sair do **`while`** com um **`break`** pois a condição é sempre verdadeira."
   ]
  },
  {
   "cell_type": "code",
   "execution_count": null,
   "metadata": {
    "collapsed": true
   },
   "outputs": [],
   "source": [
    "while (True):\n",
    "    senha = int(input(\"Digite a sua senha numérica: \"))\n",
    "    if senha == 1234:\n",
    "        print(\"SENHA CORRETA\")\n",
    "        break\n",
    "    else: \n",
    "        print(\"SENHA INCORRETA\")\n",
    "        \n",
    "if condição:\n",
    "    print(\"VOCÊ ERROU AS TRÊS TENTATIVAS\")"
   ]
  },
  {
   "cell_type": "markdown",
   "metadata": {},
   "source": [
    "# Laços aninhados e consecutivos\n",
    "\n",
    "Para concluir, é importante mencionar que muitas situações precisam de vários laços aninhados ou consecutivos. No primeiro caso, tome cuidado com a indentação. Também perceba que o **`break`** vai terminar o laço mais interno no qual ele se encontra.\n",
    "\n",
    "Pr exemplo, para imprimir todos os pares ordenados no conjunto $\\{0,\\dots,m - 1\\} \\times \\{0,\\dots,n-1\\}$, o mais fácil é usar dois comandos `for` encaixados. Veja o programa abaixo e teste-o com os valores $m=4, n =5$."
   ]
  },
  {
   "cell_type": "code",
   "execution_count": null,
   "metadata": {},
   "outputs": [],
   "source": [
    "m = int(input('m = '))\n",
    "n = int(input('n = '))\n",
    "for i in range(m):\n",
    "    for j in range(n):\n",
    "        print('(' + str(i) + ', ' + str(j) + ')')"
   ]
  },
  {
   "cell_type": "markdown",
   "metadata": {},
   "source": [
    "# Mais exercícios"
   ]
  },
  {
   "cell_type": "markdown",
   "metadata": {},
   "source": [
    "### Exercício <span class=\"exec\"></span>: todos os primos\n",
    "\n",
    "Escreva um programa que dado um número inteiro $n > 1$, imprima todos os números primos menores ou iguais a $n$."
   ]
  },
  {
   "cell_type": "code",
   "execution_count": null,
   "metadata": {
    "collapsed": true
   },
   "outputs": [],
   "source": []
  },
  {
   "cell_type": "markdown",
   "metadata": {},
   "source": [
    "### Exercício <span class=\"exec\"></span>: pontos no plano\n",
    "\n",
    "Escreva um programa que repete a seguinte tarefa: pergunta por um ponto no plano &ndash; isto é, pergunta pelas cordenadas $(x,y)$ &ndash; e depois imprime o quadrante no qual ele se encontra ou diz se ele está sobre algum eixo. O programa termina quando o usuário entrar com o ponto $(0,0)$."
   ]
  },
  {
   "cell_type": "code",
   "execution_count": null,
   "metadata": {
    "collapsed": true
   },
   "outputs": [],
   "source": []
  },
  {
   "cell_type": "markdown",
   "metadata": {},
   "source": [
    "### Exercício <span class=\"exec\"></span>: triângulo de asteriscos\n",
    "\n",
    "Faça um programa que pede para o usuário digitar um número $n>0$ e imprime um triângulo de asteriscos. Para $n = 5$, seu programa deveria mostrar \"a figura\" abaixo.\n",
    "\n",
    "<pre style=\"background-color: rgba(0,0,0,0);\">\n",
    "*\n",
    "**\n",
    "***\n",
    "****\n",
    "*****\n",
    "</pre>\n",
    "\n"
   ]
  },
  {
   "cell_type": "code",
   "execution_count": null,
   "metadata": {
    "collapsed": true
   },
   "outputs": [],
   "source": []
  },
  {
   "cell_type": "markdown",
   "metadata": {},
   "source": [
    "### Exercício <span class=\"exec\"></span>: números perfeitos\n",
    "\n",
    "Um número inteiro positivo é _perfeito_ se for igual à soma dos seus divisores positivos próprios. (Divisores próprios são aqueles estritamente menores que o número em questão.)\n",
    "Por exemplo, 6 é perfeito pois seus divisores positivos próprios são 1, 2 e 3, e a soma deles é igual a 6.\n",
    "1+2+3=6\n",
    "1+2+3=6\n",
    " \n",
    "Faça um programa que pede ao usuário por um número inteiro  $n>0$  e que decide se  $n$  é perfeito.\n"
   ]
  },
  {
   "cell_type": "code",
   "execution_count": null,
   "metadata": {
    "collapsed": true
   },
   "outputs": [],
   "source": []
  },
  {
   "cell_type": "markdown",
   "metadata": {},
   "source": [
    "### Exercício <span class=\"exec\"></span>: potência de 2\n",
    "\n",
    "Faça um programa que pede para o usuário digitar um número inteiro positivo $n$ e que, em seguida, decide se esse número é uma potência de 2 ou não. É proibido usar o módulo &nbsp;`math`&nbsp; ou qualquer outro módulo."
   ]
  },
  {
   "cell_type": "code",
   "execution_count": null,
   "metadata": {
    "collapsed": true
   },
   "outputs": [],
   "source": []
  },
  {
   "cell_type": "markdown",
   "metadata": {},
   "source": [
    "### Exercício <span class=\"exec\"></span>: conversão para binário\n",
    "\n",
    "Faça um programa que pede ao usuário um número inteiro $n > 0$ e que depois mostre a representação binária de $n$. Ou seja, faça um programa de conversão de base. Por exemplo, a representação binária de 17 é 10001.\n",
    "\n",
    "**Dica:** a solução é parecida com a solução do problema do _Troco_ na aula de condicionais. Suponha que você quer trocar o valor $n$ em moedas de valores $1, 2, 4, 8, 16, \\dots$."
   ]
  },
  {
   "cell_type": "code",
   "execution_count": null,
   "metadata": {
    "collapsed": true
   },
   "outputs": [],
   "source": []
  },
  {
   "cell_type": "markdown",
   "metadata": {},
   "source": [
    "### Exercício <span class=\"exec\"></span>: pesquisa\n",
    "\n",
    "Numa pesquisa feita entre $n$ habitantes de uma região foram coletados os dados de idade, sexo (M/F) e salário. \n",
    "Escreva um programa que calcule: a quantidade de homens, o salário médio do grupo, a menor idade do grupo e a quantidade de mulheres com salário maior que a média. \n"
   ]
  },
  {
   "cell_type": "code",
   "execution_count": null,
   "metadata": {
    "collapsed": true
   },
   "outputs": [],
   "source": []
  },
  {
   "cell_type": "markdown",
   "metadata": {},
   "source": [
    "<a rel=\"license\" href=\"http://creativecommons.org/licenses/by-sa/4.0/\"><img alt=\"Creative Commons License\" style=\"border-width:0\" src=\"https://i.creativecommons.org/l/by-sa/4.0/88x31.png\" /></a><br /><span xmlns:dct=\"http://purl.org/dc/terms/\" href=\"http://purl.org/dc/dcmitype/InteractiveResource\" property=\"dct:title\" rel=\"dct:type\">Python 3 Practice Notebooks</span> by <a xmlns:cc=\"http://creativecommons.org/ns#\" href=\"https://github.com/daniel-ufabc/ipycourse\" property=\"cc:attributionName\" rel=\"cc:attributionURL\">Cristiane Sato, Daniel M. Martin and Mirtha L. F. Venero</a> is licensed under a <a rel=\"license\" href=\"http://creativecommons.org/licenses/by-sa/4.0/\">Creative Commons Attribution-ShareAlike 4.0 International License</a>."
   ]
  },
  {
   "cell_type": "markdown",
   "metadata": {},
   "source": [
    "<span style=\"color: red;\">Execute a célula abaixo para melhorar a aparência deste <i>notebook</i>.</span>"
   ]
  },
  {
   "cell_type": "code",
   "execution_count": 1,
   "metadata": {
    "init_cell": true
   },
   "outputs": [
    {
     "data": {
      "text/html": [
       "<style>\n",
       ".rendered_html h1 {\n",
       "    background-color: #555;\n",
       "    color: white;\n",
       "    padding: .5em;\n",
       "    // border-bottom: 2px solid #000;\n",
       "    // padding-bottom: .6em;\n",
       "    margin-bottom: 1em;\n",
       "}\n",
       "\n",
       ".rendered_html h1 code {\n",
       "    color: #EBB7C5;\n",
       "    background-color: rgba(0,0,0,0);\n",
       "}\n",
       "\n",
       ".rendered_html h2 {\n",
       "    border-bottom: 1px solid #333;\n",
       "    padding-bottom: .6em;\n",
       "}\n",
       "                                      \n",
       ".rendered_html h3 {\n",
       "    color: #034f84;\n",
       "}\n",
       "\n",
       ".rendered_html code  {\n",
       "    padding: 2px 4px;\n",
       "    font-size: 90%;\n",
       "    color: #c7254e;\n",
       "    background-color: #f9f2f4;\n",
       "    border-radius: 4px;\n",
       "}\n",
       "\n",
       ".rendered_html pre code {\n",
       "    padding: 0px;\n",
       "    font-size: 90%;\n",
       "    color: #c7254e;\n",
       "    background-color: rgba(0, 0, 0, 0);\n",
       "}\n",
       "\n",
       "kbd {\n",
       "    border-radius: 3px;  \n",
       "    padding: 2px, 3px;\n",
       "}\n",
       "\n",
       "body {\n",
       "    counter-reset: h1counter excounter;\n",
       "}\n",
       "h1:before {\n",
       "    content: counter(h1counter) \".\\0000a0\\0000a0\";\n",
       "    counter-increment: h1counter;\n",
       "}\n",
       "span.exec:before {\n",
       "    content: counter(excounter);\n",
       "    counter-increment: excounter;\n",
       "}\n",
       "\n",
       "</style>  \n",
       "<script>\n",
       "location.hash = \"#homesweethome\";\n",
       "</script>"
      ],
      "text/plain": [
       "<IPython.core.display.HTML object>"
      ]
     },
     "metadata": {},
     "output_type": "display_data"
    }
   ],
   "source": [
    "%%html\n",
    "<style>\n",
    ".rendered_html h1 {\n",
    "    background-color: #555;\n",
    "    color: white;\n",
    "    padding: .5em;\n",
    "    // border-bottom: 2px solid #000;\n",
    "    // padding-bottom: .6em;\n",
    "    margin-bottom: 1em;\n",
    "}\n",
    "\n",
    ".rendered_html h1 code {\n",
    "    color: #EBB7C5;\n",
    "    background-color: rgba(0,0,0,0);\n",
    "}\n",
    "\n",
    ".rendered_html h2 {\n",
    "    border-bottom: 1px solid #333;\n",
    "    padding-bottom: .6em;\n",
    "}\n",
    "                                      \n",
    ".rendered_html h3 {\n",
    "    color: #034f84;\n",
    "}\n",
    "\n",
    ".rendered_html code  {\n",
    "    padding: 2px 4px;\n",
    "    font-size: 90%;\n",
    "    color: #c7254e;\n",
    "    background-color: #f9f2f4;\n",
    "    border-radius: 4px;\n",
    "}\n",
    "\n",
    ".rendered_html pre code {\n",
    "    padding: 0px;\n",
    "    font-size: 90%;\n",
    "    color: #c7254e;\n",
    "    background-color: rgba(0, 0, 0, 0);\n",
    "}\n",
    "\n",
    "kbd {\n",
    "    border-radius: 3px;  \n",
    "    padding: 2px, 3px;\n",
    "}\n",
    "\n",
    "body {\n",
    "    counter-reset: h1counter excounter;\n",
    "}\n",
    "h1:before {\n",
    "    content: counter(h1counter) \".\\0000a0\\0000a0\";\n",
    "    counter-increment: h1counter;\n",
    "}\n",
    "span.exec:before {\n",
    "    content: counter(excounter);\n",
    "    counter-increment: excounter;\n",
    "}\n",
    "\n",
    "</style>  \n",
    "<script>\n",
    "location.hash = \"#homesweethome\";\n",
    "</script>"
   ]
  },
  {
   "cell_type": "code",
   "execution_count": null,
   "metadata": {
    "collapsed": true
   },
   "outputs": [],
   "source": []
  }
 ],
 "metadata": {
  "anaconda-cloud": {},
  "kernelspec": {
   "display_name": "Python 3",
   "language": "python",
   "name": "python3"
  },
  "language_info": {
   "codemirror_mode": {
    "name": "ipython",
    "version": 3
   },
   "file_extension": ".py",
   "mimetype": "text/x-python",
   "name": "python",
   "nbconvert_exporter": "python",
   "pygments_lexer": "ipython3",
   "version": "3.6.8"
  }
 },
 "nbformat": 4,
 "nbformat_minor": 1
}
