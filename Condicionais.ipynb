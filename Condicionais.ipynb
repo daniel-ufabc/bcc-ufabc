{
 "cells": [
  {
   "cell_type": "markdown",
   "metadata": {},
   "source": [
    "<div id=\"homesweethome\"></div>\n",
    "<div style=\"width: 100%; text-align: center; color: white; background-color: #222; font-size: 3em; font-weight: 700; padding: .5em .5em .6em .5em; line-height: 1.4em;\">Programação em Python para Iniciantes</div>\n",
    "\n",
    "<br>\n",
    "\n",
    "<div style=\"width: 100%; text-align: center; color: white; background-color: #555; font-size: 2.5em; font-weight: 700; padding: .5em .5em .6em .5em; line-height: 1.4em;\">Condicionais</div>\n",
    "\n",
    "<br>\n",
    "\n",
    "\n",
    "Nesse momento, você já teve contato com alguns elementos de programação em Python. Você fez alguns programas que trocam mensagens com o usuário e fazem cálculos básicos. Porém, até agora, seus programas não conseguem tomar rumos diferentes de acordo com o que o usuário digita. A estrutura de programação usada para mudar o rumo ou fluxo de um programa é chamada de condicional. \n",
    "\n",
    "As estruturas condicionais permitem executar ou não um conjunto de instruções dependendo do resultado de uma condição. As condições (também chamadas de expressões lógicas) retornam as constantes verdadeiro (**`True`**) ou falso (**`False`**).\n",
    "\n",
    "Nesta aula, você vai aprender como escrever programas Python que usam estruturas condicionais para resolver problemas.\n",
    "\n",
    "\n",
    "<span style=\"color: red;\">**Atenção:**</span> **salve seu trabalho frequentemente, pois a atividade desta unidade pede justamente para você entregar este _notebook_ completamente resolvido.**\n",
    "\n",
    "\n",
    "# Comparações numéricas\n",
    "\n",
    "Em Python, você pode testar vários tipos de condições. \n",
    "\n",
    "As condições mais simples são as aquelas que comparam números. Por exemplo, a seguinte comparação retorna **`False`** (falso), pois 2 **não é** maior do que 5. \n",
    "\n"
   ]
  },
  {
   "cell_type": "code",
   "execution_count": null,
   "metadata": {
    "collapsed": true
   },
   "outputs": [],
   "source": [
    "2 > 5"
   ]
  },
  {
   "cell_type": "markdown",
   "metadata": {},
   "source": [
    "A condição seguinte é **`True`** (verdadeiro), pois 3 é igual a 3:"
   ]
  },
  {
   "cell_type": "code",
   "execution_count": null,
   "metadata": {
    "collapsed": true
   },
   "outputs": [],
   "source": [
    "3 >= 3"
   ]
  },
  {
   "cell_type": "markdown",
   "metadata": {},
   "source": [
    "## Operadores de comparação em Python\n",
    "\n",
    "Na tabela abaixo estão todos os operadores de comparação. \n",
    "\n",
    "| operador | significado      |\n",
    "|:--------:|------------------|\n",
    "|      `>` | maior que        |\n",
    "|      `<` | menor que        |\n",
    "|     `>=` | maior ou igual a |\n",
    "|     `<=` | menor ou igual a |\n",
    "|     `==` | igual a          |\n",
    "|     `!=` | diferente de     |\n",
    "\n",
    "A prioridade desses operadores é menor que a dos operadores numéricos. Isto quer dizer que numa mesma expressão as operações aritméticas são avaliadas antes das operações de comparação. Por exemplo, a comparação 3 + 4 < 8 - 1 é equivalente a (3 + 4) < (8 - 1 ). Seu valor é **`False`** pois 7 **não é** menor do que 7.\n",
    "\n"
   ]
  },
  {
   "cell_type": "code",
   "execution_count": null,
   "metadata": {},
   "outputs": [],
   "source": [
    "3 + 4 < 8 - 1"
   ]
  },
  {
   "cell_type": "markdown",
   "metadata": {},
   "source": [
    "### Exercício <span class=\"exec\"></span>: Faça você mesmo:\n",
    "\n",
    "Os resultados a seguir são todos **`False`**. Mude <b>somente</b> os números para que virem todos **`True`**."
   ]
  },
  {
   "cell_type": "code",
   "execution_count": null,
   "metadata": {},
   "outputs": [],
   "source": [
    "4 - 1 <= 2"
   ]
  },
  {
   "cell_type": "code",
   "execution_count": null,
   "metadata": {},
   "outputs": [],
   "source": [
    "3.5 / 3 == 1"
   ]
  },
  {
   "cell_type": "code",
   "execution_count": null,
   "metadata": {},
   "outputs": [],
   "source": [
    "x = 3\n",
    "2**x != 4 * 2"
   ]
  },
  {
   "cell_type": "code",
   "execution_count": null,
   "metadata": {},
   "outputs": [],
   "source": [
    "x = 4\n",
    "y = 2\n",
    "x / 2 != y"
   ]
  },
  {
   "cell_type": "code",
   "execution_count": null,
   "metadata": {},
   "outputs": [],
   "source": [
    "x % 2 == 1"
   ]
  },
  {
   "cell_type": "markdown",
   "metadata": {},
   "source": [
    "<span style=\"color: red;\"><b>Atenção:</b></span>  não confunda o operador de comparação de igualdade `==` com o operador de atribuição `=`.\n",
    "\n",
    "Execute as células abaixo e veja a diferença."
   ]
  },
  {
   "cell_type": "code",
   "execution_count": null,
   "metadata": {
    "collapsed": true
   },
   "outputs": [],
   "source": [
    "x + 3 == 4"
   ]
  },
  {
   "cell_type": "markdown",
   "metadata": {},
   "source": [
    "O código a seguir retorna uma mensagem de erro."
   ]
  },
  {
   "cell_type": "code",
   "execution_count": null,
   "metadata": {},
   "outputs": [],
   "source": [
    "x + 3 = 4"
   ]
  },
  {
   "cell_type": "markdown",
   "metadata": {},
   "source": [
    "O operador de atribuição sempre requer que haja uma variável (e apenas uma variável) à sua esquerda, o que não ocorre na linha de código acima, por isso a mensagem de erro. \n",
    "\n",
    "---"
   ]
  },
  {
   "cell_type": "markdown",
   "metadata": {},
   "source": [
    "Os operadores de comparação também podem ser usados para comparar outros tipos de dados, por exemplo dados do tipo texto. As cadeias de caracteres (ou _strings_) são comparadas usando a ordem lexicográfica, que é uma ordem análoga à ordem das palavras em um dicionário. Isso significa comparar os caracteres na mesma posição da esquerda para a direita até achar o primeiro caractere diferente. "
   ]
  },
  {
   "cell_type": "code",
   "execution_count": null,
   "metadata": {},
   "outputs": [],
   "source": [
    "\"Python\" > \"Java\""
   ]
  },
  {
   "cell_type": "markdown",
   "metadata": {},
   "source": [
    "Pois, na ordem lexicográfica (ordem do dicionário), \"Java\" vem antes de \"Python\".\n",
    "\n",
    "Para que duas cadeias de caracteres sejam consideradas lexicograficamente iguais, ambas devem ter o mesmo comprimento e caracteres em posições correspondentes devem ser iguais. "
   ]
  },
  {
   "cell_type": "code",
   "execution_count": null,
   "metadata": {},
   "outputs": [],
   "source": [
    "\"não\" == \"não\""
   ]
  },
  {
   "cell_type": "markdown",
   "metadata": {},
   "source": [
    "Quando uma cadeia é prefixo próprio de outra, a cadeia mais curta é lexicograficamente menor que a mais longa. Veja:"
   ]
  },
  {
   "cell_type": "code",
   "execution_count": null,
   "metadata": {},
   "outputs": [],
   "source": [
    "\"amor\" < \"amortecedor\""
   ]
  },
  {
   "cell_type": "markdown",
   "metadata": {},
   "source": [
    "Antes de executar cada célula abaixo, tente imaginar se a resposta será verdadeira ou falsa. Se o valor da expressão for contrário à sua expectativa, entenda o porquê.\n",
    "Para cada expressão falsa, mude **somente** o operador para que ela se torne **`True`**."
   ]
  },
  {
   "cell_type": "code",
   "execution_count": null,
   "metadata": {
    "collapsed": true
   },
   "outputs": [],
   "source": [
    "\"1\" != \"1\""
   ]
  },
  {
   "cell_type": "code",
   "execution_count": null,
   "metadata": {},
   "outputs": [],
   "source": [
    "\"1\" == 1                                    # comparação de texto e número"
   ]
  },
  {
   "cell_type": "code",
   "execution_count": null,
   "metadata": {
    "collapsed": true
   },
   "outputs": [],
   "source": [
    "\"01\" < \"1\"                                  # comparação de dois textos (que contêm caracteres numéricos)"
   ]
  },
  {
   "cell_type": "code",
   "execution_count": null,
   "metadata": {
    "collapsed": true
   },
   "outputs": [],
   "source": [
    "\"100\" < \"2\"                                 # idem. (Quem vem antes no dicionário? o \"1\" ou o \"2\"?)"
   ]
  },
  {
   "cell_type": "code",
   "execution_count": null,
   "metadata": {
    "collapsed": true
   },
   "outputs": [],
   "source": [
    "\"avião\" >= \"carro\""
   ]
  },
  {
   "cell_type": "code",
   "execution_count": null,
   "metadata": {
    "collapsed": true
   },
   "outputs": [],
   "source": [
    "\"livro\" > \"livraria\""
   ]
  },
  {
   "cell_type": "markdown",
   "metadata": {},
   "source": [
    "Comparar valores de tipos diferentes pode gerar resultados inesperados e até mensagens de erro. Veja abaixo."
   ]
  },
  {
   "cell_type": "code",
   "execution_count": null,
   "metadata": {},
   "outputs": [],
   "source": [
    "\"0\" < 1"
   ]
  },
  {
   "cell_type": "markdown",
   "metadata": {},
   "source": [
    "Você observou que a comparação de textos em Python é análoga à ordem das palavras num dicionário: se a \"hora\" vem antes de \"justo\" no dicionário então, em Python, a expressão `\"hora\" < \"justo\"` é avaliada como `True`. Por outro lado, se você não entender como o Python faz a comparação, você pode ter algumas surpresas.\n",
    "\n",
    "Veja o código abaixo:"
   ]
  },
  {
   "cell_type": "code",
   "execution_count": null,
   "metadata": {},
   "outputs": [],
   "source": [
    "\"hora\" < \"Justo\""
   ]
  },
  {
   "cell_type": "markdown",
   "metadata": {},
   "source": [
    "### Por que isso aconteceu?\n",
    "\n",
    "Por que, para decidir \"quem vem antes no dicionário\" o python compara o caractere 'h' com o caractere 'J', mas ele faz isso usando uma tabela de conversão caractére -> código. \n",
    "\n",
    "De acordo com essa tabela, o `'J'` maiúsculo vem antes do `'h'` minúsculo, ou seja, `'J'` possui um código menor que `'h'`. (Veja a coluna **`Dec`** da tabela para descobrir o código de um caractere.)\n",
    "\n",
    "Para simplificar a explicação, vamos exibir apenas um trecho dessa tabela de caractéres que é conhecido como tabela ASCII. Execute a célula abaixo para ver a tabela ASCII."
   ]
  },
  {
   "cell_type": "code",
   "execution_count": null,
   "metadata": {},
   "outputs": [],
   "source": [
    "# VOCÊ NÃO PRECISA ENTENDER ESTE CÓDIGO, BASTA EXECUTÁ-LO\n",
    "\n",
    "from IPython.display import Image, display\n",
    "import os\n",
    "\n",
    "if os.path.exists('ascii.jpg'):\n",
    "    display(Image(filename='ascii.jpg'))\n",
    "else:\n",
    "    tidia = 'http://tidia4.ufabc.edu.br/access/content/group/09a859b9-5ee0' + \\\n",
    "            '-4c80-8588-b85009411d91/Unidade%204/ascii.jpg'\n",
    "    url='http://www.asciicharstable.com/_site_media/ascii/ascii-chars-table-landscape.jpg'\n",
    "    display(Image(url=tidia))"
   ]
  },
  {
   "cell_type": "markdown",
   "metadata": {},
   "source": [
    "# Valores Booleanos: verdadeiro e falso\n",
    "\n",
    "Ao executar os exemplos da seção acima, você percebeu que o resultado de uma comparação é sempre **`True`** ou **`False`**. Estes são dois valores especiais em Python.\n",
    "\n",
    "Você pode guardá-los em uma variável, se precisar. Veja os exemplos:"
   ]
  },
  {
   "cell_type": "code",
   "execution_count": null,
   "metadata": {},
   "outputs": [],
   "source": [
    "teste0 = True\n",
    "print(teste0)"
   ]
  },
  {
   "cell_type": "code",
   "execution_count": null,
   "metadata": {
    "collapsed": true
   },
   "outputs": [],
   "source": [
    "teste1 = 3 < 8 / 3\n",
    "print(teste1)"
   ]
  },
  {
   "cell_type": "code",
   "execution_count": null,
   "metadata": {
    "collapsed": true
   },
   "outputs": [],
   "source": [
    "teste2 = True == False\n",
    "print(teste2)"
   ]
  },
  {
   "cell_type": "code",
   "execution_count": null,
   "metadata": {
    "collapsed": true
   },
   "outputs": [],
   "source": [
    "teste3 = 8 < 3\n",
    "print(teste3)"
   ]
  },
  {
   "cell_type": "markdown",
   "metadata": {},
   "source": [
    "# Condicionais\n",
    "\n",
    "Agora vamos ver como fazer o Python executar partes de um código somente no caso em que uma condição é verdadeira.\n",
    "\n",
    "Para isso, vamos usar o comando **`if`**, que significa \"se\" em inglês. \n",
    "\n",
    "Veja o exemplo abaixo, execute-o e depois leia a explicação."
   ]
  },
  {
   "cell_type": "code",
   "execution_count": null,
   "metadata": {
    "collapsed": true
   },
   "outputs": [],
   "source": [
    "A = 2\n",
    "B = 10\n",
    "\n",
    "if A > B: \n",
    "    print(\"A =\", A, \" é maior que B = \", B)\n",
    "    \n",
    "print(\"===============\")\n",
    "print(\"fim do programa\")"
   ]
  },
  {
   "cell_type": "markdown",
   "metadata": {},
   "source": [
    "Veja que a linha `print(...)` logo após o comando `if` não surtiu efeito, pois `A > B` é falso para os valores atribuídos a `A` e `B`."
   ]
  },
  {
   "cell_type": "markdown",
   "metadata": {},
   "source": [
    "### Exercício <span class=\"exec\"></span>: \n",
    "\n",
    "Mude o valor de `A` na célula de código acima para qualquer valor maior do que 10, re-execute a célula e veja o que acontece."
   ]
  },
  {
   "cell_type": "markdown",
   "metadata": {},
   "source": [
    "## Estrutura do comando **`if`**\n",
    "\n",
    "O comando **`if`** tem a seguinte estrutura.\n",
    "\n",
    "    if condição:\n",
    "        código  \n",
    "        código\n",
    "        código\n",
    "        etc...\n",
    "    continuação do programa\n",
    "    \n",
    "Todo código que você quiser executar quando a condição for verdadeira deve vir *indentado* (alinhado um pouco mais a frente do que o **`if`**) logo após o comando **`if`**.\n",
    "\n",
    "Você pode usar `TAB` ou `Space` (quatro espaços) para alinhar as linhas. Todas as instruções dentro do **`if`** devem ter a mesma indentação.\n",
    "\n",
    "A linha sem *indentação* (i.e. alinhada com o **`if`**) após esse bloco de comandos marca o fim do bloco do **`if`**.\n",
    "\n",
    "\n",
    "<span style=\"color: red;\"><b>Atenção:</b></span>  É uma prática comum em programação fazer indentação de código para que ele fique mais legível. Em muitas linguagens de programação (por exemplo Pascal, C, Java, JavaScript)  a indentação tem um propósito puramente estético pois outros elementos definem o início e o fim dum bloco de várias instruções (`begin ... end`, `{...}`). \n",
    "\n",
    "Em Python a indentação é **obrigatória** para definir as instruções que compoem um bloco. Se você não *indentar* o código corretamente, o programa terá um comportamento diferente daquele que você espera.\n",
    "\n",
    "Por exemplo, execute as células a seguir e veja as mensagens de erro por falta de indentação erro)."
   ]
  },
  {
   "cell_type": "code",
   "execution_count": null,
   "metadata": {
    "scrolled": true
   },
   "outputs": [],
   "source": [
    "A = 2\n",
    "B = 10\n",
    "if A > B:\n",
    "print(\"A =\", A, \" é maior que B = \", B)\n",
    "print(\"===============\")\n",
    "print(\"fim do programa\")"
   ]
  },
  {
   "cell_type": "code",
   "execution_count": null,
   "metadata": {},
   "outputs": [],
   "source": [
    "A = 2\n",
    "B = 10\n",
    "if A > B:\n",
    "    print(\"A =\", A, \" é maior que B = \", B)\n",
    "   print(\"===============\")\n",
    "print(\"fim do programa\")"
   ]
  },
  {
   "cell_type": "code",
   "execution_count": null,
   "metadata": {},
   "outputs": [],
   "source": [
    "A = 2\n",
    "B = 10\n",
    "if A > B:\n",
    "    print(\"A =\", A, \" é maior que B = \", B)\n",
    "print(\"===============\")\n",
    " print(\"fim do programa\")"
   ]
  },
  {
   "cell_type": "markdown",
   "metadata": {},
   "source": [
    "O código a seguir está indentado corretamente.\n",
    "\n",
    "Observe que ele sempre imprime `===============`, quaisquer que sejam os valores de $A$ e $B$, pois a chamada `print(\"===============\")` está *fora* do bloco do `if`."
   ]
  },
  {
   "cell_type": "code",
   "execution_count": null,
   "metadata": {
    "collapsed": true
   },
   "outputs": [],
   "source": [
    "A = int(input('Dê um valor para A: '))\n",
    "B = int(input('Dê um valor para B: '))\n",
    "\n",
    "if A > B:\n",
    "    print(\"A =\", A, \" é maior que B = \", B)\n",
    "    \n",
    "print(\"===============\")\n",
    "print(\"fim do programa\")"
   ]
  },
  {
   "cell_type": "markdown",
   "metadata": {},
   "source": [
    "### Exercício <span class=\"exec\"></span>: idade par\n",
    "\n",
    "Complete a lacuna no código a seguir de modo que, se o usuário tem idade par, uma mensagem é gerada na saída informando-o desse fato. No caso da idade ser ímpar você não precisa mostrar nada ao usuário.\n",
    "\n",
    "*Dica:* Lembre-se que o operador  `%`  é o operador de resto, ou seja `x % y` é o resto da divisão de `x` por `y`. Se `x % 2` vale zero, então `x` é par, pois não há resto na divisão de `x` por 2.\n",
    "\n",
    "<!-- **No Tidia, responda à *Questão 1* da seção *Unidade 5 - Tutorial*.** -->"
   ]
  },
  {
   "cell_type": "code",
   "execution_count": null,
   "metadata": {
    "collapsed": true
   },
   "outputs": [],
   "source": [
    "idade = int(input(\"Quantos anos você tem? \"))\n",
    "\n",
    "if __________ :\n",
    "    print(\"Sua idade é par.\")"
   ]
  },
  {
   "cell_type": "markdown",
   "metadata": {},
   "source": [
    "### Exercício <span class=\"exec\"></span>: menor de idade\n",
    "\n",
    "Complete o código a seguir de modo que ele tenha o seguinte comportamento:\n",
    "\n",
    "1. Pergunta ao usuário em que ano ele nasceu.\n",
    "\n",
    "2. Pergunta ao usuário em que ano estamos.\n",
    "\n",
    "3. Se o usuário for menor de idade (você pode assumir que ele já fez aniversário no ano atual), então o seu programa mostra uma mensagem falando isso. Caso contrário, ele não mostra nenhnuma mensagem.\n",
    "\n",
    "<!-- **No Tidia, responda à *Questão 2* da seção *Unidade 5 - Tutorial*.** -->\n"
   ]
  },
  {
   "cell_type": "code",
   "execution_count": null,
   "metadata": {
    "collapsed": true
   },
   "outputs": [],
   "source": [
    "nascimento = int(input(\"Em que ano você nasceu? \"))\n",
    "atual = int(input(\"Em que ano estamos? \"))\n",
    "\n",
    "if __________ :\n",
    "    print(\"Você é menor de idade\")"
   ]
  },
  {
   "cell_type": "markdown",
   "metadata": {},
   "source": [
    "# O comando **`if..else`**\n",
    "\n",
    "Agora que você já entendeu o funcionamento do **`if`**, vamos aprender como executar uma ação (ou várias ações) caso a condição do **`if`** seja falsa. \n",
    "\n",
    "Por exemplo, no exercício da idade par ou impar, se quiséssemos mostrar uma mensagem ao usuário também no caso ímpar, teríamos de fazer algo do tipo:"
   ]
  },
  {
   "cell_type": "code",
   "execution_count": null,
   "metadata": {
    "collapsed": true
   },
   "outputs": [],
   "source": [
    "idade=int(input(\"Quantos anos você tem? \"))\n",
    "\n",
    "if idade % 2 == 0:\n",
    "    print(\"Sua idade é par.\")\n",
    "if not idade % 2 == 0:                    # ou assim:    if idade % 2 == 1:\n",
    "    print(\"Sua idade é ímpar.\")"
   ]
  },
  {
   "cell_type": "markdown",
   "metadata": {},
   "source": [
    "Com o comando **`else`** (que significa \"senão\" em inglês), é possível economizar um pouco de código. Veja o exemplo abaixo."
   ]
  },
  {
   "cell_type": "code",
   "execution_count": null,
   "metadata": {
    "collapsed": true
   },
   "outputs": [],
   "source": [
    "idade=int(input(\"Quantos anos você tem? \"))\n",
    "\n",
    "if idade % 2 == 0:\n",
    "    print(\"Sua idade é par.\")\n",
    "else:\n",
    "    print(\"Sua idade é ímpar.\")"
   ]
  },
  {
   "cell_type": "markdown",
   "metadata": {},
   "source": [
    "Ou seja, o código no bloco do **`else`** só é executado se a condição do **`if`** for falsa. O segundo programa é mais eficiente que o primeiro pois somente uma condição será testada."
   ]
  },
  {
   "cell_type": "markdown",
   "metadata": {},
   "source": [
    "### Exercício <span class=\"exec\"></span>: menor ou maior de idade?\n",
    "\n",
    "Na célula abaixo, construa uma solução para o exercício anterior (_menor de idade_), usando os comandos **`if..else`**, de modo que ele mostre mensagens diferentes ao usuário tanto no caso dele ser menor de idade como no caso dele ser maior de idade."
   ]
  },
  {
   "cell_type": "code",
   "execution_count": null,
   "metadata": {
    "collapsed": true
   },
   "outputs": [],
   "source": [
    "nascimento = int(input(\"Em que ano você nasceu? \"))\n",
    "atual = int(input(\"Em que ano estamos? \"))\n",
    "\n",
    "# coloque seu código if...else aqui\n"
   ]
  },
  {
   "cell_type": "markdown",
   "metadata": {},
   "source": [
    "### Exercício <span class=\"exec\"></span>: aprovado ou reprovado?\n",
    "\n",
    "Profa. Alice ministra a disciplina de Fenômenos Quânticos na UFABC. Ela dará duas provas ($P1$ e $P2$), e o critério de aprovação é ter média maior ou igual a $5.0$. Faça um programa em Python que ajude a Profa. Alice a decidir se um aluno foi aprovado ou não. Seu programa deve executar os seguintes passos:\n",
    "* Perguntar a nota da $P1$.\n",
    "* Perguntar a nota da $P2$.\n",
    "* Calcular a média das provas.\n",
    "* Se a média das provas for maior ou igual a $5.0$, mostrar a mensagem \"Aprovado\" senão, mostrar \"Reprovado\".\n",
    "\n",
    "<!-- **No Tidia, responda à *Questão 3* da seção *Unidade 5 - Tutorial*.** -->"
   ]
  },
  {
   "cell_type": "code",
   "execution_count": null,
   "metadata": {
    "collapsed": true
   },
   "outputs": [],
   "source": []
  },
  {
   "cell_type": "markdown",
   "metadata": {},
   "source": [
    "### Exercício <span class=\"exec\"></span>: cerca do fazendeiro\n",
    "\n",
    "Um fazendeiro tem $M$ metros de cerca. Ele quer cercar um terreno retangular de comprimento $C$ e largura $L$. Faça um programa que ajude o fazendeiro a saber se a cerca que ele tem é suficiente ou não. Seu programa deve executar os seguintes passos:\n",
    "* Pergunte a quantidade $M$ (em metros) de cerca disponível.\n",
    "* Pergunte o comprimento $C$ do terreno.\n",
    "* Pergunte a largura $L$ do terreno.\n",
    "* Calcule a quantidade exata (em metros) de cerca que serão necessários para cercar o perímetro do terreno. (O perímetro é a soma dos comprimentos dos 4 lados do terreno). \n",
    "* Baseando-se nesse cálculo, diga ao fazendeiro se a quantidade de cerca que ele tem é ou não é suficiente. \n",
    "\n",
    "<!-- ## No Tidia, responda à *Questão 4* da seção *Unidade 5 - Tutorial*. -->"
   ]
  },
  {
   "cell_type": "code",
   "execution_count": null,
   "metadata": {
    "collapsed": true
   },
   "outputs": [],
   "source": []
  },
  {
   "cell_type": "markdown",
   "metadata": {},
   "source": [
    "# Condicionais aninhadas\n",
    "\n",
    "As condicionais podem estar aninhadas, i.e. uma condicional pode estar dentro de um bloco `if` ou `else`.\n",
    "\n",
    "Vamos considerar o exemplo de um laboratório de exames médicos que possui um sistema online de auto-agendamento, onde o próprio paciente escolhe os exames que vai fazer. \n",
    "\n",
    "Um paciente que está usando esse sistema quer realizar um exame de Ressonância de Crânio com contraste. Esse exame é contra-indicado para pacientes grávidas que estejam no primeiro trimestre da gestação. \n",
    "\n",
    "O sistema de auto-agendamento precisa descobrir se o paciente pode ou não realizar o exame, o que pode ser feito da seguinte maneira:"
   ]
  },
  {
   "cell_type": "code",
   "execution_count": null,
   "metadata": {},
   "outputs": [],
   "source": [
    "permitido = True\n",
    "\n",
    "print('Qual o seu sexo?')\n",
    "sexo = input('Responda F ou M: ')\n",
    "if sexo == 'F':\n",
    "    print('Você está grávida?')\n",
    "    gravida = input('Responda S ou N: ')\n",
    "    if gravida == 'S':\n",
    "        meses = int(input('Quantos meses de gestação você já completou? '))\n",
    "        if meses < 3:\n",
    "            permitido = False\n",
    "            \n",
    "if permitido:\n",
    "    print('Você pode fazer o exame.')\n",
    "else:\n",
    "    print('Você não pode realizar o exame.')"
   ]
  },
  {
   "cell_type": "markdown",
   "metadata": {},
   "source": [
    "Este último exemplo é muito rico. \n",
    "\n",
    "Em primeiro lugar, ele ilustra como é possível \"aninhar\" vários comandos `if`, um dentro do outro. Note que, a indentação de código se soma, para indicar os níveis de \"subordinação\" das linhas de código.\n",
    "\n",
    "Em segundo lugar, veja que ele usa uma variável Boleana (i.e. `True` ou `False`) para, no final, decidir se permite ou não a realização do exame. A outra opção -- sem usar essa variável -- seria usar um comando `else` para cada `if`, com várias linhas `print('Você pode fazer o exame.')`, uma para cada `else`. Essa segunda opção causa repetição de código, o que não é uma boa prática de programação.\n",
    "\n",
    "Ainda sobre essa variável Boleana chamada `permitido`, note que a linha `if permitido:` poderia também ser escrita como `if permitido == True:`. A opção utilizada no exemplo é a preferida.\n",
    "\n",
    "Note também que as condições dos dois primeiros comandos `if` são comparações de texto. Se o usuário responder `f` em vez de `F`, o programa trata-o como se fosse do sexo masculino. Existem vários modos de lidar com esse \"problema\". Não vamos nos preocupar com isso agora."
   ]
  },
  {
   "cell_type": "markdown",
   "metadata": {},
   "source": [
    "### Exercício <span class=\"exec\"></span>:  peso ideal\n",
    "\n",
    "Faça um programa que pergunta ao usuário pela altura de uma pessoa (em metros) e pelo seu sexo (caracteres `\"F\"` ou `\"M\"`). Depois seu programa deve calcular o peso ideal para essa pessoa utilizando as seguintes fórmulas:\n",
    "\n",
    "* homens: `72.7 * altura - 58`\n",
    "* mulheres: `62.1 * altura - 44.7`\n",
    "\n",
    "Depois de clcular o valor do peso ideal, seu programa deve imprimir uma mensagem, mostrando ao usuário qual seu peso ideal.\n",
    "\n",
    "**Dica:** use somente uma variável para guardar o peso ideal. Define o valor dessa variável de maneira diferente, dependendo da resposta que o usuário der para a pergunta do sexo."
   ]
  },
  {
   "cell_type": "code",
   "execution_count": null,
   "metadata": {},
   "outputs": [],
   "source": []
  },
  {
   "cell_type": "markdown",
   "metadata": {},
   "source": [
    "### Exercício <span class=\"exec\"></span>:  acima do peso?\n",
    "\n",
    "Copie e cole a solução do exercício anterior para a célula abaixo.\n",
    "\n",
    "Modifique seu programa para que, além de calcular e mostrar o peso ideal, ele pergunte ao usuário o peso real da pessoa e imprima uma mensagem de alerta ao usuário caso a pessoa esteja acima do peso ideal. Você precisará usar o comando **`if`** mais uma vez, mas evite usar operadores lógicos (que serão introduzidos na pŕoxima seção)."
   ]
  },
  {
   "cell_type": "code",
   "execution_count": null,
   "metadata": {
    "collapsed": true
   },
   "outputs": [],
   "source": []
  },
  {
   "cell_type": "markdown",
   "metadata": {},
   "source": [
    "# Combinando condições\n",
    "\n",
    "Podemos criar condições complexas a partir de combinações de condições mais simples. Vejamos um exemplo.\n",
    "\n",
    "Em algumas disciplinas da UFABC, não basta que a média das duas provas ($P1$ e $P2$) de um aluno seja maior ou igual a $5.0$, mas ele também deve tirar uma nota mínima $3.0$ na $P2$. \n",
    "\n",
    "Ou seja, para que seja aprovado o aluno precisa de \n",
    "\n",
    "$$\\frac{P1 + P2}{2} \\geq 5 \\quad\\quad\\text{ E }\\quad\\quad P2 \\geq 3.$$\n",
    "\n",
    "Em Python, podemos usar **`and`** para exigir que duas condições sejam verdadeiras ao mesmo tempo.\n",
    "\n",
    "Veja o exemplo:"
   ]
  },
  {
   "cell_type": "code",
   "execution_count": null,
   "metadata": {
    "collapsed": true
   },
   "outputs": [],
   "source": [
    "# convertendo para float, pois a nota pode ser um número quebrado:\n",
    "P1 = float(input(\"Qual a nota da P1? \")) \n",
    "P2 = float(input(\"Qual a nota da P2? \"))\n",
    "\n",
    "if (P1 + P2) / 2 >= 5.0 and P2 >= 3.0:\n",
    "    print(\"Estudante aprovado\")\n",
    "else:\n",
    "    print(\"Estudante reprovado\")"
   ]
  },
  {
   "cell_type": "markdown",
   "metadata": {},
   "source": [
    "O operador **`and`** funciona assim: a condição composta `(condição1 and condição2)` é avaliada como **`True`** (verdadeira) só quando a `condição1` é **`True`** e, simultaneamente, a `condição2` também é **`True`**. "
   ]
  },
  {
   "cell_type": "markdown",
   "metadata": {},
   "source": [
    "---\n",
    "No código abaixo, tente alterar o valor das variáveis `chuva` e `sol` para ver como isso afeta o programa."
   ]
  },
  {
   "cell_type": "code",
   "execution_count": null,
   "metadata": {
    "collapsed": true
   },
   "outputs": [],
   "source": [
    "chuva = True\n",
    "sol = False\n",
    "arcoiris = chuva and sol\n",
    "print(arcoiris)"
   ]
  },
  {
   "cell_type": "markdown",
   "metadata": {},
   "source": [
    "### Exercício <span class=\"exec\"></span>:  aposentadoria de professores\n",
    "\n",
    "Um professor universitário federal pode se aposentar desde que tenha pelo menos 35 anos de serviço e pelo menos 60 anos de idade. Faça um programa para ajudar o professor a descobrir se ele já pode se aposentar este ano. \n",
    "\n",
    "Seu programa deve fazer o seguinte:\n",
    "* Pergunte ao professor pelo ano em que nasceu.\n",
    "* Pergunte pelo ano em que começou a trabalhar.\n",
    "* Pergunte ao professor pelo ano em que estamos.\n",
    "* Baseando-se nas respostas que ele deu ao seu programa, diga se ele pode se aposentar este ano.\n",
    "\n",
    "<!-- ## No Tidia, responda à *Questão 5* da seção *Unidade 5 - Tutorial*. -->"
   ]
  },
  {
   "cell_type": "code",
   "execution_count": null,
   "metadata": {
    "collapsed": true
   },
   "outputs": [],
   "source": []
  },
  {
   "cell_type": "markdown",
   "metadata": {},
   "source": [
    "#### Curiosidade (não cai na prova)\n",
    "\n",
    "Para saber o ano em que estamos sem perguntar ao usuário, você pode usar o pacote `datetime` do Python como no exemplo a seguir."
   ]
  },
  {
   "cell_type": "code",
   "execution_count": null,
   "metadata": {},
   "outputs": [],
   "source": [
    "import datetime\n",
    "\n",
    "ano = datetime.datetime.now().year\n",
    "print(ano)"
   ]
  },
  {
   "cell_type": "markdown",
   "metadata": {},
   "source": [
    "## Outros operadores lógicos"
   ]
  },
  {
   "cell_type": "markdown",
   "metadata": {},
   "source": [
    "Python tem mais dois operadores lógicos: **`not`** (negação) e **`or`** (disjunção). \n",
    "\n",
    "O operador **`not`** pode ser usado para inverter o resultado de uma condição. Veja:"
   ]
  },
  {
   "cell_type": "code",
   "execution_count": null,
   "metadata": {
    "collapsed": true
   },
   "outputs": [],
   "source": [
    "not True"
   ]
  },
  {
   "cell_type": "code",
   "execution_count": null,
   "metadata": {
    "collapsed": true
   },
   "outputs": [],
   "source": [
    "not 2 > 5"
   ]
  },
  {
   "cell_type": "markdown",
   "metadata": {},
   "source": [
    "Quanto ao operador `or`, podemos dizer o seguinte. Uma condição da forma `(condição1 or condição2)` será verdadeira se pelo menos uma das duas condições envolvidas for verdadeira. \n",
    "\n",
    "Diferentemente do que estamos acostumados em português, o operador **`or`** não é um ou-exclusivo. Ou seja, em lógica de programação (ou lógica matemática), se as duas condições `condição1` e `condição2` forem ambas verdadeiras, então o resultado de `(condição1 or condição2)` será verdadeiro. "
   ]
  },
  {
   "cell_type": "markdown",
   "metadata": {},
   "source": [
    "---\n",
    "\n",
    "No código abaixo, tente alterar o valor das variáveis `chuva` e `frio` para ver como isso afeta o programa.\n"
   ]
  },
  {
   "cell_type": "code",
   "execution_count": null,
   "metadata": {
    "collapsed": true
   },
   "outputs": [],
   "source": [
    "frio = True\n",
    "chuva = True\n",
    "tempoRuim = frio or chuva\n",
    "print(tempoRuim)"
   ]
  },
  {
   "cell_type": "markdown",
   "metadata": {},
   "source": [
    "Veja mais exemplos:\n",
    "o resultado da condição composta abaixo é **`True`** porque, apesar da primeira condição ser falsa, a segunda é verdadeira."
   ]
  },
  {
   "cell_type": "code",
   "execution_count": null,
   "metadata": {
    "collapsed": true
   },
   "outputs": [],
   "source": [
    "2 > 5 or 1 < 2 "
   ]
  },
  {
   "cell_type": "markdown",
   "metadata": {},
   "source": [
    "No próximo exemplo, as duas condições são verdadeiras."
   ]
  },
  {
   "cell_type": "code",
   "execution_count": null,
   "metadata": {
    "collapsed": true
   },
   "outputs": [],
   "source": [
    "4 == 2 + 2 or 2 > 0"
   ]
  },
  {
   "cell_type": "markdown",
   "metadata": {},
   "source": [
    "### Exercício <span class=\"exec\"></span>: vogais\n",
    "\n",
    "Escreva um programa que dada uma letra determine se é ou não uma vogal.\n",
    "\n",
    "**Dica:** os operadores lógicos `or` e `and` servem para combinar condições! Portanto, se seu programa der errado, veja se você usou os operadores lógicos do modo correto, ou se você colocou só uma \"letra\" em um dos lados do operador."
   ]
  },
  {
   "cell_type": "code",
   "execution_count": null,
   "metadata": {
    "collapsed": true
   },
   "outputs": [],
   "source": []
  },
  {
   "cell_type": "markdown",
   "metadata": {},
   "source": [
    "# Mais sobre a avaliação de condições\n",
    "\n",
    "Você pode combinar mais de duas condições lógicas, por exemplo:\n",
    "\n",
    "    condição1 and not condição2 or condição3\n",
    "    \n",
    "A tabela abaixo mostra os operadores lógicos e sua avalição em ordem ascendente de precedência.\n",
    "\n",
    "\n",
    "|  operador  | resultado                           |\n",
    "|:----------:|-------------------------------------|  \n",
    "|   x or  y  | se x é False então y senão x        |\n",
    "|   x and y  | se x é False então x senão y        |\n",
    "|   not x    | se x é False então True senão False |\n",
    "\n",
    "Ou seja, `not` é avaliado antes de `and`, que por sua vez, é avaliado antes de `or` num programa em Python."
   ]
  },
  {
   "cell_type": "markdown",
   "metadata": {},
   "source": [
    "Diferentemente de outras linguagens, em Python, as comparações também podem ser encadeadas arbitrariamente. Desta forma, podemos escrever `x < y <= z` que é equivalente a `x < y and y <= z`. Isso não pode ser feito em C/C++ e nem em Java.\n",
    "\n",
    "Mude as constantes ou os operadores abaixo para o resultado ser `False`."
   ]
  },
  {
   "cell_type": "code",
   "execution_count": null,
   "metadata": {
    "collapsed": true
   },
   "outputs": [],
   "source": [
    "2 <= 3 < 9"
   ]
  },
  {
   "cell_type": "code",
   "execution_count": null,
   "metadata": {},
   "outputs": [],
   "source": [
    "\"agua\" < \"arroz\" < \"azeite\""
   ]
  },
  {
   "cell_type": "markdown",
   "metadata": {},
   "source": [
    "Assim como em muitas outras linguagens, em Python, qualquer valor diferente 0 é considerado como verdadeiro enquanto 0 é considerado falso. Por isso, o valor da condição **`not 2`** é **`False`** enquanto  **`not 0`** é **`True`**. Veja:"
   ]
  },
  {
   "cell_type": "code",
   "execution_count": null,
   "metadata": {},
   "outputs": [],
   "source": [
    "not 2"
   ]
  },
  {
   "cell_type": "code",
   "execution_count": null,
   "metadata": {
    "scrolled": true
   },
   "outputs": [],
   "source": [
    "not 0"
   ]
  },
  {
   "cell_type": "markdown",
   "metadata": {},
   "source": [
    "É importante saber que o operador **`not`** tem uma prioridade menor do que os operadores não lógicos. Portanto, **`not`** a == b é avaliado como **`not`** (a == b). Por outro lado, a == **`not`** b é um erro de sintaxe. Veja:"
   ]
  },
  {
   "cell_type": "code",
   "execution_count": null,
   "metadata": {},
   "outputs": [],
   "source": [
    "3 > not 2"
   ]
  },
  {
   "cell_type": "code",
   "execution_count": null,
   "metadata": {
    "collapsed": true
   },
   "outputs": [],
   "source": [
    "not 3 <= 0"
   ]
  },
  {
   "cell_type": "markdown",
   "metadata": {},
   "source": [
    "É necessário ter cuidado ao escrever condições muito longas ou complexas pois podemos obter resultados inesperados. \n",
    "\n",
    "Sempre que precisar, use parênteses ou variáveis auxiliares para garantir o resultado correto.\n",
    "\n",
    "Veja abaixo alguns exemplos."
   ]
  },
  {
   "cell_type": "code",
   "execution_count": null,
   "metadata": {
    "collapsed": true
   },
   "outputs": [],
   "source": [
    "x = 2\n",
    "y = 5\n",
    "(not x > y) == (x <= y)"
   ]
  },
  {
   "cell_type": "code",
   "execution_count": null,
   "metadata": {
    "collapsed": true
   },
   "outputs": [],
   "source": [
    "(not x > y) == x <= y    # equivalente a: ( ( not (2 > 5) ) == 2 ) and ( 2 <= 5 )"
   ]
  },
  {
   "cell_type": "code",
   "execution_count": null,
   "metadata": {
    "collapsed": true
   },
   "outputs": [],
   "source": [
    "not x > y == x <= y      # equivalente a: not ( ( 2 > 5 ) and ( 5 == 2 ) and ( 2 <= 5 ) )"
   ]
  },
  {
   "cell_type": "code",
   "execution_count": null,
   "metadata": {
    "collapsed": true
   },
   "outputs": [],
   "source": [
    "(not x) > y == (x <= y)  # equivalente a: ( not ( 2 ) > 5 ) and ( 5 == 2 ) and ( 2 <= 5 )"
   ]
  },
  {
   "cell_type": "markdown",
   "metadata": {},
   "source": [
    "### Resumindo...\n",
    "\n",
    "Tome cuidado com condições muito complexas!\n",
    "\n",
    "Use parênteses quando tiver dúvida sobre como a sua condição seria avaliada sem os parênteses."
   ]
  },
  {
   "cell_type": "markdown",
   "metadata": {},
   "source": [
    "# Condicionais encadeadas\n",
    "\n",
    "\n",
    "É bastante comum lidarmos com situações em que o comportamento desejado do programa não depende de apenas uma condição, mas de várias. Vamos ver um exemplo. \n",
    "\n",
    "Suponha que temos que criar um programa para classificar o nível do *low-density lipoprotein* (LDL), conhecido em português com o nome de colesterol \"ruim\". Segundo um [estudo do *NIH*](http://www.nhlbi.nih.gov/files/docs/guidelines/atp3xsum.pdf) citado pelo [*CDC*](http://www.cdc.gov/dhdsp/data_statistics/fact_sheets/fs_cholesterol.htm) Norte Americano, os níveis de LDL podem ser classificados segundo a tabela abaixo.\n",
    "\n",
    "|    Nível de LDL | Classificação |\n",
    "|----------------:|---------------|\n",
    "|   menor que 100 | Ótimo         |\n",
    "| entre 100 e 129 | Baixo         |\n",
    "| entre 130 e 159 | Limítrofe     |\n",
    "| entre 160 e 189 | Alto          |\n",
    "|   maior que 190 | Muito alto    |\n",
    "\n",
    "Se tivéssemos que fazer um programa que perguntasse pelo nível de LDL e que mostrasse a classificação correspondente, poderíamos usar os conhecimentos de **`if..else`** que adquirimos até agora e construir o seguinte programa."
   ]
  },
  {
   "cell_type": "code",
   "execution_count": null,
   "metadata": {
    "collapsed": true
   },
   "outputs": [],
   "source": [
    "LDL = float(input(\"Qual o nível de LDL? \"))      #convertendo para float\n",
    "print(end=\"Seu nível está: \")\n",
    "if LDL < 100:\n",
    "    print(\"Ótimo\")\n",
    "if 100 <= LDL < 130:\n",
    "    print(\"Baixo\")\n",
    "if 130 <= LDL < 160:\n",
    "    print(\"Limítrofe\")\n",
    "if 160 <= LDL < 190:\n",
    "    print(\"Alto\")\n",
    "if 190 <= LDL:\n",
    "    print(\"Muito alto\")\n",
    "print(\"fim do programa\")"
   ]
  },
  {
   "cell_type": "markdown",
   "metadata": {},
   "source": [
    "O programa acima está correto. A maioria das linguagens de programação possuem um comando com sabor de \"senão, se\". O nome desse comando, em Python, é **`elif`** (abreviação de \"else if\"). \n",
    "\n",
    "Você pode usar diversos comandos **`elif`**, mas eles devem sempre vir atrelados a um comando **`if`**. \n",
    "\n",
    "Veja como é mais simples classificar os níveis de LDL com o comando **`elif`**. \n",
    "\n",
    "Ao lado você pode ver o significado de cada linha e, depois do programa, uma explicação mais detalhada."
   ]
  },
  {
   "cell_type": "code",
   "execution_count": null,
   "metadata": {
    "collapsed": true
   },
   "outputs": [],
   "source": [
    "LDL = float(input(\"Qual o nível de LDL? \"))         # pergunta pelo nível de LDL\n",
    "print(end=\"Seu nível está: \")\n",
    "if LDL < 100:                                       # se nível < 100:\n",
    "    print(\"Ótimo\")                                  #     mostra \"Ótimo\"\n",
    "elif LDL < 130:                                     # senão, se nível < 130: \n",
    "    print(\"Baixo\")                                  #     mostra \"Baixo\"\n",
    "elif LDL < 160:                                     # senão, se nível < 160:\n",
    "    print(\"Limítrofe\")                              #     mostra \"Limítrofe\"\n",
    "elif LDL < 190:                                     # senão, se nível < 190:\n",
    "    print(\"Alto\")                                   #     mostra \"Alto\"\n",
    "else:                                               # senão:  \n",
    "    print(\"Muito alto\")                             #     mostra \"Muito alto\"\n",
    "print(\"fim do programa\")"
   ]
  },
  {
   "cell_type": "markdown",
   "metadata": {},
   "source": [
    "No programa acima, o trecho `print(\"Alto\")` só será executado se:\n",
    "* a condição do **`if`** for falsa (isto é, se LDL >= 100) e\n",
    "* a condição do primeiro **`elif`** for falsa (isto é, se LDL >= 130) e\n",
    "* a condição do segundo **`elif`** for falsa (isto é, se LDL >= 160) e\n",
    "* a condição do terceiro **`elif`** for verdadeira (isto é, se LDL < 190).\n",
    "\n",
    "**Observação importante:** um trecho de código dentro de um bloco **`elif`** só será executado se a condição daquele **`elif`** for verdadeira, mas todas as condições dos **`elif`** que o precedem, incluindo a condição do **`if`**, forem todas falsas. Além disso, nenhuma das condições seguintes será testada e nenhum outro bloco será executado.\n",
    "\n",
    "Por fim, fique sabendo que usar um comando **`elif`** dentro de um **`if`** não proíbe você de usar um **`else`** também, desde que o **`else`** venha por último. \n",
    "\n",
    "O trecho de código dentro do **`else`** só será executado se <u>**todas**</u> as condições que o precederam forem falsas."
   ]
  },
  {
   "cell_type": "markdown",
   "metadata": {},
   "source": [
    "### Exercício <span class=\"exec\"></span>: índice de massa corporal\n",
    "\n",
    "Se uma pessoa tem peso $P$ em quilogramas e altura $A$ em metros, o índice de massa corporal (*IMC*) dessa pessoa é\n",
    "$$IMC = \\frac{P}{A^2}.$$\n",
    "\n",
    "Faça um programa que pede para o usuário digitar a sua altura e depois o seu peso. Calcule e mostre\n",
    "o IMC do usuário e diga em que categoria ele está. Use a tabela abaixo. Valide o peso e altura digitados pelo usuário.\n",
    "\n",
    "| Faixa                | Categoria      |\n",
    "|---------------------:|----------------|\n",
    "|           IMC < 18.5 | Abaixo do peso |\n",
    "| 18.5 &le; IMC < 25.0 | Normal         |\n",
    "| 25.0 &le; IMC < 30.0 | Sobrepeso      |\n",
    "|          30 &le; IMC | Obeso          |\n",
    "\n",
    "<!-- No Tidia, responda à *Questão 6* da seção *Unidade 5 - Tutorial*. -->"
   ]
  },
  {
   "cell_type": "code",
   "execution_count": null,
   "metadata": {
    "collapsed": true
   },
   "outputs": [],
   "source": []
  },
  {
   "cell_type": "markdown",
   "metadata": {},
   "source": [
    "# Estilo de codificação\n",
    "\n",
    "Agora que você está prestes a escrever código Python mais longo e complexo, é um bom momento para falar sobre o estilo de codificação. Fazer com que seja fácil para outros ler seus programas é sempre bom e para isso é importante usar um estilo de codificação agradável. Algumas regras simples são as seguintes:\n",
    "\n",
    "* Use 4 espaços para a indentação dos blocos pois permite uma maior profundidade no aninhamento e é mais fácil para ler. Preferencialmente, você deve usar sempre a tecla `TAB` para fazer indentação.\n",
    "\n",
    "* Evite linhas que excedam 79 caracteres.\n",
    "\n",
    "* Use linhas em branco para separar funções e blocos de código dentro de funções.\n",
    "\n",
    "* Sempre que possível, coloque comentários \n",
    "\n",
    "* Use espaços em torno de operadores e após vírgulas, e.g. a = f(1, 2) + g(3, 4).\n",
    "\n",
    "* Utilize apenas caracteres ASCII (ou seja, evite letras acentuadas e cedilha) para nomes de variáveis e funções."
   ]
  },
  {
   "cell_type": "markdown",
   "metadata": {},
   "source": [
    "# Mais exercícios\n"
   ]
  },
  {
   "cell_type": "markdown",
   "metadata": {},
   "source": [
    "### Exercício <span class=\"exec\"></span>: múltiplos\n",
    "\n",
    "Dizemos que dois números inteiros $a$ e $b$ são múltiplos se $a$ é divisível por $b$ ou vice versa.\n",
    "\n",
    "Faça um programa que\n",
    "* Pede para o usuário digitar um número inteiro $a$\n",
    "* Pede para o usuário digitar um número inteiro $b$\n",
    "* Calcula se $a$ e $b$ são múltiplos ou não\n",
    "* Mostra uma mensagem dizendo se $a$ e $b$ são múltiplos ou não\n",
    "\n",
    "Exemplos:\n",
    "* 4 e 2 são múltiplos, pois 4 é divisível por 2\n",
    "* 2 e 4 são múltiplos, pois 4 é divisível por 2\n",
    "* 2 e 3 não são múltiplos\n",
    "\n",
    "**Dica:** use o operador de resto `%`."
   ]
  },
  {
   "cell_type": "code",
   "execution_count": null,
   "metadata": {
    "collapsed": true
   },
   "outputs": [],
   "source": []
  },
  {
   "cell_type": "markdown",
   "metadata": {},
   "source": [
    "### Exercício <span class=\"exec\"></span>: de carro ou de ônibus\n",
    "\n",
    "Alice tem um carro que faz 10 km para cada litro de gasolina.\n",
    "\n",
    "Ela quer ir para a UFABC e ela quer decidir se vai de carro ou de ônibus. \n",
    "\n",
    "Como ela quer economizar dinheiro, ela quer saber qual é a opção mais barata.\n",
    "\n",
    "O ônibus custa R$ 3.80, mas o preço da gasolina varia bastante.\n",
    "\n",
    "Faça um programa que:\n",
    "* Pede para Alice digitar o preço da gasolina por litro (ela vai digitar um número float).\n",
    "* Pede para Alice digitar a distância de sua casa para à UFABC .\n",
    "* Calcula o gasto para ir de carro.\n",
    "* Mostra na tela qual é a opção mais barata e o quanto ela economizaria com essa opção. Se der empate, ela vai de carro.\n",
    "\n",
    "Exemplos:\n",
    "* Se o preço da gasolina é 3.50 reais e a casa de Alice fica a 10 km da universidade, então ela gastaria 3.50 reais para ir para a universidade de carro. Portanto, ela economiza 0.30 indo de carro.\n",
    "* Se o preço da gasolina é 4.00 reais e a casa de Alice fica a 9.5 km da universidade, então ela gastaria 3.80 reais para ir para a universidade de carro. Portanto, dá empate e ela vai de carro.\n",
    "* Se o preço da gasolina é 3.50 reais e a casa de Alice fica a 20 km da universidade, então ela gastaria 7.00 reais para ir para a universidade de carro. Portanto, ela economiza 3.20 indo de ônibus."
   ]
  },
  {
   "cell_type": "code",
   "execution_count": null,
   "metadata": {
    "collapsed": true
   },
   "outputs": [],
   "source": []
  },
  {
   "cell_type": "markdown",
   "metadata": {},
   "source": [
    "### Exercício <span class=\"exec\"></span>: tempo do percurso\n",
    "\n",
    "Alice costuma visitar dois locais: a academia e a biblioteca. Ela tem a opção de ir a pé ou de carro.\n",
    "Aqui está um tabela com o tempo que ela demora para chegar em cada um dos locais (em minutos):\n",
    "\n",
    "        |          | Academia | Biblioteca |\n",
    "        |----------|----------|------------|\n",
    "        | A pé     | 10       | 30         |\n",
    "        | De carro | 6        | 15         |\n",
    "\n",
    "Faça um programa que:\n",
    "\n",
    "* Pede para Alice digitar 0 se ela quer ir para a academia e 1 se ela quer ir para a biblioteca.\n",
    "* Pede para Alice digitar 0 se ela quer ir a pé e 1 se ela quer ir de carro.\n",
    "* Mostra na tela, quanto tempo Alice demorará para chegar ao destino dela."
   ]
  },
  {
   "cell_type": "code",
   "execution_count": null,
   "metadata": {
    "collapsed": true
   },
   "outputs": [],
   "source": []
  },
  {
   "cell_type": "markdown",
   "metadata": {},
   "source": [
    "### Exercício <span class=\"exec\"></span>: aumento salarial\n",
    "\n",
    "Escreva um programa para calcular o aumento salarial de um funcionário usando a seguinte regra:\n",
    "\n",
    "* se 1.500,00 <= salarioAtual < 1.750,00: aumento igual a 12%\n",
    "* se 1.750,00 <= salarioAtual < 2.000,00: aumento igual a 10%\n",
    "* se 2.000,00 <= salarioAtual < 3.000,00: aumento igual a 7%\n",
    "* acima de 3.000,00: aumento igual a 5%. \n",
    "\n",
    "Seu programa deve perguntar pelo salário do funcionário e imprimir (mostrar na tela) o valor final do salário após o aumento, segundo as regras acima."
   ]
  },
  {
   "cell_type": "code",
   "execution_count": null,
   "metadata": {
    "collapsed": true
   },
   "outputs": [],
   "source": []
  },
  {
   "cell_type": "markdown",
   "metadata": {},
   "source": [
    "### Exercício <span class=\"exec\"></span>: construindo estradas\n",
    "\n",
    "Alice quer construir uma estrada no sentido norte-sul.\n",
    "\n",
    "Bob já construiu uma estrada sentido leste-oeste que vai do ponto (0,0) ao ponto (100,0).\n",
    "\n",
    "* Pergunte à Alice a coordenada x do ponto mais ao sul de sua estrada\n",
    "* Pergunte à Alice a coordenada y do ponto mais ao sul de sua estrada\n",
    "* Pergunta à Alice a comprimento c de sua estrada\n",
    "* Calcule se as estradas de Bob e Alice se cruzam ou não\n",
    "* Mostre a resposta ao usuário\n",
    "\n",
    "*Dica:* Calcule o ponto mais ao norte da estrada de Alice usando o comprimento c e (x,y). Faça um desenho em papel para ver quais são os casos! "
   ]
  },
  {
   "cell_type": "code",
   "execution_count": null,
   "metadata": {
    "collapsed": true
   },
   "outputs": [],
   "source": []
  },
  {
   "cell_type": "markdown",
   "metadata": {},
   "source": [
    "### Exercício <span class=\"exec\"></span>: ordenar três números\n",
    "\n",
    "Escreva um programa que, dados três números, imprima-os em ordem não decrecescente. Por exemplo, para a entrada 2, 5, 2 a saída deve ser 2, 2, 5. Para a entrada 15, 6, 8 a saída deve ser 6, 8, 15."
   ]
  },
  {
   "cell_type": "code",
   "execution_count": null,
   "metadata": {
    "collapsed": true
   },
   "outputs": [],
   "source": []
  },
  {
   "cell_type": "markdown",
   "metadata": {},
   "source": [
    "### Exercício <span class=\"exec\"></span>: resolvendo equações do 2º grau\n",
    "\n",
    "Faça um programa que implemente a Fórmula de Bháskara (se você esqueceu, use o Google!) para resolver uma equação do segundo grau com coeficientes inteiros da forma\n",
    "\n",
    "$$ a x^2 + b x + c = 0.$$\n",
    "\n",
    "* Pergunte o valor de um inteiro a \n",
    "* Pergunte o valor de um inteiro b\n",
    "* Pergunte o valor de um inteiro c\n",
    "* Calcula quantas soluções a equação tem (pode ser 0, 1 ou 2) e calcula as soluções.\n",
    "* Mostra ao usuário quantas soluções existem e quais são elas caso existam."
   ]
  },
  {
   "cell_type": "code",
   "execution_count": null,
   "metadata": {
    "collapsed": true
   },
   "outputs": [],
   "source": []
  },
  {
   "cell_type": "markdown",
   "metadata": {},
   "source": [
    "### Exercício <span class=\"exec\"></span>: comparar quatro números\n",
    "\n",
    "Escreva um programa que pergunta ao usuário por quatros números reais e que determina qual é o menor deles. Tente usar o menor número de condicionais possível. Não use a função `min()` do Python."
   ]
  },
  {
   "cell_type": "code",
   "execution_count": null,
   "metadata": {
    "collapsed": true
   },
   "outputs": [],
   "source": []
  },
  {
   "cell_type": "markdown",
   "metadata": {},
   "source": [
    "### Exercício <span class=\"exec\"></span>: pedra-papel-tesoura\n",
    "\n",
    "Escreva um programa para ajudar a Alice e Bob a jogar pedra-papel-tesoura e imprimir o ganhador ou empate. Lembre-se: \n",
    "\n",
    "* pedra ganha de tesoura\n",
    "* tesoura ganha de papel \n",
    "* papel ganha de pedra\n",
    "* se os jogadores fizerem a mesma escolha, eles empatam."
   ]
  },
  {
   "cell_type": "code",
   "execution_count": null,
   "metadata": {
    "collapsed": true
   },
   "outputs": [],
   "source": []
  },
  {
   "cell_type": "markdown",
   "metadata": {},
   "source": [
    "### Exercício <span class=\"exec\"></span>: quem é mais velho?\n",
    "\n",
    "Alice e Bob querem saber quem deles é mais velho. Escreva um programa que leia as datas dos aniversários de Alice e Bob no formato dd/mm/aaaa e determine quem deles é o mais velho ou se ambos têm a mesma idade. Adapte o segmento de código do exercício anterior para ler as datas. Seu programa não precisa fazer a validação dos dados, isto é, pode supor que o usuário irá digitar os dados no formato especificado."
   ]
  },
  {
   "cell_type": "code",
   "execution_count": null,
   "metadata": {
    "collapsed": true
   },
   "outputs": [],
   "source": []
  },
  {
   "cell_type": "markdown",
   "metadata": {},
   "source": [
    "### Exercício <span class=\"exec\"></span>: dia seguinte\n",
    "\n",
    "Escreva um programa que lê uma data no formato dd/mm/aaaa e imprime a data do dia seguinte nesse mesmo formato. Ignore os anos bissextos, ou seja, suponha que fevereiro tem sempre 28 dias."
   ]
  },
  {
   "cell_type": "code",
   "execution_count": null,
   "metadata": {
    "collapsed": true
   },
   "outputs": [],
   "source": []
  },
  {
   "cell_type": "markdown",
   "metadata": {},
   "source": [
    "### Exercício <span class=\"exec\"></span>: triângulo\n",
    "\n",
    "Faça um programa que recebe três números inteiros $a, b$ e $c$ e que depois decide se esses números podem ser os comprimentos dos lados de um triângulo. No caso afirmativo, seu programa deve também dizer se o triângulo é equilátero, se é isósceles, e se tem algum ângulo obtuso ou não.\n",
    "\n",
    "**Exemplo:** se o usuário entrar com 2, 3 e 2, seu programa deve responder \n",
    "\n",
    "    Forma triângulo:   SIM\n",
    "    Equilátero:        NÃO\n",
    "    Isósceles:         SIM\n",
    "    Tem ângulo obtuso: SIM"
   ]
  },
  {
   "cell_type": "code",
   "execution_count": null,
   "metadata": {
    "collapsed": true
   },
   "outputs": [],
   "source": []
  },
  {
   "cell_type": "markdown",
   "metadata": {},
   "source": [
    "### Exercício <span class=\"exec\"></span>: comparar horas\n",
    "\n",
    "Complete o seguinte programa para, dados dois instantes de tempo no formato hh:mm:ss, determinar qual é o menor. Seu programa não precisa fazer a validação dos dados, isto é, pode supor que o usuário irá digitar os dados no formato especificado."
   ]
  },
  {
   "cell_type": "code",
   "execution_count": null,
   "metadata": {
    "collapsed": true
   },
   "outputs": [],
   "source": [
    "hora = input(\"Qual o primeiro instante de tempo (use o formato HH:MM:SS)? \")\n",
    "\n",
    "h1, m1, s1 = hora.split(':')    # Separa a cadeia nas três componentes\n",
    "\n",
    "print(h1,m1,s1)                 # Atenção: h1, m1, s1 são cadeias\n",
    "\n",
    "# Complete o código"
   ]
  },
  {
   "cell_type": "markdown",
   "metadata": {},
   "source": [
    "Não se preocupe com os detalhes técnicos da linha 3 no programa acima, você vai aprender sobre funções e listas nas próximas aulas."
   ]
  },
  {
   "cell_type": "markdown",
   "metadata": {},
   "source": [
    "### Exercício <span class=\"exec\"></span>: classificação de pessoas\n",
    "\n",
    "Escreva um programa que faça as seguintes perguntas com respostas \"sim\" ou \"não\" para uma pessoa e, dependendo de cada resposta, obtenha uma classificação dessa pessoa.\n",
    "\n",
    "Seu programa deve fazer as seguintes perguntas sobre um crime:\n",
    "\n",
    "* \"Você telefonou para a vítima?\"\n",
    "* \"Você esteve no local do crime?\"\n",
    "* \"Você mora perto da vítima?\"\n",
    "* \"Você devia dinheiro para a vítima?\"\n",
    "* \"Você já trabalhou com a vítima?\" \n",
    "\n",
    "As respostas devem ser usadas para emitir uma classificação sobre a participação da pessoa no crime. Se a pessoa responder \"sim\" a 2 questões ela deve ser classificada como \"Suspeita\", se responder \"sim\" 3 ou 4 vezes, ela é \"Cúmplice\", e se responder \"sim\" às 5 perguntas, ela é \"Assassina\". Caso contrário, a pessoa será classificada como \"Inocente\"."
   ]
  },
  {
   "cell_type": "code",
   "execution_count": null,
   "metadata": {
    "collapsed": true
   },
   "outputs": [],
   "source": []
  },
  {
   "cell_type": "markdown",
   "metadata": {},
   "source": [
    "### Exercício <span class=\"exec\"></span>: cálculo de conceito \n",
    "\n",
    "A Profa. Alice também ministra a disciplina de Processamento da Informação (PI) na UFABC. A disciplina está dividida em aulas teóricas e práticas. Alice fará duas provas, uma teórica e uma prática. A atribuição do conceito tanto em teoria como em prática obedece à tabela abaixo:\n",
    "\n",
    "|   Aproveitamento         | Conceito |\n",
    "|-------------------------:|----------|\n",
    "|  Entre 9.0 e 10.0        |    A     |\n",
    "|  Entre 7.5 e 9.0         |    B     |\n",
    "|  Entre 6.0 e 7.5         |    C     |\n",
    "|  Entre 4.0 e 6.0         |    D     |\n",
    "|  Entre 4.0 e zero        |    F     |\n",
    "\n",
    "\n",
    "O conceito final de PI é calculado conforme a tabela abaixo:\n",
    "\n",
    "\n",
    "|  Teoria | Prática     | Conceito Final |\n",
    "|--------:|------------:|----------------|\n",
    "|  A      |    A, B     | A              |\n",
    "|  A      |    C, D     | B              |\n",
    "|  B      |    A, B, C  | B              |\n",
    "|  B      |     D       | C              |\n",
    "|  C      |     A       | B              |\n",
    "|  C      |    B, C, D  | C              |\n",
    "|  D      |    A, B     | C              |\n",
    "|  D      |    C, D     | C              |\n",
    "\n",
    "\n",
    "\n",
    "Se o conceito do aluno for F em teoria ou prática então o conceito final é F. Além disso, o número de faltas do aluno na disciplina não pode ultrapassar as 15 horas pois nesse caso, o conceito final é O. \n",
    "\n",
    "Faça um programa que leia as faltas e as notas de um aluno nas provas de teoria e prática de PI. O programa deve calcular o conceito final do aluno e mostrar a mensagem:\n",
    "\n",
    "* \"Reprovado por faltas\", se o número de faltas for maior de 15.\n",
    "* \"Reprovado\", se o conceito for F.\n",
    "* \"Aprovado com Distinção\", se o conceito for A.\n",
    "* \"Aprovado com conceito\", B, C ou D.\n",
    "\n",
    "**Observação**: evite ler dados e fazer cálculos desnecessários.\n"
   ]
  },
  {
   "cell_type": "code",
   "execution_count": null,
   "metadata": {
    "collapsed": true
   },
   "outputs": [],
   "source": []
  },
  {
   "cell_type": "markdown",
   "metadata": {},
   "source": [
    "<a rel=\"license\" href=\"http://creativecommons.org/licenses/by-sa/4.0/\"><img alt=\"Creative Commons License\" style=\"border-width:0\" src=\"https://i.creativecommons.org/l/by-sa/4.0/88x31.png\" /></a><br /><span xmlns:dct=\"http://purl.org/dc/terms/\" href=\"http://purl.org/dc/dcmitype/InteractiveResource\" property=\"dct:title\" rel=\"dct:type\">Python 3 Practice Notebooks</span> by <a xmlns:cc=\"http://creativecommons.org/ns#\" href=\"https://github.com/daniel-ufabc/ipycourse\" property=\"cc:attributionName\" rel=\"cc:attributionURL\">Cristiane Sato, Daniel M. Martin and Mirtha L. F. Venero</a> is licensed under a <a rel=\"license\" href=\"http://creativecommons.org/licenses/by-sa/4.0/\">Creative Commons Attribution-ShareAlike 4.0 International License</a>."
   ]
  },
  {
   "cell_type": "markdown",
   "metadata": {},
   "source": [
    "<span style=\"color: red;\">Lembre-se: as próximas células só estão presentes para personalizar a formatação deste _notebook_. </span>"
   ]
  },
  {
   "cell_type": "code",
   "execution_count": 1,
   "metadata": {
    "init_cell": true
   },
   "outputs": [
    {
     "data": {
      "text/html": [
       "<style>\n",
       "\n",
       ".rendered_html h1 {\n",
       "    background-color: #555;\n",
       "    color: white;\n",
       "    padding: .5em;\n",
       "    // border-bottom: 2px solid #000;\n",
       "    // padding-bottom: .6em;\n",
       "    margin-bottom: 1em;\n",
       "}\n",
       "\n",
       ".rendered_html h2 {\n",
       "    border-bottom: 1px solid #333;\n",
       "    padding-bottom: .6em;\n",
       "}\n",
       "                                      \n",
       ".rendered_html h3 {\n",
       "    color: #034f84;\n",
       "}\n",
       "\n",
       ".rendered_html code  {\n",
       "    padding: 2px 4px;\n",
       "    font-size: 90%;\n",
       "    color: #c7254e;\n",
       "    background-color: #f9f2f4;\n",
       "    border-radius: 4px;\n",
       "}\n",
       "\n",
       ".rendered_html pre code {\n",
       "    padding: 0px;\n",
       "    font-size: 90%;\n",
       "    color: #c7254e;\n",
       "    background-color: rgba(0, 0, 0, 0);\n",
       "}\n",
       "\n",
       "kbd {\n",
       "    border-radius: 3px;  \n",
       "    padding: 2px, 3px;\n",
       "}\n",
       "\n",
       "body {\n",
       "    counter-reset: h1counter excounter;\n",
       "}\n",
       "h1:before {\n",
       "    content: counter(h1counter) \".\\0000a0\\0000a0\";\n",
       "    counter-increment: h1counter;\n",
       "}\n",
       "span.exec:before {\n",
       "    content: counter(excounter);\n",
       "    counter-increment: excounter;\n",
       "}\n",
       "\n",
       "</style>           \n"
      ],
      "text/plain": [
       "<IPython.core.display.HTML object>"
      ]
     },
     "metadata": {},
     "output_type": "display_data"
    }
   ],
   "source": [
    "%%html\n",
    "<style>\n",
    "\n",
    ".rendered_html h1 {\n",
    "    background-color: #555;\n",
    "    color: white;\n",
    "    padding: .5em;\n",
    "    // border-bottom: 2px solid #000;\n",
    "    // padding-bottom: .6em;\n",
    "    margin-bottom: 1em;\n",
    "}\n",
    "\n",
    ".rendered_html h2 {\n",
    "    border-bottom: 1px solid #333;\n",
    "    padding-bottom: .6em;\n",
    "}\n",
    "                                      \n",
    ".rendered_html h3 {\n",
    "    color: #034f84;\n",
    "}\n",
    "\n",
    ".rendered_html code  {\n",
    "    padding: 2px 4px;\n",
    "    font-size: 90%;\n",
    "    color: #c7254e;\n",
    "    background-color: #f9f2f4;\n",
    "    border-radius: 4px;\n",
    "}\n",
    "\n",
    ".rendered_html pre code {\n",
    "    padding: 0px;\n",
    "    font-size: 90%;\n",
    "    color: #c7254e;\n",
    "    background-color: rgba(0, 0, 0, 0);\n",
    "}\n",
    "\n",
    "kbd {\n",
    "    border-radius: 3px;  \n",
    "    padding: 2px, 3px;\n",
    "}\n",
    "\n",
    "body {\n",
    "    counter-reset: h1counter excounter;\n",
    "}\n",
    "h1:before {\n",
    "    content: counter(h1counter) \".\\0000a0\\0000a0\";\n",
    "    counter-increment: h1counter;\n",
    "}\n",
    "span.exec:before {\n",
    "    content: counter(excounter);\n",
    "    counter-increment: excounter;\n",
    "}\n",
    "\n",
    "</style>           "
   ]
  }
 ],
 "metadata": {
  "kernelspec": {
   "display_name": "Python 3",
   "language": "python",
   "name": "python3"
  },
  "language_info": {
   "codemirror_mode": {
    "name": "ipython",
    "version": 3
   },
   "file_extension": ".py",
   "mimetype": "text/x-python",
   "name": "python",
   "nbconvert_exporter": "python",
   "pygments_lexer": "ipython3",
   "version": "3.5.2"
  }
 },
 "nbformat": 4,
 "nbformat_minor": 1
}
