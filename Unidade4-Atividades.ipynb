{
 "cells": [
  {
   "cell_type": "markdown",
   "metadata": {},
   "source": [
    "## Questão 1\n",
    "\n",
    "Alice costuma visitar dois locais: a academia e a biblioteca. Ela tem a opção de ir a pé ou de carro.\n",
    "Aqui está um tabela com o tempo que ela demora para chegar em cada um dos locais (em minutos):\n",
    "\n",
    "|          | Academia | Biblioteca |\n",
    "|----------|----------|------------|\n",
    "| A pé     | 10       | 30         |\n",
    "| De carro | 6        | 15         |\n",
    "\n",
    "Faça um programa que:\n",
    "* Pede para Alice digitar 0 se ela quer ir para a academia e 1 se ela quer ir para a biblioteca.\n",
    "* Pede para Alice digitar 0 se ela quer ir a pé e 1 se ela quer ir de carro.\n",
    "* Mostra na tela, quanto tempo Alice demorará para chegar ao destino dela.\n",
    "<!-- Para esta questão, faça duas soluções: uma com o operador **`and`** e outra com comandos **`if..else`** encaixados. -->"
   ]
  },
  {
   "cell_type": "code",
   "execution_count": null,
   "metadata": {
    "collapsed": true
   },
   "outputs": [],
   "source": []
  },
  {
   "cell_type": "markdown",
   "metadata": {},
   "source": [
    "## Questão 2\n",
    "\n",
    "Alice quer construir uma estrada no sentido norte-sul.\n",
    "\n",
    "Bob já construiu uma estrada sentido leste-oeste que vai do ponto (0,0) ao ponto (0,100).\n",
    "\n",
    "* Pergunte à Alice a coordenada x do ponto mais ao sul de sua estrada\n",
    "* Pergunte à Alice a coordenada y do ponto mais ao sul de sua estrada\n",
    "* Pergunta à Alice a comprimento c de sua estrada\n",
    "* Calcule se as estradas de Bob e Alice se cruzam ou não\n",
    "* Mostre a resposta ao usuário\n",
    "\n",
    "*Dica:* Calcule o ponto mais ao norte da estrada de Alice usando o comprimento c e (x,y). Faça um desenho em papel para ver quais são os casos! "
   ]
  },
  {
   "cell_type": "code",
   "execution_count": null,
   "metadata": {
    "collapsed": true
   },
   "outputs": [],
   "source": []
  },
  {
   "cell_type": "markdown",
   "metadata": {},
   "source": [
    "## Questão 3\n",
    "\n",
    "Faça um programa que implemente a Fórmula de Bhaskara (se você esqueceu, use o Google!) para resolver equações de segundo grau\n",
    "\n",
    "$$ a x^2 + b x + c = 0.$$\n",
    "\n",
    "* Pergunte o valor de um inteiro a \n",
    "* Pergunte o valor de um inteiro b\n",
    "* Pergunte o valor de um inteiro c\n",
    "* Calcula quantas soluções a equação tem (pode ser 0, 1 ou 2) e calcula as soluções.\n",
    "* Mostra ao usuário quantas soluções existem e quais são."
   ]
  },
  {
   "cell_type": "code",
   "execution_count": null,
   "metadata": {
    "collapsed": true
   },
   "outputs": [],
   "source": []
  },
  {
   "cell_type": "markdown",
   "metadata": {},
   "source": [
    "Vá em **_File &raquo; Download as &raquo; Notebook (.ipynb)_**, baixe o *notebook* e depois submeta-o pelo Tidia em \n",
    "**_Atividades &raquo; Unidade 4 - Atividades_**."
   ]
  }
 ],
 "metadata": {
  "anaconda-cloud": {},
  "kernelspec": {
   "display_name": "Python 3",
   "language": "python",
   "name": "python3"
  },
  "language_info": {
   "codemirror_mode": {
    "name": "ipython",
    "version": 3
   },
   "file_extension": ".py",
   "mimetype": "text/x-python",
   "name": "python",
   "nbconvert_exporter": "python",
   "pygments_lexer": "ipython3",
   "version": "3.5.2"
  }
 },
 "nbformat": 4,
 "nbformat_minor": 0
}
