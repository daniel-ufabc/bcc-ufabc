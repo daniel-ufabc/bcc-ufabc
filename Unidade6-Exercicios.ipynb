{
 "cells": [
  {
   "cell_type": "markdown",
   "metadata": {},
   "source": [
    "## Exercício 1: soma de quadrados\n",
    "\n",
    "Pergunte ao usuário por um número $n$. Em seguida, pergunte a ele por $n$ números e, no final, mostre\n",
    "a ele a soma dos quadrados dos $n$ números que o usuário forneceu. Faça um programa usando o comando **`for`**\n",
    "e outro usando o comando **`while`**."
   ]
  },
  {
   "cell_type": "code",
   "execution_count": null,
   "metadata": {
    "collapsed": true
   },
   "outputs": [],
   "source": []
  },
  {
   "cell_type": "code",
   "execution_count": null,
   "metadata": {
    "collapsed": true
   },
   "outputs": [],
   "source": []
  },
  {
   "cell_type": "markdown",
   "metadata": {},
   "source": [
    "## Exercício 2: calculando o fatorial\n",
    "\n",
    "Na Unidade 3, vimos que o módulo **`math`** tem uma função chamada **`factorial`** que calcula o fatorial de um número. Você sabe que o fatorial de um número inteiro positivo $n$ é definido como\n",
    "\n",
    "$$n! = n\\times (n-1)\\times (n-2)\\times\\cdots\\times 3\\times 2\\times 1$$\n",
    "\n",
    "Neste exemplo, você deve fazer um programa que faz o seguinte:\n",
    "* Pergunta o valor de $n$ ao usuário,\n",
    "* Calcula o fatorial de $n$ e mostra o resultado ao usuário.\n",
    "\n",
    "Não use a função **`factorial`** do módulo **`math`**!"
   ]
  },
  {
   "cell_type": "code",
   "execution_count": null,
   "metadata": {
    "collapsed": true
   },
   "outputs": [],
   "source": []
  },
  {
   "cell_type": "markdown",
   "metadata": {},
   "source": [
    "## Exercício 3: distância total\n",
    "\n",
    "Neste exercício você deve fazer um programa que calcula a distância percorrida por um helicóptero. O helicóptero parte da posição $(0, 0)$, voa em linha reta até a posição $(x_1, y_1)$ e pousa, depois voa em linha reta até a posição $(x_2, y_2)$ e pousa, e assim por diante, até pousar definitivamente na posição $(x_n, y_n)$. Suponha que essas coordenadas são todas inteiras. Seu programa deve fazer o seguinte:\n",
    "* pedir para o usuário digitar o número $n$ de pontos que o helicóptero deve visitar (além da origem);\n",
    "* depois pedir as coordenadas dos pontos, calcular a distância entre cada dois pontos consecutivos e acumular esse valor;\n",
    "* finalmente, seu programa deve mostrar a distância total percorrida pelo helicóptero.\n",
    "\n",
    "Veja um exemplo de execução abaixo.\n",
    "\n",
    "    Quantos heliportos o helicóptero irá visitar? 3\n",
    "    De a coordenada x do heliporto 1? 4\n",
    "    De a coordenada y do heliporto 1? 0\n",
    "    De a coordenada x do heliporto 2? 4\n",
    "    De a coordenada y do heliporto 2? 3\n",
    "    De a coordenada x do heliporto 3? 0\n",
    "    De a coordenada y do heliporto 3? 0\n",
    "    A distância total percorrida é 12.0"
   ]
  },
  {
   "cell_type": "code",
   "execution_count": null,
   "metadata": {
    "collapsed": true
   },
   "outputs": [],
   "source": []
  }
 ],
 "metadata": {
  "kernelspec": {
   "display_name": "Python 3",
   "language": "python",
   "name": "python3"
  },
  "language_info": {
   "codemirror_mode": {
    "name": "ipython",
    "version": 3
   },
   "file_extension": ".py",
   "mimetype": "text/x-python",
   "name": "python",
   "nbconvert_exporter": "python",
   "pygments_lexer": "ipython3",
   "version": "3.4.3"
  }
 },
 "nbformat": 4,
 "nbformat_minor": 0
}
