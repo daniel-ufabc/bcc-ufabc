{
 "cells": [
  {
   "cell_type": "markdown",
   "metadata": {},
   "source": [
    "<div id=\"homesweethome\"></div>\n",
    "\n",
    "<div style=\"width: 100%; text-align: center; color: white; background-color: #222; font-size: 3em; font-weight: 700; padding: .5em .5em .6em .5em; line-height: 1.4em;\">Programação em Python para Iniciantes</div>\n",
    "\n",
    "<br>\n",
    "\n",
    "<div style=\"width: 100%; text-align: center; color: white; background-color: #555; font-size: 2.2em; font-weight: 700; padding: .5em .5em .6em .5em; line-height: 0.9em;\">Estruturas de repetição</div>\n",
    "\n",
    "<br>\n",
    "\n",
    "Nesta unidade, você vai aprender como fazer para executar um trecho do seu programa várias vezes automaticamente.\n",
    "\n",
    "Isso é muito útil quando o problema que estamos tentando resolver envolve tarefas repetitivas!\n",
    "\n",
    "<span style=\"color: red;\">**Atenção:**</span> **salve seu trabalho frequentemente, pois a atividade desta unidade pede justamente para você entregar este _notebook_ completamente resolvido.**"
   ]
  },
  {
   "cell_type": "markdown",
   "metadata": {},
   "source": [
    "---\n",
    "# Introdução\n",
    "\n",
    "Vamos começar com um exemplo: suponha que você queira imprimir os números de 1 a 5. \n",
    "\n",
    "Você poderia fazer o seguinte:"
   ]
  },
  {
   "cell_type": "code",
   "execution_count": null,
   "metadata": {
    "collapsed": true
   },
   "outputs": [],
   "source": [
    "print(1)\n",
    "print(2)\n",
    "print(3)\n",
    "print(4)\n",
    "print(5)"
   ]
  },
  {
   "cell_type": "markdown",
   "metadata": {},
   "source": [
    "Isso é factivel.\n",
    "\n",
    "Agora, e se você quisesse imprimir os números de 1 a 100?\n",
    "\n",
    "Tudo bem, imprimir os números de 1 a 100 com um monte de linhas `print()` é muito tedioso, mas também seria possível.\n",
    "\n",
    "O problema complica mesmo se você quisesse imprimir os números de 1 a <b>$n$</b>, onde $n$ é um número que você obteve do usuário através de uma chamada do `input()`. \n",
    "\n",
    "Com os recursos da linguagem que aprendemos até o momento, isso não seria nem chato nem tedioso, seria impossível!\n",
    "\n",
    "Para lidar com situações que exigem repetição de tarefas, as linguagens de programação possuem estruturas de repetição (também chamadas de _laços_) como o comando `for` e o comando `while`."
   ]
  },
  {
   "cell_type": "markdown",
   "metadata": {},
   "source": [
    "Veja a seguir como você pode fazer para imprimir os números de 1 a 5 com o comando **`for`**:"
   ]
  },
  {
   "cell_type": "code",
   "execution_count": null,
   "metadata": {
    "collapsed": true
   },
   "outputs": [],
   "source": [
    "for n in [1, 2, 3, 4, 5]:\n",
    "    print(n)"
   ]
  },
  {
   "cell_type": "markdown",
   "metadata": {},
   "source": [
    "O que exatamente o nosso código está fazendo? Execute o código a seguir para ver uma animação:"
   ]
  },
  {
   "cell_type": "code",
   "execution_count": null,
   "metadata": {
    "collapsed": true
   },
   "outputs": [],
   "source": [
    "# Código para rodar vídeo\n",
    "from IPython.display import HTML\n",
    "HTML('<iframe width=\"420\" height=\"315\" src=\"https://www.youtube.com/embed/9h_5HYvmL44\"></iframe>')"
   ]
  },
  {
   "cell_type": "markdown",
   "metadata": {},
   "source": [
    "<hr> \n",
    "\n",
    "### Exercício <span class=\"exec\"></span>: números de 1 a 8\n",
    "\n",
    "Modifique o código abaixo para que ele mostre os números de 1 a 8.\n"
   ]
  },
  {
   "cell_type": "code",
   "execution_count": null,
   "metadata": {
    "collapsed": true
   },
   "outputs": [],
   "source": [
    "for n in [1, 2, 3, 4, 5]:\n",
    "    print(n)"
   ]
  },
  {
   "cell_type": "markdown",
   "metadata": {},
   "source": [
    "<hr>\n",
    "\n",
    "Antes de prosseguirmos com mais explicações sobre o comando **`for`**, vamos tentar entender o conceito de _lista_."
   ]
  },
  {
   "cell_type": "markdown",
   "metadata": {},
   "source": [
    "## Listas\n",
    "\n",
    "`[1, 2, 3, 4, 5]` é um exemplo de **lista**. Uma lista pode ter elementos de vários tipos!\n",
    "\n",
    "Veja o código abaixo."
   ]
  },
  {
   "cell_type": "code",
   "execution_count": null,
   "metadata": {
    "collapsed": true
   },
   "outputs": [],
   "source": [
    "['papagaio', 'cachorro', True, 34]"
   ]
  },
  {
   "cell_type": "markdown",
   "metadata": {},
   "source": [
    "Podemos usar uma variável para guardar uma lista de dados:"
   ]
  },
  {
   "cell_type": "code",
   "execution_count": null,
   "metadata": {
    "collapsed": true
   },
   "outputs": [],
   "source": [
    "x = ['Alice', 'Beto', 'Caio', 4, 35.2176, False]\n",
    "print(x)"
   ]
  },
  {
   "cell_type": "markdown",
   "metadata": {},
   "source": [
    "### Comprimento da lista"
   ]
  },
  {
   "cell_type": "markdown",
   "metadata": {},
   "source": [
    "O comprimento de uma lista pode ser consultado via a função `len()`. Veja:"
   ]
  },
  {
   "cell_type": "code",
   "execution_count": null,
   "metadata": {
    "collapsed": true
   },
   "outputs": [],
   "source": [
    "len(x)"
   ]
  },
  {
   "cell_type": "markdown",
   "metadata": {},
   "source": [
    "## Intervalos (_ranges_)\n",
    "\n",
    "Python tem ainda um outro tipo de dado interno chamado _range_, que é muito semelhante a uma lista.\n",
    "\n",
    "Um _range_ é uma lista imutável de números inteiros igualmente espaçados (como em uma progressão aritmética).\n",
    "\n",
    "A tradução mais comum para _range_ é \"intervalo\".\n",
    "\n",
    "Veja alguns exemplos mais comuns do uso de intervalos:"
   ]
  },
  {
   "cell_type": "code",
   "execution_count": null,
   "metadata": {
    "collapsed": true
   },
   "outputs": [],
   "source": [
    "x = range(1, 21)"
   ]
  },
  {
   "cell_type": "markdown",
   "metadata": {},
   "source": [
    "Para imprimir (mostrar na tela) a lista de valores nesse _range_, podemos converter o range para uma lista assim:"
   ]
  },
  {
   "cell_type": "code",
   "execution_count": null,
   "metadata": {
    "collapsed": true
   },
   "outputs": [],
   "source": [
    "list(x)"
   ]
  },
  {
   "cell_type": "markdown",
   "metadata": {},
   "source": [
    "Repare que `range(1, 21)` tem os números inteiros de 1 até 20 (mas não tem o 21).\n",
    "\n",
    "O primeiro argumento do `range()` é o primeiro inteiro **dentro** do intervalo.\n",
    "\n",
    "O segundo argumento do `range()` é o primeiro inteiro **fora** do intervalo.\n",
    "\n",
    "Veja mais alguns exemplos:"
   ]
  },
  {
   "cell_type": "code",
   "execution_count": null,
   "metadata": {
    "collapsed": true
   },
   "outputs": [],
   "source": [
    "intervalo = range(1, 6)\n",
    "print(list(intervalo))"
   ]
  },
  {
   "cell_type": "code",
   "execution_count": null,
   "metadata": {
    "collapsed": true
   },
   "outputs": [],
   "source": [
    "for i in range(1, 6):\n",
    "    print(i)"
   ]
  },
  {
   "cell_type": "markdown",
   "metadata": {},
   "source": [
    "### Intervalos do tipo $0$ a $n - 1$\n",
    "\n",
    "Quando programamos, é comum precisarmos do intervalo contendo todos os números inteiros de $0$ até $n - 1$.\n",
    "\n",
    "Em Python, podemos construir um intervalo desses passando um único argumento para o comando `range()`. Veja:"
   ]
  },
  {
   "cell_type": "code",
   "execution_count": null,
   "metadata": {
    "collapsed": true
   },
   "outputs": [],
   "source": [
    "n = 10\n",
    "list(range(n))"
   ]
  },
  {
   "cell_type": "markdown",
   "metadata": {},
   "source": [
    "Observe que `range(n)` é equivalente a `range(0, n)` e que, portanto, `range(n)` retorna um lista com os números de $0$ a $n-1$."
   ]
  },
  {
   "cell_type": "markdown",
   "metadata": {},
   "source": [
    "Veja mais um exemplo:"
   ]
  },
  {
   "cell_type": "code",
   "execution_count": null,
   "metadata": {
    "collapsed": true
   },
   "outputs": [],
   "source": [
    "for i in range(10):\n",
    "    print(i)"
   ]
  },
  {
   "cell_type": "markdown",
   "metadata": {},
   "source": [
    "O exemplo abaixo imprime apenas os números pares de 0 até 9:"
   ]
  },
  {
   "cell_type": "code",
   "execution_count": null,
   "metadata": {
    "collapsed": true
   },
   "outputs": [],
   "source": [
    "for i in range(10):\n",
    "    if i % 2 == 0:\n",
    "        print(i)"
   ]
  },
  {
   "cell_type": "markdown",
   "metadata": {},
   "source": [
    "---\n",
    "### Exercício <span class=\"exec\"></span>: multiplos de 5 de 0 a 100\n",
    "\n",
    "O programa do exemplo acima foi copiado para a célula de código abaixo. \n",
    "\n",
    "Modifique o código de forma que o programa imprima todos os múltiplos de 5 no intervalo de 0 a 100 (0 e 100 inclusive)."
   ]
  },
  {
   "cell_type": "code",
   "execution_count": null,
   "metadata": {},
   "outputs": [],
   "source": [
    "for i in range(10):\n",
    "    if i % 2 == 0:\n",
    "        print(i)"
   ]
  },
  {
   "cell_type": "markdown",
   "metadata": {},
   "source": [
    "# O comando **`for`**\n",
    "\n",
    "Como você já deve ter percebido, o comando **`for`** faz com que uma variável receba, repetidamente, valores tomados de uma dada lista e, para cada um desses valores, executa o bloco de código indentado logo abaixo.\n",
    "\n",
    "A estrutura do comando **`for`** é a seguinte:\n",
    "\n",
    "\n",
    "    for variável in lista:\n",
    "        código indentado\n",
    "        código indentado\n",
    "        etc.\n",
    "    \n",
    "Assim como no comando **`if`**, a primeira linha de código não indentada depois do comando **`for`** marca o fim do bloco de código associado.\n",
    "        \n",
    "A lista de elementos no comando **`for`** pode ser substituida por um intervalo.\n",
    "        "
   ]
  },
  {
   "cell_type": "markdown",
   "metadata": {},
   "source": [
    "### Exemplo:\n",
    "\n",
    "O programa a seguir imprime os números de 2 até 10"
   ]
  },
  {
   "cell_type": "code",
   "execution_count": null,
   "metadata": {
    "collapsed": true
   },
   "outputs": [],
   "source": [
    "for i in range(2, 11):\n",
    "    print(i)"
   ]
  },
  {
   "cell_type": "markdown",
   "metadata": {},
   "source": [
    "---\n",
    "\n",
    "### Exercício <span class=\"exec\"></span>: números de 10 a 50\n",
    "\n",
    "Mude o código acima para que o programa imprima os números de 10 até 50 (inclusive o 10 e o 50).\n",
    "\n",
    "---"
   ]
  },
  {
   "cell_type": "markdown",
   "metadata": {},
   "source": [
    "### Exemplo:\n",
    "\n",
    "Para cada número entre 1 e 10, o programa a seguir mostra o dobro desse número, o triplo, o quadrado e a raiz quadrada. "
   ]
  },
  {
   "cell_type": "code",
   "execution_count": null,
   "metadata": {
    "collapsed": true
   },
   "outputs": [],
   "source": [
    "for n in range(1, 11):\n",
    "    print('O dobro de', n, 'é', 2*n)\n",
    "    print('O triplo de', n, 'é', 3*n)\n",
    "    print('O quadrado de', n, 'é', n**2)\n",
    "    print('A raiz quadrada de', n, 'é', n**(1/2))\n",
    "    print('-------------------------------------------')"
   ]
  },
  {
   "cell_type": "markdown",
   "metadata": {},
   "source": [
    "<hr>\n",
    "\n",
    "### Exercício <span class=\"exec\"></span>: par ou ímpar I\n",
    "\n",
    "O código a seguir imprime os números de 1 a 10. Modifique **apenas** o bloco de código dentro do  **`for`** de modo que ele imprima o seguinte:</p>\n",
    "\n",
    "    1 é ímpar\n",
    "    2 é par \n",
    "    3 é ímpar\n",
    "    4 é par \n",
    "    5 é ímpar\n",
    "    etc. (até 10)\n",
    "\n",
    "**Dica:** use o comando **`if`** dentro do bloco de código do **`for`**."
   ]
  },
  {
   "cell_type": "code",
   "execution_count": null,
   "metadata": {
    "collapsed": true
   },
   "outputs": [],
   "source": [
    "for n in range(1, 11):\n",
    "    print(n)"
   ]
  },
  {
   "cell_type": "markdown",
   "metadata": {},
   "source": [
    "### Exemplo:\n",
    "\n",
    "Suponha que queremos calcular a soma dos números de $1$ a $n$.\n",
    "\n",
    "Por exemplo, se $n = 5$, queremos calcular:\n",
    "\n",
    "$$1 + 2 + 3 + 4 + 5 = 15.$$\n",
    "\n",
    "Na verdade, existe uma fórmula fechada para essa soma, mas suponha que queremos fazer a soma usando o comando **`for`**:"
   ]
  },
  {
   "cell_type": "code",
   "execution_count": null,
   "metadata": {
    "collapsed": true
   },
   "outputs": [],
   "source": [
    "n = int(input(\"De o valor de n: \"))\n",
    "soma = 0\n",
    "for i in range(1, n + 1):\n",
    "    soma = soma + i\n",
    "print(total)"
   ]
  },
  {
   "cell_type": "markdown",
   "metadata": {},
   "source": [
    "Você achou expressão&nbsp; `soma = soma + i` &nbsp;um pouco estranha?\n",
    "\n",
    "O que essa linha faz é o seguinte:\n",
    "\n",
    "1. calcula o valor de `soma + i`\n",
    "2. guarda o resultado na variável `soma`\n",
    "\n",
    "Ou seja, o novo valor da variável `soma` após a execução dessa linha é o valor antigo de `soma` mais o valor de `i`.\n",
    "\n",
    "O código abaixo traz uma situação análoga, execute-a e veja o que acontece."
   ]
  },
  {
   "cell_type": "code",
   "execution_count": null,
   "metadata": {
    "collapsed": true
   },
   "outputs": [],
   "source": [
    "x = 2\n",
    "x = x + 10\n",
    "print(x)"
   ]
  },
  {
   "cell_type": "markdown",
   "metadata": {},
   "source": [
    "<hr>\n",
    "\n",
    "### Exercício <span class=\"exec\"></span>: fatorial\n",
    "\n",
    "Talvez alguns de vocês saibam que o módulo **`math`** do Python tem uma função chamada **`factorial`** que calcula o fatorial de um número. Neste exercício, vamos fazer um programa para calcular o fatorial sem usar o módulo **`math`**. \n",
    "\n",
    "O _fatorial_ de um número natural $n$ é definido como\n",
    "\n",
    "$$n! = n \\times (n-1) \\times (n-2) \\times \\cdots \\times 3 \\times 2 \\times 1.$$\n",
    "\n",
    "Ou seja, o fatorial de um número $n$ é o produto de todos os inteiros de $2$ até $n$. \n",
    "\n",
    "Faça um programa que peça ao usuário um valor para $n$ e que mostra o valor de $n!$ na tela. Não use a função **`factorial`** do módulo **`math`**! \n",
    "\n",
    "Para conferir se seu programa está correto: 7! = 5040, 13! = 6227020800."
   ]
  },
  {
   "cell_type": "code",
   "execution_count": null,
   "metadata": {
    "collapsed": true
   },
   "outputs": [],
   "source": [
    "# Solução análoga ao exemplo da soma dos números de 1 a n (mas agora com o produto em vez de soma)"
   ]
  },
  {
   "cell_type": "markdown",
   "metadata": {},
   "source": [
    "<hr>\n",
    "\n",
    "### Exercício <span class=\"exec\"></span>: soma de quadrados I\n",
    "\n",
    "Abaixo, copiamos o código do exemplo que calcula $1 + 2 + \\cdots + n$.\n",
    "\n",
    "Modifique o código abaixo para calcular a soma dos quadrados dos números de $1$ até $n$. Ou seja, quando o usuário digitar um número $n$, o programa deverá mostrar o resultado da soma\n",
    "\n",
    "$$1^2 + 2^2 + 3^2 + \\cdots + n^2.$$\n",
    "\n",
    "Teste se seu código funciona: pára $n = 137$, seu programa deve devolver 866525"
   ]
  },
  {
   "cell_type": "code",
   "execution_count": null,
   "metadata": {
    "collapsed": true
   },
   "outputs": [],
   "source": [
    "n = int(input(\"De o valor de n: \"))\n",
    "total = 0\n",
    "for i in range(1, n + 1):\n",
    "    total = total + i                    #    <<<<<    você deve mudar esta linha\n",
    "print(total)"
   ]
  },
  {
   "cell_type": "markdown",
   "metadata": {},
   "source": [
    "<hr>\n",
    "\n",
    "### Exemplo:\n",
    "\n",
    "O código a seguir pede que o usuário digite o número de vendas, depois pede o valor de cada venda e, finalmente, calcula e imprime o valor total das vendas."
   ]
  },
  {
   "cell_type": "code",
   "execution_count": null,
   "metadata": {
    "collapsed": true
   },
   "outputs": [],
   "source": [
    "n = int(input(\"Qual o número de vendas? \"))\n",
    "total = 0.0\n",
    "for i in range(n):\n",
    "    valor = float(input(\"Qual o valor da venda? \"))\n",
    "    total = total + valor\n",
    "print(\"A total das vendas é:\", total)"
   ]
  },
  {
   "cell_type": "markdown",
   "metadata": {},
   "source": [
    "Podemos indicar para o usuário qual venda ele deve fornecer em cada momento.\n",
    "\n",
    "Preste atenção e identifique o que mudou no código a seguir (com relação ao código acima) e entenda como isso afeta a experiência do usuário:"
   ]
  },
  {
   "cell_type": "code",
   "execution_count": null,
   "metadata": {
    "collapsed": true
   },
   "outputs": [],
   "source": [
    "n = int(input(\"Qual o número de vendas? \"))\n",
    "total = 0.0\n",
    "for i in range(n):\n",
    "    valor = float(input(\"Qual o valor da \" + str(i + 1) + \"ª venda? \"))\n",
    "    total = total + valor\n",
    "print(\"A total das vendas é:\", total)"
   ]
  },
  {
   "cell_type": "markdown",
   "metadata": {},
   "source": [
    "<hr>\n",
    "\n",
    "### Exercício <span class=\"exec\"></span>: média das vendas\n",
    "\n",
    "Modifique o código acima para que, além do valor total das vendas, o programa imprima também o valor médio das vendas.\n",
    "\n",
    "Teste se seu código funciona: para $n=3$ e valores $12.20$, $15.30$, $17.50$, a média deve ser $15.0$\n"
   ]
  },
  {
   "cell_type": "markdown",
   "metadata": {},
   "source": [
    "<hr>\n",
    "\n",
    "### Exercício <span class=\"exec\"></span>: parabéns!\n",
    "\n",
    "Copiamos o código do exemplo anterior na célula abaixo.\n",
    "\n",
    "Modifique-o de modo que, toda vez que o usuário digitar uma venda de valor maior do que 100 reais, o programa mostre &ndash; naquele mesmo momento &ndash; uma mensagem de parabéns para o vendedor.\n",
    "\n",
    "Não use listas para armazenar os valores das vendas."
   ]
  },
  {
   "cell_type": "code",
   "execution_count": null,
   "metadata": {
    "collapsed": true
   },
   "outputs": [],
   "source": [
    "n = int(input(\"Qual o número de vendas? \"))\n",
    "total = 0.0\n",
    "for i in range(n):\n",
    "    valor = float(input(\"Qual o valor da venda? \"))\n",
    "    total = total + valor\n",
    "print(\"A total das vendas é:\", total)"
   ]
  },
  {
   "cell_type": "markdown",
   "metadata": {},
   "source": [
    "Agora, continue a modificar seu programa de modo que ele conte quantas vendas ultrapassaram 100 reais e, no final, imprima uma mensagem informando essa quantidade.\n",
    "\n",
    "Não use listas para armazenar os valores das vendas."
   ]
  },
  {
   "cell_type": "markdown",
   "metadata": {},
   "source": [
    "<hr>\n",
    "\n",
    "### Exercício <span class=\"exec\"></span>: par ou ímpar II\n",
    "\n",
    "Faça um programa que pede para o usuário digitar um inteiro $n > 0$ e que depois pede para o usuário digitar $n$ inteiros. Finalmente mostre ao usuário quantos números pares e quantos ímpares ele digitou. Não use listas."
   ]
  },
  {
   "cell_type": "code",
   "execution_count": null,
   "metadata": {
    "collapsed": true
   },
   "outputs": [],
   "source": []
  },
  {
   "cell_type": "markdown",
   "metadata": {},
   "source": [
    "---\n",
    "\n",
    "### Exercício <span class=\"exec\"></span>: máximo\n",
    "\n",
    "Faça um programa que pede ao usuário para digitar um número inteiro $n > 0$. \n",
    "\n",
    "Depois, seu programa deve perguntar $n$ números racionais (_float_) ao usuário.\n",
    "\n",
    "Finalmente, seu programa deve imprimir o maior valor fornecido pelo usuário.\n",
    "\n",
    "Exemplo: para $n = 10$ e valores $17, 1.2, 4.8, 19, 3, 23.6, 20, 24, 6.1, 12$, seu programa deve imprimir o valor $24.0$.\n",
    "\n",
    "Não use listas para armazenar os números lidos da entrada."
   ]
  },
  {
   "cell_type": "code",
   "execution_count": null,
   "metadata": {},
   "outputs": [],
   "source": []
  },
  {
   "cell_type": "markdown",
   "metadata": {},
   "source": [
    "<hr>\n",
    "\n",
    "### Exercício <span class=\"exec\"></span>: números em ordem?\n",
    "\n",
    "Faça um programa que pede ao usuário para digitar um número inteiro positivo $n$. Em seguida, peça para ele digitar $n$ números racionais (_float_). Depois que o usuário terminar, seu programa deve e mostrar na tela a palavra \"_crescente_\" se os números racionais digitados pelo usuário estão em ordem crescente ou mostrar \"_não crescente_\" caso contrário. Não use listas para armazenar os $n$ números racionais."
   ]
  },
  {
   "cell_type": "code",
   "execution_count": null,
   "metadata": {
    "collapsed": true
   },
   "outputs": [],
   "source": []
  },
  {
   "cell_type": "markdown",
   "metadata": {},
   "source": [
    "---\n",
    "### Exercício <span class=\"exec\"></span>: soma de quadrados II\n",
    "\n",
    "Pergunte ao usuário por um número $n$. Em seguida, pergunte a ele por $n$ números inteiros e, no final, mostre a ele a soma dos quadrados dos $n$ números que o usuário forneceu. Por exemplo, se as respostas do usuário forem: 3, 4, 2, 2, seu programa deve exibir o resultado da conta $4^2 + 2^2 + 2^2$, que é $24$. Observe que o número 3 não entra na conta porque ele é o valor de $n$. Não use listas."
   ]
  },
  {
   "cell_type": "code",
   "execution_count": null,
   "metadata": {
    "collapsed": true
   },
   "outputs": [],
   "source": []
  },
  {
   "cell_type": "markdown",
   "metadata": {},
   "source": [
    "---\n",
    "\n",
    "### Exercício <span class=\"exec\"></span>: divisores\n",
    "\n",
    "Faça um programa que pede ao usuário para digitar um número inteiro $n > 0$. Depois, seu programa deve mostrar todos os divisores de $n$. \n",
    "\n",
    "Exemplo: para $n = 2136$ seu programa deve mostrar os divisores 1, 2, 3, 4, 6, 8, 12, 24, 89, 178, 267, 356, 534, 712, 1068, 2136. Se for mais fácil pra você, pode mostrar um número por linha."
   ]
  },
  {
   "cell_type": "code",
   "execution_count": null,
   "metadata": {
    "collapsed": true
   },
   "outputs": [],
   "source": []
  },
  {
   "cell_type": "markdown",
   "metadata": {},
   "source": [
    "Agora tente fazer de modo que a resposta seja impressa numa única linha. Você já tem condições de fazer esse exercício: a dica é ir construindo uma mensagem de texto (usando o operador de concatenação `+` de textos) com os divisores do número $n$ transformados em string; após o laço principal é só dar um `print` nessa mensagem. "
   ]
  },
  {
   "cell_type": "code",
   "execution_count": null,
   "metadata": {},
   "outputs": [],
   "source": []
  },
  {
   "cell_type": "markdown",
   "metadata": {},
   "source": [
    "Existe um outro modo de imprimir os divisores numa linha, que consiste em usar a função `print()` com a opção de não pular linha no final. Isso pode ser feito com o argumento `end`. Veja o exemplo:"
   ]
  },
  {
   "cell_type": "code",
   "execution_count": null,
   "metadata": {},
   "outputs": [],
   "source": [
    "print('três', end=' ')\n",
    "print('pratos', end=' ')\n",
    "print('de trigo')"
   ]
  },
  {
   "cell_type": "markdown",
   "metadata": {},
   "source": [
    "O comportamento padrão da função `print()` é acrescentar um caractere _newline_ ou `\\n` no final da impressão para pular uma linha. O argumento `end` diz para a função print que caractére (ou que texto) usar no lugar do `\\n`.\n",
    "\n",
    "No exemplo acima, forçamos a função `print()` a usar um espaço em branco no lugar do `\\n`.\n",
    "\n",
    "No exemplo abaixo, queremos duas barras `||` em vez de `\\n` na primeira chamada de `print()`."
   ]
  },
  {
   "cell_type": "code",
   "execution_count": null,
   "metadata": {},
   "outputs": [],
   "source": [
    "print('hello', end='||')\n",
    "print('kitty')"
   ]
  },
  {
   "cell_type": "markdown",
   "metadata": {},
   "source": [
    "<hr>\n",
    "\n",
    "### Exercício <span class=\"exec\"></span>: primo\n",
    "\n",
    "Um número inteiro $n > 1$ é _primo_ se tem exatamente dois divisores positivos: $1$ e o próprio $n$.\n",
    "\n",
    "Faça um programa que pede ao usuário para digitar um número inteiro $n > 1$ e que decide se esse número é primo ou composto."
   ]
  },
  {
   "cell_type": "code",
   "execution_count": null,
   "metadata": {
    "collapsed": true
   },
   "outputs": [],
   "source": [
    "# parecido com o exercício de encontrar os divisores de um número"
   ]
  },
  {
   "cell_type": "markdown",
   "metadata": {},
   "source": [
    "<hr>\n",
    "\n",
    "### Exercício <span class=\"exec\"></span>: distância total\n",
    "\n",
    "Neste exercício você deve fazer um programa que calcula a distância percorrida por um helicóptero. O helicóptero parte da posição $(0, 0)$, voa em linha reta até a posição $(x_1, y_1)$ e pousa, depois voa em linha reta até a posição $(x_2, y_2)$ e pousa, e assim por diante, até pousar definitivamente na posição $(x_n, y_n)$. Suponha que essas coordenadas são todas inteiras. Seu programa deve fazer o seguinte:\n",
    "* pedir para o usuário digitar o número $n$ de pontos que o helicóptero deve visitar (além da origem);\n",
    "* depois pedir as coordenadas dos pontos, calcular a distância entre cada dois pontos consecutivos e acumular esse valor;\n",
    "* finalmente, seu programa deve mostrar a distância total percorrida pelo helicóptero.\n",
    "\n",
    "Veja um exemplo de execução abaixo.\n",
    "\n",
    "    Quantos heliportos o helicóptero irá visitar? 3\n",
    "    De a coordenada x do heliporto 1? 4\n",
    "    De a coordenada y do heliporto 1? 0\n",
    "    De a coordenada x do heliporto 2? 4\n",
    "    De a coordenada y do heliporto 2? 3\n",
    "    De a coordenada x do heliporto 3? 0\n",
    "    De a coordenada y do heliporto 3? 0\n",
    "    A distância total percorrida é 12.0\n",
    "\n",
    "\n",
    "Não use listas para armazenar as coordenadas.\n",
    "\n",
    "**Dica:** $\\sqrt{x} = x^{1/2}$\n",
    "\n"
   ]
  },
  {
   "cell_type": "code",
   "execution_count": null,
   "metadata": {
    "collapsed": true
   },
   "outputs": [],
   "source": [
    "# solução análoga ao exemplo das vendas (mas agora você deve calcular distâncias)"
   ]
  },
  {
   "cell_type": "markdown",
   "metadata": {},
   "source": [
    "---\n",
    "\n",
    "### Exercício <span class=\"exec\"></span>: segmentos \n",
    "\n",
    "Fonte: [Caderno de Exercícios IME/USP](https://www.ime.usp.br/~macmulti/exercicios/)\n",
    "\n",
    "Dados $n$ e uma seqüência de $n$ números inteiros, determinar quantos segmentos de números iguais consecutivos compõem essa seqüência.\n",
    "\n",
    "Por exemplo, a seqüência 5,  2,  2,  3,  4,  4,  4,  4,  5,  5 é formada por 5 segmentos de números iguais:  \n",
    "\n",
    "$$ 5 ~~~~~~ 2 ~~  2 ~~~~~~  3 ~~~~~~  4 ~~ 4 ~~ 4 ~~ 4 ~~~~~~  5 ~~ 5  $$\n",
    "\n",
    "Não use listas."
   ]
  },
  {
   "cell_type": "code",
   "execution_count": null,
   "metadata": {
    "collapsed": true
   },
   "outputs": [],
   "source": []
  },
  {
   "cell_type": "markdown",
   "metadata": {},
   "source": [
    "### Exercício <span class=\"exec\"></span>: dicionário\n",
    "\n",
    "Faça um programa que pergunte ao usuário por um número inteiro $n > 0$. \n",
    "\n",
    "Em seguida, seu programa deve ler $n$ palavras da entrada e deve decidir se as palavras foram dadas em ordem lexicográfica (i.e. na ordem do dicionário) e imprimir `ORDENADO` em caso afirmativo; do contrário, seu programa deve imprimir `NÃO ORDENADO`.\n",
    "\n",
    "Não use listas para armazenar as palavras."
   ]
  },
  {
   "cell_type": "code",
   "execution_count": null,
   "metadata": {},
   "outputs": [],
   "source": []
  },
  {
   "cell_type": "markdown",
   "metadata": {},
   "source": [
    "--- \n",
    "# O comando `break`\n",
    "\n",
    "Às vezes, quando estamos usando o comando `for` para resolver um determinado problema computacional, gostaríamos de parar as interações e sair do laço de repetição caso uma condição seja satisfeita. Por exemplo, suponha que estamos tentando decidir se o número $n = 69755912197$ é primo ou composto. Uma possível solução seria testar, para cada $i$ no intervalo de 2 até $n - 1$, se $i$ divide $n$ (i.e. se $n$ é múltiplo de $i$). Ou seja, poderíamos fazer"
   ]
  },
  {
   "cell_type": "code",
   "execution_count": null,
   "metadata": {},
   "outputs": [],
   "source": [
    "n = 69755912197\n",
    "primo = True\n",
    "\n",
    "for i in range(2, n):\n",
    "    if n % i == 0:\n",
    "        # se a condição acima for verdadeira para algum i, então n é composto\n",
    "        primo = False\n",
    "        \n",
    "if primo:\n",
    "    print(n, 'é primo.')\n",
    "else:\n",
    "    print(n, 'é composto.')"
   ]
  },
  {
   "cell_type": "markdown",
   "metadata": {},
   "source": [
    "Ora, sabe-se que 21107 é um divisor de 69755912197. Veja:"
   ]
  },
  {
   "cell_type": "code",
   "execution_count": null,
   "metadata": {},
   "outputs": [],
   "source": [
    "69755912197 % 21107"
   ]
  },
  {
   "cell_type": "markdown",
   "metadata": {},
   "source": [
    "Contudo, o programa acima não sai do laço assim que descobre que 21107 divide 69755912197: primeiro ele termina de executar todas as iterações do laço **`for`** (69755912195 iterações para ser exato) e só depois disso é que ele imprime a mensagem dizendo que o número é composto. \n",
    "\n",
    "Se você rodar o programa, verá que ele não termina nunca (na minha máquina eu tive que apertar o botão de STOP do Jupyter) pois 69755912197 são aproximadamente 70 bilhões de iterações mesmo os processadores mais rápidos demoram para executar essa quantidade de operações.\n",
    "\n",
    "O comando **`break`** pode ser usado no bloco de código dentro de um **`for`** para terminar o laço imediatamente.\n",
    "\n",
    "Veja o mesmo exemplo (que testa 69755912197 é primo) mas agora empregando o comando **`break`** assim que descobre que o número não é primo. \n",
    "\n",
    "Execute o programa abaixo e veja como ele termina rápido:"
   ]
  },
  {
   "cell_type": "code",
   "execution_count": null,
   "metadata": {},
   "outputs": [],
   "source": [
    "n = 69755912197\n",
    "primo = True\n",
    "\n",
    "for i in range(2, n):\n",
    "    if n % i == 0:\n",
    "        primo = False\n",
    "        break                   #     <<<     sai do laço assim que descobre um divisor\n",
    "        \n",
    "if primo:\n",
    "    print(n, 'é primo.')\n",
    "else:\n",
    "    print(n, 'é composto.')"
   ]
  },
  {
   "cell_type": "markdown",
   "metadata": {},
   "source": [
    "<a rel=\"license\" href=\"http://creativecommons.org/licenses/by-sa/4.0/\"><img alt=\"Creative Commons License\" style=\"border-width:0\" src=\"https://i.creativecommons.org/l/by-sa/4.0/88x31.png\" /></a><br /><span xmlns:dct=\"http://purl.org/dc/terms/\" href=\"http://purl.org/dc/dcmitype/InteractiveResource\" property=\"dct:title\" rel=\"dct:type\">Python 3 Practice Notebooks</span> by <a xmlns:cc=\"http://creativecommons.org/ns#\" href=\"https://github.com/daniel-ufabc/ipycourse\" property=\"cc:attributionName\" rel=\"cc:attributionURL\">Cristiane Sato, Daniel M. Martin and Mirtha L. F. Venero</a> is licensed under a <a rel=\"license\" href=\"http://creativecommons.org/licenses/by-sa/4.0/\">Creative Commons Attribution-ShareAlike 4.0 International License</a>."
   ]
  },
  {
   "cell_type": "markdown",
   "metadata": {},
   "source": [
    "<span style=\"color: red;\">Execute a célula abaixo para melhorar a aparência deste <i>notebook</i>.</span>"
   ]
  },
  {
   "cell_type": "code",
   "execution_count": 1,
   "metadata": {
    "init_cell": true
   },
   "outputs": [
    {
     "data": {
      "text/html": [
       "<style>\n",
       ".rendered_html h1 {\n",
       "    background-color: #555;\n",
       "    color: white;\n",
       "    padding: .5em;\n",
       "    // border-bottom: 2px solid #000;\n",
       "    // padding-bottom: .6em;\n",
       "    margin-bottom: 1em;\n",
       "}\n",
       "\n",
       ".rendered_html h1 code {\n",
       "    color: #EBB7C5;\n",
       "    background-color: rgba(0,0,0,0);\n",
       "}\n",
       "\n",
       ".rendered_html h2 {\n",
       "    border-bottom: 1px solid #333;\n",
       "    padding-bottom: .6em;\n",
       "}\n",
       "                                      \n",
       ".rendered_html h3 {\n",
       "    color: #034f84;\n",
       "}\n",
       "\n",
       ".rendered_html code  {\n",
       "    padding: 2px 4px;\n",
       "    font-size: 90%;\n",
       "    color: #c7254e;\n",
       "    background-color: #f9f2f4;\n",
       "    border-radius: 4px;\n",
       "}\n",
       "\n",
       ".rendered_html pre code {\n",
       "    padding: 0px;\n",
       "    font-size: 90%;\n",
       "    color: #c7254e;\n",
       "    background-color: rgba(0, 0, 0, 0);\n",
       "}\n",
       "\n",
       "kbd {\n",
       "    border-radius: 3px;  \n",
       "    padding: 2px, 3px;\n",
       "}\n",
       "\n",
       "body {\n",
       "    counter-reset: h1counter excounter;\n",
       "}\n",
       "h1:before {\n",
       "    content: counter(h1counter) \".\\0000a0\\0000a0\";\n",
       "    counter-increment: h1counter;\n",
       "}\n",
       "span.exec:before {\n",
       "    content: counter(excounter);\n",
       "    counter-increment: excounter;\n",
       "}\n",
       "\n",
       "\n",
       "</style>  \n",
       "<script>\n",
       "location.hash = \"#homesweethome\";\n",
       "</script>"
      ],
      "text/plain": [
       "<IPython.core.display.HTML object>"
      ]
     },
     "metadata": {},
     "output_type": "display_data"
    }
   ],
   "source": [
    "%%html\n",
    "<style>\n",
    ".rendered_html h1 {\n",
    "    background-color: #555;\n",
    "    color: white;\n",
    "    padding: .5em;\n",
    "    // border-bottom: 2px solid #000;\n",
    "    // padding-bottom: .6em;\n",
    "    margin-bottom: 1em;\n",
    "}\n",
    "\n",
    ".rendered_html h1 code {\n",
    "    color: #EBB7C5;\n",
    "    background-color: rgba(0,0,0,0);\n",
    "}\n",
    "\n",
    ".rendered_html h2 {\n",
    "    border-bottom: 1px solid #333;\n",
    "    padding-bottom: .6em;\n",
    "}\n",
    "                                      \n",
    ".rendered_html h3 {\n",
    "    color: #034f84;\n",
    "}\n",
    "\n",
    ".rendered_html code  {\n",
    "    padding: 2px 4px;\n",
    "    font-size: 90%;\n",
    "    color: #c7254e;\n",
    "    background-color: #f9f2f4;\n",
    "    border-radius: 4px;\n",
    "}\n",
    "\n",
    ".rendered_html pre code {\n",
    "    padding: 0px;\n",
    "    font-size: 90%;\n",
    "    color: #c7254e;\n",
    "    background-color: rgba(0, 0, 0, 0);\n",
    "}\n",
    "\n",
    "kbd {\n",
    "    border-radius: 3px;  \n",
    "    padding: 2px, 3px;\n",
    "}\n",
    "\n",
    "body {\n",
    "    counter-reset: h1counter excounter;\n",
    "}\n",
    "h1:before {\n",
    "    content: counter(h1counter) \".\\0000a0\\0000a0\";\n",
    "    counter-increment: h1counter;\n",
    "}\n",
    "span.exec:before {\n",
    "    content: counter(excounter);\n",
    "    counter-increment: excounter;\n",
    "}\n",
    "\n",
    "\n",
    "</style>  \n",
    "<script>\n",
    "location.hash = \"#homesweethome\";\n",
    "</script>"
   ]
  }
 ],
 "metadata": {
  "anaconda-cloud": {},
  "kernelspec": {
   "display_name": "Python 3",
   "language": "python",
   "name": "python3"
  },
  "language_info": {
   "codemirror_mode": {
    "name": "ipython",
    "version": 3
   },
   "file_extension": ".py",
   "mimetype": "text/x-python",
   "name": "python",
   "nbconvert_exporter": "python",
   "pygments_lexer": "ipython3",
   "version": "3.6.8"
  }
 },
 "nbformat": 4,
 "nbformat_minor": 1
}
