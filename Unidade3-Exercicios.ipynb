{
 "cells": [
  {
   "cell_type": "markdown",
   "metadata": {},
   "source": [
    "# Unidade 3 - Exercícios\n",
    "\n",
    "Agora é sua vez: faça os exercícios para praticar os conceitos vistos na Unidade 3 (Introdução à programação em Python 3) e responda às questões correspondentes no Tidia."
   ]
  },
  {
   "cell_type": "markdown",
   "metadata": {},
   "source": [
    "## Tidia &raquo; Exercícios &raquo; Unidade 3 - Exercícios &raquo; Questão 1\n",
    "\n",
    "Faça um programa que \n",
    "\n",
    "1. Pergunta ao usuário o preço pago no almoço, depois pelo preço pago na janta.\n",
    "2. Mostra o total gasto com refeições no dia.\n",
    "\n",
    "Obs: Lembre-se de digitar os número com ponto (como 18.50 ao invés de 18,50)."
   ]
  },
  {
   "cell_type": "code",
   "execution_count": null,
   "metadata": {
    "collapsed": true
   },
   "outputs": [],
   "source": []
  },
  {
   "cell_type": "markdown",
   "metadata": {},
   "source": [
    "## Tidia &raquo; Exercícios &raquo; Unidade 3 - Exercícios &raquo; Questão 2\n",
    "\n",
    "Faça um programa que \n",
    "1. Pergunta ao usuário pela capacidade do tanque de gasolina do carro, depois pelo consumo em km/l de gasolina. \n",
    "2. Mostra a autonomia do carro com o tanque cheio."
   ]
  },
  {
   "cell_type": "code",
   "execution_count": null,
   "metadata": {
    "collapsed": true
   },
   "outputs": [],
   "source": []
  },
  {
   "cell_type": "markdown",
   "metadata": {},
   "source": [
    "## Tidia &raquo; Exercícios &raquo; Unidade 3 - Exercícios &raquo; Questão 3\n",
    "\n",
    "Faça um programa que \n",
    "1. Pergunta ao usuário pelo raio do círculo.\n",
    "2. Mostra o perímetro do círculo.\n",
    "\n",
    "Obs: Use  o valor `3.1415926` para $\\pi$ (**Atenção para o ponto ao invés de vírgula!**). A fórmula para o perímetro é $2\\cdot \\pi \\cdot r$"
   ]
  },
  {
   "cell_type": "code",
   "execution_count": null,
   "metadata": {
    "collapsed": true
   },
   "outputs": [],
   "source": []
  },
  {
   "cell_type": "markdown",
   "metadata": {},
   "source": [
    "## Tidia &raquo; Exercícios &raquo; Unidade 3 - Exercícios &raquo; Questão 4\n",
    "\n",
    "Faça um programa que \n",
    "1. Pergunta o raio $R$ de uma esfera.\n",
    "2. Mostre seu volume. \n",
    "\n",
    "Obs: Lembre-se de que a fórmula para o cálculo do volume da esfera é $$\\frac{4 \\pi R^3}{3}.$$"
   ]
  },
  {
   "cell_type": "code",
   "execution_count": null,
   "metadata": {
    "collapsed": true
   },
   "outputs": [],
   "source": []
  },
  {
   "cell_type": "markdown",
   "metadata": {},
   "source": [
    "## Tidia &raquo; Exercícios &raquo; Unidade 3 - Exercícios &raquo; Questão 5\n",
    "\n",
    "Faça um programa que \n",
    "1. Pergunta a um aluno quanto ele tirou na P1, depois quanto ele tirou na P2.\n",
    "2. Mostra a média ponderada, considerando que o peso da P1 é 2.5 e o peso da P2 é 4 (portanto a soma dos pesos é 6.5)."
   ]
  },
  {
   "cell_type": "code",
   "execution_count": null,
   "metadata": {
    "collapsed": true
   },
   "outputs": [],
   "source": []
  }
 ],
 "metadata": {
  "kernelspec": {
   "display_name": "Python 3",
   "language": "python",
   "name": "python3"
  },
  "language_info": {
   "codemirror_mode": {
    "name": "ipython",
    "version": 3
   },
   "file_extension": ".py",
   "mimetype": "text/x-python",
   "name": "python",
   "nbconvert_exporter": "python",
   "pygments_lexer": "ipython3",
   "version": "3.5.2"
  },
  "widgets": {
   "state": {},
   "version": "1.1.2"
  }
 },
 "nbformat": 4,
 "nbformat_minor": 1
}
