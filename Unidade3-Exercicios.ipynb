{
 "cells": [
  {
   "cell_type": "markdown",
   "metadata": {},
   "source": [
    "# Exercícios da Unidade 3\n",
    "\n",
    "Agora é sua vez: faça os exercícios para praticar os conceitos vistos na Unidade 3 (Introdução à programação em Python 3)."
   ]
  },
  {
   "cell_type": "markdown",
   "metadata": {
    "collapsed": true
   },
   "source": [
    "## Exercício 1\n",
    "\n",
    "Faça um programa que pergunte pelo preço pago no almoço, depois pelo preço pago na janta e que mostre o total gasto com refeições no dia."
   ]
  },
  {
   "cell_type": "code",
   "execution_count": null,
   "metadata": {
    "collapsed": true
   },
   "outputs": [],
   "source": []
  },
  {
   "cell_type": "markdown",
   "metadata": {},
   "source": [
    "## Exercício 2\n",
    "\n",
    "Faça um programa que pergunta pela capacidade do tanque de gasolina do carro, depois pelo consumo em km/l de gasolina. Mostre a autonomia do carro com o tanque cheio."
   ]
  },
  {
   "cell_type": "code",
   "execution_count": null,
   "metadata": {
    "collapsed": true
   },
   "outputs": [],
   "source": []
  },
  {
   "cell_type": "markdown",
   "metadata": {},
   "source": [
    "## Exercício 3\n",
    "\n",
    "Faça um programa que pergunte pelo ráio do círculo e que mostre o perímetro."
   ]
  },
  {
   "cell_type": "code",
   "execution_count": null,
   "metadata": {
    "collapsed": true
   },
   "outputs": [],
   "source": []
  },
  {
   "cell_type": "markdown",
   "metadata": {},
   "source": [
    "## Exercício 4\n",
    "\n",
    "Faça um programa que pergunte pelo raio $R$ de uma esfera e que mostre seu volume. Lembre-se de que a fórmula para o cálculo do volume da esfera é $$\\frac{4 \\pi R^3}{3}.$$"
   ]
  },
  {
   "cell_type": "code",
   "execution_count": null,
   "metadata": {
    "collapsed": true
   },
   "outputs": [],
   "source": []
  },
  {
   "cell_type": "markdown",
   "metadata": {},
   "source": [
    "## Exercício 5\n",
    "\n",
    "Faça um programa que pergunte a um aluno quanto ele tirou na P1, depois quanto ele tirou na P2 e faça a média ponderada, considerando que o peso da P1 é 2.5 e o peso da P2 é 4.0 (portanto a soma dos pesos é 6.5)."
   ]
  },
  {
   "cell_type": "code",
   "execution_count": null,
   "metadata": {
    "collapsed": true
   },
   "outputs": [],
   "source": []
  },
  {
   "cell_type": "markdown",
   "metadata": {},
   "source": [
    "## Exercício 6\n",
    "\n",
    "Você deve fazer o mesmo que no exercício anterior (perguntar pela nota da P1, nota da P2), exceto que agora deve também perguntar pela nota no Tidia e pela noda de Projeto. A média final é $$25\\%\\, \\mathrm{P1} + 40\\%\\, \\mathrm{P2} + 10\\%\\, \\mathrm{Tidia} + 25\\%\\, \\mathrm{Projeto}.$$ "
   ]
  },
  {
   "cell_type": "code",
   "execution_count": null,
   "metadata": {
    "collapsed": true
   },
   "outputs": [],
   "source": []
  },
  {
   "cell_type": "markdown",
   "metadata": {},
   "source": [
    "## Exercício 7\n",
    "\n",
    "Bob quer comprar uma pedra preciosa que custa $V$ reais e ele precisa pagar o vendedor. Bob é muito rico, mas muito burro. Ele tem um suprimento quase infinito de notas de 100, 50, 20, 10, 5, 2 e 1, mas não tem noção de quantas notas de cada tipo deve dar ao vendedor para pagar a pedra. Você deve fazer um programa que ajude Bob a fazer o pagamento. Pergunte a Bob qual é o valor $V$ da pedra, depois mostre a ele quantas notas de cada tipo ele deve dar ao vendedor para fazer o pagamento. "
   ]
  },
  {
   "cell_type": "code",
   "execution_count": null,
   "metadata": {
    "collapsed": true
   },
   "outputs": [],
   "source": []
  },
  {
   "cell_type": "markdown",
   "metadata": {},
   "source": [
    "## Exercício 8\n",
    "\n",
    "Leia um valor inteiro que é o tempo de duração em segundos de um determinado evento em uma fábrica, e mostre a duração do evento no formato horas:minutos:segundos."
   ]
  },
  {
   "cell_type": "code",
   "execution_count": null,
   "metadata": {
    "collapsed": true
   },
   "outputs": [],
   "source": []
  }
 ],
 "metadata": {
  "kernelspec": {
   "display_name": "Python 3",
   "language": "python",
   "name": "python3"
  },
  "language_info": {
   "codemirror_mode": {
    "name": "ipython",
    "version": 3
   },
   "file_extension": ".py",
   "mimetype": "text/x-python",
   "name": "python",
   "nbconvert_exporter": "python",
   "pygments_lexer": "ipython3",
   "version": "3.4.3"
  }
 },
 "nbformat": 4,
 "nbformat_minor": 0
}
