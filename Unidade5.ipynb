{
 "cells": [
  {
   "cell_type": "markdown",
   "metadata": {},
   "source": [
    "# Unidade 5 - Condicionais\n",
    "\n",
    "Nesse momento, você já teve contato com alguns elementos de programação em Python. Você viu que Python pode ser usado como uma calculadora poderosa, que faz gráficos. Você fez alguns programas que trocam mensagens com o usuário. Porém, até agora, seus programas não conseguiam tomar decisões sozinhos: tudo o que eles conseguem fazer é seguir um fluxo único de instruções, sem bifurcações, sem escolhas.\n",
    "\n",
    "Nesta unidade, você vai aprender como fazer o seu programa tomar decisões de acordo com o resultado de um \"teste\". \n",
    "\n",
    "## Comparações numéricas\n",
    "\n",
    "Em Python, você pode testar vários tipos de condições. As mais simples são as condições que comparam números, por exemplo:"
   ]
  },
  {
   "cell_type": "code",
   "execution_count": null,
   "metadata": {
    "collapsed": false
   },
   "outputs": [],
   "source": [
    "2 > 5"
   ]
  },
  {
   "cell_type": "code",
   "execution_count": null,
   "metadata": {
    "collapsed": false
   },
   "outputs": [],
   "source": [
    "3 >= 3"
   ]
  },
  {
   "cell_type": "markdown",
   "metadata": {},
   "source": [
    "A seguir, você pode ver uma tabela com os comparadores numéricos de Python. \n",
    "\n",
    "| operador | significado      |\n",
    "|---------:|------------------|\n",
    "|      `>` | maior que        |\n",
    "|      `<` | menor que        |\n",
    "|     `>=` | maior ou igual a |\n",
    "|     `<=` | menor ou igual a |\n",
    "|     `==` | igual a          |\n",
    "|     `!=` | diferente de     |\n",
    "\n",
    "A seguir, veja mais um exemplo."
   ]
  },
  {
   "cell_type": "code",
   "execution_count": 6,
   "metadata": {
    "collapsed": false,
    "scrolled": true
   },
   "outputs": [
    {
     "data": {
      "text/plain": [
       "False"
      ]
     },
     "execution_count": 6,
     "metadata": {},
     "output_type": "execute_result"
    }
   ],
   "source": [
    "5.2*(4.1 + 3) == 3.2*(4.8 + 5)"
   ]
  },
  {
   "cell_type": "markdown",
   "metadata": {},
   "source": [
    "**Atenção:** não confunda o operador de comparação de igualdade (`==`) com a atribuição (`=`).\n",
    "\n",
    "## Verdadeiro ou falso\n",
    "\n",
    "Ao executar os exemplos da seção acima, você percebeu que o resultado de uma comparação é sempre `True` ou `False`. Estes são dois valores especiais em Python. Você pode guardá-los em uma variável se precisar. Veja os exemplos:"
   ]
  },
  {
   "cell_type": "code",
   "execution_count": null,
   "metadata": {
    "collapsed": false
   },
   "outputs": [],
   "source": [
    "teste1 = 3 < 8 / 3\n",
    "print(teste1)"
   ]
  },
  {
   "cell_type": "code",
   "execution_count": null,
   "metadata": {
    "collapsed": false
   },
   "outputs": [],
   "source": [
    "teste2 = True\n",
    "print(teste2)"
   ]
  },
  {
   "cell_type": "markdown",
   "metadata": {},
   "source": [
    "## Código condicional\n",
    "\n",
    "Agora você vai ver como um programa em Python consegue tomar decisões baseadas na validade de uma condição, isto é, como fazer para executar um trecho de código somente quando uma condição for verdadeira. \n",
    "\n",
    "Para isso, vamos usar o comando `if`, que significa \"se\" em inglês. \n",
    "\n",
    "Veja o exemplo abaixo, execute-o e depois veja a explicação."
   ]
  },
  {
   "cell_type": "code",
   "execution_count": null,
   "metadata": {
    "collapsed": false
   },
   "outputs": [],
   "source": [
    "A = 2\n",
    "B = 10\n",
    "if A > B:\n",
    "    print(\"A é maior que B\")\n",
    "    print(\"===============\")\n",
    "    \n",
    "print(\"fim do programa\")"
   ]
  },
  {
   "cell_type": "markdown",
   "metadata": {},
   "source": [
    "Veja que as linhas `print(...)` logo após o comando `if` não surtiram efeito, pois `A > B` é falso para os valores atribuídos a `A` e `B`.\n",
    "\n",
    "No código acima, mude o valor de `A` para qualquer coisa maior do que 10, re-execute a célula e veja o que acontece."
   ]
  },
  {
   "cell_type": "markdown",
   "metadata": {},
   "source": [
    "### Estrutura do comando `if`\n",
    "\n",
    "O comando `if` tem a seguinte estrutura.\n",
    "\n",
    "    if condição:\n",
    "        código  \n",
    "        código\n",
    "        código\n",
    "        etc...\n",
    "        \n",
    "    continuação do programa\n",
    "    \n",
    "As linhas de código que você quiser executar quando a condição for verdadeira devem vir *indentadas* (recuadas) logo após o comando `if`. Uma linha sem *indentação* marca o fim do bloco de comandos dentro do `if`.\n",
    "\n",
    "É uma prática comum fazer indentação de código para que ele fique mais legível. Na maioria das linguagens de programação, a indentação tem um propósito puramente estético. Em Python a indentação é **obrigatória** em vários casos, o bloco do `if` é um desses casos.\n",
    "\n",
    "**Atenção:** em Python, se você não *indentar* o código corretamente, o programa terá um comportamento diferente daquele que você espera. "
   ]
  },
  {
   "cell_type": "markdown",
   "metadata": {},
   "source": [
    "### Exercício 1\n",
    "\n",
    "Faça um programa que pergunta ao usuário quantos anos ele tem. Se o usuário tem idade par, mostre uma mensagem a ele informando-o desse fato. No caso ímpar você não precisa fazer nada.\n",
    "\n",
    "No Tidia, responda à *Questão 1* da seção *Unidade 5 - Tutorial*."
   ]
  },
  {
   "cell_type": "code",
   "execution_count": null,
   "metadata": {
    "collapsed": true
   },
   "outputs": [],
   "source": []
  },
  {
   "cell_type": "markdown",
   "metadata": {},
   "source": [
    "## O comando `if..else`\n",
    "\n",
    "Agora que você já entendeu o funcionamento do `if`, vamos aprender como executar uma ação (ou várias ações) caso a condição do `if` seja falsa. \n",
    "\n",
    "Por exemplo, no exercício anterior, se quiséssemos mostrar uma mensagem ao usuário também no caso ímpar, teríamos de fazer algo do tipo:"
   ]
  },
  {
   "cell_type": "code",
   "execution_count": null,
   "metadata": {
    "collapsed": false
   },
   "outputs": [],
   "source": [
    "idade=int(input(\"Quantos anos você tem? \"))\n",
    "if idade % 2 == 0:\n",
    "    print(\"Sua idade é par.\")\n",
    "if idade % 2 == 1:\n",
    "    print(\"Sua idade é ímpar.\")"
   ]
  },
  {
   "cell_type": "markdown",
   "metadata": {},
   "source": [
    "Com o comando `else` (que significa \"senão\" em inglês), é possível economizar um pouco de código. Veja o exemplo abaixo."
   ]
  },
  {
   "cell_type": "code",
   "execution_count": null,
   "metadata": {
    "collapsed": false
   },
   "outputs": [],
   "source": [
    "idade=int(input(\"Quantos anos você tem? \"))\n",
    "if idade % 2 == 0:\n",
    "    print(\"Sua idade é par.\")\n",
    "else:\n",
    "    print(\"Sua idade é ímpar.\")"
   ]
  },
  {
   "cell_type": "code",
   "execution_count": null,
   "metadata": {
    "collapsed": true
   },
   "outputs": [],
   "source": []
  },
  {
   "cell_type": "markdown",
   "metadata": {},
   "source": [
    "## Praticando `if..else`\n",
    "\n",
    "### Exercício 2\n",
    "\n",
    "Profa. Alice ministra a disciplina de Fenômenos Quânticos na UFABC. Ela dará duas provas ($P1$ e $P2$), e o critério de aprovação é ter média maior ou igual a $5.0$. Faça um programa em Python que ajude a Profa. Alice a decidir se um aluno foi aprovado ou não. Seu programa deve executar os seguintes passos:\n",
    "* Pergunte a nota da $P1$.\n",
    "* Pergunte a nota da $P2$.\n",
    "* Calcule a média das provas.\n",
    "* Se a média das provas for maior ou igual a $5.0$ mostre a mensagem \"Aprovado\".\n",
    "* Senão, mostre \"Reprovado\".\n",
    "\n",
    "No Tidia, responda à *Questão 2* da seção *Unidade 5 - Tutorial*."
   ]
  },
  {
   "cell_type": "code",
   "execution_count": null,
   "metadata": {
    "collapsed": true
   },
   "outputs": [],
   "source": []
  },
  {
   "cell_type": "markdown",
   "metadata": {},
   "source": [
    "### Exercício 3\n",
    "\n",
    "Um fazendeiro tem $M$ metros de cerca. Ele quer cercar um terreno retangular de comprimento $C$ e largura $L$. Faça um programa que ajude o fazendeiro a saber se a cerca que ele tem é suficiente ou não. Seu programa deve executar os seguintes passos:\n",
    "* Pergunte a quantidade $M$ (em metros) de cerca disponível.\n",
    "* Pergunte o comprimento $C$ do terreno.\n",
    "* Pergunte a largura $L$ do terreno.\n",
    "* Calcule a quantidade exata (em metros) de cerca que serão necessários para cercar o perímetro do terreno. \n",
    "* Baseando-se nesse cálculo, diga ao fazendeiro se a quantidade de cerca que ele tem é ou não é suficiente. \n",
    "\n",
    "No Tidia, responda à *Questão 3* da seção *Unidade 5 - Tutorial*."
   ]
  },
  {
   "cell_type": "code",
   "execution_count": null,
   "metadata": {
    "collapsed": true
   },
   "outputs": [],
   "source": []
  },
  {
   "cell_type": "markdown",
   "metadata": {},
   "source": [
    "## Exigindo duas condições\n",
    "\n",
    "Em Python, temos alguns operadores lógicos que nos permitem combinar condições simples em condições mais complexas. Vejamos um exemplo.\n",
    "\n",
    "Em algumas disciplinas da UFABC, não basta que a média das duas provas ($P1$ e $P2$) de um aluno seja maior que $5.0$, mas ele também deve tirar uma nóta mínima $3.0$ na $P2$. Ou seja, para que seja aprovado o aluno precisa de \n",
    "\n",
    "$$\\frac{P1 + P2}{2} \\geq 5 \\quad\\quad\\text{ e }\\quad\\quad P2 \\geq 3.$$\n",
    "\n",
    "Com os conhecimentos que adquirimos até o momento, é possível fazer um programa que decide se um aluno foi aprovado ou não, com base em suas notas. Por exemplo, poderíamos fazer:"
   ]
  },
  {
   "cell_type": "code",
   "execution_count": null,
   "metadata": {
    "collapsed": false
   },
   "outputs": [],
   "source": [
    "P1 = float(input(\"Qual a nota da P1? \")) \n",
    "P2 = float(input(\"Qual a nota da P2? \"))\n",
    "if (P1 + P2)/2 >= 5.0:\n",
    "    if P2 >= 3.0:\n",
    "        print(\"Aprovado\")\n",
    "    else:\n",
    "        print(\"Reprovado\")\n",
    "else:\n",
    "    print(\"Reprovado\")"
   ]
  },
  {
   "cell_type": "markdown",
   "metadata": {},
   "source": [
    "Repare que a solução acima usa dois `if..else` encaixados. É comum empregar blocos encaixados de comandos para resolvermos um problema computacional, mas nesse caso é possível simplificar o programa usando o operador `and`. Veja como fica a solução:"
   ]
  },
  {
   "cell_type": "code",
   "execution_count": null,
   "metadata": {
    "collapsed": true
   },
   "outputs": [],
   "source": [
    "P1 = float(input(\"Qual a nota da P1? \")) \n",
    "P2 = float(input(\"Qual a nota da P2? \"))\n",
    "if (P1 + P2)/2 >= 5.0 and P2 >= 3.0:\n",
    "    print(\"Aprovado\")\n",
    "else:\n",
    "    print(\"Reprovado\")"
   ]
  },
  {
   "cell_type": "markdown",
   "metadata": {},
   "source": [
    "Esse operador de conjunção `and` funciona assim: a condição composta `(condição1 and condição2)` é avaliada como **True** (verdadeira) só quando a `condição1` é **True** e, simultaneamente, a `condição2` também é **True**.\n",
    "\n",
    "Veja um exemplo:"
   ]
  },
  {
   "cell_type": "code",
   "execution_count": null,
   "metadata": {
    "collapsed": false
   },
   "outputs": [],
   "source": [
    "chuva = True\n",
    "sol = False\n",
    "arcoiris = chuva and sol\n",
    "print(arcoiris)"
   ]
  },
  {
   "cell_type": "markdown",
   "metadata": {},
   "source": [
    "Tente alterar o valor das variáveis `chuva` e `sol` para ver como isso afeta o programa.\n",
    "\n",
    "### Exercício 4\n",
    "\n",
    "Um professor universitário federal pode se aposentar desde que tenha pelo menos 35 anos de serviço e pelo menos 60 anos de idade. Faça um programa para ajudar o professor a descobrir se ele já pode se aposentar este ano. \n",
    "\n",
    "Seu programa deve fazer o seguinte:\n",
    "* Pergunte ao professor pelo ano em que nasceu.\n",
    "* Pergunte pelo ano em que começou a trabalhar.\n",
    "* Pergunte ao professor pelo ano em que estamos.\n",
    "* Baseando-se nas respostas que ele deu ao seu programa, diga se ele pode se aposentar este ano.\n",
    "\n",
    "No Tidia, responda à *Questão 4* da seção *Unidade 5 - Tutorial*."
   ]
  },
  {
   "cell_type": "code",
   "execution_count": null,
   "metadata": {
    "collapsed": true
   },
   "outputs": [],
   "source": []
  },
  {
   "cell_type": "markdown",
   "metadata": {},
   "source": [
    "## Outros operadores lógicos"
   ]
  },
  {
   "cell_type": "markdown",
   "metadata": {},
   "source": [
    "Python tem ainda os operadores `or` e `not`. \n",
    "\n",
    "O operador `not` pode ser usado para inverter a validade de uma condição. Veja:"
   ]
  },
  {
   "cell_type": "code",
   "execution_count": null,
   "metadata": {
    "collapsed": false
   },
   "outputs": [],
   "source": [
    "not 2 > 5"
   ]
  },
  {
   "cell_type": "markdown",
   "metadata": {},
   "source": [
    "Uma condição da forma `(condição1 or condição2)` será verdadeira se pelo menos uma das duas condições envolvidas for verdadeira. Veja:"
   ]
  },
  {
   "cell_type": "code",
   "execution_count": null,
   "metadata": {
    "collapsed": false
   },
   "outputs": [],
   "source": [
    "2 > 5 or 1 < 2 "
   ]
  },
  {
   "cell_type": "code",
   "execution_count": null,
   "metadata": {
    "collapsed": false
   },
   "outputs": [],
   "source": [
    "4 == 2 + 2 or 2 > 0"
   ]
  },
  {
   "cell_type": "markdown",
   "metadata": {},
   "source": [
    "## Multiplas possibilidades\n",
    "\n",
    "É bastante comum lidarmos com situações em que o comportamento desejado do programa não depende de apenas uma condição, mas de várias. Vamos ver um exemplo. \n",
    "\n",
    "Suponha que temos que criar um programa para classificar o nível do *low-density lipoprotein* (LDL), conhecido em português com o nome de colesterol \"ruim\". Segundo um [estudo do *NIH*](http://www.nhlbi.nih.gov/files/docs/guidelines/atp3xsum.pdf) citado pelo [*CDC*](http://www.cdc.gov/dhdsp/data_statistics/fact_sheets/fs_cholesterol.htm) Norte Americano, os níveis de LDL podem ser classificados segundo a tabela abaixo.\n",
    "\n",
    "|    Nível de LDL | Classificação |\n",
    "|----------------:|---------------|\n",
    "|   menor que 100 | Ótimo         |\n",
    "| entre 100 e 129 | Baixo         |\n",
    "| entre 130 e 159 | Limítrofe     |\n",
    "| entre 160 e 189 | Alto          |\n",
    "|   maior que 190 | Muito alto    |\n",
    "\n",
    "Se tivéssemos que fazer um programa que perguntasse pelo nível de LDL e que mostrasse a classificação correspondente, poderíamos usar os conhecimentos de `if..else` que adquirimos até agora e construir o seguinte programa."
   ]
  },
  {
   "cell_type": "code",
   "execution_count": null,
   "metadata": {
    "collapsed": false
   },
   "outputs": [],
   "source": [
    "LDL = float(input(\"Qual o nível de LDL? \"))\n",
    "if LDL < 100:\n",
    "    print(\"Ótimo\")\n",
    "if 100 <= LDL and LDL < 130:\n",
    "    print(\"Baixo\")\n",
    "if 130 <= LDL and LDL < 160:\n",
    "    print(\"Limítrofe\")\n",
    "if 160 <= LDL and LDL < 190:\n",
    "    print(\"Alto\")\n",
    "if 190 <= LDL:\n",
    "    print(\"Muito alto\")"
   ]
  },
  {
   "cell_type": "markdown",
   "metadata": {},
   "source": [
    "O programa acima está correto. A maioria das linguagens de programação possuem um comando com sabor de \"senão, se\". O nome desse comando, em Python, é `elif` (abreviação de \"else if\"). Você pode usar diversos comandos `elif` associados a um `if`, mas eles devem sempre vir atrelados a um comando `if`. \n",
    "\n",
    "Veja como é mais simples classificar os níveis de LDL com o comando `elif`. Ao lado você pode ver o significado de cada linha e, depois do programa, uma explicação mais detalhada."
   ]
  },
  {
   "cell_type": "code",
   "execution_count": null,
   "metadata": {
    "collapsed": true
   },
   "outputs": [],
   "source": [
    "LDL = float(input(\"Qual o nível de LDL? \"))         # pergunta pelo nível de LDL\n",
    "if LDL < 100:                                       # se nível < 100:\n",
    "    print(\"Ótimo\")                                  #     mostra \"Ótimo\"\n",
    "elif LDL < 130:                                     # senão, se nível < 130: \n",
    "    print(\"Baixo\")                                  #     mostra \"Baixo\"\n",
    "elif LDL < 160:                                     # senão, se nível < 160:\n",
    "    print(\"Limítrofe\")                              #     mostra \"Limítrofe\"\n",
    "elif LDL < 190:                                     # senão, se nível < 190:\n",
    "    print(\"Alto\")                                   #     mostra \"Alto\"\n",
    "else:                                               # senão:  \n",
    "    print(\"Muito alto\")                             #     mostra \"Muito alto\""
   ]
  },
  {
   "cell_type": "markdown",
   "metadata": {},
   "source": [
    "No programa acima, o trecho `print(\"Alto\")` só será executado se:\n",
    "* a condição do `if` for falsa (isto é, se LDL >= 100) e\n",
    "* a condição do primeiro `elif` for falsa (isto é, se LDL >= 130) e\n",
    "* a condição do segundo `elif` for falsa (isto é, se LDL >= 160) e\n",
    "* a condição do terceiro `elif` for verdadeira (isto é, se LDL < 190).\n",
    "\n",
    "Mais em geral, um trecho de código dentro de um bloco `elif` só será executado se a condição daquele `elif` for verdadeira, mas todas as condições que a precedem (até mesmo a condição do `if`) forem falsas.\n",
    "\n",
    "Por fim, fique sabendo que usar um comando `elif` dentro de um `if` não proíbe você de usar um `else` também, desde que o `else` venha por último. O trecho de código dentro do `else` só será executado se todas as condições que o precederam forem falsas."
   ]
  },
  {
   "cell_type": "markdown",
   "metadata": {},
   "source": [
    "### Exercício 5\n",
    "\n",
    "Se uma pessoa tem peso $P$ e altura $A$, o índice de massa corporal (*IMC*) dessa pessoa é\n",
    "$$IMC = \\frac{P}{A^2}.$$\n",
    "\n",
    "Faça um programa que pede para o usuário digitar a sua altura e depois o seu peso. Calcule e mostre\n",
    "o IMC do usuário e diga em que categoria ele está. Use a seguinte tabela\n",
    "\n",
    "| Faixa                | Categoria      |\n",
    "|---------------------:|----------------|\n",
    "|           IMC < 18.5 | Abaixo do peso |\n",
    "| 18.5 &le; IMC < 25.0 | Normal         |\n",
    "| 25.0 &le; IMC < 30.0 | Sobrepeso      |\n",
    "|          30 &le; IMC | Obeso          |\n",
    "\n",
    "No Tidia, responda à *Questão 5* da seção *Unidade 5 - Tutorial*."
   ]
  },
  {
   "cell_type": "code",
   "execution_count": null,
   "metadata": {
    "collapsed": true
   },
   "outputs": [],
   "source": []
  }
 ],
 "metadata": {
  "kernelspec": {
   "display_name": "Python 3",
   "language": "python",
   "name": "python3"
  },
  "language_info": {
   "codemirror_mode": {
    "name": "ipython",
    "version": 3
   },
   "file_extension": ".py",
   "mimetype": "text/x-python",
   "name": "python",
   "nbconvert_exporter": "python",
   "pygments_lexer": "ipython3",
   "version": "3.5.1"
  }
 },
 "nbformat": 4,
 "nbformat_minor": 0
}
