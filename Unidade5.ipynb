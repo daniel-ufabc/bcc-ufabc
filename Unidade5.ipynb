{
 "cells": [
  {
   "cell_type": "markdown",
   "metadata": {},
   "source": [
    "# Unidade 6 - Estruturas de repetição\n",
    "\n",
    "<span style=\"font-size:14pt;\">Caro aluno,\n",
    "<br />\n",
    "<br />Nesta unidade você vai aprender como fazer para executar um trecho do seu programa várias vezes.\n",
    "<br />Isso é muito útil quando o problema que estamos tentando resolver envolve tarefas repetitivas!\n",
    "</span>\n",
    "\n",
    "<span style=\"font-size:14pt;\">\n",
    "Por exemplo, suponha que você queira imprimir os números de **1** a **5**. Você poderia fazer o seguinte:\n",
    "</span>"
   ]
  },
  {
   "cell_type": "code",
   "execution_count": 1,
   "metadata": {
    "collapsed": false
   },
   "outputs": [
    {
     "name": "stdout",
     "output_type": "stream",
     "text": [
      "1\n",
      "2\n",
      "3\n",
      "4\n",
      "5\n"
     ]
    }
   ],
   "source": [
    "print(1)\n",
    "print(2)\n",
    "print(3)\n",
    "print(4)\n",
    "print(5)"
   ]
  },
  {
   "cell_type": "markdown",
   "metadata": {},
   "source": [
    "<span style=\"font-size:14pt;\">Podemos usar um comando de repetição ao invés de digitar o comando 5 vezes! Veja a seguir:</span>"
   ]
  },
  {
   "cell_type": "code",
   "execution_count": 2,
   "metadata": {
    "collapsed": false
   },
   "outputs": [
    {
     "name": "stdout",
     "output_type": "stream",
     "text": [
      "1\n",
      "2\n",
      "3\n",
      "4\n",
      "5\n"
     ]
    }
   ],
   "source": [
    "for n in [1, 2, 3, 4, 5]:\n",
    "    print(n)"
   ]
  },
  {
   "cell_type": "markdown",
   "metadata": {},
   "source": [
    "<span style=\"font-size:14pt;\">\n",
    "O que exatamente o nosso código está fazendo? Execute o código a seguir para ver uma animação:\n",
    "</span>"
   ]
  },
  {
   "cell_type": "code",
   "execution_count": 3,
   "metadata": {
    "collapsed": false
   },
   "outputs": [
    {
     "data": {
      "text/html": [
       "<iframe width=\"420\" height=\"315\" src=\"https://www.youtube.com/embed/9h_5HYvmL44\"></iframe>"
      ],
      "text/plain": [
       "<IPython.core.display.HTML object>"
      ]
     },
     "execution_count": 3,
     "metadata": {},
     "output_type": "execute_result"
    }
   ],
   "source": [
    "# Código para rodar vídeo\n",
    "from IPython.display import HTML\n",
    "HTML('<iframe width=\"420\" height=\"315\" src=\"https://www.youtube.com/embed/9h_5HYvmL44\"></iframe>')"
   ]
  },
  {
   "cell_type": "markdown",
   "metadata": {},
   "source": [
    "<span style=\"font-size:16pt;\">**Faça você mesmo!**\n",
    "Modifique o código acima para que ele imprima os números de 1 a 8.\n",
    "</span>\n",
    "\n",
    "<span style=\"font-size:14pt;\">\n",
    "`[1, 2, 3, 4, 5]` é um exemplo de **lista**. Uma lista pode ter elementos de vários tipos!\n",
    "<br />Veja o código abaixo.\n",
    "</span>"
   ]
  },
  {
   "cell_type": "code",
   "execution_count": 4,
   "metadata": {
    "collapsed": false
   },
   "outputs": [
    {
     "name": "stdout",
     "output_type": "stream",
     "text": [
      "papagaio\n",
      "cachorro\n",
      "True\n",
      "34\n"
     ]
    }
   ],
   "source": [
    "for e in ['papagaio', 'cachorro', True, 34]:\n",
    "    print(e)"
   ]
  },
  {
   "cell_type": "markdown",
   "metadata": {},
   "source": [
    "<span style=\"font-size:16pt;\">**Faça você mesmo!** Modifique o código acima para que ele imprima:\n",
    "<br />\n",
    "<br />`papagaio`\n",
    "<br />`cachorro`\n",
    "<br />`True`\n",
    "<br />`34`\n",
    "<br />`False`\n",
    "<br />`borboleta`\n",
    "<br />`0`\n",
    "<br />\n",
    "<br/ >Note que borboleta deve ser escrito do mesmo jeito que papagaio e cachorro (com as aspas), pois é uma palavra.\n",
    "</span>\n",
    "\n"
   ]
  },
  {
   "cell_type": "markdown",
   "metadata": {},
   "source": [
    "<span style=\"font-size:14pt;\">Mas e se quiséssemos mostrar os números de 1 a 20? Teríamos que digitar um por um na lista?\n",
    "<br />Claro que não! Temos um comando que já faz isso para a gente:</span>"
   ]
  },
  {
   "cell_type": "code",
   "execution_count": 5,
   "metadata": {
    "collapsed": false
   },
   "outputs": [
    {
     "data": {
      "text/plain": [
       "[1, 2, 3, 4, 5, 6, 7, 8, 9, 10, 11, 12, 13, 14, 15, 16, 17, 18, 19, 20]"
      ]
     },
     "execution_count": 5,
     "metadata": {},
     "output_type": "execute_result"
    }
   ],
   "source": [
    "x = list(range(1, 21))\n",
    "x"
   ]
  },
  {
   "cell_type": "markdown",
   "metadata": {},
   "source": [
    "<span style=\"font-size:14pt;\">O primeiro número do comando **`range`** indica o valor inicial e o segundo número é o primeiro número que não é incluído na lista.</span>\n",
    "\n",
    "<span style=\"font-size:16pt;\">**Faça você mesmo!** Modifique o código acima para que x contenha os números de **10** a **50**\n",
    "</span>\n",
    "\n",
    "<span style=\"font-size:14pt;\">Agora podemos usar isso junto com o **`for`**:"
   ]
  },
  {
   "cell_type": "code",
   "execution_count": null,
   "metadata": {
    "collapsed": false
   },
   "outputs": [],
   "source": [
    "x = list(range(1, 21))\n",
    "for n in x:\n",
    "    print(n)"
   ]
  },
  {
   "cell_type": "markdown",
   "metadata": {},
   "source": [
    "<span style=\"font-size:16pt;\">**Faça você mesmo!** Modifique o código acima para que ele imprima os números de **10 a 50**.</span>\n",
    "\n",
    "\n",
    "<span style=\"font-size:14pt;\">Podemos também interagir com o usuário. Digite 20 na execução a seguir:</span>"
   ]
  },
  {
   "cell_type": "code",
   "execution_count": null,
   "metadata": {
    "collapsed": false
   },
   "outputs": [],
   "source": [
    "limite = int(input(\"Digite o maior número: \"))\n",
    "x = range(1, limite + 1)\n",
    "for n in x:\n",
    "    print(n)"
   ]
  },
  {
   "cell_type": "markdown",
   "metadata": {},
   "source": [
    "<span style=\"font-size:16pt;\">**Faça você mesmo!** Modifique o código acima para que ele também peça o número inicial para o usuário. Rode uma vez de modo que ele imprima os números de **10** a **50**</span>\n",
    "\n",
    "\n",
    "<span style=\"font-size:14pt;\">Mas e se quiséssemos ir aumentando de 0.1 em 0.1 ao invés de 1 em 1. Nesse caso, vamos usar uma biblioteca que se chama numpy. Esse biblioteca tem coisas prontas que serão muito úteis para a gente!</span>\n",
    "\n",
    "<span style=\"font-size:14pt;\">Para importar o numpy, basta digitar o código a seguir:</span>"
   ]
  },
  {
   "cell_type": "code",
   "execution_count": 6,
   "metadata": {
    "collapsed": true
   },
   "outputs": [],
   "source": [
    "import numpy as np"
   ]
  },
  {
   "cell_type": "markdown",
   "metadata": {},
   "source": [
    "<span style=\"font-size:14pt;\">Para não termos que ficar digitando numpy toda vez que o usarmos, nós demos para ele o \" \"apelido\" de np. A seguir, vamos criar um **array** (que é parecido com uma lista):</span>"
   ]
  },
  {
   "cell_type": "code",
   "execution_count": 7,
   "metadata": {
    "collapsed": false
   },
   "outputs": [
    {
     "data": {
      "text/plain": [
       "array([ 0. ,  0.1,  0.2,  0.3,  0.4,  0.5,  0.6,  0.7,  0.8,  0.9,  1. ,\n",
       "        1.1,  1.2,  1.3,  1.4,  1.5,  1.6,  1.7,  1.8,  1.9,  2. ,  2.1,\n",
       "        2.2,  2.3,  2.4])"
      ]
     },
     "execution_count": 7,
     "metadata": {},
     "output_type": "execute_result"
    }
   ],
   "source": [
    "\n",
    "x = np.arange(0,2.5,.1)\n",
    "x"
   ]
  },
  {
   "cell_type": "markdown",
   "metadata": {},
   "source": [
    "<span style=\"font-size:14pt;\">Qual a diferença desses *arrays* para listas que estamos vendo agora? </span>\n",
    "\n",
    "<span style=\"font-size:14pt;\">1. As listas podem conter qualquer tipo de dado e os arrays são só para números\n",
    "<br />2. O comando **`range`** sempre aumenta de 1 em 1 e o **`arange`** deixa você especificar o quanto é adicionado em cada passo (no nosso exemplo, foi 0.1).</span>\n",
    "\n",
    "<span style=\"font-size:14pt;\">Podemos usar o **`for`** também com os *arrays* do Numpy:</span>"
   ]
  },
  {
   "cell_type": "code",
   "execution_count": 8,
   "metadata": {
    "collapsed": false
   },
   "outputs": [
    {
     "name": "stdout",
     "output_type": "stream",
     "text": [
      "0.0\n",
      "0.1\n",
      "0.2\n",
      "0.3\n",
      "0.4\n",
      "0.5\n",
      "0.6\n",
      "0.7\n",
      "0.8\n",
      "0.9\n",
      "1.0\n",
      "1.1\n",
      "1.2\n",
      "1.3\n",
      "1.4\n",
      "1.5\n",
      "1.6\n",
      "1.7\n",
      "1.8\n",
      "1.9\n",
      "2.0\n",
      "2.1\n",
      "2.2\n",
      "2.3\n",
      "2.4\n"
     ]
    }
   ],
   "source": [
    "x = np.arange(0,2.5,.1)\n",
    "for n in x:\n",
    "    print(n)"
   ]
  },
  {
   "cell_type": "markdown",
   "metadata": {},
   "source": [
    "### *Exemplo*\n",
    "\n",
    "<span style=\"font-size:14pt;\">Suponha que queremos calcular a soma dos números de $1$ a $n$.\n",
    "<br />Por exemplo, se $n = 5$, queremos calcular:\n",
    "<br />$$1 + 2 + 3 + 4 + 5 = 15.$$\n",
    "<br />Na verdade, existe uma fórmula para isso, mas suponha que queremos fazer isso com o **`for`**:\n",
    "</span>"
   ]
  },
  {
   "cell_type": "code",
   "execution_count": 9,
   "metadata": {
    "collapsed": false
   },
   "outputs": [
    {
     "name": "stdout",
     "output_type": "stream",
     "text": [
      "De o valor de n: 10\n",
      "55\n"
     ]
    }
   ],
   "source": [
    "n = int(input(\"De o valor de n: \"))\n",
    "total = 0\n",
    "for i in range(1, n + 1):\n",
    "    total = total + i\n",
    "print(total)"
   ]
  },
  {
   "cell_type": "markdown",
   "metadata": {},
   "source": [
    "<span style=\"font-size:14pt;\">Você achou a seguinte linha estranha?\n",
    "<br /> total = total + i\n",
    "<br />O que essa linha faz é o seguinte\n",
    "<br />1. calcula o valor de total+i\n",
    "<br />2. guarda o resultado em total. Ou seja, sobrescrevemos o valor de total!\n",
    "<br />O código abaixo traz uma situação análoga, execute-a e veja o que acontece.\n",
    "</span>"
   ]
  },
  {
   "cell_type": "code",
   "execution_count": 10,
   "metadata": {
    "collapsed": false
   },
   "outputs": [
    {
     "data": {
      "text/plain": [
       "12"
      ]
     },
     "execution_count": 10,
     "metadata": {},
     "output_type": "execute_result"
    }
   ],
   "source": [
    "x = 2\n",
    "x = x + 10\n",
    "x"
   ]
  },
  {
   "cell_type": "markdown",
   "metadata": {},
   "source": [
    "<span style=\"font-size:16pt;\">**Faça você mesmo!** Modifique o código do exemplo acima de modo que o total seja a soma dos quadrados. Ou seja, o total deve ser:\n",
    "<br />\n",
    "<br />$1^2 + 2^2 + 3^2 + \\cdots + n^2$ \n",
    "<br />\n",
    "<br />Responda a Questão 1 do Tutorial 6.\n",
    "</span>"
   ]
  },
  {
   "cell_type": "markdown",
   "metadata": {},
   "source": [
    "<span style=\"font-size:16pt;\">\n",
    "O código a seguir pede que o usuário digite o número de vendas e depois imprima o total:\n",
    "</span>"
   ]
  },
  {
   "cell_type": "code",
   "execution_count": null,
   "metadata": {
    "collapsed": false
   },
   "outputs": [],
   "source": [
    "n = int(input(\"Qual o número de vendas? \"))\n",
    "total = 0.0\n",
    "for i in range(n):\n",
    "    valor = float(input(\"Qual o valor da venda? \"))\n",
    "    total = total + valor\n",
    "print(\"A total das vendas é:\", total)"
   ]
  },
  {
   "cell_type": "markdown",
   "metadata": {},
   "source": [
    "<span style=\"font-size:16pt;\">**Faça você mesmo!** Modifique o código acima de modo que, além do total, o programa imprima também a média das vendas. Além disso, \n",
    "<br />Responda a Questão 2 do Tutorial 6.\n",
    "</span>"
   ]
  },
  {
   "cell_type": "markdown",
   "metadata": {},
   "source": [
    "<span style=\"font-size:16pt;\">**Faça você mesmo!** Agora, modifique o código acima de modo que, toda vez que o usuário digitar uma venda de valor maior do que 100, o programa mostre uma mensagem de parabéns para o vendedor. Conte quantas vendas ultrapassaram 100 e, no final, imprima uma mensagem informando esse valor.\n",
    "</span>"
   ]
  },
  {
   "cell_type": "markdown",
   "metadata": {},
   "source": [
    "# O comando while\n",
    "\n",
    "<span style=\"font-size:14pt;\">Agora vamos ver outro comando para fazer repetições:\n",
    "</span>"
   ]
  },
  {
   "cell_type": "code",
   "execution_count": 11,
   "metadata": {
    "collapsed": false
   },
   "outputs": [
    {
     "name": "stdout",
     "output_type": "stream",
     "text": [
      "1\n",
      "2\n",
      "3\n",
      "4\n",
      "5\n"
     ]
    }
   ],
   "source": [
    "n = 1               # começamos com n = 1\n",
    "while n <= 5:       # enquanto n <= 5\n",
    "    print(n)        #     imprima n\n",
    "    n = n + 1       #     aumente em 1 o valor de n"
   ]
  },
  {
   "cell_type": "markdown",
   "metadata": {},
   "source": [
    "<span style=\"font-size:16pt;\">\n",
    "**Faça você mesmo!**\n",
    "<br />Modifique o código acima para que ele imprima os números de **10 a 50**. \n",
    "</span>\n",
    "\n",
    "<span style=\"font-size:14pt;\">\n",
    "O que exatamente o nosso código está fazendo? Execute o código a seguir para ver uma animação:\n",
    "</span>"
   ]
  },
  {
   "cell_type": "code",
   "execution_count": 12,
   "metadata": {
    "collapsed": false,
    "scrolled": false
   },
   "outputs": [
    {
     "data": {
      "text/html": [
       "<iframe width=\"420\" height=\"315\" src=\"https://www.youtube.com/embed/PDQ0Mi-iT1A\"></iframe>"
      ],
      "text/plain": [
       "<IPython.core.display.HTML object>"
      ]
     },
     "execution_count": 12,
     "metadata": {},
     "output_type": "execute_result"
    }
   ],
   "source": [
    "# Código para rodar vídeo\n",
    "from IPython.display import HTML\n",
    "HTML('<iframe width=\"420\" height=\"315\" src=\"https://www.youtube.com/embed/PDQ0Mi-iT1A\"></iframe>')"
   ]
  },
  {
   "cell_type": "markdown",
   "metadata": {},
   "source": [
    "<span style=\"font-size:14pt;\">Ou seja, \n",
    "<br />o comando **`while`** (*enquanto* em português) tem uma condição (`n<=5` no nosso exemplo) \n",
    "<br />e executa o bloco de código indentado enquanto a condição dada for verdadeira.\n",
    "</span>\n",
    "\n",
    "<span style=\"font-size:14pt;\">**Atenção:** sempre tome muito cuidado quando você for usar o comando **`while`**, pois se você não prestar atenção na condição, você corre o risco de ela ser sempre verdadeira, fazendo com que o programa **_entre em loop_**, Ou seja, o programa fica rodando para sempre e trava o kernel do Python!</span>\n",
    "\n",
    "<span style=\"font-size:16pt;\">**Faça você mesmo!**\n",
    "<br />O código a seguir imprime os números de 1 a 10. Modifique APENAS o código do bloco do while de modo que ele imprima o seguinte:\n",
    "<br />1 é ímpar\n",
    "<br />2 é par \n",
    "<br />3 é ímpar\n",
    "<br />4 é par \n",
    "<br />5 é ímpar\n",
    "<br />6 é par \n",
    "<br />7 é ímpar\n",
    "<br />8 é par \n",
    "<br />9 é ímpar\n",
    "<br />10 é par \n",
    "<br />*Dica*: Use um if!\n",
    "</span>"
   ]
  },
  {
   "cell_type": "code",
   "execution_count": 13,
   "metadata": {
    "collapsed": false
   },
   "outputs": [
    {
     "name": "stdout",
     "output_type": "stream",
     "text": [
      "1\n",
      "2\n",
      "3\n",
      "4\n",
      "5\n",
      "6\n",
      "7\n",
      "8\n",
      "9\n",
      "10\n"
     ]
    }
   ],
   "source": [
    "n = 1 #começamos com n = 1\n",
    "while n <= 10: #enquanto n <= 5\n",
    "    print(n) #imprima n\n",
    "    n = n + 1 #aumente o valor de n de 1"
   ]
  },
  {
   "cell_type": "markdown",
   "metadata": {},
   "source": [
    "<span style=\"font-size:14pt;\">O while é usado no lugar do for quando não sabemos quantas vezes devemos rodar o código.  O seguinte código Imprime \"SENHA CORRETA\" se o usuário digita 1234 e \"SENHA INCORRETA\" se o usuário digita qualquer outro número. Ele roda até o usuário acertar a senha!</span>"
   ]
  },
  {
   "cell_type": "code",
   "execution_count": 14,
   "metadata": {
    "collapsed": false
   },
   "outputs": [
    {
     "name": "stdout",
     "output_type": "stream",
     "text": [
      "Digite a sua senha numérica: 324\n",
      "SENHA INCORRETA\n",
      "Digite a sua senha numérica: 1234\n",
      "SENHA CORRETA\n"
     ]
    }
   ],
   "source": [
    "rodar = True\n",
    "while (rodar):\n",
    "    senha = int(input(\"Digite a sua senha numérica: \"))\n",
    "    if senha == 1234:\n",
    "        print(\"SENHA CORRETA\")\n",
    "        rodar = False \n",
    "    else: \n",
    "        print(\"SENHA INCORRETA\")"
   ]
  },
  {
   "cell_type": "markdown",
   "metadata": {},
   "source": [
    "<span style=\"font-size:16pt;\">**Faça você mesmo!**\n",
    "<br />Modifique o código acima de modo que ele permita no máximo 3 tentativas para acertar a senha.\n",
    "<br />Dica: use uma variável para contar quantas tentativas foram feitas!</span>"
   ]
  },
  {
   "cell_type": "code",
   "execution_count": null,
   "metadata": {
    "collapsed": true
   },
   "outputs": [],
   "source": []
  },
  {
   "cell_type": "markdown",
   "metadata": {},
   "source": [
    "## Exercício \n",
    "<span style=\"font-size:16pt;\">Alice e Bob estão jogando par ou ímpar. São 5 rodadas. Vence quem ganhar o maior número de rodadas. Isto é, vence quem ganhar 3 rodadas primeiro. Alice sempre aposta no par e Bob no ímpar. Se um deles \n",
    "acumular 3 vitórias em menos de 5 rodadas, eles não terminam de jogar as rodadas que restam, pois já se sabe quem é o vencedor. Em cada rodada, seu programa deve pedir para Alice e Bob digitarem os números que querem jogar. No fim, seu programa deve mostrar quem venceu.\n",
    "<br />Responda a Questão 3 do Tutorial 6.</span>"
   ]
  },
  {
   "cell_type": "code",
   "execution_count": null,
   "metadata": {
    "collapsed": true
   },
   "outputs": [],
   "source": []
  }
 ],
 "metadata": {
  "anaconda-cloud": {},
  "kernelspec": {
   "display_name": "Python 3",
   "language": "python",
   "name": "python3"
  },
  "language_info": {
   "codemirror_mode": {
    "name": "ipython",
    "version": 3
   },
   "file_extension": ".py",
   "mimetype": "text/x-python",
   "name": "python",
   "nbconvert_exporter": "python",
   "pygments_lexer": "ipython3",
   "version": "3.5.2"
  }
 },
 "nbformat": 4,
 "nbformat_minor": 0
}
