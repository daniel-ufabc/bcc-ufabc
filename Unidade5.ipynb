{
 "cells": [
  {
   "cell_type": "markdown",
   "metadata": {},
   "source": [
    "# Unidade 5 - Condicionais\n",
    "\n",
    "Nesse momento, você já teve contato com alguns elementos de programação em Python. Você viu que Python pode ser usado como uma calculadora poderosa, que faz gráficos. Você fez alguns programas que trocam mensagens com o usuário. Porém, até agora, seus programas não conseguiam tomar decisões sozinhos: tudo o que eles conseguem fazer é seguir um fluxo único de instruções, sem bifurcações, sem escolhas.\n",
    "\n",
    "Nesta unidade, você vai aprender como fazer o seu programa tomar decisões de acordo com o resultado de um \"teste\". \n",
    "\n",
    "## Comparações numéricas\n",
    "\n",
    "Em Python, você pode testar vários tipos de condições. As mais simples são as condições que comparam números, por exemplo:"
   ]
  },
  {
   "cell_type": "code",
   "execution_count": null,
   "metadata": {
    "collapsed": false
   },
   "outputs": [],
   "source": [
    "2 > 5"
   ]
  },
  {
   "cell_type": "code",
   "execution_count": null,
   "metadata": {
    "collapsed": false
   },
   "outputs": [],
   "source": [
    "3 >= 3"
   ]
  },
  {
   "cell_type": "markdown",
   "metadata": {},
   "source": [
    "A seguir, você pode ver uma tabela com os comparadores numéricos de Python. \n",
    "\n",
    "| operador | significado      |\n",
    "|---------:|------------------|\n",
    "|      `>` | maior que        |\n",
    "|      `<` | menor que        |\n",
    "|     `>=` | maior ou igual a |\n",
    "|     `<=` | menor ou igual a |\n",
    "|     `==` | igual a          |\n",
    "|     `!=` | diferente de     |\n",
    "\n",
    "A seguir, veja mais um exemplo."
   ]
  },
  {
   "cell_type": "code",
   "execution_count": null,
   "metadata": {
    "collapsed": false,
    "scrolled": true
   },
   "outputs": [],
   "source": [
    "5*(4 + 3) == 3*(4 + 5)"
   ]
  },
  {
   "cell_type": "markdown",
   "metadata": {},
   "source": [
    "**Atenção:** não confunda o operador de comparação de igualdade (`==`) com a atribuição (`=`).\n",
    "\n",
    "## Verdadeiro ou falso\n",
    "\n",
    "Veja que o resultado de uma comparação é `True` ou `False`. Estes são dois valores especiais em Python. Você pode guardá-los em uma variável, por exemplo, fazendo:"
   ]
  },
  {
   "cell_type": "code",
   "execution_count": null,
   "metadata": {
    "collapsed": false
   },
   "outputs": [],
   "source": [
    "teste1 = 3 < 8 / 3\n",
    "print(teste1)"
   ]
  },
  {
   "cell_type": "code",
   "execution_count": null,
   "metadata": {
    "collapsed": false
   },
   "outputs": [],
   "source": [
    "teste2 = True\n",
    "print(teste2)"
   ]
  },
  {
   "cell_type": "markdown",
   "metadata": {},
   "source": [
    "## Código condicional\n",
    "\n",
    "Agora você vai ver como um programa em Python consegue tomar decisões, isto é, como fazer para executar um trecho de código somente quando uma condição for verdadeira. \n",
    "\n",
    "Para isso, vamos usar o comando `if`, que significa \"se\" em inglês. \n",
    "\n",
    "Veja o exemplo abaixo, execute-o e depois veja a explicação."
   ]
  },
  {
   "cell_type": "code",
   "execution_count": null,
   "metadata": {
    "collapsed": false
   },
   "outputs": [],
   "source": [
    "A = 2\n",
    "B = 10\n",
    "if A > B:\n",
    "    print(\"A é maior que B\")\n",
    "    print(\"===============\")\n",
    "    \n",
    "print(\"fim do programa\")"
   ]
  },
  {
   "cell_type": "markdown",
   "metadata": {},
   "source": [
    "Veja que as linhas `print(...)` logo após o comando `if` não surtiram efeito, pois `A > B` é falso para os valores atribuído a `A` e `B`.\n",
    "\n",
    "No código acima, mude o valor de `A` para qualquer coisa maior do que 10, re-execute a célula e veja o que acontece."
   ]
  },
  {
   "cell_type": "markdown",
   "metadata": {},
   "source": [
    "### Estrutura do comando `if`\n",
    "\n",
    "O comando `if` tem a seguinte estrutura.\n",
    "\n",
    "    if condição:\n",
    "        código  \n",
    "        código\n",
    "        código\n",
    "        etc...\n",
    "        \n",
    "    continuação do programa\n",
    "    \n",
    "As linhas de código que você quiser executar quando a condição for verdadeira devem vir *indentadas* (recuadas) logo após o comando `if`. \n",
    "\n",
    "É uma prática comum fazer indentação de código para que ele fique mais legível. Na maioria das linguagens de programação, a indentação tem um propósito puramente estético. Em Python a indentação é **obrigatória** em vários casos, o bloco do `if` é apenas um exemplo.\n",
    "\n",
    "**Atenção:** em Python, se você não *indentar* o código corretamente, o programa terá um comportamento diferente daquele que você espera. "
   ]
  },
  {
   "cell_type": "markdown",
   "metadata": {},
   "source": [
    "## Exercício 1\n",
    "\n",
    "Faça um programa que pergunta ao usuário quantos anos ele tem. Se o usuário tem idade par, mostre uma mensagem a ele informando-o desse fato. No caso ímpar você não precisa fazer nada.\n",
    "\n",
    "No Tidia, responda à *Questão 1* da seção *Unidade 5 - Tutorial*."
   ]
  },
  {
   "cell_type": "code",
   "execution_count": null,
   "metadata": {
    "collapsed": true
   },
   "outputs": [],
   "source": []
  },
  {
   "cell_type": "markdown",
   "metadata": {},
   "source": [
    "## O comando `if..else`\n",
    "\n",
    "Agora que você já entendeu o funcionamento do `if`, vamos aprender como executar uma ação (ou várias ações) caso a condição seja falsa. \n",
    "\n",
    "Por exemplo, no exercício anterior, se quiséssemos mostrar uma mensagem ao usuário também no caso ímpar teríamos de fazer algo do tipo:"
   ]
  },
  {
   "cell_type": "code",
   "execution_count": null,
   "metadata": {
    "collapsed": false
   },
   "outputs": [],
   "source": [
    "idade=int(input(\"Quantos anos você tem? \"))\n",
    "if idade % 2 == 0:\n",
    "    print(\"Sua idade é par.\")\n",
    "if idade % 2 == 1:\n",
    "    print(\"Sua idade é ímpar.\")"
   ]
  },
  {
   "cell_type": "markdown",
   "metadata": {},
   "source": [
    "Com o comando `else` (que significa \"senão\" em inglês), é possível economizar um pouco de código. Veja o exemplo abaixo."
   ]
  },
  {
   "cell_type": "code",
   "execution_count": null,
   "metadata": {
    "collapsed": false
   },
   "outputs": [],
   "source": [
    "idade=int(input(\"Quantos anos você tem? \"))\n",
    "if idade % 2 == 0:\n",
    "    print(\"Sua idade é par.\")\n",
    "else:\n",
    "    print(\"Sua idade é ímpar.\")"
   ]
  },
  {
   "cell_type": "code",
   "execution_count": null,
   "metadata": {
    "collapsed": true
   },
   "outputs": [],
   "source": []
  }
 ],
 "metadata": {
  "kernelspec": {
   "display_name": "Python 3",
   "language": "python",
   "name": "python3"
  },
  "language_info": {
   "codemirror_mode": {
    "name": "ipython",
    "version": 3
   },
   "file_extension": ".py",
   "mimetype": "text/x-python",
   "name": "python",
   "nbconvert_exporter": "python",
   "pygments_lexer": "ipython3",
   "version": "3.5.1"
  }
 },
 "nbformat": 4,
 "nbformat_minor": 0
}
