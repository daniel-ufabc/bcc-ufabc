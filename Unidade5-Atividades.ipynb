{
 "cells": [
  {
   "cell_type": "markdown",
   "metadata": {},
   "source": [
    "## Questão 1\n",
    "\n",
    "Alice costuma visitar dois locais: a academia e a biblioteca. Ela tem a opção de ir a pé ou de carro.\n",
    "Aqui está um tabela com o tempo que ela demora para chegar em cada um dos locais (em minutos):\n",
    "\n",
    "|          | Academia | Biblioteca |\n",
    "|----------|----------|------------|\n",
    "| A pé     | 10       | 30         |\n",
    "| De carro | 6        | 15         |\n",
    "\n",
    "Faça um programa que:\n",
    "* Pede para Alice digitar 0 se ela quer ir para a academia e 1 se ela quer ir para a biblioteca.\n",
    "* Pede para Alice digitar 0 se ela quer ir a pé e 1 se ela quer ir de carro.\n",
    "* Mostra na tela, quanto tempo Alice demorará para chegar ao destino dela.\n",
    "<!-- Para esta questão, faça duas soluções: uma com o operador **`and`** e outra com comandos **`if..else`** encaixados. -->"
   ]
  },
  {
   "cell_type": "code",
   "execution_count": null,
   "metadata": {
    "collapsed": true
   },
   "outputs": [],
   "source": []
  },
  {
   "cell_type": "markdown",
   "metadata": {},
   "source": [
    "## Questão 2\n",
    "\n",
    "Alice quer construir uma estrada no sentido norte-sul e Bob quer construir outra no sentido leste-oeste.\n",
    "Pergunte à Alice, as coordenadas `(x_a, y_a)` do ponto mais ao sul de sua estrada e o\n",
    "comprimento `c_a` que a estrada dela terá. Note que são 3 perguntas numéricas a Alice. Depois faça três perguntas numéricas a Bob: pergunte as coordenadas `(x_b, y_b)` do ponto mais a oeste de sua estrada e também qual o comprimento `c_b`. Seu programa deve, então, decidir se as estradas de Alice e Bob se cruzam e mostrar o veredicto ao usuário."
   ]
  },
  {
   "cell_type": "code",
   "execution_count": null,
   "metadata": {
    "collapsed": true
   },
   "outputs": [],
   "source": []
  },
  {
   "cell_type": "markdown",
   "metadata": {},
   "source": [
    "## Questão 3\n",
    "\n",
    "Faça um programa que implemente a Fórmula de Bhaskara para resolver equações de segundo grau\n",
    "\n",
    "$$ a x^2 + b x + c = 0.$$\n",
    "\n",
    "Seu programa deve perguntar por cada um dos coeficientes ($a, b$, e depois $c$). Então, ele deve decidir quantas soluções a equação tem (uma equação dessas pode ter zero, uma ou duas soluções). Finalmente, seu programa deve mostrar as soluções que existirem."
   ]
  },
  {
   "cell_type": "code",
   "execution_count": null,
   "metadata": {
    "collapsed": true
   },
   "outputs": [],
   "source": []
  },
  {
   "cell_type": "markdown",
   "metadata": {},
   "source": [
    "## Questão 4\n",
    "\n",
    "Faça um programa que decide se dois círculos se intersectam. Seu programa deve:\n",
    "* Perguntar pelo raio $r_1$ do 1º círculo.\n",
    "* Perguntar pela posição $x_1$ do contro do 1º círculo.\n",
    "* Perguntar pela posição $y_1$ do contro do 1º círculo.\n",
    "* Perguntar pelo raio $r_2$ do 2º círculo.\n",
    "* Perguntar pela posição $x_2$ do contro do 2º círculo.\n",
    "* Perguntar pela posição $y_2$ do contro do 2º círculo.\n",
    "* Mostrar ao usuário uma mensagem dizendo se os círculos dados se intersectam ou não."
   ]
  },
  {
   "cell_type": "code",
   "execution_count": null,
   "metadata": {
    "collapsed": true
   },
   "outputs": [],
   "source": []
  },
  {
   "cell_type": "markdown",
   "metadata": {},
   "source": [
    "Vá em **_File &raquo; Download as &raquo; Notebook (.ipynb)_**, baixe o *notebook* e depois submeta-o pelo Tidia em \n",
    "**_Atividades &raquo; Unidade 5 - Atividades_**."
   ]
  }
 ],
 "metadata": {
  "anaconda-cloud": {},
  "kernelspec": {
   "display_name": "Python [Root]",
   "language": "python",
   "name": "Python [Root]"
  },
  "language_info": {
   "codemirror_mode": {
    "name": "ipython",
    "version": 3
   },
   "file_extension": ".py",
   "mimetype": "text/x-python",
   "name": "python",
   "nbconvert_exporter": "python",
   "pygments_lexer": "ipython3",
   "version": "3.5.1"
  }
 },
 "nbformat": 4,
 "nbformat_minor": 0
}
