{
 "cells": [
  {
   "cell_type": "markdown",
   "metadata": {},
   "source": [
    "## Exercício 1: soma de quadrados\n",
    "\n",
    "Pergunte ao usuário por um número $n$. Em seguida, pergunte a ele por $n$ números inteiros e, no final, mostre a ele a soma dos quadrados dos $n$ números que o usuário forneceu. Por exemplo, se as respostas do usuário forem: 3, 4, 2, 2, sua resposta deve ser $4^2 + 2^2 + 2^2 = 24$. Faça um programa usando o comando **`for`** e outro usando o comando **`while`**."
   ]
  },
  {
   "cell_type": "code",
   "execution_count": null,
   "metadata": {
    "collapsed": true
   },
   "outputs": [],
   "source": [
    "# Faça aqui o programa usando for"
   ]
  },
  {
   "cell_type": "code",
   "execution_count": null,
   "metadata": {
    "collapsed": true
   },
   "outputs": [],
   "source": [
    "# Faça aqui o programa usando while"
   ]
  },
  {
   "cell_type": "markdown",
   "metadata": {},
   "source": [
    "## Exercício 2: calculando o fatorial\n",
    "\n",
    "Na Unidade 3, vimos que o módulo **`math`** tem uma função chamada **`factorial`** que calcula o fatorial de um número. Você sabe que o fatorial de um número inteiro positivo $n$ é definido como\n",
    "\n",
    "$$n! = n\\times (n-1)\\times (n-2)\\times\\cdots\\times 3\\times 2\\times 1$$\n",
    "\n",
    "Neste exemplo, você deve fazer um programa que faz o seguinte:\n",
    "* Pergunta o valor de $n$ ao usuário,\n",
    "* Calcula o fatorial de $n$ e mostra o resultado ao usuário.\n",
    "\n",
    "<u>Não use a função **`factorial`** do módulo **`math`**!</u>"
   ]
  },
  {
   "cell_type": "code",
   "execution_count": null,
   "metadata": {
    "collapsed": true
   },
   "outputs": [],
   "source": [
    "# Solução análoga ao exemplo da soma de 1 a n no arquivo Unidade5.ipynb (mas agora com *)"
   ]
  },
  {
   "cell_type": "markdown",
   "metadata": {},
   "source": [
    "## Exercício 3: distância total\n",
    "\n",
    "Neste exercício você deve fazer um programa que calcula a distância percorrida por um helicóptero. O helicóptero parte da posição $(0, 0)$, voa em linha reta até a posição $(x_1, y_1)$ e pousa, depois voa em linha reta até a posição $(x_2, y_2)$ e pousa, e assim por diante, até pousar definitivamente na posição $(x_n, y_n)$. Suponha que essas coordenadas são todas inteiras. Seu programa deve fazer o seguinte:\n",
    "* pedir para o usuário digitar o número $n$ de pontos que o helicóptero deve visitar (além da origem);\n",
    "* depois pedir as coordenadas dos pontos, calcular a distância entre cada dois pontos consecutivos e acumular esse valor;\n",
    "* finalmente, seu programa deve mostrar a distância total percorrida pelo helicóptero.\n",
    "\n",
    "Veja um exemplo de execução abaixo.\n",
    "\n",
    "    Quantos heliportos o helicóptero irá visitar? 3\n",
    "    De a coordenada x do heliporto 1? 4\n",
    "    De a coordenada y do heliporto 1? 0\n",
    "    De a coordenada x do heliporto 2? 4\n",
    "    De a coordenada y do heliporto 2? 3\n",
    "    De a coordenada x do heliporto 3? 0\n",
    "    De a coordenada y do heliporto 3? 0\n",
    "    A distância total percorrida é 12.0"
   ]
  },
  {
   "cell_type": "code",
   "execution_count": null,
   "metadata": {
    "collapsed": true
   },
   "outputs": [],
   "source": [
    "# Solução análoga ao exemplo das vendas no arquivo Unidade5.ipynb (mas agora você deve calcular distâncias)"
   ]
  },
  {
   "cell_type": "code",
   "execution_count": null,
   "metadata": {
    "collapsed": true
   },
   "outputs": [],
   "source": []
  }
 ],
 "metadata": {
  "anaconda-cloud": {},
  "kernelspec": {
   "display_name": "Python 3",
   "language": "python",
   "name": "python3"
  },
  "language_info": {
   "codemirror_mode": {
    "name": "ipython",
    "version": 3
   },
   "file_extension": ".py",
   "mimetype": "text/x-python",
   "name": "python",
   "nbconvert_exporter": "python",
   "pygments_lexer": "ipython3",
   "version": "3.5.2"
  }
 },
 "nbformat": 4,
 "nbformat_minor": 0
}
