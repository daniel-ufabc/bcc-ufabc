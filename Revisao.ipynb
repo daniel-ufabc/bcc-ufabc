{
 "cells": [
  {
   "cell_type": "markdown",
   "metadata": {},
   "source": [
    "## Quantos segundos?\n",
    "\n",
    "Faça um programa que recebe do usuário três números $h$, $m$ e $s$ correspondentes ao número de horas, minutos e segundos decorridos desde um certo instante de interesse (por exemplo, desde a meia noite). Depois seu programa deve converter essa quantidade de tempo em segundos, isto é, dizer quantos segundos equivalem a esse intervalo de tempo."
   ]
  },
  {
   "cell_type": "code",
   "execution_count": null,
   "metadata": {
    "collapsed": true
   },
   "outputs": [],
   "source": []
  },
  {
   "cell_type": "markdown",
   "metadata": {},
   "source": [
    "## HH:MM:SS\n",
    "\n",
    "Suponha que um dia tenha exatamente 24h. Isso corresponde a 86400 segundos. Faça um programa que pede para o usuário digitar um número inteiro $k$ no intervalo $0 \\leq k \\leq 86400$. Depois, mostre na tela quantas horas, minutos e segundos correspondem à quantidade $k$ de segundos digitada pelo usuário. Sua mensagem deve ter o formato `HH:MM:SS`."
   ]
  },
  {
   "cell_type": "code",
   "execution_count": null,
   "metadata": {
    "collapsed": true
   },
   "outputs": [],
   "source": []
  },
  {
   "cell_type": "markdown",
   "metadata": {},
   "source": [
    "## Troco\n",
    "\n",
    "Faça um programa que dá o _troco_ usando o número mínimo de moedas. Seu programa deve perguntar ao usuário qual o valor $C$ de centavos que deve ser dado em moedas e depois ele deve mostrar:\n",
    "\n",
    "* quantas moedas de 100c (R$ 1.00) são necessárias,\n",
    "* quantas moedas de 50c são necessárias,\n",
    "* quantas moedas de 25c são necessárias,\n",
    "* quantas moedas de 10c são necessárias,\n",
    "* quantas moedas de 5c são necessárias,\n",
    "* quantas moedas de 1c são necessárias.\n"
   ]
  },
  {
   "cell_type": "code",
   "execution_count": null,
   "metadata": {
    "collapsed": true
   },
   "outputs": [],
   "source": []
  },
  {
   "cell_type": "markdown",
   "metadata": {},
   "source": [
    "## Anos bissextos\n",
    "\n",
    "Todo ano que for divisível por 4 é um ano bissexto, exceto pelos anos que são divisíveis por 100 mas não por 400. Por exemplo 1700 e 1800 não foram anos bissextos, mas 1600 e 2000 foram.\n",
    "\n",
    "Faça um programa que pede para o usuário digitar um ano, e que decide se esse ano é bissexto ou não."
   ]
  },
  {
   "cell_type": "code",
   "execution_count": null,
   "metadata": {
    "collapsed": true
   },
   "outputs": [],
   "source": []
  },
  {
   "cell_type": "markdown",
   "metadata": {},
   "source": [
    "## Quer sair hoje?\n",
    "\n",
    "Beto quer convidar Alice para sair, mas cada um tem somente um intervalo de tempo livre no dia. Beto pode sair da hora $x$ até a hora $y$, e alice pode sair da hora $u$ até a hora $v$. Faça um programa que pergunta pelos valores (inteiros) de $x, y, u$ e $v$, e que decide se Alice e Beto têm pelo menos duas horas para passarem juntos."
   ]
  },
  {
   "cell_type": "code",
   "execution_count": null,
   "metadata": {
    "collapsed": true
   },
   "outputs": [],
   "source": []
  },
  {
   "cell_type": "markdown",
   "metadata": {},
   "source": [
    "## Discos\n",
    "\n",
    "Um disco no plano pode ser representado por três números $x, y$ e $r$, onde $(x, y)$ são as cordenadas do centro do disco e $r$ é o raio. Faça um programa que pede ao usuário para fornecer os dados de dois discos (ou seja, que pede por seis números: $x1, y1, r1, x2, y2$ e $r2$) e que, em seguida, mostra uma mensagem dizendo se esses discos se intersectam ou não.\n",
    "\n",
    "<div style=\"text-align:center;\"><img width=\"200\" src=\"http://tidia4.ufabc.edu.br/access/content/group/8398384e-4091-4504-9c21-eae9a6a24a61/Unidade%208/disks.png\"/></div>"
   ]
  },
  {
   "cell_type": "code",
   "execution_count": null,
   "metadata": {
    "collapsed": true
   },
   "outputs": [],
   "source": []
  },
  {
   "cell_type": "markdown",
   "metadata": {},
   "source": [
    "## Quadrados ortogonais\n",
    "\n",
    "Um quadrado ortogonal (quadrado com os lados paralelos aos eixos) pode ser representado por três números $x, y$ e $c$, onde $(x, y)$ são as cordenadas do canto inferior esquerdo do quadrado e $c$ é o comprimento do lado do quadrado. Faça um programa que pede ao usuário para fornecer os dados de dois quadrados. Depois, seu programa deve dizer se esses quadrados se intersectam ou não.\n",
    "\n",
    "<div style=\"text-align:center;\"><img width=\"200\" src=\"http://tidia4.ufabc.edu.br/access/content/group/8398384e-4091-4504-9c21-eae9a6a24a61/Unidade%208/quads.png\"/></div>\n",
    "\n",
    "**Dica:** você pode usar a função &nbsp;`abs`&nbsp; do módulo &nbsp;`math`. \n"
   ]
  },
  {
   "cell_type": "code",
   "execution_count": null,
   "metadata": {
    "collapsed": true
   },
   "outputs": [],
   "source": []
  },
  {
   "cell_type": "markdown",
   "metadata": {
    "collapsed": true
   },
   "source": [
    "## Círculos\n",
    "\n",
    "Um círculo no plano pode ser representado pelos mesmos três números que um disco. Faça um programa que pede ao usuário para fornecer os dados de dois círculos e que mostra uma mensagem dizendo se esses círculos se intersectam ou não.\n",
    "\n",
    "<div style=\"text-align:center;\"><img width=\"200\" src=\"http://tidia4.ufabc.edu.br/access/content/group/8398384e-4091-4504-9c21-eae9a6a24a61/Unidade%208/circs2.png\"/></div>"
   ]
  },
  {
   "cell_type": "code",
   "execution_count": null,
   "metadata": {
    "collapsed": true
   },
   "outputs": [],
   "source": []
  },
  {
   "cell_type": "markdown",
   "metadata": {},
   "source": [
    "## Máximo e mínimo\n",
    "\n",
    "Faça um programa que pergunte ao usuário para digitar um número inteiro positivo $n$. Em seguida, peça para ele digitar $n$ números racionais (_float_). Depois que o usuário entrar com cada um dos $n$ números, seu programa deve exibir na tela o máximo e o mínimo desses números."
   ]
  },
  {
   "cell_type": "code",
   "execution_count": null,
   "metadata": {
    "collapsed": true
   },
   "outputs": [],
   "source": []
  },
  {
   "cell_type": "markdown",
   "metadata": {},
   "source": [
    "## Potência de 2\n",
    "\n",
    "Faça um programa que pede para o usuário digitar um número inteiro positivo $n$ e que, em seguida, decide se esse número é uma potência de 2 ou não. É proibido usar o módulo &nbsp;`math`&nbsp; ou qualquer outro módulo."
   ]
  },
  {
   "cell_type": "code",
   "execution_count": null,
   "metadata": {
    "collapsed": true
   },
   "outputs": [],
   "source": []
  },
  {
   "cell_type": "markdown",
   "metadata": {},
   "source": [
    "## Maior potência de 2 menor que $x$\n",
    "\n",
    "Faça um programa que pede ao usuário para digitar um número $x > 1$ e que mostre ao usuário o valor de $\\lfloor \\log_2{x} \\rfloor$. É proibido usar o módulo &nbsp;`math`&nbsp; ou qualquer outro módulo.\n",
    "\n",
    "**Dica:** $\\lfloor \\log_2{x} \\rfloor$ é o maior inteiro $k$ tal que $2^k \\leq x$."
   ]
  },
  {
   "cell_type": "code",
   "execution_count": null,
   "metadata": {
    "collapsed": true
   },
   "outputs": [],
   "source": []
  },
  {
   "cell_type": "markdown",
   "metadata": {},
   "source": [
    "## Base 2\n",
    "\n",
    "Faça um programa que pede ao usuário um número inteiro $n > 0$ e que depois mostre na tela a representação binária de $n$. Ou seja, faça um programa de conversão de base."
   ]
  },
  {
   "cell_type": "code",
   "execution_count": null,
   "metadata": {
    "collapsed": true
   },
   "outputs": [],
   "source": []
  },
  {
   "cell_type": "markdown",
   "metadata": {},
   "source": [
    "## $3n + 1$\n",
    "\n",
    "Considere o seguinte jogo. Primeiramente escolhemos um número inteiro $n$ e repete-se o seguinte procedimento. Se $n$ é par, então o novo valor de $n$ será $n / 2$; se $n$ é ímpar, o novo valor de $n$ será $3n + 1$. [Uma conjectura famosa](https://en.wikipedia.org/wiki/Collatz_conjecture) de Lothar Collatz diz que, para qualquer valor inicial de $n$, se iterarmos essa regrinha indefinidamente, alguma hora $n$ fica sendo igual a 1.\n",
    "\n",
    "Você deve fazer um programa que simula esse jogo. Seu programa deve pedir ao usuário que digite o valor de $n$ e depois deve simular por no máximo 100 passos a regrinha de substituição de $n$ como explicado no parágrafo anterior. A cada passo seu programa deve imprimir o valor atual de $n$. Se em algum momento $n = 1$, seu programa deve parar a simulação após imprimir o valor 1.\n",
    "\n",
    "Por exemplo, se o usuário digitar 13, seu programa deve imprimir na tela a sequência 13, 40, 20, 10, 5, 16, 8, 4, 2, 1. Pode imprimir um número por linha, é claro."
   ]
  },
  {
   "cell_type": "code",
   "execution_count": null,
   "metadata": {},
   "outputs": [],
   "source": []
  },
  {
   "cell_type": "markdown",
   "metadata": {},
   "source": [
    "## Números em ordem?\n",
    "\n",
    "Faça um programa que pergunta para o usuário uma sequência de números positivos terminada por um número negativo (um número por vez, é claro). Depois que o usuário digita um número negativo, seu programa deve parar de fazer perguntas, ignorar esse número negativo, e mostrar na tela a palavra \"_crescente_\" se os números positivos digitados pelo usuário estão em ordem crescente ou mostrar \"_não crescente_\" caso contrário."
   ]
  },
  {
   "cell_type": "code",
   "execution_count": null,
   "metadata": {
    "collapsed": true
   },
   "outputs": [],
   "source": []
  },
  {
   "cell_type": "markdown",
   "metadata": {},
   "source": [
    "## Números triangulares\n",
    "\n",
    "Um número natural $n$ é chamado de *triangular* se $n$ esferas idênticas podem ser dispostas em uma pilha de forma triângular. Veja na figura a seguir que os números 1, 3, 6 e 10 são números triangulares.\n",
    "\n",
    "<img src=\"http://tidia4.ufabc.edu.br/access/content/group/8398384e-4091-4504-9c21-eae9a6a24a61/Unidade%208/triangular.png\" width=\"400px\"></img>\n",
    "\n",
    "O número 1 também é considerado triangular, embora seja questionável se uma pilha com uma única esfera tenha forma triangular.\n",
    "\n",
    "Faça um programa que mostre qual é o milésimo número triangular. "
   ]
  },
  {
   "cell_type": "code",
   "execution_count": null,
   "metadata": {
    "collapsed": true
   },
   "outputs": [],
   "source": []
  },
  {
   "cell_type": "markdown",
   "metadata": {},
   "source": [
    "## Números perfeitos\n",
    "\n",
    "Um número inteiro positivo é _perfeito_ se for igual à soma dos seus divisores positivos próprios. (Divisores próprios são aqueles estritamente menores que o número em questão.)\n",
    "\n",
    "Por exemplo, 6 é perfeito pois seus divisores positivos próprios são 1, 2 e 3, e a soma deles é igual a 6.\n",
    "\n",
    "$$1 + 2 + 3 = 6$$\n",
    "\n",
    "Faça um programa que pede ao usuário por um número inteiro $n > 0$ e que decide se $n$ é perfeito."
   ]
  },
  {
   "cell_type": "code",
   "execution_count": null,
   "metadata": {
    "collapsed": true
   },
   "outputs": [],
   "source": []
  },
  {
   "cell_type": "markdown",
   "metadata": {},
   "source": [
    "## Quatro dígitos\n",
    "\n",
    "Fonte: [MathIsFun.com](http://www.mathsisfun.com/puzzles/four-digit-whole-number.html)\n",
    "\n",
    "Existe um número inteiro $n$ com quatro dígitos tal que os quatro dígitos menos significativos de $n^2$ são os próprios quatro dígitos de $n$. \n",
    "\n",
    "Faça um programa para encontrar esse número e depois verifique se seu programa acertou!\n",
    "\n"
   ]
  },
  {
   "cell_type": "code",
   "execution_count": null,
   "metadata": {
    "collapsed": true
   },
   "outputs": [],
   "source": []
  },
  {
   "cell_type": "markdown",
   "metadata": {},
   "source": [
    "## Cinco dígitos\n",
    "\n",
    "Fonte: [MathIsFun.com](http://www.mathsisfun.com/puzzles/5-digit-number.html)\n",
    "\n",
    "Um número inteiro com cinco dígitos tem a seguinte propriedade: se acrescentamos um dígito 1 à esquerda obtemos um número que é três vezes menor do que o número obtido acrescentando-se um dígito 1 à direita.\n",
    "\n",
    "Faça um programa para encontrar esse número depois verifique se seu programa acertou!"
   ]
  },
  {
   "cell_type": "code",
   "execution_count": null,
   "metadata": {},
   "outputs": [],
   "source": []
  },
  {
   "cell_type": "markdown",
   "metadata": {},
   "source": [
    "## Polinômio de grau 4\n",
    "\n",
    "Considere o polinômio $p(x) = x^4 - 8x^3 + - 5x - 1$. Faça um programa para plotar o gráfico desse polinômio para $x$ variando de $-6$ a $10$."
   ]
  },
  {
   "cell_type": "code",
   "execution_count": null,
   "metadata": {},
   "outputs": [],
   "source": []
  },
  {
   "cell_type": "markdown",
   "metadata": {},
   "source": [
    "## Smile\n",
    "\n",
    "Faça um programa para gerar o gráfico abaixo. \n",
    "\n",
    "<img src=\"http://tidia4.ufabc.edu.br/access/content/group/8398384e-4091-4504-9c21-eae9a6a24a61/Unidade%208/smile.png\"></img>\n"
   ]
  },
  {
   "cell_type": "markdown",
   "metadata": {
    "collapsed": true
   },
   "source": [
    "## Dois dados\n",
    "\n",
    "Simule 100000 vezes o lançamento de dois dados e conte, nesses 100000 experimentos, quantas vezes a soma das faces foi igual a 7. Use essa resposta para estimar a probabilidade de que a soma das faces de dois dados seja igual a 7. "
   ]
  },
  {
   "cell_type": "code",
   "execution_count": null,
   "metadata": {
    "collapsed": true
   },
   "outputs": [],
   "source": []
  },
  {
   "cell_type": "markdown",
   "metadata": {},
   "source": [
    "## Até a ruína!\n",
    "\n",
    "Alice e Beto têm 1000 reais cada um. Alice joga um dado 3 vezes. Se ela conseguir três valores em ordem crescente, Beto lhe paga 10 reais. Senão ela paga 1 real a Beto. Imagine que eles jogam até um deles ficar sem dinheiro. Quem está em vantagem?\n",
    "\n",
    "Para responder à pergunta, faça um programa que simula o jogo entre Alice e Beto e diz quem ganhou e também quantas rodadas se passaram até o fim do jogo. Execute seu programa algumas vezes para confirmar o seu palpite."
   ]
  },
  {
   "cell_type": "code",
   "execution_count": null,
   "metadata": {
    "collapsed": true
   },
   "outputs": [],
   "source": []
  },
  {
   "cell_type": "markdown",
   "metadata": {},
   "source": [
    "## Buraco\n",
    "\n",
    "Um bêbado está andando num campo aberto. A cada instânte o bêbado dá um passo para frente ou para trás ou para a esquerda ou para a direita com a mesma chance de caminhar em qualquer uma dessas direções. O bêbdo parte da origem $(0,0)$. Na posição $(5,5)$ tem um buraco muito fundo, do qual o bêbado não conseguiria sair caso caísse nele.  Pede-se:\n",
    "\n",
    "1. fazer um programa para simular o movimento do bêbado por até 100 passos que avisa se o bêbado cai no buraco ou não;\n",
    "2. fazer um gráfico do movimento do bêbado;\n",
    "2. executar a simulação 1000 vezes (sem fazer gráfico) com a finalidade de estimar a probabilidade do bêbado cair no buraco."
   ]
  },
  {
   "cell_type": "code",
   "execution_count": null,
   "metadata": {
    "collapsed": true
   },
   "outputs": [],
   "source": []
  }
 ],
 "metadata": {
  "kernelspec": {
   "display_name": "Python 3",
   "language": "python",
   "name": "python3"
  },
  "language_info": {
   "codemirror_mode": {
    "name": "ipython",
    "version": 3
   },
   "file_extension": ".py",
   "mimetype": "text/x-python",
   "name": "python",
   "nbconvert_exporter": "python",
   "pygments_lexer": "ipython3",
   "version": "3.6.8"
  }
 },
 "nbformat": 4,
 "nbformat_minor": 1
}
