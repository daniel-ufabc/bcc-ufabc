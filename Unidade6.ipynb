{
 "cells": [
  {
   "cell_type": "markdown",
   "metadata": {},
   "source": [
    "# Unidade 6 - Estruturas de repetição\n",
    "\n",
    "Caro aluno, nesta unidade você vai aprender como fazer para executar um trecho do seu programa várias vezes. Isso é muito útil quando o problema que estamos tentando resolver envolve tarefas repetitivas. \n",
    "\n",
    "Python tem dois comandos que nos permitem repetir a execução de código: o comando **`for`** e o comando **`while`**. Vamos ver como funciona cada um deles."
   ]
  },
  {
   "cell_type": "markdown",
   "metadata": {},
   "source": [
    "## O comando **`for`**\n",
    "\n",
    "O comando **`for`** pode ser usado para percorrer uma lista (*list* ou *array*), em cada iteração \"olhando\" para um item diferente da lista. Mas o que significa isso? Veja (e execute) o seguinte exemplo."
   ]
  },
  {
   "cell_type": "code",
   "execution_count": null,
   "metadata": {
    "collapsed": false
   },
   "outputs": [],
   "source": [
    "L = ('papagaio', 'cachorro', True, 34)\n",
    "for e in L:\n",
    "    print(e)"
   ]
  },
  {
   "cell_type": "markdown",
   "metadata": {},
   "source": [
    "Note que o programa imprimiu cada um dos elementos do *array* **`L`**. Tente mudar o código acima, acrescentando alguns itens ao *array* **`L`**, e reexecute o programa para ver o que acontece. \n",
    "\n",
    "O funcionamento do **`for`** é bem simples: ele executa o respectivo bloco de código várias vezes (de acordo com o número de elementos de **`L`**), cada vez a variável **`e`** recebe como  valor um elemento diferente do *array* **`L`**. É claro que você pode mudar o nome da variável **`e`** e também pode usar outro *array* que não seja **`L`**. Veja mais um exemplo."
   ]
  },
  {
   "cell_type": "code",
   "execution_count": null,
   "metadata": {
    "collapsed": false
   },
   "outputs": [],
   "source": [
    "for i in (0, 1, 2, 3, 4, 5, 6, 7, 8, 9):\n",
    "    print(i)"
   ]
  },
  {
   "cell_type": "markdown",
   "metadata": {},
   "source": [
    "No programa acima, são mostrados os valores de 0 a 9. A variável (cujo valor varia de iteração para iteração) agora foi chamada de **`i`** e a lista de valores passada para o comando **`for`** foi o *array* **`(0, 1, 2, 3, 4, 5, 6, 7, 8, 9)`**. \n",
    "\n",
    "### *Arrays* numéricos\n",
    "\n",
    "Na Unidade 4, vocês já viram como gerar um *array* de valores racionais usando **`numpy.arange(...)`**. Para o comando **`for`**, é mais comum iterarmos sobre um *array* ou lista de inteiros. Esses arrays são normalmente construídos com o comando **`range`** do Python, que pode ser usado de dois jeitos diferentes. Veja (e execute) os exemplos a seguir."
   ]
  },
  {
   "cell_type": "code",
   "execution_count": null,
   "metadata": {
    "collapsed": false
   },
   "outputs": [],
   "source": [
    "a = 4\n",
    "b = 8\n",
    "list(range(a, b))"
   ]
  },
  {
   "cell_type": "code",
   "execution_count": null,
   "metadata": {
    "collapsed": false
   },
   "outputs": [],
   "source": [
    "a = 8\n",
    "list(range(a))"
   ]
  },
  {
   "cell_type": "markdown",
   "metadata": {
    "collapsed": false
   },
   "source": [
    "No primeiro exemplo, o comando **`range`** recebeu dois números inteiros **`a`** e **`b`** e devolveu um *array* contendo todos os inteiros maiores ou iguais a **`a`** e menores que **`b`**. Note que **`a`** fica dentro do intervalo, enquanto **`b`** fica fora. Por enquanto, não se preocupe com o comando **`list`** dos exemplos, você não precisará usá-lo.\n",
    "\n",
    "O comando **`range(a)`** é equivalente a **`range(0, a)`**, por isso o *array* do segundo exemplo começou em 0 e terminou em 7.\n",
    "\n",
    "Portanto, se você desejar criar um *array* com os números de 1 a 10, basta fazer **`range(1, 11)`**, e para criar um *array* com os números de 0 a 9, basta fazer **`range(10)`**.\n",
    "\n",
    "### *Exemplo 1*: contando de 0 a 99\n",
    "\n",
    "Para tmostrar todos os números de 0 a 99, podemos fazer o seguinte programa."
   ]
  },
  {
   "cell_type": "code",
   "execution_count": null,
   "metadata": {
    "collapsed": true
   },
   "outputs": [],
   "source": [
    "for i in range(100):\n",
    "    print(i)"
   ]
  },
  {
   "cell_type": "markdown",
   "metadata": {},
   "source": [
    "### *Exemplo 2*: soma dos _n_ primeiros naturais\n",
    "\n",
    "Suponha que queremos calcular a soma dos primeiros $n$ números naturais. Por exemplo, se $n = 5$, queremos calcular:\n",
    "\n",
    "$$1 + 2 + 3 + 4 + 5 = 15.$$\n",
    "\n",
    "O aluno que sabe um pouco de contagem, logo vê que existe uma fórmula fechada simples para calcular essa soma, mas vamos fazer de conta que nós realmente queremos fazer a soma termo a termo. \n",
    "\n",
    "Com o comando **`for`**, isso fica fácil:"
   ]
  },
  {
   "cell_type": "code",
   "execution_count": null,
   "metadata": {
    "collapsed": false,
    "scrolled": true
   },
   "outputs": [],
   "source": [
    "n = int(input(\"De o valor de n: \"))\n",
    "total = 0\n",
    "for i in range(1, n + 1):\n",
    "    total = total + i\n",
    "print(total)"
   ]
  },
  {
   "cell_type": "markdown",
   "metadata": {},
   "source": [
    "Talvez você se sinta um pouco desconfortável ao ler a quarta linha de código:\n",
    "\n",
    "    total = total + i\n",
    "    \n",
    "Essa linha não representa uma equação, e sim uma atribuição! Em português claro, o que essa linha de código faz é o seguinte: \n",
    "\n",
    "* soma o valor da variável **`i`** com o valor que estava guardado na variável **`total`**,\n",
    "* depois, guarda o resultado dessa soma na variável **`total`**, sobrescrevendo seu valor anterior.\n",
    "\n",
    "A linha abaixo traz uma situação análoga, execute-a e veja o que acontece."
   ]
  },
  {
   "cell_type": "code",
   "execution_count": null,
   "metadata": {
    "collapsed": false
   },
   "outputs": [],
   "source": [
    "x = 10\n",
    "x = x + 2\n",
    "print(x)"
   ]
  },
  {
   "cell_type": "markdown",
   "metadata": {},
   "source": [
    "#### Explicação do programa do *Exemplo 2*\n",
    "\n",
    "A linha 1 obtem o valor de **`n`** do usuário (após converter o texto digitado para o tipo *int*).\n",
    "\n",
    "A linha 2 inicializa a variável **`total`** com 0.\n",
    "\n",
    "A linha 3, onde está o comando **`for`**, diz que a variável **`i`** deverá assumir os valores do *array* **`(1, 2, ..., n)`** que é gerado com o comando **`range(1, n + 1)`**.\n",
    "\n",
    "A linha 4 está dentro do bloco do **`for`**. Esta linha será executada **`n`** vezes e, em cada uma delas, a variável **`i`** terá um valor diferente. Cada vez que essa linha é executada o valor de **`i`** é somado na variável **`total`**.\n",
    "\n",
    "A linha 5 simplesmente imprime o valor guardado na variável **`total`** depois que o laço **`for`** termina de executar."
   ]
  },
  {
   "cell_type": "markdown",
   "metadata": {},
   "source": [
    "### *Exemplo 3*: calculando média\n",
    "\n",
    "Bob é o gerente de vendas de uma empresa multinacional. Ele quer fazer uma média dos valores das vendas efetuadas no último trimestre. Apesar de que esse problema pode ser resolvido facilmente por um software de planilhas, vamos  fazer um programa em Python que ajude Bob a realizar essa tarefa. Nosso programa faz o seguinte:\n",
    "* pergunta a Bob o número de vendas do último trimestre e guarda esse número numa variável **`n`**.\n",
    "* Faz **`n`** vezes o seguinte:\n",
    "  - Pergunta o valor de uma venda e *acumula* esse valor numa variável chamada **`total`**.\n",
    "* No final, mostra a Bob a média das vendas (**`total/n`**)"
   ]
  },
  {
   "cell_type": "code",
   "execution_count": null,
   "metadata": {
    "collapsed": false
   },
   "outputs": [],
   "source": [
    "n = int(input(\"Qual o número de vendas? \"))\n",
    "total = 0.0\n",
    "for i in range(n):\n",
    "    valor = float(input(\"Qual o valor da venda de número \" + str(i + 1) + \"? \"))\n",
    "    total = total + valor\n",
    "print(\"A média das vendas é:\", total / n)"
   ]
  },
  {
   "cell_type": "markdown",
   "metadata": {},
   "source": [
    "No programa acima, o bloco do **`for`** nas linhas 3-5 é executado $n$ vezes, uma vez para **`i = 0`**, depois para **`i = 1`**, depois para **`i = 3`** e assim por diante... até a última iteração, quando **`i = n - 1`**. \n",
    "\n",
    "Em cada uma dessas iterações, o programa pede um valor ao usuário (e converte o texto digitado para *float*), depois \"acumula\" esse valor na variável **`total`**, seguindo a mesma técnica que utilizamos no Exemplo 2.\n",
    "\n",
    "No final, a média das vendas é mostrada ao usuário.\n",
    "\n",
    "Você deve estar se perguntando sobre o comando **`str`** que usamos na linha 4. Esse comando converte o argumento que é passado a ele para texto, a fim de poder ser \"somado\" (concatenado) com o restante da mensagem que é passada ao usuário. O nome do comando **`str`** é a abreviação de *string*, que significa *cadeia*."
   ]
  },
  {
   "cell_type": "markdown",
   "metadata": {},
   "source": [
    "### Exercício 1\n",
    "\n",
    "Faça um programa que pergunta um número natural $n$ ao usuário e que imprima na tela a soma dos quadrados dos primeiros $n$ números naturais. Por exemplo, se o usuário entrar com $n = 5$, seu programa deve calcular $1^2 + 2^2 + 3^2 + 4^2 + 5^2$ e mostrar o resultado que, no caso, seria $55$."
   ]
  },
  {
   "cell_type": "code",
   "execution_count": null,
   "metadata": {
    "collapsed": true
   },
   "outputs": [],
   "source": []
  },
  {
   "cell_type": "markdown",
   "metadata": {},
   "source": [
    "## O comando **`while`**\n",
    "\n",
    "A tradução de *while* em português é *enquanto*. Esse comando recebe uma condição (assim como o comando **`if`**) e executa o bloco de código associado enquanto a condição dada for verdadeira. Veja o seguinte exemplo."
   ]
  },
  {
   "cell_type": "code",
   "execution_count": null,
   "metadata": {
    "collapsed": true
   },
   "outputs": [],
   "source": [
    "n = 3\n",
    "while n > 0:\n",
    "    print(n)\n",
    "    n = n - 1\n",
    "print(\"fim do programa\")"
   ]
  },
  {
   "cell_type": "markdown",
   "metadata": {},
   "source": [
    "No programa acima, o bloco de código nas linhas 2-4 irá executar um total de 3 vezes. Acompanhe a simulação na tabela abaixo. A primeira coluna da tabela indica a ordem exata em que as linhas do programa acima serão executadas.\n",
    "\n",
    "| # linha | o que é feito na linha            | valor de n |\n",
    "|:-------:|-----------------------------------|:----------:|\n",
    "| 1       | **`n`** recebe 3                  | 3          |\n",
    "| 2       | condição **`n > 0`** é verdadeira | 3          |\n",
    "| 3       | imprime 3 na tela                 | 3          |\n",
    "| 4       | decrementa o valor de **`n`**     | 2          |\n",
    "| 2       | condição **`n > 0`** é verdadeira | 2          |\n",
    "| 3       | imprime 2 na tela                 | 2          |\n",
    "| 4       | decrementa o valor de **`n`**     | 1          |\n",
    "| 2       | condição **`n > 0`** é verdadeira | 1          |\n",
    "| 3       | imprime 1 na tela                 | 1          |\n",
    "| 4       | decrementa o valor de **`n`**     | 0          |\n",
    "| 2       | condição **`n > 0`** é falsa      | 0          |\n",
    "| 5       | imprime \"fim do programa\" na tela | 0          |"
   ]
  },
  {
   "cell_type": "markdown",
   "metadata": {},
   "source": [
    "**Atenção:** sempre tome muito cuidado quando você for usar o comando **`while`**, pois se você não prestar atenção na condição, você corre o risco de ela ser sempre verdadeira, fazendo com que o programa **_entre em loop_**, o que trava o kernel do Python."
   ]
  },
  {
   "cell_type": "markdown",
   "metadata": {},
   "source": [
    "### Exercício 2\n",
    "\n",
    "Refaça o Exercício 1 usando o comando **`while`** no lugar do **`for`**. Você precisará fazer adaptações, é claro!"
   ]
  },
  {
   "cell_type": "code",
   "execution_count": null,
   "metadata": {
    "collapsed": true
   },
   "outputs": [],
   "source": []
  },
  {
   "cell_type": "markdown",
   "metadata": {},
   "source": [
    "### Exercício 3\n",
    "\n",
    "Alice e Bob estão jogando par ou ímpar. São 5 rodadas. Vence quem ganhar o maior número de rodadas. Isto é, vence quem ganhar 3 rodadas primeiro. Alice sempre aposta no par e Bob no ímpar. Se um deles \n",
    "acumular 3 vitórias em menos de 5 rodadas, eles não terminam de jogar as rodadas que restam, pois já se sabe quem é o vencedor. Em cada rodada, seu programa deve pedir para Alice e Bob digitarem os números que querem jogar. No fim, seu programa deve mostrar quem venceu."
   ]
  },
  {
   "cell_type": "code",
   "execution_count": null,
   "metadata": {
    "collapsed": true
   },
   "outputs": [],
   "source": []
  },
  {
   "cell_type": "markdown",
   "metadata": {},
   "source": [
    "### *Exemplo 4*: pedra-papel-tesoura\n",
    "\n",
    "Você certamente se lembra do problema na lista de exercícios da última aula: Alice e Bob estão jogando pedra-papel-tesoura e você fez um programa que decidia quem ganhava. Seu programa pedia para Alice digitar 0 para pedra, 1 para papel e 2 para tesoura. Depois ele pedia para Bob digitar 0 para pedra, 1 para papel e 2 para tesoura. Finalmente, seu programa mostrava se houve empate ou se alguém ganhou (e dizia quem era o ganhador).\n",
    "\n",
    "Muito bem! E se houver empate? Alice e Bob terão que jogar de novo... isso significa que um deles deverá executar o programa novamente. Você pode poupá-los dessa tarefa e projetar o programa para se repitir automaticamente no caso de um empate.\n",
    "\n",
    "Vamos usar o comando **`while`**. Veja (e execute) a solução abaixo e depois acompanhe a explicação."
   ]
  },
  {
   "cell_type": "code",
   "execution_count": null,
   "metadata": {
    "collapsed": false
   },
   "outputs": [],
   "source": [
    "while True:\n",
    "    alice = int(input(\"Alice, digite 0 para pedra, 1 para papel e 2 para tesoura: \"))\n",
    "    bob = int(input(\"Bob, digite 0 para pedra, 1 para papel e 2 para tesoura: \"))\n",
    "    if bob - alice == 1 or bob - alice == -2:\n",
    "        print(\"Bob é o vencedor!\")\n",
    "        break\n",
    "    elif alice - bob == 1 or alice - bob == -2:\n",
    "        print(\"Alice é a vencedora!\")\n",
    "        break\n",
    "    else:\n",
    "        print(\"Empatou. Joguem novamente!\")\n",
    "        \n",
    "print(\"fim do jogo\")"
   ]
  },
  {
   "cell_type": "markdown",
   "metadata": {
    "collapsed": true
   },
   "source": [
    "A condição do **`while`** no código acima é **`True`**, portanto ele sempre irá executar o bloco de código associado. Então como é que o programa terminou? \n",
    "\n",
    "Isso aconteceu porque usamos um comando chamado **`break`** dentro do while. Sembre que o fluxo de execução de um programa, dentro de um bloco **`while`** (ou **`for`**) encontrar uma linha com o comando **`break`**, a execução do **`while`** (ou do **`for`**) é interrompida e o programa segue normalmente, executando as linhas fora do laço.\n",
    "\n",
    "**Atenção:** sempre tome muito cuidado quando você for utilizar um laço **`while True`**, pois a condição será sempre verdadeira, então você deve colocar **`break`** nos lugares corretos para que o programa não **_entre em loop_**."
   ]
  },
  {
   "cell_type": "code",
   "execution_count": null,
   "metadata": {
    "collapsed": false
   },
   "outputs": [],
   "source": [
    "import numpy\n",
    "for i in numpy.arange(0, 10, 0.1):\n",
    "    print(i)"
   ]
  },
  {
   "cell_type": "code",
   "execution_count": null,
   "metadata": {
    "collapsed": false
   },
   "outputs": [],
   "source": [
    "list(('papagaio', 'cachorro', True, 34))"
   ]
  },
  {
   "cell_type": "code",
   "execution_count": 21,
   "metadata": {
    "collapsed": false
   },
   "outputs": [
    {
     "name": "stdout",
     "output_type": "stream",
     "text": [
      "Quantos heliportos o helicóptero irá visitar? 3\n",
      "De a coordenada x do heliporto 1? 4\n",
      "De a coordenada y do heliporto 1? 0\n",
      "De a coordenada x do heliporto 2? 4\n",
      "De a coordenada y do heliporto 2? 3\n",
      "De a coordenada x do heliporto 3? 0\n",
      "De a coordenada y do heliporto 3? 0\n",
      "A distância total percorrida é 12.0\n"
     ]
    }
   ],
   "source": [
    "from math import sqrt\n",
    "n = int(input(\"Quantos heliportos o helicóptero irá visitar? \"))\n",
    "xa = 0\n",
    "ya = 0\n",
    "total = 0.0\n",
    "for i in range(1, n + 1):\n",
    "    xb = int(input(\"De a coordenada x do heliporto \" + str(i) + \"? \"))\n",
    "    yb = int(input(\"De a coordenada y do heliporto \" + str(i) + \"? \"))\n",
    "    d = sqrt((xa - xb)**2 + (ya - yb)**2)\n",
    "    total = total + d\n",
    "    xa = xb\n",
    "    ya = yb\n",
    "    \n",
    "print(\"A distância total percorrida é \" + str(total))"
   ]
  },
  {
   "cell_type": "code",
   "execution_count": null,
   "metadata": {
    "collapsed": true
   },
   "outputs": [],
   "source": []
  }
 ],
 "metadata": {
  "kernelspec": {
   "display_name": "Python 3",
   "language": "python",
   "name": "python3"
  },
  "language_info": {
   "codemirror_mode": {
    "name": "ipython",
    "version": 3
   },
   "file_extension": ".py",
   "mimetype": "text/x-python",
   "name": "python",
   "nbconvert_exporter": "python",
   "pygments_lexer": "ipython3",
   "version": "3.5.1"
  }
 },
 "nbformat": 4,
 "nbformat_minor": 0
}
