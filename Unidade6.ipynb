{
 "cells": [
  {
   "cell_type": "markdown",
   "metadata": {},
   "source": [
    "# Unidade 6 - Estruturas de repetição\n",
    "\n",
    "Caro aluno, nesta unidade você vai aprender como fazer para executar um trecho do seu programa várias vezes. Isso é muito útil quando o problema que estamos tentando resolver envolve tarefas repetitivas. \n",
    "\n",
    "É muito comum querermos realizar uma mesma tarefa várias vezes. Na unidade que tratava de planilhas de cálculo, vocês viram como o computador pode ser usado para acelerar essas tarefas repetitivas que demorariam muito se fossem executadas à mão. Em Python, que é uma linguagem de programação de propósito geral, você pode fazer muito mais do que em um programa de planilhas. \n",
    "\n",
    "Python tem dois comandos que nos permitem repetir a execução de código: o comando **`for`** e o comando **`while`**. Vamos ver como funciona cada um desses comandos."
   ]
  },
  {
   "cell_type": "markdown",
   "metadata": {},
   "source": [
    "## O comando **`for`**\n",
    "\n",
    "O comando **`for`** pode ser usado para iterar uma variável sobre uma lista de valores (*list* ou *array*). Mas o que significa isso? Veja (e execute) o seguinte exemplo."
   ]
  },
  {
   "cell_type": "code",
   "execution_count": null,
   "metadata": {
    "collapsed": false
   },
   "outputs": [],
   "source": [
    "L = ('papagaio', 1, 'cachorro', True)\n",
    "for e in L:\n",
    "    print(e)"
   ]
  },
  {
   "cell_type": "markdown",
   "metadata": {},
   "source": [
    "Note que o programa imprimiu cada um dos elementos do *array* L. Tente acrescentar manualmente, no código acima, alguns valores novos ao *array* L e reexecute o programa para ver o que acontece. \n",
    "\n",
    "O funcionamento do **`for`** é bem simples: ele executa o respectivo bloco várias vezes (de acordo com o número de elementos de **`L`**), cada vez a variável **`e`** recebe como  valor um elemento diferente do *array* **`L`**. É claro que você pode mudar o nome da variável **`e`** e também pode usar outro *array* que não seja **`L`**. Veja mais um exemplo."
   ]
  },
  {
   "cell_type": "code",
   "execution_count": null,
   "metadata": {
    "collapsed": true
   },
   "outputs": [],
   "source": [
    "for i in range(10):\n",
    "    print(i)"
   ]
  },
  {
   "cell_type": "markdown",
   "metadata": {},
   "source": [
    "No programa acima, são mostrados os valores de 0 a 9. O nome de variável (cujo valor varia de iteração para iteração) agora foi chamado de **`i`** e a lista de valores passada para o comando **`for`** for o *array* **`range(10)`** que é o *array* **`(0, 1, 2, 3, 4, 5, 6, 7, 8, 9)`**.\n",
    "\n",
    "Mude o código acima para imprimir os valores de 0 a 99.\n",
    "\n",
    "### *Arrays* numéricos\n",
    "\n",
    "Na Unidade 4, vocês já viram como gerar um *array* de valores racionais usando **`numpy.arange(...)`**. Para o comando **`for`**, é mais comum iterarmos sobre um *array* ou lista de inteiros. Esses arrays são normalmente construídos com o comando **`range`** do Python, que pode ser usado de dois jeitos diferentes. Veja (e execute) os exemplos a seguir."
   ]
  },
  {
   "cell_type": "code",
   "execution_count": null,
   "metadata": {
    "collapsed": false
   },
   "outputs": [],
   "source": [
    "a = 4\n",
    "b = 8\n",
    "list(range(a, b))"
   ]
  },
  {
   "cell_type": "code",
   "execution_count": null,
   "metadata": {
    "collapsed": false
   },
   "outputs": [],
   "source": [
    "a = 8\n",
    "list(range(a))"
   ]
  },
  {
   "cell_type": "markdown",
   "metadata": {},
   "source": [
    "No primeiro exemplo, o comando **`range`** recebeu dois números inteiros **`a`** e **`b`** e devolveu um *array* contendo todos os inteiros maiores ou iguais a **`a`** e menores que **`b`**. Note que **`a`** fica dentro do intervalo, enquanto **`b`** fica fora. Por enquanto, não se preocupe com o comando **`list`** dos exemplos, você não precisará usá-lo.\n",
    "\n",
    "O comando **`range(a)`** é equivalente a **`range(0, a)`**, por isso o *array* do segundo exemplo começou em 0 e terminou em 7.\n",
    "\n",
    "Portanto, se você desejar criar um *array* com os números de 1 a 10, basta fazer:"
   ]
  },
  {
   "cell_type": "code",
   "execution_count": null,
   "metadata": {
    "collapsed": false
   },
   "outputs": [],
   "source": [
    "range(1, 11)"
   ]
  },
  {
   "cell_type": "markdown",
   "metadata": {},
   "source": [
    "### Exemplo: soma dos _n_ primeiros quadrados perfeitos\n",
    "\n",
    "Suponha que queiramos calcular a soma dos quadrados dos primeiros $n$ números naturais. Por exemplo, se $n = 5$, queremos calcular:\n",
    "\n",
    "$$1^2 + 2^2 + 3^2 + 4^2 + 5^2 = 1 + 4 + 9 + 16 + 25 = 55.$$\n",
    "\n",
    "O aluno que sabe um pouco de contagem, logo vê um fórmula fechada para calcular essa soma, mas façamos de conta que nós realmente queiramos fazer a soma, termo a termo. \n",
    "\n",
    "Com o comando **`for`**, isso fica fácil."
   ]
  },
  {
   "cell_type": "code",
   "execution_count": null,
   "metadata": {
    "collapsed": false,
    "scrolled": true
   },
   "outputs": [],
   "source": [
    "n = int(input(\"De o valor de n: \"))\n",
    "total = 0\n",
    "for i in range(1, n + 1):\n",
    "    total = total + i**2\n",
    "print(total)"
   ]
  },
  {
   "cell_type": "markdown",
   "metadata": {},
   "source": [
    "## Pedra-papel-tesoura\n",
    "\n",
    "Você certamente se lembra do problema na lista de exercícios da última aula: Alice e Bob estão jogando pedra-papel-tesoura e você fez um programa que decidia quem ganhava. Seu programa pedia para Alice digitar 0 para pedra, 1 para papel e 2 para tesoura. Depois ele pedia para Bob digitar 0 para pedra, 1 para papel e 2 para tesoura. Finalmente, seu programa mostrava se houve empate ou se alguém ganhou (e dizia quem era o ganhador).\n",
    "\n",
    "Muito bem! E se houver empate? Alice e Bob terão que jogar de novo... isso significa que um deles deverá executar o programa novamente. Você pode poupá-los dessa tarefa e projetar o programa para se repitir automaticamente no caso de um empate.\n",
    "\n",
    "Vamos usar o comando **`while`**. Veja (e execute) a solução abaixo e depois acompanhe a explicação."
   ]
  },
  {
   "cell_type": "code",
   "execution_count": null,
   "metadata": {
    "collapsed": false
   },
   "outputs": [],
   "source": [
    "while True:\n",
    "    alice = int(input(\"Alice, digite 0 para pedra, 1 para papel e 2 para tesoura: \"))\n",
    "    bob = int(input(\"Bob, digite 0 para pedra, 1 para papel e 2 para tesoura: \"))\n",
    "    if bob - alice == 1 or bob - alice == -2:\n",
    "        print(\"Bob é o vencedor!\")\n",
    "        break\n",
    "    elif alice - bob == 1 or alice - bob == -2:\n",
    "        print(\"Alice é a vencedora!\")\n",
    "        break\n",
    "    else:\n",
    "        print(\"Empatou. Jogue novamente.\")"
   ]
  },
  {
   "cell_type": "code",
   "execution_count": null,
   "metadata": {
    "collapsed": true
   },
   "outputs": [],
   "source": []
  }
 ],
 "metadata": {
  "kernelspec": {
   "display_name": "Python 3",
   "language": "python",
   "name": "python3"
  },
  "language_info": {
   "codemirror_mode": {
    "name": "ipython",
    "version": 3
   },
   "file_extension": ".py",
   "mimetype": "text/x-python",
   "name": "python",
   "nbconvert_exporter": "python",
   "pygments_lexer": "ipython3",
   "version": "3.5.1"
  }
 },
 "nbformat": 4,
 "nbformat_minor": 0
}
