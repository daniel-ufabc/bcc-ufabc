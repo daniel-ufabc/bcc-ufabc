{
 "cells": [
  {
   "cell_type": "markdown",
   "metadata": {},
   "source": [
    "<div style=\"width: 100%; text-align: center; color: white; background-color: #222; font-size: 3em; font-weight: 700; padding: .5em .5em .6em .5em; line-height: 1.4em;\">Programação em Python para Iniciantes</div>\n",
    "\n",
    "<br>\n",
    "\n",
    "<!-- # Programação em Python para Iniciantes -->\n",
    "\n",
    "Antes de mais nada, você sabe que tipo de coisa é este documento que você está lendo? Isto se chama _nootebook_: um arquivo estruturado que contém textos explicativos e códigos de programas intercalados. A maneira ideal de acessar este arquivo, seja para leitura ou edição, é através do software [Jupyter](http://jupyter.org/). \n",
    "\n",
    "Em um _notebook_, as unidades básicas de texto ou código são chamadas de células. É fácil distinguir as células de código: elas vem precedidas por \n",
    "\n",
    "    In [ ]:\n",
    "    \n",
    "como a célula abaixo."
   ]
  },
  {
   "cell_type": "code",
   "execution_count": null,
   "metadata": {
    "collapsed": true
   },
   "outputs": [],
   "source": [
    "2 + 2"
   ]
  },
  {
   "cell_type": "markdown",
   "metadata": {},
   "source": [
    "Se você estiver acessando este arquivo pelo Jupyter, então muito provavelmente você poderá executar as células de código. Para executar uma célula de código, basta selecionar a célula e digitar <kbd>SHIFT+ENTER</kbd>. Qualquer saída gerada pelo código executado será exibida logo em seguida.\n",
    "\n",
    "Neste _notebook_, vamos aprender alguns elementos de programação em Python e vamos nos familiarizar com o ambiente do Jupyter.\n",
    "\n",
    "<hr style=\"border-color: #ddd;\">"
   ]
  },
  {
   "cell_type": "markdown",
   "metadata": {},
   "source": [
    "# Python como uma calculadora\n",
    "\n",
    "Em qualquer trabalho moderno, é comum precisarmos de uma calculadora para fazer contas. As células de código de um notebook Python ou o console do Python são excelentes ferramentas para se fazer cálculos.\n",
    "\n",
    "## As quatro operações\n",
    "\n",
    "Clique em cada célula abaixo, tecle <kbd>SHIFT-ENTER</kbd> e veja o que acontece."
   ]
  },
  {
   "cell_type": "code",
   "execution_count": null,
   "metadata": {
    "collapsed": true
   },
   "outputs": [],
   "source": [
    "10 + 5 - 3"
   ]
  },
  {
   "cell_type": "code",
   "execution_count": null,
   "metadata": {
    "collapsed": true
   },
   "outputs": [],
   "source": [
    "4 * 3"
   ]
  },
  {
   "cell_type": "code",
   "execution_count": null,
   "metadata": {
    "collapsed": true
   },
   "outputs": [],
   "source": [
    "2800.20 / 133.21598477640342"
   ]
  },
  {
   "cell_type": "code",
   "execution_count": null,
   "metadata": {
    "collapsed": true
   },
   "outputs": [],
   "source": [
    "12 / 5"
   ]
  },
  {
   "cell_type": "markdown",
   "metadata": {},
   "source": [
    "Ou seja, usamos os símbolos &nbsp;`+`&nbsp;, &nbsp;`-`&nbsp;, &nbsp;`*`&nbsp; e &nbsp;`/`&nbsp; para soma, subtração, multiplicação e divisão, respectivamente. Isso é como você esperava, não é?\n",
    "\n",
    "Então, lembre-se de que para executar uma célula, basta teclar <kbd>SHIFT-ENTER</kbd>. Se você teclar <kbd>ENTER</kbd> sozinho, você criará mais linhas dentro da mesma célula em vez de executá-la.\n",
    "\n",
    "<span style=\"color: #FF0000;\"><b>Atenção:</b></span> o caractére que separa as casas decimais em Python é o **ponto** e não a vírgula!"
   ]
  },
  {
   "cell_type": "markdown",
   "metadata": {},
   "source": [
    "## Potenciação\n",
    "\n",
    "A operação de potenciação é denotada por `**` em Python. Ou seja, para calcular $2^4$, precisamos escrever `2**4`.\n",
    "\n",
    "Execute as células abaixo apertando <kbd>SHIFT-ENTER</kbd>. Tente prever o resultado antes de executá-las!"
   ]
  },
  {
   "cell_type": "code",
   "execution_count": null,
   "metadata": {
    "collapsed": true
   },
   "outputs": [],
   "source": [
    "2**4"
   ]
  },
  {
   "cell_type": "code",
   "execution_count": null,
   "metadata": {
    "collapsed": true
   },
   "outputs": [],
   "source": [
    "3**2"
   ]
  },
  {
   "cell_type": "markdown",
   "metadata": {},
   "source": [
    "## Divisão inteira e resto\n",
    "\n",
    "Python tem um tipo especial de divisão que é chamada de divisão inteira, em que um número é dividido por outro e depois o resultado é **arrendondado** para baixo. O operador de divisão inteira é `//`.\n",
    "\n",
    "Mais formalmente, quando `a` e `b` são números inteiros, `a // b` é o quociente da divisão de `a` por `b`.\n",
    "\n",
    "Veja como a divisão inteira funciona:"
   ]
  },
  {
   "cell_type": "code",
   "execution_count": null,
   "metadata": {
    "collapsed": true
   },
   "outputs": [],
   "source": [
    "3//2"
   ]
  },
  {
   "cell_type": "code",
   "execution_count": null,
   "metadata": {
    "collapsed": true
   },
   "outputs": [],
   "source": [
    "11//3"
   ]
  },
  {
   "cell_type": "markdown",
   "metadata": {},
   "source": [
    "Python também tem o operador &nbsp;`%`&nbsp; que calcula o resto da divisão de um número por outro.\n",
    "\n",
    "Por exemplo, o resto da divisão de 17 por 5 é igual 2. Veja:"
   ]
  },
  {
   "cell_type": "code",
   "execution_count": null,
   "metadata": {
    "collapsed": true
   },
   "outputs": [],
   "source": [
    "17%5"
   ]
  },
  {
   "cell_type": "code",
   "execution_count": null,
   "metadata": {
    "collapsed": true
   },
   "outputs": [],
   "source": [
    "13%7"
   ]
  },
  {
   "cell_type": "markdown",
   "metadata": {},
   "source": [
    "<hr>\n",
    "\n",
    "### Exercício <span class=\"exec\"></span>: divisão entre irmãos\n",
    "\n",
    "Uma barra de chocolate tem 32 quadradinhos. Uma mãe quer dividir essa barra de chocolate entre seus 5 filhos. Nenhum deles pode receber menos que cada um dos outros para não se sentir preterido. Qual é o número mínimo de quadradinhos que a mão precisa escoder (comer) para poder dividir o restante equanimemente entre os 5?\n",
    "\n",
    "Responda à pergunta com um código indicando sua conta."
   ]
  },
  {
   "cell_type": "code",
   "execution_count": null,
   "metadata": {},
   "outputs": [],
   "source": []
  },
  {
   "cell_type": "markdown",
   "metadata": {},
   "source": [
    "## Combinando operações\n",
    "\n",
    "Você consegue prever o resultado das expressões abaixo?\n",
    "\n",
    "Execute as células para verificar se você acertou!\n"
   ]
  },
  {
   "cell_type": "code",
   "execution_count": null,
   "metadata": {
    "collapsed": true
   },
   "outputs": [],
   "source": [
    "8*3//2**2"
   ]
  },
  {
   "cell_type": "code",
   "execution_count": null,
   "metadata": {
    "collapsed": true
   },
   "outputs": [],
   "source": [
    "1+5*3"
   ]
  },
  {
   "cell_type": "markdown",
   "metadata": {},
   "source": [
    "Neste último caso, o Python primeiro calcula o `5*3` e depois soma 1, certo?\n",
    "\n",
    "Isso acontece porque o Python executa as operações na seguinte ordem de precedência:\n",
    "\n",
    "\n",
    "1.    &nbsp;&nbsp;&nbsp;`**`\n",
    "2.    &nbsp;&nbsp;&nbsp;`*`&nbsp;&nbsp;&nbsp;&nbsp;`/`&nbsp;&nbsp;&nbsp;&nbsp;`//`&nbsp;&nbsp;&nbsp;&nbsp;`%`\n",
    "3.    &nbsp;&nbsp;&nbsp;`+`&nbsp;&nbsp;&nbsp;&nbsp;`-`\n",
    "\n",
    "Na dúvida, você pode colocar parênteses para deixar a ordem explícita.\n",
    "\n",
    "Poderíamos, por exemplo, alterar a célula acima colocando `(1+5)*3` para indicar que o `+` deve ser feito antes do `*`.\n",
    "\n"
   ]
  },
  {
   "cell_type": "markdown",
   "metadata": {},
   "source": [
    "<hr>\n",
    "\n",
    "### Exercício <span class=\"exec\"></span>: parcelas sem juros I\n",
    "\n",
    "Alice pagou uma televisão de R$ 3250.00 em 12 vezes sem juros. Qual o valor de cada parcela?"
   ]
  },
  {
   "cell_type": "code",
   "execution_count": null,
   "metadata": {
    "collapsed": true
   },
   "outputs": [],
   "source": []
  },
  {
   "cell_type": "markdown",
   "metadata": {},
   "source": [
    "<hr>\n",
    "\n",
    "### Exercício <span class=\"exec\"></span>: aniversário\n",
    "\n",
    "João faz 10 anos de idade hoje, neste exato momento! Na célula abaixo, calcule quantos segundos de vida ele acabou de comemorar. (Ignore os anos bissextos.)\n"
   ]
  },
  {
   "cell_type": "code",
   "execution_count": null,
   "metadata": {
    "collapsed": true
   },
   "outputs": [],
   "source": []
  },
  {
   "cell_type": "markdown",
   "metadata": {},
   "source": [
    "<hr>\n",
    "\n",
    "### Exercício <span class=\"exec\"></span>: vazamento\n",
    "\n",
    "Uma torneira pinga a uma taxa de 1 gota por segundo. Cada gota possui um volume de 0.05 mililitros. Calcule o volume de água desperdiçado depois de exatos 3 dias de vazamento. Faça a conta de modo que a resposta seja em litros."
   ]
  },
  {
   "cell_type": "code",
   "execution_count": null,
   "metadata": {
    "collapsed": true
   },
   "outputs": [],
   "source": []
  },
  {
   "cell_type": "markdown",
   "metadata": {},
   "source": [
    "---\n",
    "\n",
    "### Exercício <span class=\"exec\"></span>: dobradura\n",
    "\n",
    "Uma folha de papel sulfite tem 0.1mm de espessura. Dobrando a folha ao meio, a espessura passa a ser 0.2mm. Dobrando ao meio de novo, a espessura vai para 0.4mm. Mais uma vez e a espessura aumenta para 0.8mm, e assim vai. \n",
    "\n",
    "Sabemos que não é possível dobrar uma folha de papel sulfite ao meio mais do que 5 ou 6 vezes mas, supondo que fosse possível dobrá-la 27 vezes, qual seria a espessura da dobradura resultante?"
   ]
  },
  {
   "cell_type": "code",
   "execution_count": null,
   "metadata": {
    "collapsed": true
   },
   "outputs": [],
   "source": []
  },
  {
   "cell_type": "markdown",
   "metadata": {},
   "source": [
    "Agora transforme a resposta acima, que está em milímetros, para kilômetros."
   ]
  },
  {
   "cell_type": "code",
   "execution_count": null,
   "metadata": {
    "collapsed": true
   },
   "outputs": [],
   "source": []
  },
  {
   "cell_type": "markdown",
   "metadata": {},
   "source": [
    "\n",
    "\n",
    "## Variáveis\n",
    "\n",
    "Você pode guardar o resultado de um cálculo em uma variável para tornar a usá-lo.\n",
    "\n",
    "Vamos fazer o cálculo de conversão de temperatura de Celsius para Fahrenheit. Podemos começar colocando a temperatura em Celsius, digamos 55 graus, numa variável chamada `C`.\n",
    "\n",
    "Não se esqueça de teclar <kbd>SHIFT+ENTER</kbd> em cada uma das células abaixo."
   ]
  },
  {
   "cell_type": "code",
   "execution_count": null,
   "metadata": {
    "collapsed": true
   },
   "outputs": [],
   "source": [
    "C = 55"
   ]
  },
  {
   "cell_type": "markdown",
   "metadata": {},
   "source": [
    "Veja o valor de C teclando <kbd>SHIFT+ENTER</kbd> na célula abaixo."
   ]
  },
  {
   "cell_type": "code",
   "execution_count": null,
   "metadata": {
    "collapsed": true
   },
   "outputs": [],
   "source": [
    "C"
   ]
  },
  {
   "cell_type": "markdown",
   "metadata": {},
   "source": [
    "Para converter para Fahrenheit, temos que multiplicar `C` por `9/5` e depois somar `32`:"
   ]
  },
  {
   "cell_type": "code",
   "execution_count": null,
   "metadata": {
    "collapsed": true
   },
   "outputs": [],
   "source": [
    "F = C * 9 / 5 + 32"
   ]
  },
  {
   "cell_type": "markdown",
   "metadata": {},
   "source": [
    "Veja o valor de F teclando <kbd>SHIFT+ENTER</kbd> na célula abaixo:"
   ]
  },
  {
   "cell_type": "code",
   "execution_count": null,
   "metadata": {
    "collapsed": true
   },
   "outputs": [],
   "source": [
    "F"
   ]
  },
  {
   "cell_type": "markdown",
   "metadata": {},
   "source": [
    "\n",
    "E se você quisesse converter &nbsp;`65°C`&nbsp; para Fahrenheit em vez de &nbsp;`55°C`?\n",
    "\n",
    "Basta voltar na linha em que você definiu &nbsp;`C = 55`&nbsp; e mudar para &nbsp;`C = 65`&nbsp; e reexecutar a célula.\n",
    "\n",
    "Em seguida, reexecute a linha que definiu &nbsp;`F = C * 9 / 5 + 32`&nbsp; para atualizar o valor em Fahrenheit.\n",
    "\n",
    "Depois, reexecute a linha seguinte para imprimir o novo valor de &nbsp;`F`.\n",
    "\n",
    "O novo valor de &nbsp;`F`&nbsp; deve ser &nbsp;`149`.\n"
   ]
  },
  {
   "cell_type": "markdown",
   "metadata": {},
   "source": [
    "<hr>\n",
    "\n",
    "### Exercício <span class=\"exec\"></span>: conversão de temperatura\n",
    "\n",
    "\n",
    "Modifique as células acima (e reexecute tudo o que for necessário) para converter 80 Celsius para Fahrenheit!\n",
    "\n",
    "<hr>"
   ]
  },
  {
   "cell_type": "markdown",
   "metadata": {},
   "source": [
    "#### Maiúscula ou minúscula?\n",
    "\n",
    "<span style=\"color: #FF0000;\"><b>Atenção:</b></span> letras maiúsculas ou minúsculas fazem diferença!\n",
    "\n",
    "Uma variável chamada `C` e outra chamada `c` são coisas diferentes! Veja o que acontece:\n"
   ]
  },
  {
   "cell_type": "code",
   "execution_count": null,
   "metadata": {
    "collapsed": true
   },
   "outputs": [],
   "source": [
    "C = 0\n",
    "c = 1"
   ]
  },
  {
   "cell_type": "code",
   "execution_count": null,
   "metadata": {
    "collapsed": true
   },
   "outputs": [],
   "source": [
    "C"
   ]
  },
  {
   "cell_type": "code",
   "execution_count": null,
   "metadata": {
    "collapsed": true
   },
   "outputs": [],
   "source": [
    "c"
   ]
  },
  {
   "cell_type": "markdown",
   "metadata": {},
   "source": [
    "Como uma boa prática de programação, evite usar acentos ou outros caractéres especiais em nomes de variáveis.\n",
    "\n",
    "<span style=\"color: #FF0000;\"><b>Atenção:</b></span> nome de variável não pode começar com dígito numérico, mas pode conter dígitos depois do primeiro caractére. Por exemplo &nbsp;`a22`&nbsp; é um nome de variável válido, enquanto &nbsp;`2xg`&nbsp; é inválido.\n"
   ]
  },
  {
   "cell_type": "markdown",
   "metadata": {},
   "source": [
    "# Mais sobre o Jupyter\n"
   ]
  },
  {
   "cell_type": "markdown",
   "metadata": {},
   "source": [
    "### Múltiplas linhas de código\n",
    "\n",
    "Células de código podem ter múltiplas linhas. Veja como ficaria o exemplo da conversão de unidades de temperatura numa única célula:"
   ]
  },
  {
   "cell_type": "code",
   "execution_count": null,
   "metadata": {
    "collapsed": true
   },
   "outputs": [],
   "source": [
    "C = 55\n",
    "F = C * 9 / 5 + 32\n",
    "F"
   ]
  },
  {
   "cell_type": "markdown",
   "metadata": {},
   "source": [
    "### Salvando seu trabalho\n",
    "\n",
    "Para salvar o seu trabalho, cliquem em **_File &raquo; Save and Checkpoint_** ou no ícone do disquete.\n",
    "\n",
    "**Atenção:** se você estiver usando o site [tmpnb.org](http://tmpnb.org) ou o [Binder](mybinder.org), não é possível salvar arquivos! Nesse caso, clique em **_File &raquo; Download as &raquo; IPython Notebook (.ipynb)_** para baixar uma cópia do _notebook_ para o seu computador, e baixe cópias frequentemente para não perder o seu trabalho!\n"
   ]
  },
  {
   "cell_type": "markdown",
   "metadata": {},
   "source": [
    "### Células de texto\n",
    "\n",
    "Você pode modificar as células de textos e fazer _seus próprios comentários_ em [Markdown](https://en.wikipedia.org/wiki/Markdown). Para editar uma célula de texto (como esta) é só dar um duplo-clique na célula. Quando terminar de editar, é só apertar <kbd>SHIFT-ENTER</kbd> para que o texto fique bem formatado novamente. <i>Tags</i> <span style=\"color: #c94c4c;\"><b>HTML</b></span> e fórmulas em _Latex_ também são permitidas. Veja:\n",
    "\n",
    "$$ \\int_0^t 3x^2\\, dx $$\n"
   ]
  },
  {
   "cell_type": "markdown",
   "metadata": {},
   "source": [
    "### Mais sobre células\n",
    "\n",
    "No Jupyter, explore os menus _**Edit**_, _**Insert**_ e depois _**Cell**_, para ver quais operações com células podem ser efetuadas. Você também pode usar atalhos do teclado para acessar essas funções:\n",
    "\n",
    "* <kbd>ESC B</kbd> insere uma nova célula de código **abaixo** da célula selecionada;\n",
    "* <kbd>ESC A</kbd> insere uma nova célula de código **acima** da célula selecionada;\n",
    "* <kbd>ESC M</kbd> transforma uma célula em célula de **texto**;\n",
    "* <kbd>ESC Y</kbd> transforma uma célula em célula de **código**;\n",
    "* <kbd>CTRL+SHIFT+P</kbd> mostra mais atalhos do teclado (também acessível pelo menu _**Help &raquo; Keyboard Shortcuts**_).\n"
   ]
  },
  {
   "cell_type": "markdown",
   "metadata": {},
   "source": [
    "Agora vamos voltar ao estudo de programação em Python."
   ]
  },
  {
   "cell_type": "markdown",
   "metadata": {},
   "source": [
    "\n",
    "\n",
    "# Entrada e saída\n",
    "\n",
    "\n",
    "Todo programa de computador precisa:\n",
    "\n",
    "* receber dados de alguma fonte (teclado, mouse, arquivo, internet, etc.), \n",
    "* processar esses dados e, \n",
    "* enviar o resultado do processamento para algum lugar (tela, arquivo, impressora, web, etc.).\n",
    "\n",
    "Em vista disso, é comum classsificar os dados como:\n",
    "\n",
    "* **dados de entrada**: são aqueles que o programa **recebe**, e\n",
    "* **dados de saída**: são aqueles que programa **mostra** ao usuário.\n",
    "\n"
   ]
  },
  {
   "cell_type": "markdown",
   "metadata": {},
   "source": [
    "## Mostrando dados (saída)\n",
    "\n",
    "\n",
    "No exemplo de conversão de temperatura, nós usamos o seguinte código."
   ]
  },
  {
   "cell_type": "code",
   "execution_count": null,
   "metadata": {
    "collapsed": true
   },
   "outputs": [],
   "source": [
    "C = 55\n",
    "F = C * 9 / 5 + 32\n",
    "F"
   ]
  },
  {
   "cell_type": "markdown",
   "metadata": {},
   "source": [
    "Suponha agora que também quiséssemos calcular a temperatura em Kelvin:"
   ]
  },
  {
   "cell_type": "code",
   "execution_count": null,
   "metadata": {
    "collapsed": true
   },
   "outputs": [],
   "source": [
    "C = 55\n",
    "F = C * 9 / 5 + 32\n",
    "F\n",
    "K = C + 273.15\n",
    "K"
   ]
  },
  {
   "cell_type": "markdown",
   "metadata": {},
   "source": [
    "Hummm... veja que só o K apareceu e nada do F!\n",
    "\n",
    "Para fazer com que um dado seja mostrado na saída, podemos usar a função `print()`:"
   ]
  },
  {
   "cell_type": "code",
   "execution_count": null,
   "metadata": {
    "collapsed": true
   },
   "outputs": [],
   "source": [
    "C = 55\n",
    "F = C * 9 / 5 + 32\n",
    "print(F)\n",
    "K = C + 273.15\n",
    "print(K)"
   ]
  },
  {
   "cell_type": "markdown",
   "metadata": {},
   "source": [
    "Agora sim!\n",
    "\n",
    "Poderíamos também deixar a saída melhor formatada, você não acha?"
   ]
  },
  {
   "cell_type": "code",
   "execution_count": null,
   "metadata": {
    "collapsed": true
   },
   "outputs": [],
   "source": [
    "C = 55\n",
    "F = C * 9 / 5 + 32\n",
    "print(C, \"Celsius em Fahrenheit é\", F)\n",
    "K = C + 273.15\n",
    "print(C, 'Celsius em Kelvin é', K)"
   ]
  },
  {
   "cell_type": "markdown",
   "metadata": {},
   "source": [
    "Em linhas gerais, a função `print()` recebe uma lista de argumentos (dados numéricos ou de texto) e mostra esses argumentos na saída, separando-os com um espaço em branco. Depois de imprimir cada um dos dados passados como argumento, a função `print()` manda \"pular uma linha\" na saída."
   ]
  },
  {
   "cell_type": "markdown",
   "metadata": {},
   "source": [
    "<hr>\n",
    "\n",
    "### Exercício <span class=\"exec\"></span>: biblioteca no pendrive\n",
    "\n",
    "Um livro que contenha somente texto (sem figuras) ocupa em média 2Mb de memória. Isso significa $2 \\times 2^{20}$ bytes. Hoje em dia é comum encontrar pendrives com capacidade de armazenamento de 32Gb. Isso significa $32 \\times 2^{30}$ bytes. Calcule quantos livros-texto cabem num pendrive de 32Gb, depois use o comando `print()` para mostrar a resposta no formato abaixo.\n",
    "\n",
    "    Num pendrive de 32Gb cabem ... livros."
   ]
  },
  {
   "cell_type": "code",
   "execution_count": null,
   "metadata": {
    "collapsed": true
   },
   "outputs": [],
   "source": []
  },
  {
   "cell_type": "markdown",
   "metadata": {},
   "source": [
    "<hr>\n",
    "\n",
    "## Perguntando dados (entrada)\n",
    "\n",
    "\n",
    "Agora que você já sabe mostrar dados na saída, é importante que você aprenda a fazer perguntas ao usuário e saiba receber a reposta que ele digitar.\n",
    "\n",
    "Para pedir que o usuário entre com um dado de texto, use a função `input()`. \n",
    "\n",
    "Veja os exemplos:\n"
   ]
  },
  {
   "cell_type": "code",
   "execution_count": null,
   "metadata": {
    "collapsed": true
   },
   "outputs": [],
   "source": [
    "nome = input(\"Qual é  seu nome? \")\n",
    "print(\"Olá,\", nome)"
   ]
  },
  {
   "cell_type": "markdown",
   "metadata": {},
   "source": [
    "Mas olha agora que estranho, execute o código abaixo e responda 1 quando for perguntado a respeito da idade:"
   ]
  },
  {
   "cell_type": "code",
   "execution_count": null,
   "metadata": {
    "collapsed": true
   },
   "outputs": [],
   "source": [
    "idade = input(\"Qual é a sua idade? \")\n",
    "dobro = idade + idade\n",
    "print(\"O dobro da sua idade é\", dobro)"
   ]
  },
  {
   "cell_type": "markdown",
   "metadata": {},
   "source": [
    "**11?? Mas por quê??**"
   ]
  },
  {
   "cell_type": "markdown",
   "metadata": {},
   "source": [
    "O que acontece é que a função `input()` do Python sempre devolve o que o usuário digitar em formato **texto**. \n",
    "\n",
    "Em Python, textos são delimitados por aspas simples ou duplas. Veja:"
   ]
  },
  {
   "cell_type": "code",
   "execution_count": null,
   "metadata": {
    "collapsed": true
   },
   "outputs": [],
   "source": [
    "\"Maria\""
   ]
  },
  {
   "cell_type": "code",
   "execution_count": null,
   "metadata": {
    "collapsed": true
   },
   "outputs": [],
   "source": [
    "'João'"
   ]
  },
  {
   "cell_type": "markdown",
   "metadata": {},
   "source": [
    "E olha o que acontece com a soma de dois textos:"
   ]
  },
  {
   "cell_type": "code",
   "execution_count": null,
   "metadata": {
    "collapsed": true
   },
   "outputs": [],
   "source": [
    "\"Maria\" + \"João\""
   ]
  },
  {
   "cell_type": "markdown",
   "metadata": {},
   "source": [
    "Ou seja, somar dois textos tem o efeito de grudá-los.\n",
    "\n",
    "Para ser um pouco mais formal, nós dizemos que o operador `+` **concatena** os textos.\n",
    "\n",
    "Então, no exemplo anterior, como o Python entendeu que a entrada era um texto, o que ele fez foi equivalente ao seguinte:"
   ]
  },
  {
   "cell_type": "code",
   "execution_count": null,
   "metadata": {
    "collapsed": true
   },
   "outputs": [],
   "source": [
    "idade = \"1\"\n",
    "dobro = idade + idade \n",
    "print(dobro)"
   ]
  },
  {
   "cell_type": "markdown",
   "metadata": {},
   "source": [
    "---\n",
    "\n",
    "### Exercício <span class=\"exec\"></span>: idade avançada\n",
    "\n",
    "Mude apenas o valor inicial da variável `idade` no programa acima para imprimir 123123 em vez de 11.\n",
    "\n",
    "---"
   ]
  },
  {
   "cell_type": "markdown",
   "metadata": {},
   "source": [
    "## Conversão texto $\\rightarrow$ número\n",
    "\n",
    "Mas o que fazer se quisermos perguntar números em vez de texto?\n",
    "\n",
    "É importante que você saiba que existem três tipos de dados numéricos no Python 3:\n",
    "\n",
    "* números inteiros ( *int* ), como 1, 0, -1, 2, 4\n",
    "* números de ponto flutuante ( *float* ), como 2.13, 1.1, 1.00001, -12.3\n",
    "* números complexos.\n"
   ]
  },
  {
   "cell_type": "markdown",
   "metadata": {},
   "source": [
    "Para pedir um número ao usuário, basta converter o texto que ele digitou para um número do tipo desejado. Isso pode ser feito através das funções `int()` ou `float()`. Veja um exemplo abaixo."
   ]
  },
  {
   "cell_type": "code",
   "execution_count": null,
   "metadata": {
    "collapsed": true
   },
   "outputs": [],
   "source": [
    "idade_texto = input(\"Qual é a sua idade? \")\n",
    "idade = int(idade_texto)\n",
    "dobro = idade + idade\n",
    "print(\"O dobro da sua idade é\", dobro)"
   ]
  },
  {
   "cell_type": "markdown",
   "metadata": {},
   "source": [
    "A linha \n",
    "\n",
    "    idade = int(idade_texto)\n",
    "        \n",
    "converte o valor guardado na variável `idade_texto` para o tipo _int_ e guarda o resultado na variável `idade`.\n",
    "A razão pela qual escolhemos o tipo _int_, é que é mais comum considerar idade como sendo um número inteiro.\n",
    "\n",
    "Outro jeito de fazer a mesma coisa:"
   ]
  },
  {
   "cell_type": "code",
   "execution_count": null,
   "metadata": {
    "collapsed": true
   },
   "outputs": [],
   "source": [
    "idade = int(input(\"Qual é a sua idade? \"))\n",
    "dobro = idade + idade\n",
    "print(\"O dobro da sua idade é\", dobro)"
   ]
  },
  {
   "cell_type": "markdown",
   "metadata": {},
   "source": [
    "Nessa versão do programa, a linha \n",
    "\n",
    "    idade = int(input(\"Qual é a sua idade? \"))\n",
    "    \n",
    "faz o mesmo que as duas linhas \n",
    "\n",
    "    idade_texto = input(\"Qual é a sua idade? \")\n",
    "    idade = int(idade_texto)\n",
    "\n",
    "e tem a vantagem de deixar o código mais sucinto e mais legível."
   ]
  },
  {
   "cell_type": "markdown",
   "metadata": {},
   "source": [
    "<hr>\n",
    "\n",
    "Se você quiser permitir que a idade seja um número quebrado, você pode converter o texto lido para _float_:"
   ]
  },
  {
   "cell_type": "code",
   "execution_count": null,
   "metadata": {
    "collapsed": true
   },
   "outputs": [],
   "source": [
    "idade = float(input(\"Qual é a sua idade? \"))\n",
    "dobro = idade + idade\n",
    "print(\"O dobro da sua idade é\", dobro)"
   ]
  },
  {
   "cell_type": "markdown",
   "metadata": {},
   "source": [
    "## Conversão número $\\rightarrow$ texto\n",
    "\n",
    "Para converter um número (ou uma expressão numérica) para texto, você pode usar a função `str()`.\n",
    "\n",
    "Veja o exemplo:"
   ]
  },
  {
   "cell_type": "code",
   "execution_count": null,
   "metadata": {},
   "outputs": [],
   "source": [
    "25"
   ]
  },
  {
   "cell_type": "code",
   "execution_count": null,
   "metadata": {},
   "outputs": [],
   "source": [
    "str(25)"
   ]
  },
  {
   "cell_type": "markdown",
   "metadata": {},
   "source": [
    "E para que precisamos converter um número (ou outro tipo que seja) para texto?\n",
    "\n",
    "Por exemplo, para poder formatar uma mensagem de resposta que tenha números e texto intercalados.\n",
    "\n",
    "Veja o código a seguir:"
   ]
  },
  {
   "cell_type": "code",
   "execution_count": null,
   "metadata": {},
   "outputs": [],
   "source": [
    "'Sua idade é ' + 25 + 'anos.'"
   ]
  },
  {
   "cell_type": "markdown",
   "metadata": {},
   "source": [
    "Note que o trecho de código acima gerou um erro. O Python sabe somar números e sabe concatenar textos, mas ele não sabe o que fazer quando o sinal de `+` tem um número de um lado e um texto do outro. Somar? Concatenar?\n",
    "\n",
    "A função `str()` é útil para resolver esse tipo de situação. Veja:"
   ]
  },
  {
   "cell_type": "code",
   "execution_count": null,
   "metadata": {},
   "outputs": [],
   "source": [
    "'Sua idade é ' + str(25) + ' anos.'"
   ]
  },
  {
   "cell_type": "markdown",
   "metadata": {},
   "source": [
    "Veja agora um exemplo mais complexo do uso da funçao `str()` para formatar a saída de um programa."
   ]
  },
  {
   "cell_type": "code",
   "execution_count": null,
   "metadata": {
    "collapsed": true
   },
   "outputs": [],
   "source": [
    "ano1 = int(input('Digite um ano qualquer do passado (4 dígitos): '))\n",
    "ano2 = int(input('Digite o ano em que estamos (4 dígitos): '))\n",
    "print('Do ano ' + str(ano1) + ' até o ano ' + str(ano2) + ' passaram-se ' \n",
    "      + str(ano2 - ano1) + ' anos.')"
   ]
  },
  {
   "cell_type": "markdown",
   "metadata": {},
   "source": [
    "### Limitando as casas decimais\n",
    "\n",
    "Para exibir somente um número limitado de casas decimais de um número _float_, podemos usar a função `round()`. Veja o exemplo abaixo."
   ]
  },
  {
   "cell_type": "code",
   "execution_count": null,
   "metadata": {
    "collapsed": true
   },
   "outputs": [],
   "source": [
    "round(234.234812312854, 3)"
   ]
  },
  {
   "cell_type": "markdown",
   "metadata": {},
   "source": [
    "Veja outro exemplo."
   ]
  },
  {
   "cell_type": "code",
   "execution_count": null,
   "metadata": {
    "collapsed": true
   },
   "outputs": [],
   "source": [
    "valor = 1573.90\n",
    "num_parcelas = 13\n",
    "print('O valor de cada parcela será de R$ ' + str(round(valor/num_parcelas, 2)))"
   ]
  },
  {
   "cell_type": "markdown",
   "metadata": {},
   "source": [
    "### Formatação de texto\n",
    "\n",
    "Para mais informações sobre formatação de número ou texto, consulte a página [https://pyformat.info/](https://pyformat.info/)."
   ]
  },
  {
   "cell_type": "markdown",
   "metadata": {},
   "source": [
    "# Mais exercícios"
   ]
  },
  {
   "cell_type": "markdown",
   "metadata": {},
   "source": [
    "---\n",
    "\n",
    "### Exercício <span class=\"exec\"></span>: parcelas sem juros II\n",
    "\n",
    "Escreva um programa que auxilia uma loja na hora de fazer uma venda. Seu programa deve:\n",
    "\n",
    "* perguntar o preço do produto;\n",
    "* perguntar o número de parcelas em que o cliente deseja pagar (sem juros);\n",
    "* mostrar quanto será o valor de uma parcela.\n",
    "\n",
    "Obs.: lembre-se de digitar os número com ponto (como 18.50 ao invés de 18,50)."
   ]
  },
  {
   "cell_type": "code",
   "execution_count": null,
   "metadata": {
    "collapsed": true
   },
   "outputs": [],
   "source": []
  },
  {
   "cell_type": "markdown",
   "metadata": {},
   "source": [
    "---\n",
    "\n",
    "### Exercício <span class=\"exec\"></span>: autonomia\n",
    "\n",
    "Faça um programa que pergunta ao usuário pela capacidade do tanque de gasolina do carro (em litros), depois pelo consumo de gasolina (em km/l). Depois, seu programa deve mostrar a autonomia do carro com o tanque cheio, ou seja, quantos kilômetros ele consegue viajar com o tanque cheio até parar por falta de combustível."
   ]
  },
  {
   "cell_type": "code",
   "execution_count": null,
   "metadata": {
    "collapsed": true
   },
   "outputs": [],
   "source": []
  },
  {
   "cell_type": "markdown",
   "metadata": {},
   "source": [
    "---\n",
    "\n",
    "### Exercício <span class=\"exec\"></span>: área do triângulo\n",
    "\n",
    "Faça um programa para calcular a área de um triângulo. Seu programa deve pedir para o usuário digitar o comprimento da base e depois a altura, então seu programa deve dizer qual a área de um triângulo com tais parâmetros."
   ]
  },
  {
   "cell_type": "code",
   "execution_count": null,
   "metadata": {
    "collapsed": true
   },
   "outputs": [],
   "source": []
  },
  {
   "cell_type": "markdown",
   "metadata": {},
   "source": [
    "---\n",
    "\n",
    "### Exercício <span class=\"exec\"></span>: média ponderada\n",
    "\n",
    "Faça um programa que \n",
    "\n",
    "* pergunta a um aluno quanto ele tirou na P1, depois quanto ele tirou na P2; e\n",
    "* mostra na saída a média ponderada, considerando que o peso da P1 é 2.5 e o peso da P2 é 4.0 (portanto a soma dos pesos é 6.5)."
   ]
  },
  {
   "cell_type": "code",
   "execution_count": null,
   "metadata": {
    "collapsed": true
   },
   "outputs": [],
   "source": []
  },
  {
   "cell_type": "markdown",
   "metadata": {},
   "source": [
    "---\n",
    "\n",
    "### Exercício <span class=\"exec\"></span>: volume do cilíndro\n",
    "\n",
    "Peça ao usuário para digitar dois números: o raio $r$ da base do cilindro e sua altura $h$, um por vez. Depois mostre na tela o volume do cilindro, que pode ser calculado com a fórmula\n",
    "\n",
    "$$ V = \\pi r^2 h. $$\n",
    "\n",
    "Use o valor 3.1415926 para aproximar $\\pi$."
   ]
  },
  {
   "cell_type": "code",
   "execution_count": null,
   "metadata": {
    "collapsed": true
   },
   "outputs": [],
   "source": []
  },
  {
   "cell_type": "markdown",
   "metadata": {},
   "source": [
    "---\n",
    "\n",
    "### Exercício <span class=\"exec\"></span>: volume da esfera\n",
    "\n",
    "O cálculo do volume de uma esfera de raio $R$ é feito pela fórmula\n",
    "\n",
    "$$ V = \\frac{4 \\pi R^3}{3}. $$\n",
    "\n",
    "Faça um programa que pergunta ao usuário por um número positivo $R$ e que calcula e depois mostra na tela o volume de uma esfera de raio $R$.\n",
    "\n",
    "Use o valor 3.1415926 para aproximar $\\pi$."
   ]
  },
  {
   "cell_type": "code",
   "execution_count": null,
   "metadata": {
    "collapsed": true
   },
   "outputs": [],
   "source": []
  },
  {
   "cell_type": "markdown",
   "metadata": {},
   "source": [
    "---\n",
    "\n",
    "### Exercício <span class=\"exec\"></span>: poupança\n",
    "\n",
    "Um investidor depositou uma quantia na poupança, que rende $p$ porcento ao mês. Ajude o investidor a calcular quanto ele terá depois de alguns meses. \n",
    "\n",
    "Seu programa deve:\n",
    "\n",
    "* perguntar pela quantia $d$ de dinheiro depositada na poupança;\n",
    "* perguntar pela taxa $p$ de rendimento da poupança;\n",
    "* perguntar pelo numero $t$ de meses que o dinheiro ficará rendendo;\n",
    "* mostrar o montante de dinheiro na poupança após os $t$ meses.\n",
    "\n",
    "Lembre-se que a quantia $D$ após $t$ meses pode ser calculada por\n",
    "\n",
    "$$ D = d\\Big(1 + \\frac{p}{100}\\Big)^t. $$"
   ]
  },
  {
   "cell_type": "code",
   "execution_count": null,
   "metadata": {
    "collapsed": true
   },
   "outputs": [],
   "source": []
  },
  {
   "cell_type": "markdown",
   "metadata": {},
   "source": [
    "---\n",
    "\n",
    "### Exercícios <span class=\"exec\"></span>: horas, minutos e segundos\n",
    "\n",
    "Suponha que você trabalha numa empresa e que seu chefe tenha pedido a você que faça um programa para converter uma quantidade $S$ de segundos em horas, minutos e segundos. Por exemplo, 3666 segundos equivale a 1 hora, 1 minuto e 6 segundos. Faça esse programa.\n",
    "\n",
    "**Dicas:** use os operadores de divisão inteira `//` e resto `%`; trabalhe somente com valores inteiros (_int_) e não com números de ponto flutuante (_float_)."
   ]
  },
  {
   "cell_type": "code",
   "execution_count": null,
   "metadata": {
    "collapsed": true
   },
   "outputs": [],
   "source": []
  },
  {
   "cell_type": "markdown",
   "metadata": {},
   "source": [
    "---\n",
    "\n",
    "### Exercício <span class=\"exec\"></span>: troco\n",
    "\n",
    "Você é comerciante e identificou um problema muito comum: uma pessoa compra um produto de sua loja mas, na hora de passar o cartão dela na maquininha, o caixa cobra $C \\geq 0$ centavos a mais do que deveria e agora precisa dar o troco. Sua loja só trabalha com moedas ou cartão, então o cliente tem direito a receber _em moedas_ a quantidade $C$ de centavos que excedeu o preço da compra. Você quer dar ao cliente o número mínimo de moedas para trocar o valor $C$.\n",
    "\n",
    "Por exemplo, se o caixa cobrou 573 centavos a mais no cartão, o cliente tem direito a receber\n",
    "\n",
    "    5 moeda(s) de  1 real\n",
    "    1 moeda(s) de 50 centavos\n",
    "    0 moeda(s) de 25 centavos\n",
    "    2 moeda(s) de 10 centavos\n",
    "    0 moeda(s) de  5 centavos\n",
    "    3 moeda(s) de  1 centavo\n",
    "\n",
    "Faça um programa para ajudá-lo nesta tarefa:\n",
    "\n",
    "* pergunte ao usuário pela quantidade `C` de centavos que deve ser trocada;\n",
    "* mostre ao usuário quais moedas de cada denominação devem ser devolvidas ao cliente em um troco mínimo.\n",
    "\n",
    "**Dicas:** use os operadores de divisão inteira `//` e resto `%`; trabalhe com valores inteiros."
   ]
  },
  {
   "cell_type": "code",
   "execution_count": null,
   "metadata": {
    "collapsed": true
   },
   "outputs": [],
   "source": []
  },
  {
   "cell_type": "markdown",
   "metadata": {},
   "source": [
    "<a rel=\"license\" href=\"http://creativecommons.org/licenses/by-sa/4.0/\"><img alt=\"Creative Commons License\" style=\"border-width:0\" src=\"https://i.creativecommons.org/l/by-sa/4.0/88x31.png\" /></a><br /><span xmlns:dct=\"http://purl.org/dc/terms/\" href=\"http://purl.org/dc/dcmitype/InteractiveResource\" property=\"dct:title\" rel=\"dct:type\">Python 3 Practice Notebooks</span> by <a xmlns:cc=\"http://creativecommons.org/ns#\" href=\"https://github.com/daniel-ufabc/ipycourse\" property=\"cc:attributionName\" rel=\"cc:attributionURL\">Cristiane Sato, Daniel M. Martin and Mirtha L. F. Venero</a> is licensed under a <a rel=\"license\" href=\"http://creativecommons.org/licenses/by-sa/4.0/\">Creative Commons Attribution-ShareAlike 4.0 International License</a>."
   ]
  },
  {
   "cell_type": "markdown",
   "metadata": {},
   "source": [
    "<span style=\"color: red;\">Ignore as próximas células! Elas só estão presentes para personalizar a formatação deste _notebook_. </span>"
   ]
  },
  {
   "cell_type": "code",
   "execution_count": 1,
   "metadata": {
    "init_cell": true
   },
   "outputs": [
    {
     "data": {
      "text/html": [
       "<style>\n",
       "\n",
       ".rendered_html h1 {\n",
       "    background-color: #555;\n",
       "    color: white;\n",
       "    padding: .5em;\n",
       "    // border-bottom: 2px solid #000;\n",
       "    // padding-bottom: .6em;\n",
       "    margin-bottom: 1em;\n",
       "}\n",
       "\n",
       ".rendered_html h2 {\n",
       "    border-bottom: 1px solid #333;\n",
       "    padding-bottom: .6em;\n",
       "}\n",
       "                                      \n",
       ".rendered_html h3 {\n",
       "    color: #034f84;\n",
       "}\n",
       "\n",
       ".rendered_html code  {\n",
       "    padding: 2px 4px;\n",
       "    font-size: 90%;\n",
       "    color: #c7254e;\n",
       "    background-color: #f9f2f4;\n",
       "    border-radius: 4px;\n",
       "}\n",
       "\n",
       ".rendered_html pre code {\n",
       "    padding: 0px;\n",
       "    font-size: 90%;\n",
       "    color: #c7254e;\n",
       "    background-color: rgba(0, 0, 0, 0);\n",
       "}\n",
       "\n",
       "kbd {\n",
       "    border-radius: 3px;  \n",
       "    padding: 2px, 3px;\n",
       "}\n",
       "\n",
       "body {\n",
       "    counter-reset: h1counter excounter;\n",
       "}\n",
       "h1:before {\n",
       "    content: counter(h1counter) \".\\0000a0\\0000a0\";\n",
       "    counter-increment: h1counter;\n",
       "}\n",
       "span.exec:before {\n",
       "    content: counter(excounter);\n",
       "    counter-increment: excounter;\n",
       "}\n",
       "\n",
       "</style>                                      \n"
      ],
      "text/plain": [
       "<IPython.core.display.HTML object>"
      ]
     },
     "metadata": {},
     "output_type": "display_data"
    }
   ],
   "source": [
    "%%html\n",
    "<style>\n",
    "\n",
    ".rendered_html h1 {\n",
    "    background-color: #555;\n",
    "    color: white;\n",
    "    padding: .5em;\n",
    "    // border-bottom: 2px solid #000;\n",
    "    // padding-bottom: .6em;\n",
    "    margin-bottom: 1em;\n",
    "}\n",
    "\n",
    ".rendered_html h2 {\n",
    "    border-bottom: 1px solid #333;\n",
    "    padding-bottom: .6em;\n",
    "}\n",
    "                                      \n",
    ".rendered_html h3 {\n",
    "    color: #034f84;\n",
    "}\n",
    "\n",
    ".rendered_html code  {\n",
    "    padding: 2px 4px;\n",
    "    font-size: 90%;\n",
    "    color: #c7254e;\n",
    "    background-color: #f9f2f4;\n",
    "    border-radius: 4px;\n",
    "}\n",
    "\n",
    ".rendered_html pre code {\n",
    "    padding: 0px;\n",
    "    font-size: 90%;\n",
    "    color: #c7254e;\n",
    "    background-color: rgba(0, 0, 0, 0);\n",
    "}\n",
    "\n",
    "kbd {\n",
    "    border-radius: 3px;  \n",
    "    padding: 2px, 3px;\n",
    "}\n",
    "\n",
    "body {\n",
    "    counter-reset: h1counter excounter;\n",
    "}\n",
    "h1:before {\n",
    "    content: counter(h1counter) \".\\0000a0\\0000a0\";\n",
    "    counter-increment: h1counter;\n",
    "}\n",
    "span.exec:before {\n",
    "    content: counter(excounter);\n",
    "    counter-increment: excounter;\n",
    "}\n",
    "\n",
    "</style>                                      "
   ]
  }
 ],
 "metadata": {
  "kernelspec": {
   "display_name": "Python 3",
   "language": "python",
   "name": "python3"
  },
  "language_info": {
   "codemirror_mode": {
    "name": "ipython",
    "version": 3
   },
   "file_extension": ".py",
   "mimetype": "text/x-python",
   "name": "python",
   "nbconvert_exporter": "python",
   "pygments_lexer": "ipython3",
   "version": "3.5.2"
  }
 },
 "nbformat": 4,
 "nbformat_minor": 1
}
