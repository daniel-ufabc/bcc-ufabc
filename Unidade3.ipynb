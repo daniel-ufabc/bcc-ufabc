{
 "cells": [
  {
   "cell_type": "markdown",
   "metadata": {},
   "source": [
    "# Unidade 3 - Introdução à programação em Python 3\n",
    "\n",
    "Nesta unidade, vamos aprender alguns elementos de programação em Python.\n",
    "\n",
    "Em cada seção, você pode executar qualquer código que apareça dentro de uma célula que começa com **In [ ]**. \n",
    "\n",
    "Para executar, basta clicar na célula e digitar `SHIFT+ENTER`.\n",
    "\n",
    "Nós o encorajamos a experimentar com o conteúdo dessas células, afinal, é fazendo que se aprende.\n",
    "\n",
    "## Python como calculadora\n",
    "\n",
    "As quatro operações de soma, subtração, multiplicação e divisão são denotadas pelos símbolos `+`, `-`, `*` e `/`.\n",
    "\n",
    "A potenciação é denotada por `**` (ao contrário de outras linguagens, em que é comum usar o símbolo `^` para potenciação).\n",
    "\n",
    "Vamos praticar alguns cálculos em Python. \n",
    "\n",
    "Para cada uma das 3 células a seguir, tente prever qual será o resultado do cálculo e então tecle `SHIFT+ENTER` para executá-la em Python e veja se você obteve o que esperava. \n",
    "\n",
    "Você tem que teclar `SHIFT+ENTER`para cada uma delas."
   ]
  },
  {
   "cell_type": "code",
   "execution_count": null,
   "metadata": {
    "collapsed": false
   },
   "outputs": [],
   "source": [
    "3 + 5"
   ]
  },
  {
   "cell_type": "code",
   "execution_count": null,
   "metadata": {
    "collapsed": false
   },
   "outputs": [],
   "source": [
    "3**2"
   ]
  },
  {
   "cell_type": "code",
   "execution_count": null,
   "metadata": {
    "collapsed": false
   },
   "outputs": [],
   "source": [
    "3*(1 + 5)"
   ]
  },
  {
   "cell_type": "markdown",
   "metadata": {},
   "source": [
    "Temos um tipo especial de divisão que é chamada de divisão inteira. Ela divide o número e depois arrendonda para baixo. Usamos o operador `//`.\n",
    "\n",
    "Veja como a divisão inteira funciona."
   ]
  },
  {
   "cell_type": "code",
   "execution_count": null,
   "metadata": {
    "collapsed": false
   },
   "outputs": [],
   "source": [
    "17 // 5"
   ]
  },
  {
   "cell_type": "code",
   "execution_count": null,
   "metadata": {
    "collapsed": false
   },
   "outputs": [],
   "source": [
    "9 // 2"
   ]
  },
  {
   "cell_type": "markdown",
   "metadata": {},
   "source": [
    "Temos o operador `%` que calcula o resto da divisão de um número por outro. \n",
    "\n",
    "Abaixo calculamos o resto da divisão de 17 por 5"
   ]
  },
  {
   "cell_type": "code",
   "execution_count": null,
   "metadata": {
    "collapsed": false
   },
   "outputs": [],
   "source": [
    "17 % 5"
   ]
  },
  {
   "cell_type": "markdown",
   "metadata": {},
   "source": [
    "### Questão 1\n",
    "\n",
    "João faz 10 anos de idade hoje, neste exato momento! Calcule quantos segundos de vida ele acabou de comemorar. (Ignore os anos bissextos.)\n",
    "\n",
    "Responda a Questão 1 no [Tutorial da Unidade 3](http://tidia4.ufabc.edu.br/portal/directtool/91121677-9b2e-4ca7-8915-0f4e1516f83e/), no Tidia ."
   ]
  },
  {
   "cell_type": "code",
   "execution_count": null,
   "metadata": {
    "collapsed": false
   },
   "outputs": [],
   "source": []
  },
  {
   "cell_type": "markdown",
   "metadata": {},
   "source": [
    "### Funções matemáticas\n",
    "\n",
    "Se você precisa de funções matemáticas não elementares, como as funções logarítmicas, exponenciais,  trigonométricas e outras, você pode importar o pacote `math` com o comando `import math`.\n",
    "\n",
    "Em seguida, veja alguns exemplos de funções definidas no pacote `math` do Python.\n",
    "\n",
    "Não esqueça de teclar `SHIFT+ENTER` em cada uma das células abaixo!"
   ]
  },
  {
   "cell_type": "code",
   "execution_count": null,
   "metadata": {
    "collapsed": true
   },
   "outputs": [],
   "source": [
    "import math"
   ]
  },
  {
   "cell_type": "code",
   "execution_count": null,
   "metadata": {
    "collapsed": false
   },
   "outputs": [],
   "source": [
    "math.log(10)"
   ]
  },
  {
   "cell_type": "code",
   "execution_count": null,
   "metadata": {
    "collapsed": false,
    "scrolled": false
   },
   "outputs": [],
   "source": [
    "math.e"
   ]
  },
  {
   "cell_type": "code",
   "execution_count": null,
   "metadata": {
    "collapsed": false
   },
   "outputs": [],
   "source": [
    "math.pi"
   ]
  },
  {
   "cell_type": "code",
   "execution_count": null,
   "metadata": {
    "collapsed": false,
    "scrolled": true
   },
   "outputs": [],
   "source": [
    "math.cos(math.pi / 2)"
   ]
  },
  {
   "cell_type": "code",
   "execution_count": null,
   "metadata": {
    "collapsed": false,
    "scrolled": true
   },
   "outputs": [],
   "source": [
    "math.log2(1024)"
   ]
  },
  {
   "cell_type": "markdown",
   "metadata": {},
   "source": [
    "Se você quer saber tudo o que o módulo `math` tem, você pode executar `help(math)`."
   ]
  },
  {
   "cell_type": "code",
   "execution_count": null,
   "metadata": {
    "collapsed": false
   },
   "outputs": [],
   "source": [
    "help(math)"
   ]
  },
  {
   "cell_type": "markdown",
   "metadata": {},
   "source": [
    "Para não ter que ficar digitando \"`math.`\" antes das funções do módulo `math`, você pode fazer da seguinte maneira."
   ]
  },
  {
   "cell_type": "code",
   "execution_count": null,
   "metadata": {
    "collapsed": true
   },
   "outputs": [],
   "source": [
    "from math import cos, pi"
   ]
  },
  {
   "cell_type": "code",
   "execution_count": null,
   "metadata": {
    "collapsed": false
   },
   "outputs": [],
   "source": [
    "cos(pi / 2)"
   ]
  },
  {
   "cell_type": "markdown",
   "metadata": {},
   "source": [
    "A linha abaixo irá resultar num `NameError`, pois só importamos a função `cos` e a constante `pi` para o *namespace* padrão. "
   ]
  },
  {
   "cell_type": "code",
   "execution_count": null,
   "metadata": {
    "collapsed": false
   },
   "outputs": [],
   "source": [
    "sin(pi / 2)"
   ]
  },
  {
   "cell_type": "markdown",
   "metadata": {},
   "source": [
    "Para importar tudo do módulo `math`, faça:"
   ]
  },
  {
   "cell_type": "code",
   "execution_count": null,
   "metadata": {
    "collapsed": true
   },
   "outputs": [],
   "source": [
    "from math import *"
   ]
  },
  {
   "cell_type": "code",
   "execution_count": null,
   "metadata": {
    "collapsed": false
   },
   "outputs": [],
   "source": [
    "sin(pi / 2)"
   ]
  },
  {
   "cell_type": "markdown",
   "metadata": {},
   "source": [
    "### Variáveis\n",
    "\n",
    "Uma vantagem de Python sobre as calculardoras convencionais é que você pode guardar o resultado de um cálculo em uma variável para tornar a usá-la.\n",
    "\n",
    "Vamos fazer o cálculo de conversão de temperatura de Celsius para Fahrenheit. Podemos começar colocando a temperatura em Celsius, digamos 55 graus, numa variável chamada `C`.\n",
    "\n",
    "Não se esqueça de teclar `SHIFT+ENTER` em cada uma das células abaixo."
   ]
  },
  {
   "cell_type": "code",
   "execution_count": null,
   "metadata": {
    "collapsed": true
   },
   "outputs": [],
   "source": [
    "C = 55"
   ]
  },
  {
   "cell_type": "markdown",
   "metadata": {},
   "source": [
    "Depois usamos a fórmula de conversão de Celsius para Fahrenheit, e colocamos o resultado da conta numa variável `F`."
   ]
  },
  {
   "cell_type": "code",
   "execution_count": null,
   "metadata": {
    "collapsed": true
   },
   "outputs": [],
   "source": [
    "F = C * 9 / 5 + 32"
   ]
  },
  {
   "cell_type": "markdown",
   "metadata": {},
   "source": [
    "Finalmente, para mostrar o conteúdo de `F`, faça:"
   ]
  },
  {
   "cell_type": "code",
   "execution_count": null,
   "metadata": {
    "collapsed": false
   },
   "outputs": [],
   "source": [
    "F"
   ]
  },
  {
   "cell_type": "markdown",
   "metadata": {},
   "source": [
    "Suponha que você percebeu que a temperatura em Celsius estava errada. Por exemplo, suponha que ela deveria ser 65 em vez de 55. Então basta voltar na linha em que você definiu `C`, fazer a mudança e reexecutar aquela linha. Em seguida, reexecute a linha definiu `F` para atualizar o valor em Fahrenheit e, finalmente, reexecute a linha seguinte para imprimir o novo valor de `F`."
   ]
  },
  {
   "cell_type": "markdown",
   "metadata": {},
   "source": [
    "**Atenção:** Python distingue entre letras **maiúsculas** e **minúsculas**! Portanto, uma variável chamada `C` e outra chamada `c` são coisas diferentes. Veja o que acontece:"
   ]
  },
  {
   "cell_type": "code",
   "execution_count": null,
   "metadata": {
    "collapsed": true
   },
   "outputs": [],
   "source": [
    "C = 0\n",
    "c = 1"
   ]
  },
  {
   "cell_type": "code",
   "execution_count": null,
   "metadata": {
    "collapsed": false
   },
   "outputs": [],
   "source": [
    "C"
   ]
  },
  {
   "cell_type": "code",
   "execution_count": null,
   "metadata": {
    "collapsed": false
   },
   "outputs": [],
   "source": [
    "c"
   ]
  },
  {
   "cell_type": "markdown",
   "metadata": {},
   "source": [
    "### Questão 2\n",
    "\n",
    "Faça um programa que calcule a área de um disco de raio r. \n",
    "\n",
    "Responda a Questão 2 no [Tutorial da Unidade 3](http://tidia4.ufabc.edu.br/portal/directtool/91121677-9b2e-4ca7-8915-0f4e1516f83e/), no Tidia .\n",
    "\n",
    "Digite o valor de r aqui:"
   ]
  },
  {
   "cell_type": "code",
   "execution_count": null,
   "metadata": {
    "collapsed": false
   },
   "outputs": [],
   "source": [
    "r = "
   ]
  },
  {
   "cell_type": "markdown",
   "metadata": {},
   "source": [
    "Digite a fórmula para a área aqui. Você pode usar pi para $\\pi$, pois nós já importamos pi."
   ]
  },
  {
   "cell_type": "code",
   "execution_count": null,
   "metadata": {
    "collapsed": true
   },
   "outputs": [],
   "source": [
    "area = "
   ]
  },
  {
   "cell_type": "code",
   "execution_count": null,
   "metadata": {
    "collapsed": false
   },
   "outputs": [],
   "source": [
    "area"
   ]
  },
  {
   "cell_type": "markdown",
   "metadata": {},
   "source": [
    "### Questão 3\n",
    "\n",
    "Faça um programa que calcule a área de um trapézio cuja base menor é $b$, a base maior é $B$ e a altura é $h$.\n",
    "\n",
    "Responda a Questão 3 no [Tutorial da Unidade 3](http://tidia4.ufabc.edu.br/portal/directtool/91121677-9b2e-4ca7-8915-0f4e1516f83e/), no Tidia ."
   ]
  },
  {
   "cell_type": "code",
   "execution_count": null,
   "metadata": {
    "collapsed": true
   },
   "outputs": [],
   "source": [
    "b = \n",
    "B = \n",
    "h = "
   ]
  },
  {
   "cell_type": "code",
   "execution_count": null,
   "metadata": {
    "collapsed": false
   },
   "outputs": [],
   "source": [
    "area = "
   ]
  },
  {
   "cell_type": "code",
   "execution_count": null,
   "metadata": {
    "collapsed": false
   },
   "outputs": [],
   "source": [
    "area"
   ]
  },
  {
   "cell_type": "markdown",
   "metadata": {},
   "source": [
    "###  Questão 4\n",
    "\n",
    "Alice se encontrava na origem ($s_0 = 0$) com velocidade $v_0$ no momento em que o semáforo abriu. Ela começou a avançar com uma aceleração constante de $a$ m/s. Qual a posição de alice em metros depois de $t$ segundos? Use a fórmula \n",
    "\n",
    "$$s = s_0 + v_0 t + {a t^2}/{2}$$\n",
    "\n",
    "Responda a Questão 4 no [Tutorial da Unidade 3](http://tidia4.ufabc.edu.br/portal/directtool/91121677-9b2e-4ca7-8915-0f4e1516f83e/), no Tidia."
   ]
  },
  {
   "cell_type": "code",
   "execution_count": null,
   "metadata": {
    "collapsed": true
   },
   "outputs": [],
   "source": [
    "s0 =\n",
    "v0 =\n",
    "t =\n",
    "a ="
   ]
  },
  {
   "cell_type": "code",
   "execution_count": null,
   "metadata": {
    "collapsed": true
   },
   "outputs": [],
   "source": [
    "s ="
   ]
  },
  {
   "cell_type": "code",
   "execution_count": null,
   "metadata": {
    "collapsed": true
   },
   "outputs": [],
   "source": [
    "s"
   ]
  },
  {
   "cell_type": "markdown",
   "metadata": {},
   "source": [
    "### Dados numéricos\n",
    "\n",
    "Até agora, temos lidado apenas com dados numéricos. \n",
    "\n",
    "É importante que você saiba que existem três tipos de dados numéricos no Python 3: \n",
    "- números inteiros (*int*): como 1, 0, -1, 2, 4\n",
    "- números de ponto flutuante (*float*): como 2.13, 1.1, 1.0, -12.3\n",
    "- números complexos. "
   ]
  },
  {
   "cell_type": "markdown",
   "metadata": {},
   "source": [
    "Python foi construído para lidar com inteiros de magnitude arbitrária, enquanto que cada número float tem um tamanho mais limitado. Para ver um exemplo de como Python consegue lidar com inteiros muito grandes, importe a função `factorial` do modulo `math` e execute:"
   ]
  },
  {
   "cell_type": "code",
   "execution_count": null,
   "metadata": {
    "collapsed": false,
    "scrolled": true
   },
   "outputs": [],
   "source": [
    "factorial(1000)"
   ]
  },
  {
   "cell_type": "markdown",
   "metadata": {},
   "source": [
    "### Texto\n",
    "\n",
    "Um exemplo disso é quando precisamos manipular texto. Em Python, é possível armazenar um texto -- tecnicamente chamado de cadeia de caractéres ou *string* -- em uma variável. Você pode delimitar um texto com aspas simples ou duplas."
   ]
  },
  {
   "cell_type": "code",
   "execution_count": null,
   "metadata": {
    "collapsed": true
   },
   "outputs": [],
   "source": [
    "nome = \"Maria\""
   ]
  },
  {
   "cell_type": "code",
   "execution_count": null,
   "metadata": {
    "collapsed": true
   },
   "outputs": [],
   "source": [
    "meio = \"Carolina\""
   ]
  },
  {
   "cell_type": "code",
   "execution_count": null,
   "metadata": {
    "collapsed": true
   },
   "outputs": [],
   "source": [
    "meio2 = \"Cristina\""
   ]
  },
  {
   "cell_type": "code",
   "execution_count": null,
   "metadata": {
    "collapsed": false
   },
   "outputs": [],
   "source": [
    "sobrenome = 'Silva'"
   ]
  },
  {
   "cell_type": "markdown",
   "metadata": {},
   "source": [
    "Também é possível concatenar (juntar) duas cadeias com o operador `+`. "
   ]
  },
  {
   "cell_type": "code",
   "execution_count": null,
   "metadata": {
    "collapsed": false
   },
   "outputs": [],
   "source": [
    "nome + sobrenome"
   ]
  },
  {
   "cell_type": "code",
   "execution_count": null,
   "metadata": {
    "collapsed": false
   },
   "outputs": [],
   "source": [
    "nome + meio + sobrenome"
   ]
  },
  {
   "cell_type": "markdown",
   "metadata": {},
   "source": [
    "Veja que o resultado não saiu como esperávamos: faltam espaços entre os nomes.\n",
    "Corrija a última entrada para exibir o nome completo como gostaríamos. (Isto é, mude o código **somente da última célula** e não mude valor de `nome` nem de `meio` e nem de `sobrenome`.)\n",
    "\n",
    "Como você faria para imprimir Maria Cristina Silva? E Maria Maria Maria?"
   ]
  },
  {
   "cell_type": "code",
   "execution_count": null,
   "metadata": {
    "collapsed": true
   },
   "outputs": [],
   "source": []
  },
  {
   "cell_type": "markdown",
   "metadata": {},
   "source": [
    "## Entrada e saída\n",
    "\n",
    "Todo programa de computador recebe dados de alguma fonte (teclado, mouse, arquivo, etc.), processa esses dados e, envia o resultado do processamento para algum lugar (tela, arquivo, impressora, web, etc.).\n",
    "\n",
    "Então, quando tratamos do fluxo de dados por um programa de computador, é comum classsificar os dados como dados de entrada e dados de saída.\n",
    "\n",
    "Os dados de entrada são aqueles que o programa **recebe**.\n",
    "\n",
    "Os dados de saída são aqueles que **mostra** ao usuário.\n",
    "\n",
    "Nesta unidade você vai aprender como um programa em Python faz para receber dados da entrada padrão, que frequentemente são fornecidos diretamente pelo usuário, no momento em que o programa está executando. \n",
    "\n",
    "Você também aprenderá como mostrar dados ao usuário.\n",
    "\n",
    "### Mostrando dados\n",
    "\n",
    "Quando digitamos uma conta ou entramos com o nome de uma variável aqui no Jupyter Notebook, o seu valor (seja ele número, texto, lista, etc.) é exibido imediatamente. No entanto, quando estamos fazendo um programa mais complexo, digamos, com múltiplas linhas dentro de uma mesma célula, só o último valor é exibido pelo Jupyter:"
   ]
  },
  {
   "cell_type": "code",
   "execution_count": null,
   "metadata": {
    "collapsed": false
   },
   "outputs": [],
   "source": [
    "a = 10\n",
    "a\n",
    "b = a**2\n",
    "b"
   ]
  },
  {
   "cell_type": "markdown",
   "metadata": {},
   "source": [
    "Como você pode ver, o valor de a não foi exibido. \n",
    "\n",
    "Podemos exibir qualquer dado na saída, mesmo nos passos intermediários, com a função `print()`."
   ]
  },
  {
   "cell_type": "code",
   "execution_count": null,
   "metadata": {
    "collapsed": false
   },
   "outputs": [],
   "source": [
    "a = 10\n",
    "print(a)\n",
    "b = a**2\n",
    "print(b)"
   ]
  },
  {
   "cell_type": "markdown",
   "metadata": {},
   "source": [
    "Na verdade, o comportamento padrão de um programa em Python que está executando fora do Jupyter é não mostrar nenhum dado, a menos que o programa contenha a função `print` ou funções similares (para escrita de arquivos, etc.).\n",
    "\n",
    "Então é importante que você saiba usar a função `print`. Não é difícil:"
   ]
  },
  {
   "cell_type": "code",
   "execution_count": null,
   "metadata": {
    "collapsed": false
   },
   "outputs": [],
   "source": [
    "C = 55\n",
    "print(\"A temperatura em Celsius é\", C)\n",
    "F = C * 9 / 5 + 32\n",
    "print(\"A temperatura em Fahrenheit é\", F)"
   ]
  },
  {
   "cell_type": "markdown",
   "metadata": {},
   "source": [
    "### Perguntando dados\n",
    "\n",
    "Agora que você já sabe mostrar dados, é importante que você aprenda a fazer perguntas ao usuário e saiba receber a reposta que ele dará. \n",
    "\n",
    "Para pedir que o usuário entre com um dado de texto, use a função `input()`. Veja os exemplos:"
   ]
  },
  {
   "cell_type": "code",
   "execution_count": null,
   "metadata": {
    "collapsed": false
   },
   "outputs": [],
   "source": [
    "nome = input('Qual é o seu nome? ')\n",
    "print('Olá ' + nome + '! Tudo bem com você?')"
   ]
  },
  {
   "cell_type": "code",
   "execution_count": null,
   "metadata": {
    "collapsed": false
   },
   "outputs": [],
   "source": [
    "nome = input('Qual é o seu primeiro nome? ')\n",
    "sobrenome = input('Qual é o seu sobrenome? ')\n",
    "print('Seu nome completo é', nome + \" \" + sobrenome + \".\")"
   ]
  },
  {
   "cell_type": "markdown",
   "metadata": {},
   "source": [
    "Saber ler dados do tipo texto é muito importante, mas ler números é mais ainda!\n",
    "\n",
    "Para perguntar um número ao usuário, sempre recebemos um texto.\n",
    "\n",
    "Mas e se quisermos um número e não um texto?\n",
    "\n",
    "Podemos convertemos o texto resposta em número (*int* ou *float*) usando a função `int()` ou a função `float()`.\n",
    "\n",
    "Veja os exemplos:"
   ]
  },
  {
   "cell_type": "code",
   "execution_count": null,
   "metadata": {
    "collapsed": false
   },
   "outputs": [],
   "source": [
    "# Calculando o ano de nascimento\n",
    "# Recebendo a idade\n",
    "texto_idade = input('Quantos anos você completa (ou já completou) este ano? ')\n",
    "# Convertendo para um int\n",
    "idade = int(texto_idade)\n",
    "\n",
    "# Recebendo o ano\n",
    "texto_ano_atual = input('Em que ano estamos? ')\n",
    "# Convertendo para um int\n",
    "ano_atual = int(texto_ano_atual)\n",
    "\n",
    "#Mostrando a resposta\n",
    "print('Você nasceu no ano de', ano_atual - idade)"
   ]
  },
  {
   "cell_type": "code",
   "execution_count": null,
   "metadata": {
    "collapsed": false
   },
   "outputs": [],
   "source": [
    "# Calculando o valor da parcela\n",
    "# Recebendo o valor da compra\n",
    "texto_total = input('Qual o valor total da compra? ')\n",
    "# Convertendo para float, pois o preço pode ser um número quebrado\n",
    "total = float(texto_total)\n",
    "\n",
    "# Recebendo o número de parcelas\n",
    "texto_vezes = input('Em quantas vezes (sem juros) você quer dividir o pagamento? ')\n",
    "# Convertendo para inteiro\n",
    "vezes = int(texto_vezes)\n",
    "\n",
    "# Mostrando o valor da parcela\n",
    "print('Serão', vezes, 'parcelas de R$', total / vezes, 'cada uma.')"
   ]
  },
  {
   "cell_type": "code",
   "execution_count": null,
   "metadata": {
    "collapsed": true
   },
   "outputs": [],
   "source": []
  }
 ],
 "metadata": {
  "kernelspec": {
   "display_name": "Python 3",
   "language": "python",
   "name": "python3"
  },
  "language_info": {
   "codemirror_mode": {
    "name": "ipython",
    "version": 3
   },
   "file_extension": ".py",
   "mimetype": "text/x-python",
   "name": "python",
   "nbconvert_exporter": "python",
   "pygments_lexer": "ipython3",
   "version": "3.5.1"
  }
 },
 "nbformat": 4,
 "nbformat_minor": 0
}
