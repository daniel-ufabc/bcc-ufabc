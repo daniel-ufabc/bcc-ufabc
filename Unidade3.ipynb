{
 "cells": [
  {
   "cell_type": "markdown",
   "metadata": {},
   "source": [
    "# Unidade 3 - Introdução à programação em Python 3\n",
    "\n",
    "<br>\n",
    "\n",
    "<font size=\"4\"><p>Nesta unidade, vamos aprender alguns elementos de programação em Python.</p>\n",
    "\n",
    "<p>Em cada seção, você pode executar qualquer código que apareça dentro de uma célula que começa com **In [ ]**. </p>\n",
    "\n",
    "<p>Para executar, basta clicar na célula e digitar `SHIFT+ENTER`.</p>\n",
    "\n",
    "<p>Clique em cada célula abaixo e digite `SHIFT-ENTER` e veja o que acontece!</p></font>"
   ]
  },
  {
   "cell_type": "code",
   "execution_count": null,
   "metadata": {
    "collapsed": false
   },
   "outputs": [],
   "source": [
    "3+2"
   ]
  },
  {
   "cell_type": "code",
   "execution_count": null,
   "metadata": {
    "collapsed": false
   },
   "outputs": [],
   "source": [
    "2-2"
   ]
  },
  {
   "cell_type": "code",
   "execution_count": null,
   "metadata": {
    "collapsed": false
   },
   "outputs": [],
   "source": [
    "4*3"
   ]
  },
  {
   "cell_type": "code",
   "execution_count": null,
   "metadata": {
    "collapsed": false
   },
   "outputs": [],
   "source": [
    "12/5"
   ]
  },
  {
   "cell_type": "markdown",
   "metadata": {},
   "source": [
    "<font size=\"4\"><p>Ou seja, usamos</p>\n",
    "<ul>\n",
    "    <li> `+` para soma</li>\n",
    "    <li> `-` para subtração</li>\n",
    "    <li> `*` para multiplicação</li>\n",
    "    <li> `\\` para divisão</li>    \n",
    "</ul>\n",
    "<p>Isso saiu como você esperava, não?</p>\n",
    "\n",
    "<p>Então, para executar uma célula basta teclar `SHIFT-ENTER`.</p>\n",
    "\n",
    "<p>Se você teclar somente `ENTER` você criará mais linhas dentro da célula</p>\n",
    "\n",
    "<p> Os textos também podem ser modificados! Se você clicar duas vezes em uma célula com texto como a célula abaixo, você pode modificá-la. Depois é só aperta `SHIFT-ENTER` para que ela fique bem formatada novamente.\n",
    "\n",
    "</font>"
   ]
  },
  {
   "cell_type": "markdown",
   "metadata": {},
   "source": [
    "<hr>\n",
    "## Clique aqui!\n",
    "\n",
    "Este é um texto de exemplo:\n",
    "\n",
    "Você pode modificar os textos aqui com os seus próprios comentários e salvá-los!\n",
    "<hr>"
   ]
  },
  {
   "cell_type": "markdown",
   "metadata": {},
   "source": [
    "<font size=\"4\">\n",
    "<p>Vamos ver agora outras operações que usaremos bastante!</p>\n",
    "\n",
    "<p>A potenciação é denotada por `**`. Ou seja, para escrever 2 elevado a 4, escrevemos `2**4`.</p>\n",
    "\n",
    "<p>Em algumas linguagens de programação, é mais comum usar o símbolo `^` para isso.</p>\n",
    "\n",
    "<p>Execute as células abaixo apertando `SHIFT-ENTER`. Tente prever o resultado antes!</p>\n",
    "</font>"
   ]
  },
  {
   "cell_type": "code",
   "execution_count": null,
   "metadata": {
    "collapsed": false
   },
   "outputs": [],
   "source": [
    "2**4"
   ]
  },
  {
   "cell_type": "code",
   "execution_count": null,
   "metadata": {
    "collapsed": false
   },
   "outputs": [],
   "source": [
    "3**2"
   ]
  },
  {
   "cell_type": "markdown",
   "metadata": {},
   "source": [
    "<font size=\"4\"><p>Temos um tipo especial de divisão que é chamada de divisão inteira.</p>\n",
    "\n",
    "<p>Ela divide o número e depois **arrendonda** para baixo. Usamos o operador `//`.</p>\n",
    "\n",
    "<p>Veja como a divisão inteira funciona:</p>"
   ]
  },
  {
   "cell_type": "code",
   "execution_count": null,
   "metadata": {
    "collapsed": false
   },
   "outputs": [],
   "source": [
    "3//2"
   ]
  },
  {
   "cell_type": "code",
   "execution_count": null,
   "metadata": {
    "collapsed": false
   },
   "outputs": [],
   "source": [
    "11//3"
   ]
  },
  {
   "cell_type": "markdown",
   "metadata": {},
   "source": [
    "<font size=\"4\"><p>Temos o operador % que calcula o resto da divisão de um número por outro.</p>\n",
    "<p>Por exemplo, o resto da divisão de 17 por 5 é 2:</p></font>"
   ]
  },
  {
   "cell_type": "code",
   "execution_count": null,
   "metadata": {
    "collapsed": false
   },
   "outputs": [],
   "source": [
    "17%5"
   ]
  },
  {
   "cell_type": "code",
   "execution_count": null,
   "metadata": {
    "collapsed": false
   },
   "outputs": [],
   "source": [
    "13%7"
   ]
  },
  {
   "cell_type": "markdown",
   "metadata": {},
   "source": [
    "<font size=\"4\"><p>O interessante é combinar as operações.</p>\n",
    "<p>Você consegue prever o resultado das expressões abaixo?</p>\n",
    "<p>Execute para confirmar se você acertou!</p>\n",
    "</font>"
   ]
  },
  {
   "cell_type": "code",
   "execution_count": null,
   "metadata": {
    "collapsed": false
   },
   "outputs": [],
   "source": [
    "8*3/2**2"
   ]
  },
  {
   "cell_type": "code",
   "execution_count": null,
   "metadata": {
    "collapsed": false
   },
   "outputs": [],
   "source": [
    "(1 + 5)*3"
   ]
  },
  {
   "cell_type": "code",
   "execution_count": null,
   "metadata": {
    "collapsed": false
   },
   "outputs": [],
   "source": [
    "1+5*3"
   ]
  },
  {
   "cell_type": "markdown",
   "metadata": {},
   "source": [
    "<font size=\"4\">\n",
    "<p>Neste último caso, o Python primeiro calcula o `5*3` e depois soma com 1, certo?</p>\n",
    "<p>O Python executa as operações na seguinte ordem:</p>\n",
    "<ul>\n",
    "<li>`**`</li>\n",
    "<li>`*` e `\\`</li>\n",
    "<li>`+`, `-` e `%`</li>\n",
    "</ul>\n",
    "<p> Na dúvida, você pode colocar parênteses para deixar a ordem clara.</p>\n",
    "<p>Note que fizemos isso acima em `(1+5)*3` para indicar que o `+` era para ser feito antes do `*`.\n",
    "</font>\n"
   ]
  },
  {
   "cell_type": "markdown",
   "metadata": {},
   "source": [
    "# Faça você mesmo!\n",
    "<br/>\n",
    "<font size=\"5\">\n",
    "<p>Coloque parênteses abaixo de modo que a resposta seja `600`</p>\n",
    "<p>Responda a **Questão 1** na página do Tutorial 3</p>\n",
    "<p>*Dica:* Tente fazer com que `2**3-1+2` seja `6` e depois multiplicada por `100`.</p>\n",
    "</font>"
   ]
  },
  {
   "cell_type": "code",
   "execution_count": null,
   "metadata": {
    "collapsed": false
   },
   "outputs": [],
   "source": [
    "2**3-1+2*100"
   ]
  },
  {
   "cell_type": "markdown",
   "metadata": {},
   "source": [
    "# Faça você mesmo!\n",
    "<br/>\n",
    "<font size=\"5\">\n",
    "<p>\n",
    "João faz 10 anos de idade hoje, neste exato momento!<\\p>\n",
    "<p>Na célula abaixo, calcule quantos segundos de vida ele acabou de comemorar.<br> (Ignore os anos bissextos.)</p>\n",
    "<p>Responda a **Questão 2** na página do Tutorial 3</p>\n",
    "</font>"
   ]
  },
  {
   "cell_type": "code",
   "execution_count": null,
   "metadata": {
    "collapsed": false
   },
   "outputs": [],
   "source": []
  },
  {
   "cell_type": "markdown",
   "metadata": {},
   "source": [
    "<font size=\"4\">\n",
    "<p>Para salvar o seu trabalho, cliquem em File > Save and Checkpoint ou no ícone do disquete.</p>\n",
    "\n",
    "<p>Mas se você estiver usando o site `tmpnb.org`, ele não salva arquivos!</p>\n",
    "\n",
    "<p>Nesse caso, clique em <b><i>File &raquo; Download as &raquo; IPython Notebook (.ipynb)</i></b> para baixar uma cópia para o seu computador. Baixe cópias frequentemente para não perder o seu trabalho!</p>\n",
    "</font>\n",
    "\n",
    "## Variáveis\n",
    "<p></p>\n",
    "\n",
    "<font size=\"4\">\n",
    "<p>Você pode guardar o resultado de um cálculo em uma variável para tornar a usá-la.</p>\n",
    "\n",
    "<p>Vamos fazer o cálculo de conversão de temperatura de Celsius para Fahrenheit. Podemos começar colocando a temperatura em Celsius, digamos 55 graus, numa variável chamada `C`.</p>\n",
    "\n",
    "<p>Não se esqueça de teclar `SHIFT+ENTER` em cada uma das células abaixo.</p>\n",
    "</font>\n"
   ]
  },
  {
   "cell_type": "code",
   "execution_count": null,
   "metadata": {
    "collapsed": true
   },
   "outputs": [],
   "source": [
    "C = 55"
   ]
  },
  {
   "cell_type": "markdown",
   "metadata": {},
   "source": [
    "<font size=\"4\">\n",
    "<p>Veja o valor de C teclando `SHIFT+ENTER` na célula abaixo:</p>\n",
    "</font>"
   ]
  },
  {
   "cell_type": "code",
   "execution_count": null,
   "metadata": {
    "collapsed": false
   },
   "outputs": [],
   "source": [
    "C"
   ]
  },
  {
   "cell_type": "markdown",
   "metadata": {},
   "source": [
    "<font size=\"4\">\n",
    "<p>Para converter para Fahrenheit, temos que multiplicar C por `9/5` e depois somar `32`:</p>\n",
    "</font>"
   ]
  },
  {
   "cell_type": "code",
   "execution_count": null,
   "metadata": {
    "collapsed": true
   },
   "outputs": [],
   "source": [
    "F = C * 9 / 5 + 32"
   ]
  },
  {
   "cell_type": "markdown",
   "metadata": {},
   "source": [
    "<font size=\"4\">\n",
    "<p>Veja o valor de F teclando `SHIFT+ENTER` na célula abaixo:</p>\n",
    "</font>"
   ]
  },
  {
   "cell_type": "code",
   "execution_count": null,
   "metadata": {
    "collapsed": false
   },
   "outputs": [],
   "source": [
    "F"
   ]
  },
  {
   "cell_type": "markdown",
   "metadata": {},
   "source": [
    "<font size=\"4\">\n",
    "<p>Mas e se você quisesse converter 65 em vez de 55?</p>\n",
    "\n",
    "<p>Basta voltar na linha em que você definiu `C = 55` e mudar para `C=65` e reexecutar a célula.</p>\n",
    "\n",
    "<p>Em seguida, reexecute a linha definiu `F = C * 9 / 5 + 32` para atualizar o valor em Fahrenheit.</p>\n",
    "\n",
    "<p>Reexecute a linha seguinte para imprimir o novo valor de `F`.</p>\n",
    "\n",
    "<p>O novo valor de F deve ser `149`</p>\n",
    "</font>"
   ]
  },
  {
   "cell_type": "markdown",
   "metadata": {},
   "source": [
    "# Faça você mesmo!\n",
    "<br/>\n",
    "<font size=\"5\">\n",
    "<p>Modifique as células acima para converter 80 Celsius para Fahrenheit!</p>\n",
    "<p>Responda a **Questão 3** na página do Tutorial 3</p>\n",
    "</font>"
   ]
  },
  {
   "cell_type": "markdown",
   "metadata": {},
   "source": [
    "<div class=\"well\">\n",
    "<font size=\"4\">\n",
    "<p><b>Atenção:</b> Letras <b>maiúsculas</b> ou <b>minúsculas</b> fazem diferença!</p>\n",
    "</font>\n",
    "</div>\n",
    "<font size=\"4\">\n",
    "<p>Uma variável chamada `C` e outra chamada `c` são coisas diferentes! Veja o que acontece:</p>\n",
    "</font>"
   ]
  },
  {
   "cell_type": "code",
   "execution_count": null,
   "metadata": {
    "collapsed": true
   },
   "outputs": [],
   "source": [
    "C = 0\n",
    "c = 1"
   ]
  },
  {
   "cell_type": "code",
   "execution_count": null,
   "metadata": {
    "collapsed": false
   },
   "outputs": [],
   "source": [
    "C"
   ]
  },
  {
   "cell_type": "code",
   "execution_count": null,
   "metadata": {
    "collapsed": false
   },
   "outputs": [],
   "source": [
    "c"
   ]
  },
  {
   "cell_type": "markdown",
   "metadata": {},
   "source": [
    "# Faça você mesmo!\n",
    "<br/>\n",
    "<font size=\"5\">\n",
    "<p>Preencha as células abaixo para calcular a área de um trapézio cuja base menor é $b$, a base maior é $B$ e a altura é $h$.</p>\n",
    "<p>Responda a **Questão 4** na página do Tutorial 3</p>\n",
    "</font>"
   ]
  },
  {
   "cell_type": "markdown",
   "metadata": {},
   "source": [
    "<font size=\"4\">\n",
    "<p>Preencha a célula abaixo com os dados que você quiser:</p>\n",
    "</font>"
   ]
  },
  {
   "cell_type": "code",
   "execution_count": null,
   "metadata": {
    "collapsed": true
   },
   "outputs": [],
   "source": [
    "b = \n",
    "B = \n",
    "h = "
   ]
  },
  {
   "cell_type": "markdown",
   "metadata": {},
   "source": [
    "<font size=\"4\">\n",
    "<p>Agora digite a fórmula para a área na célula abaixo.<p>\n",
    "\n",
    "<font size=\"4\">\n",
    "<p>A fórmula é<p>\n",
    "\n",
    "$$\\frac{(b+B)\\cdot h}{2}$$\n",
    "\n",
    "<p>Não esqueça de colocar todos os operadores (às vezes esquecemos do `*`)</p>\n",
    "</font>"
   ]
  },
  {
   "cell_type": "code",
   "execution_count": null,
   "metadata": {
    "collapsed": true
   },
   "outputs": [],
   "source": [
    "area = "
   ]
  },
  {
   "cell_type": "code",
   "execution_count": null,
   "metadata": {
    "collapsed": false
   },
   "outputs": [],
   "source": [
    "area"
   ]
  },
  {
   "cell_type": "markdown",
   "metadata": {},
   "source": [
    "# Faça você mesmo!\n",
    "<br/>\n",
    "<font size=\"5\">\n",
    "<p>Alice se encontrava na origem ($s_0 = 0$) com velocidade $v_0$ no momento em que o semáforo abriu. Ela começou a avançar com uma aceleração constante de $a$ m/s. </p>\n",
    "\n",
    "<p>Qual a posição de Alice em metros depois de $t$ segundos? Use a fórmula </p>\n",
    "\n",
    "$$s = s_0 + v_0 t + {a t^2}/{2}$$\n",
    "\n",
    "<p>Responda a **Questão 5** na página do Tutorial 3</p>\n",
    "</font>\n",
    "\n"
   ]
  },
  {
   "cell_type": "code",
   "execution_count": null,
   "metadata": {
    "collapsed": true
   },
   "outputs": [],
   "source": [
    "s0 = \n",
    "v0 = \n",
    "t = \n",
    "a ="
   ]
  },
  {
   "cell_type": "code",
   "execution_count": null,
   "metadata": {
    "collapsed": true
   },
   "outputs": [],
   "source": [
    "s ="
   ]
  },
  {
   "cell_type": "code",
   "execution_count": null,
   "metadata": {
    "collapsed": true
   },
   "outputs": [],
   "source": [
    "s "
   ]
  },
  {
   "cell_type": "markdown",
   "metadata": {},
   "source": [
    "## Dados numéricos\n",
    "\n",
    "<p></p>\n",
    "\n",
    "<font size=\"4\">\n",
    "<p>Até agora, temos lidado apenas com dados numéricos. Em outras unidades, veremos outros tipos de .</p>\n",
    "\n",
    "<p>É importante que você saiba que existem três tipos de dados numéricos no Python 3: </p>\n",
    "<ul>\n",
    "    <li>números inteiros (*int*): como 1, 0, -1, 2, 4</li>\n",
    "    <li>números de ponto flutuante (*float*): como 2.13, 1.1, 1.0, -12.3</li>\n",
    "    <li>números complexos.</li>\n",
    "</ul>\n",
    "</font>"
   ]
  },
  {
   "cell_type": "markdown",
   "metadata": {},
   "source": [
    "## Entrada e saída\n",
    "<p></p>\n",
    "\n",
    "<font size=\"4\">\n",
    "<p>Todo programa de computador </p>\n",
    "<ul>\n",
    "<li>recebe dados de alguma fonte (teclado, mouse, arquivo, etc.), </li>\n",
    "<li>processa esses dados e, </li>\n",
    "<li>envia o resultado do processamento para algum lugar (tela, arquivo, impressora, web, etc.).</li>\n",
    "</ul>\n",
    "\n",
    "<p>Então, quando tratamos do fluxo de dados por um programa de computador, é comum classsificar os dados como</p>\n",
    "<ul>\n",
    "<li>dados de entrada: são aqueles que o programa **recebe**</li>\n",
    "<li>dados de saída: são aqueles que programa **mostra** ao usuário.</li>\n",
    "</ul>\n",
    "</font>\n",
    "\n",
    "## Mostrando dados\n",
    "<p></p>\n",
    "\n",
    "<font size=\"4\">\n",
    "<p>Em vários exercícios acima, nós usamos o seguinte padrão:</p>\n",
    "</font>"
   ]
  },
  {
   "cell_type": "code",
   "execution_count": null,
   "metadata": {
    "collapsed": true
   },
   "outputs": [],
   "source": [
    "C = 55"
   ]
  },
  {
   "cell_type": "code",
   "execution_count": null,
   "metadata": {
    "collapsed": true
   },
   "outputs": [],
   "source": [
    "F = C * 9 / 5 + 32"
   ]
  },
  {
   "cell_type": "code",
   "execution_count": null,
   "metadata": {
    "collapsed": false
   },
   "outputs": [],
   "source": [
    "F"
   ]
  },
  {
   "cell_type": "markdown",
   "metadata": {},
   "source": [
    "<font size=\"4\">\n",
    "<p>Criamos essa última célula para mostrar o resultado em F para o usuário, certo?</p>\n",
    "\n",
    "<p>Mas poderíamos ter colocado tudo em uma única célula:</p>\n",
    "</font>"
   ]
  },
  {
   "cell_type": "code",
   "execution_count": null,
   "metadata": {
    "collapsed": false
   },
   "outputs": [],
   "source": [
    "C = 55\n",
    "F = C * 9 / 5 + 32\n",
    "F"
   ]
  },
  {
   "cell_type": "markdown",
   "metadata": {},
   "source": [
    "<font size=\"4\">\n",
    "<p>Mas suponha que a gente também quisesse colocar em Kelvin:</p>\n",
    "</font>"
   ]
  },
  {
   "cell_type": "code",
   "execution_count": null,
   "metadata": {
    "collapsed": false
   },
   "outputs": [],
   "source": [
    "C = 55\n",
    "F = C * 9 / 5 + 32\n",
    "F\n",
    "K = C + 273.15\n",
    "K"
   ]
  },
  {
   "cell_type": "markdown",
   "metadata": {},
   "source": [
    "<font size=\"4\">\n",
    "<p>Hum... só o K apareceu e nada do F!</p>\n",
    "\n",
    "<p>Vamos usar a função `print()`:</p>\n",
    "</font>"
   ]
  },
  {
   "cell_type": "code",
   "execution_count": null,
   "metadata": {
    "collapsed": false
   },
   "outputs": [],
   "source": [
    "C = 55\n",
    "F = C * 9 / 5 + 32\n",
    "print(F)\n",
    "K = C + 273.15\n",
    "print(K)"
   ]
  },
  {
   "cell_type": "markdown",
   "metadata": {},
   "source": [
    "<font size=\"4\">\n",
    "<p>Poderíamos deixar tudo melhor formatado, você não acha?</p>\n",
    "</font>"
   ]
  },
  {
   "cell_type": "code",
   "execution_count": null,
   "metadata": {
    "collapsed": false
   },
   "outputs": [],
   "source": [
    "C = 55\n",
    "F = C * 9 / 5 + 32\n",
    "print(\"O valor em Fahrenheit é\", F)\n",
    "K = C + 273.15\n",
    "print(\"O valor em Kelvin é\", K)"
   ]
  },
  {
   "cell_type": "markdown",
   "metadata": {},
   "source": [
    "## Perguntando dados\n",
    "<p></p>\n",
    "\n",
    "<font size=\"4\">\n",
    "<p>Agora que você já sabe mostrar dados, é importante que você aprenda a fazer perguntas ao usuário e saiba receber a reposta que ele dará.</p>\n",
    "\n",
    "<p>Para pedir que o usuário entre com um dado de texto, use a função `input()`. Veja os exemplos:</p>\n",
    "</font>"
   ]
  },
  {
   "cell_type": "code",
   "execution_count": null,
   "metadata": {
    "collapsed": false
   },
   "outputs": [],
   "source": [
    "nome = input(\"Qual é  seu nome? \")\n",
    "print(\"Olá,\", nome)"
   ]
  },
  {
   "cell_type": "markdown",
   "metadata": {},
   "source": [
    "<font size=\"4\">\n",
    "<p>Mas olha que estranho, execute o código e responda 1:</p>\n",
    "</font>"
   ]
  },
  {
   "cell_type": "code",
   "execution_count": null,
   "metadata": {
    "collapsed": false
   },
   "outputs": [],
   "source": [
    "idade = input(\"Qual é a sua idade? \")\n",
    "dobro = idade+idade\n",
    "print(\"O dobro da sua idade é\", dobro)"
   ]
  },
  {
   "cell_type": "markdown",
   "metadata": {},
   "source": [
    "<font size=\"4\">\n",
    "<p>11?? Mas por quê?? </p>\n",
    "\n",
    "<p>O que acontece é que o Python assume que a entrada é um **texto**. Textos são delimitados por aspas simples ou duplas.</p>\n",
    "</font>"
   ]
  },
  {
   "cell_type": "code",
   "execution_count": null,
   "metadata": {
    "collapsed": false
   },
   "outputs": [],
   "source": [
    "\"Maria\""
   ]
  },
  {
   "cell_type": "code",
   "execution_count": null,
   "metadata": {
    "collapsed": false
   },
   "outputs": [],
   "source": [
    "\"João\""
   ]
  },
  {
   "cell_type": "markdown",
   "metadata": {},
   "source": [
    "<font size=\"4\">\n",
    "<p>E olha o que acontece com a soma de dois textos:</p>\n",
    "</font>"
   ]
  },
  {
   "cell_type": "code",
   "execution_count": null,
   "metadata": {
    "collapsed": false
   },
   "outputs": [],
   "source": [
    "\"Maria\"+\"João\""
   ]
  },
  {
   "cell_type": "markdown",
   "metadata": {},
   "source": [
    "<font size=\"4\">\n",
    "<p>Ou seja, somar dois textos tem o efeito de grudá-los. </p>\n",
    "\n",
    "<p>Para ser um pouco mais formal, nós dizemos que estamos **concatenando** os textos.</p>\n",
    "\n",
    "<p>Então, no exemplo, como o Python entendeu que a entrada era um texto, o que ele fez foi o seguinte:</p>\n",
    "</font>"
   ]
  },
  {
   "cell_type": "code",
   "execution_count": null,
   "metadata": {
    "collapsed": false
   },
   "outputs": [],
   "source": [
    "idade = \"1\"\n",
    "dobra = idade + idade \n",
    "print(dobra)"
   ]
  },
  {
   "cell_type": "markdown",
   "metadata": {},
   "source": [
    "<font size=\"4\">\n",
    "<p><b>Faça você mesmo</b>: mude apenas o valor de `idade` no programa abaixo para imprimir `123123` em vez de `11`.</p>\n",
    "</font>"
   ]
  },
  {
   "cell_type": "code",
   "execution_count": null,
   "metadata": {
    "collapsed": true
   },
   "outputs": [],
   "source": [
    "idade = \"1\"\n",
    "dobra = idade + idade \n",
    "print(dobra)"
   ]
  },
  {
   "cell_type": "markdown",
   "metadata": {},
   "source": [
    "<font size=\"4\">\n",
    "<p><b>Faça você mesmo</b>: mude a fórmula na linha 2 do programa abaixo para imprimir `1111` em vez de `11`.</p>\n",
    "</font>"
   ]
  },
  {
   "cell_type": "code",
   "execution_count": null,
   "metadata": {
    "collapsed": true
   },
   "outputs": [],
   "source": [
    "idade = \"1\"\n",
    "dobra = idade + idade \n",
    "print(dobra)"
   ]
  },
  {
   "cell_type": "markdown",
   "metadata": {},
   "source": [
    "<font size=\"4\">\n",
    "<p>Mas o que fazer se queremos lidar com números ao invés de texto?</p>\n",
    "\n",
    "<p>Basta converter o texto para um número:</p>\n",
    "</font>"
   ]
  },
  {
   "cell_type": "code",
   "execution_count": null,
   "metadata": {
    "collapsed": false
   },
   "outputs": [],
   "source": [
    "idade_texto = input(\"Qual é a sua idade? \")\n",
    "idade = int(idade_texto)\n",
    "dobro = idade+idade\n",
    "print(\"O dobro da sua idade é\", dobro)"
   ]
  },
  {
   "cell_type": "markdown",
   "metadata": {},
   "source": [
    "<font size=\"4\">\n",
    "<p>A linha `idade = int(idade_texto)` converte idade_texto para o tipo `int` e guarda o resultado em `idade`.</p>\n",
    "\n",
    "<p>Escolhemos converter para `int` pois consideramos idade como sendo um número inteiro.</p>\n",
    "\n",
    "<p>Se você quiser permitir que a idade seja um número quebrado, você pode fazer o seguinte:</p>\n",
    "</font>"
   ]
  },
  {
   "cell_type": "code",
   "execution_count": null,
   "metadata": {
    "collapsed": false
   },
   "outputs": [],
   "source": [
    "idade_texto = input(\"Qual é a sua idade? \")\n",
    "idade = float(idade_texto)\n",
    "dobro = idade+idade\n",
    "print(\"O dobro da sua idade é\", dobro)"
   ]
  },
  {
   "cell_type": "markdown",
   "metadata": {},
   "source": [
    "# Faça você mesmo!\n",
    "<p></p>\n",
    "\n",
    "<font size=\"5\">\n",
    "<p>Modifique o código a seguir para que ele mostre também a soma das idades das duas pessoas.</p>\n",
    "\n",
    "<p>Responda a **Questão 6** na página do Tutorial 3</p>\n",
    "</font>"
   ]
  },
  {
   "cell_type": "code",
   "execution_count": null,
   "metadata": {
    "collapsed": false
   },
   "outputs": [],
   "source": [
    "idade1 = int(input('Qual a idade da primeira pessoa? '))\n",
    "idade2 = int(input('Qual a idade da segunda pessoa? '))\n",
    "print(\"A primeira pessoa tem\", idade1, \"anos e a segunda,\", idade2,\"anos.\")"
   ]
  },
  {
   "cell_type": "markdown",
   "metadata": {},
   "source": [
    "# Faça você mesmo!\n",
    "<p></p>\n",
    "\n",
    "<font size=\"5\">\n",
    "<p>Alice anotou quantos minutos ela leva para correr ao redor da universidade. Ela quer converter esses minutos para segundos.</p>\n",
    "\n",
    "<p>Faça um programa que pede o número de minutos e mostra o número de segundos.</p>\n",
    "\n",
    "<p>Responda a **Questão 7** na página do Tutorial 3</p>\n",
    "</font>\n"
   ]
  },
  {
   "cell_type": "code",
   "execution_count": null,
   "metadata": {
    "collapsed": true
   },
   "outputs": [],
   "source": []
  }
 ],
 "metadata": {
  "kernelspec": {
   "display_name": "Python 3",
   "language": "python",
   "name": "python3"
  },
  "language_info": {
   "codemirror_mode": {
    "name": "ipython",
    "version": 3
   },
   "file_extension": ".py",
   "mimetype": "text/x-python",
   "name": "python",
   "nbconvert_exporter": "python",
   "pygments_lexer": "ipython3",
   "version": "3.5.2"
  }
 },
 "nbformat": 4,
 "nbformat_minor": 0
}
