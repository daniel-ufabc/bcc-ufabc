{
 "cells": [
  {
   "cell_type": "markdown",
   "metadata": {},
   "source": [
    "<div style=\"width: 100%; text-align: center; color: white; background-color: #222; font-size: 3em; font-weight: 700; padding: .5em .5em .6em .5em; line-height: 1.4em;\">Programação em Python para Iniciantes</div>\n",
    "\n",
    "<br>\n",
    "\n",
    "<!-- # Programação em Python para Iniciantes -->\n",
    "\n",
    "Antes de mais nada, você sabe que tipo de coisa é este documento que você está lendo? Isto se chama _nootebook_: um arquivo estruturado que contém textos explicativos e códigos de programas intercalados. A maneira ideal de acessar este arquivo, seja para leitura ou edição, é através do software [Jupyter](http://jupyter.org/). \n",
    "\n",
    "Em um _notebook_, as unidades básicas de texto ou código são chamadas de células. É fácil distinguir as células de código: elas vem precedidas por \n",
    "\n",
    "    In [ ]:\n",
    "    \n",
    "como a célula abaixo."
   ]
  },
  {
   "cell_type": "code",
   "execution_count": null,
   "metadata": {},
   "outputs": [],
   "source": [
    "2 + 2"
   ]
  },
  {
   "cell_type": "markdown",
   "metadata": {},
   "source": [
    "Se você estiver acessando este arquivo pelo Jupyter, então muito provavelmente você poderá executar as células de código. Para executar uma célula de código, basta selecionar a célula e digitar <kbd>SHIFT+ENTER</kbd>. Qualquer saída gerada pelo código executado será exibida logo em seguida.\n",
    "\n",
    "Neste _notebook_, vamos aprender alguns elementos de programação em Python e vamos nos familiarizar com o ambiente do Jupyter.\n",
    "\n",
    "<hr style=\"border-color: #ddd;\">"
   ]
  },
  {
   "cell_type": "markdown",
   "metadata": {},
   "source": [
    "# Python como uma calculadora\n",
    "\n",
    "Em qualquer trabalho moderno, é comum precisarmos de uma calculadora para fazer contas. As células de código de um notebook Python ou o console do Python são excelentes ferramentas para se fazer cálculos.\n",
    "\n",
    "## As quatro operações\n",
    "\n",
    "Clique em cada célula abaixo, tecle <kbd>SHIFT-ENTER</kbd> e veja o que acontece."
   ]
  },
  {
   "cell_type": "code",
   "execution_count": null,
   "metadata": {},
   "outputs": [],
   "source": [
    "10 + 5 - 3"
   ]
  },
  {
   "cell_type": "code",
   "execution_count": null,
   "metadata": {},
   "outputs": [],
   "source": [
    "4 * 3"
   ]
  },
  {
   "cell_type": "code",
   "execution_count": null,
   "metadata": {},
   "outputs": [],
   "source": [
    "2800.20 / 133.21598477640342"
   ]
  },
  {
   "cell_type": "code",
   "execution_count": null,
   "metadata": {},
   "outputs": [],
   "source": [
    "12 / 5"
   ]
  },
  {
   "cell_type": "markdown",
   "metadata": {},
   "source": [
    "Ou seja, usamos os símbolos &nbsp;`+`&nbsp;, &nbsp;`-`&nbsp;, &nbsp;`*`&nbsp; e &nbsp;`/`&nbsp; para soma, subtração, multiplicação e divisão, respectivamente. Isso é como você esperava, não é?\n",
    "\n",
    "Então, lembre-se de que para executar uma célula, basta teclar <kbd>SHIFT-ENTER</kbd>. Se você teclar <kbd>ENTER</kbd> sozinho, você criará mais linhas dentro da mesma célula em vez de executá-la.\n",
    "\n",
    "<span style=\"color: #FF0000;\"><b>Atenção:</b></span> o caractére que separa as casas decimais em Python é o **ponto** e não a vírgula!"
   ]
  },
  {
   "cell_type": "markdown",
   "metadata": {},
   "source": [
    "## Potenciação\n",
    "\n",
    "A operação de potenciação é denotada por `**` em Python. Ou seja, para calcular $2^4$, precisamos escrever `2**4`.\n",
    "\n",
    "Execute as células abaixo apertando <kbd>SHIFT-ENTER</kbd>. Tente prever o resultado antes de executá-las!"
   ]
  },
  {
   "cell_type": "code",
   "execution_count": null,
   "metadata": {},
   "outputs": [],
   "source": [
    "2**4"
   ]
  },
  {
   "cell_type": "code",
   "execution_count": null,
   "metadata": {},
   "outputs": [],
   "source": [
    "3**2"
   ]
  },
  {
   "cell_type": "markdown",
   "metadata": {},
   "source": [
    "## Divisão inteira e resto\n",
    "\n",
    "Python tem um tipo especial de divisão que é chamada de divisão inteira, em que um número é dividido por outro e depois o resultado é **arrendondado** para baixo. O operador de divisão inteira é `//`.\n",
    "\n",
    "Mais formalmente, quando `a` e `b` são números inteiros, `a // b` é o quociente da divisão de `a` por `b`.\n",
    "\n",
    "Veja como a divisão inteira funciona:"
   ]
  },
  {
   "cell_type": "code",
   "execution_count": null,
   "metadata": {},
   "outputs": [],
   "source": [
    "3//2"
   ]
  },
  {
   "cell_type": "code",
   "execution_count": null,
   "metadata": {},
   "outputs": [],
   "source": [
    "11//3"
   ]
  },
  {
   "cell_type": "markdown",
   "metadata": {},
   "source": [
    "Python também tem o operador &nbsp;`%`&nbsp; que calcula o resto da divisão de um número por outro.\n",
    "\n",
    "Por exemplo, o resto da divisão de 17 por 5 é igual 2. Veja:"
   ]
  },
  {
   "cell_type": "code",
   "execution_count": null,
   "metadata": {},
   "outputs": [],
   "source": [
    "17%5"
   ]
  },
  {
   "cell_type": "code",
   "execution_count": null,
   "metadata": {},
   "outputs": [],
   "source": [
    "13%7"
   ]
  },
  {
   "cell_type": "markdown",
   "metadata": {},
   "source": [
    "<hr>\n",
    "\n",
    "### Exercício <span class=\"exec\"></span>: divisão entre irmãos\n",
    "\n",
    "Uma barra de chocolate tem 32 quadradinhos. Uma mãe quer dividir essa barra de chocolate entre seus 5 filhos. Nenhum deles pode receber menos que cada um dos outros para não se sentir preterido. Qual é o número mínimo de quadradinhos que a mãe precisa escoder (comer) para poder dividir o restante equanimemente entre os 5?\n",
    "\n",
    "Responda à pergunta com um código indicando sua conta."
   ]
  },
  {
   "cell_type": "code",
   "execution_count": null,
   "metadata": {},
   "outputs": [],
   "source": []
  },
  {
   "cell_type": "markdown",
   "metadata": {},
   "source": [
    "## Combinando operações\n",
    "\n",
    "Você consegue prever o resultado das expressões abaixo?\n",
    "\n",
    "Execute as células para verificar se você acertou!\n"
   ]
  },
  {
   "cell_type": "code",
   "execution_count": null,
   "metadata": {},
   "outputs": [],
   "source": [
    "8*3//2**2"
   ]
  },
  {
   "cell_type": "code",
   "execution_count": null,
   "metadata": {},
   "outputs": [],
   "source": [
    "1+5*3"
   ]
  },
  {
   "cell_type": "markdown",
   "metadata": {},
   "source": [
    "Neste último caso, o Python primeiro calcula o `5*3` e depois soma 1, certo?\n",
    "\n",
    "Isso acontece porque o Python executa as operações na seguinte ordem de precedência:\n",
    "\n",
    "\n",
    "1.    &nbsp;&nbsp;&nbsp;`**`\n",
    "2.    &nbsp;&nbsp;&nbsp;`*`&nbsp;&nbsp;&nbsp;&nbsp;`/`&nbsp;&nbsp;&nbsp;&nbsp;`//`&nbsp;&nbsp;&nbsp;&nbsp;`%`\n",
    "3.    &nbsp;&nbsp;&nbsp;`+`&nbsp;&nbsp;&nbsp;&nbsp;`-`\n",
    "\n",
    "Na dúvida, você pode colocar parênteses para deixar a ordem explícita.\n",
    "\n",
    "Poderíamos, por exemplo, alterar a célula acima colocando `(1+5)*3` para indicar que o `+` deve ser feito antes do `*`.\n",
    "\n"
   ]
  },
  {
   "cell_type": "markdown",
   "metadata": {},
   "source": [
    "<hr>\n",
    "\n",
    "### Exercício <span class=\"exec\"></span>: parcelas sem juros I\n",
    "\n",
    "Alice pagou uma televisão de R$ 3250.00 em 12 vezes sem juros. Qual o valor de cada parcela?"
   ]
  },
  {
   "cell_type": "code",
   "execution_count": null,
   "metadata": {},
   "outputs": [],
   "source": []
  },
  {
   "cell_type": "markdown",
   "metadata": {},
   "source": [
    "---\n",
    "\n",
    "### Exercício <span class=\"exec\"></span>: aniversário\n",
    "\n",
    "João faz 10 anos de idade hoje, neste exato momento! Na célula abaixo, calcule quantos segundos de vida ele acabou de comemorar. (Ignore os anos bissextos.)\n"
   ]
  },
  {
   "cell_type": "code",
   "execution_count": null,
   "metadata": {},
   "outputs": [],
   "source": []
  },
  {
   "cell_type": "markdown",
   "metadata": {},
   "source": [
    "<hr>\n",
    "\n",
    "### Exercício <span class=\"exec\"></span>: vazamento\n",
    "\n",
    "Uma torneira pinga a uma taxa de 1 gota por segundo. Cada gota possui um volume de 0.05 mililitros. Calcule o volume de água desperdiçado depois de exatos 3 dias de vazamento. Faça a conta de modo que a resposta seja em litros."
   ]
  },
  {
   "cell_type": "code",
   "execution_count": null,
   "metadata": {},
   "outputs": [],
   "source": []
  },
  {
   "cell_type": "markdown",
   "metadata": {},
   "source": [
    "---\n",
    "\n",
    "### Exercício <span class=\"exec\"></span>: dobradura\n",
    "\n",
    "Uma folha de papel sulfite tem 0.1mm de espessura. Dobrando a folha ao meio, a espessura passa a ser 0.2mm. Dobrando ao meio de novo, a espessura vai para 0.4mm. Mais uma vez e a espessura aumenta para 0.8mm, e assim vai. \n",
    "\n",
    "Sabemos que não é possível dobrar uma folha de papel sulfite ao meio mais do que 5 ou 6 vezes mas, supondo que fosse possível dobrá-la 27 vezes, qual seria a espessura da dobradura resultante?"
   ]
  },
  {
   "cell_type": "code",
   "execution_count": null,
   "metadata": {},
   "outputs": [],
   "source": []
  },
  {
   "cell_type": "markdown",
   "metadata": {},
   "source": [
    "Agora transforme a resposta acima, que está em milímetros, para kilômetros."
   ]
  },
  {
   "cell_type": "code",
   "execution_count": null,
   "metadata": {},
   "outputs": [],
   "source": []
  },
  {
   "cell_type": "markdown",
   "metadata": {},
   "source": [
    "\n",
    "\n",
    "## Variáveis\n",
    "\n",
    "Você pode guardar o resultado de um cálculo em uma variável para tornar a usá-lo.\n",
    "\n",
    "Vamos fazer o cálculo de conversão de temperatura de Celsius para Fahrenheit. Podemos começar colocando a temperatura em Celsius, digamos 55 graus, numa variável chamada `C`.\n",
    "\n",
    "Não se esqueça de teclar <kbd>SHIFT+ENTER</kbd> em cada uma das células abaixo."
   ]
  },
  {
   "cell_type": "code",
   "execution_count": null,
   "metadata": {},
   "outputs": [],
   "source": [
    "C = 55"
   ]
  },
  {
   "cell_type": "markdown",
   "metadata": {},
   "source": [
    "Veja o valor de C teclando <kbd>SHIFT+ENTER</kbd> na célula abaixo."
   ]
  },
  {
   "cell_type": "code",
   "execution_count": null,
   "metadata": {},
   "outputs": [],
   "source": [
    "C"
   ]
  },
  {
   "cell_type": "markdown",
   "metadata": {},
   "source": [
    "Para converter para Fahrenheit, temos que multiplicar `C` por `9/5` e depois somar `32`:"
   ]
  },
  {
   "cell_type": "code",
   "execution_count": null,
   "metadata": {},
   "outputs": [],
   "source": [
    "F = C * 9 / 5 + 32"
   ]
  },
  {
   "cell_type": "markdown",
   "metadata": {},
   "source": [
    "Veja o valor de F teclando <kbd>SHIFT+ENTER</kbd> na célula abaixo:"
   ]
  },
  {
   "cell_type": "code",
   "execution_count": null,
   "metadata": {},
   "outputs": [],
   "source": [
    "F"
   ]
  },
  {
   "cell_type": "markdown",
   "metadata": {},
   "source": [
    "\n",
    "E se você quisesse converter &nbsp;`65°C`&nbsp; para Fahrenheit em vez de &nbsp;`55°C`?\n",
    "\n",
    "Basta voltar na linha em que você definiu &nbsp;`C = 55`&nbsp; e mudar para &nbsp;`C = 65`&nbsp; e reexecutar a célula.\n",
    "\n",
    "Em seguida, reexecute a linha que definiu &nbsp;`F = C * 9 / 5 + 32`&nbsp; para atualizar o valor em Fahrenheit.\n",
    "\n",
    "Depois, reexecute a linha seguinte para imprimir o novo valor de &nbsp;`F`.\n",
    "\n",
    "O novo valor de &nbsp;`F`&nbsp; deve ser &nbsp;`149`.\n"
   ]
  },
  {
   "cell_type": "markdown",
   "metadata": {},
   "source": [
    "<hr>\n",
    "\n",
    "### Exercício <span class=\"exec\"></span>: conversão de temperatura\n",
    "\n",
    "\n",
    "Modifique as células acima (e reexecute tudo o que for necessário) para converter 80 Celsius para Fahrenheit!\n",
    "\n",
    "<hr>"
   ]
  },
  {
   "cell_type": "markdown",
   "metadata": {},
   "source": [
    "#### Maiúscula ou minúscula?\n",
    "\n",
    "<span style=\"color: #FF0000;\"><b>Atenção:</b></span> letras maiúsculas ou minúsculas fazem diferença!\n",
    "\n",
    "Uma variável chamada `C` e outra chamada `c` são coisas diferentes! Veja o que acontece:\n"
   ]
  },
  {
   "cell_type": "code",
   "execution_count": null,
   "metadata": {},
   "outputs": [],
   "source": [
    "C = 0\n",
    "c = 1"
   ]
  },
  {
   "cell_type": "code",
   "execution_count": null,
   "metadata": {},
   "outputs": [],
   "source": [
    "C"
   ]
  },
  {
   "cell_type": "code",
   "execution_count": null,
   "metadata": {},
   "outputs": [],
   "source": [
    "c"
   ]
  },
  {
   "cell_type": "markdown",
   "metadata": {},
   "source": [
    "## Atribuição de variável\n",
    "\n",
    "Como você pôde observar, para guardar um valor em uma variável, devemos usar o operador de atribuição `=` da seguinte maneira:\n",
    "\n",
    "    nome da variável = expressão\n",
    "    \n",
    "É muito importante que o nome da variável esteja à esquerda e que o valor que se queira armazenar esteja à direita. Trocar a ordem causa erro de sintaxe ou comportamentos inesperados no seu programa.\n",
    "\n",
    "Outra coisa importante é respeitar algumas regras na hora de nomear uma variável. Nomes de variáveis não podem conter espaço em branco e nem caractéres especiais; eles também não podem começar com dígitos numéricos. Por exemplo, `a22` é um nome de variável válido, enquanto`2xg` é inválido. Se quiser simular um espaço, use o carctere _underscore_ `_`. Exemplo: `idade_cliente` ou `numero_de_pedidos`.\n",
    "\n",
    "A linguagem Python aceita que você use caracteres acentuados ou cedilha em nomes de variáveis, mas é uma boa prática de programação evitar o uso de tais caracteres. \n",
    "\n",
    "Sabe por que?"
   ]
  },
  {
   "cell_type": "code",
   "execution_count": null,
   "metadata": {},
   "outputs": [],
   "source": [
    "㚋㙅 = 9\n",
    "㚪 = 7\n",
    "print(㚋㙅 + 㚪)"
   ]
  },
  {
   "cell_type": "markdown",
   "metadata": {},
   "source": [
    "Você teria tremenda dificuldade em entender (e dar manutenção) num código como o da célula acima. De forma análoga, um asiático teria dificuldade em entender um código com acentos e cedilha, pois ele não consegue criar esses caracteres com as teclas disponíveis em seu teclado. \n",
    "\n",
    "É por motivo semelhante que programadores do mundo inteiro preferem programar usando nomes de variáveis em inglês, pois é uma lingua de acesso universal e isso facilita o entendimento e a manutenção do código."
   ]
  },
  {
   "cell_type": "markdown",
   "metadata": {},
   "source": [
    "# Mais sobre o Jupyter\n"
   ]
  },
  {
   "cell_type": "markdown",
   "metadata": {},
   "source": [
    "### Múltiplas linhas de código\n",
    "\n",
    "Células de código podem ter múltiplas linhas. Veja como ficaria o exemplo da conversão de unidades de temperatura numa única célula:"
   ]
  },
  {
   "cell_type": "code",
   "execution_count": null,
   "metadata": {},
   "outputs": [],
   "source": [
    "C = 55\n",
    "F = C * 9 / 5 + 32\n",
    "F"
   ]
  },
  {
   "cell_type": "markdown",
   "metadata": {},
   "source": [
    "### Salvando seu trabalho\n",
    "\n",
    "Para salvar o seu trabalho, cliquem em **_File &raquo; Save and Checkpoint_** ou no ícone do disquete.\n",
    "\n",
    "**Atenção:** se você estiver usando o site [tmpnb.org](http://tmpnb.org) ou o [Binder](mybinder.org), não é possível salvar arquivos! Nesse caso, clique em **_File &raquo; Download as &raquo; IPython Notebook (.ipynb)_** para baixar uma cópia do _notebook_ para o seu computador, e baixe cópias frequentemente para não perder o seu trabalho!\n"
   ]
  },
  {
   "cell_type": "markdown",
   "metadata": {},
   "source": [
    "### Células de texto\n",
    "\n",
    "Você pode modificar as células de textos e fazer _seus próprios comentários_ em [Markdown](https://en.wikipedia.org/wiki/Markdown). Para editar uma célula de texto (como esta) é só dar um duplo-clique na célula. Quando terminar de editar, é só apertar <kbd>SHIFT-ENTER</kbd> para que o texto fique bem formatado novamente. <i>Tags</i> <span style=\"color: #c94c4c;\"><b>HTML</b></span> e fórmulas em _Latex_ também são permitidas. Veja:\n",
    "\n",
    "$$ \\int_0^t 3x^2\\, dx $$\n"
   ]
  },
  {
   "cell_type": "markdown",
   "metadata": {},
   "source": [
    "### Mais sobre células\n",
    "\n",
    "No Jupyter, explore os menus _**Edit**_, _**Insert**_ e depois _**Cell**_, para ver quais operações com células podem ser efetuadas. Você também pode usar atalhos do teclado para acessar essas funções:\n",
    "\n",
    "* <kbd>ESC B</kbd> insere uma nova célula de código **abaixo** da célula selecionada;\n",
    "* <kbd>ESC A</kbd> insere uma nova célula de código **acima** da célula selecionada;\n",
    "* <kbd>ESC X</kbd> exclui a célula selecionada;\n",
    "* <kbd>ESC Y</kbd> transforma uma célula em célula de **código**;\n",
    "* <kbd>ESC M</kbd> transforma uma célula em célula de **texto**;\n",
    "\n",
    "Mais atalhos do teclado podem ser consultados pelo menu _**Help &raquo; Keyboard Shortcuts**_.\n"
   ]
  },
  {
   "cell_type": "markdown",
   "metadata": {},
   "source": [
    "Agora vamos voltar ao estudo de programação em Python."
   ]
  },
  {
   "cell_type": "markdown",
   "metadata": {},
   "source": [
    "\n",
    "\n",
    "# Entrada e saída\n",
    "\n",
    "\n",
    "Todo programa de computador precisa:\n",
    "\n",
    "* receber dados de alguma fonte (teclado, mouse, arquivo, internet, etc.), \n",
    "* processar esses dados e, \n",
    "* enviar o resultado do processamento para algum lugar (tela, arquivo, impressora, web, etc.).\n",
    "\n",
    "Em vista disso, é comum classsificar os dados como:\n",
    "\n",
    "* **dados de entrada**: são aqueles que o programa **recebe**, e\n",
    "* **dados de saída**: são aqueles que programa **mostra** ao usuário.\n",
    "\n"
   ]
  },
  {
   "cell_type": "markdown",
   "metadata": {},
   "source": [
    "## Mostrando dados (saída)\n",
    "\n",
    "\n",
    "No exemplo de conversão de temperatura, nós usamos o seguinte código."
   ]
  },
  {
   "cell_type": "code",
   "execution_count": null,
   "metadata": {},
   "outputs": [],
   "source": [
    "C = 55\n",
    "F = C * 9 / 5 + 32\n",
    "F"
   ]
  },
  {
   "cell_type": "markdown",
   "metadata": {},
   "source": [
    "Suponha agora que também quiséssemos calcular a temperatura em Kelvin:"
   ]
  },
  {
   "cell_type": "code",
   "execution_count": null,
   "metadata": {},
   "outputs": [],
   "source": [
    "C = 55\n",
    "F = C * 9 / 5 + 32\n",
    "F\n",
    "K = C + 273.15\n",
    "K"
   ]
  },
  {
   "cell_type": "markdown",
   "metadata": {},
   "source": [
    "Hummm... veja que só o K apareceu e nada do F!\n",
    "\n",
    "Para fazer com que um dado seja mostrado na saída, podemos usar a função `print()`:"
   ]
  },
  {
   "cell_type": "code",
   "execution_count": null,
   "metadata": {},
   "outputs": [],
   "source": [
    "C = 55\n",
    "F = C * 9 / 5 + 32\n",
    "print(F)\n",
    "K = C + 273.15\n",
    "print(K)"
   ]
  },
  {
   "cell_type": "markdown",
   "metadata": {},
   "source": [
    "Agora sim!\n",
    "\n",
    "Poderíamos também deixar a saída melhor formatada, você não acha?"
   ]
  },
  {
   "cell_type": "code",
   "execution_count": null,
   "metadata": {},
   "outputs": [],
   "source": [
    "C = 55\n",
    "F = C * 9 / 5 + 32\n",
    "print(C, \"Celsius em Fahrenheit é\", F)\n",
    "K = C + 273.15\n",
    "print(C, 'Celsius em Kelvin é', K)"
   ]
  },
  {
   "cell_type": "markdown",
   "metadata": {},
   "source": [
    "Em linhas gerais, a função `print()` recebe uma lista de argumentos (dados numéricos ou de texto) e mostra esses argumentos na saída, separando-os com um espaço em branco. Depois de imprimir cada um dos dados passados como argumento, a função `print()` manda \"pular uma linha\" na saída."
   ]
  },
  {
   "cell_type": "markdown",
   "metadata": {},
   "source": [
    "<hr>\n",
    "\n",
    "### Exercício <span class=\"exec\"></span>: biblioteca no pendrive\n",
    "\n",
    "Um livro que contenha somente texto (sem figuras) ocupa em média 2Mb de memória. Isso significa $2 \\times 10^6$ bytes. Hoje em dia é comum encontrar pendrives com capacidade de armazenamento de 32Gb. Isso significa $32 \\times 10^9$ bytes. Calcule quantos livros-texto cabem num pendrive de 32Gb, depois use o comando `print()` para mostrar a resposta no formato abaixo.\n",
    "\n",
    "    Num pendrive de 32Gb cabem ... livros."
   ]
  },
  {
   "cell_type": "code",
   "execution_count": null,
   "metadata": {},
   "outputs": [],
   "source": []
  },
  {
   "cell_type": "markdown",
   "metadata": {},
   "source": [
    "<hr>\n",
    "\n",
    "## Perguntando dados (entrada)\n",
    "\n",
    "\n",
    "Agora que você já sabe mostrar dados na saída, é importante que você aprenda a fazer perguntas ao usuário e saiba receber a reposta que ele digitar.\n",
    "\n",
    "Para pedir que o usuário entre com um dado de texto, use a função `input()`. \n",
    "\n",
    "Veja os exemplos:\n"
   ]
  },
  {
   "cell_type": "code",
   "execution_count": null,
   "metadata": {},
   "outputs": [],
   "source": [
    "nome = input(\"Qual é seu nome? \")\n",
    "print(\"Olá,\", nome)"
   ]
  },
  {
   "cell_type": "markdown",
   "metadata": {},
   "source": [
    "Agora outro exemplo com uma conversa um pouco mais longa:"
   ]
  },
  {
   "cell_type": "code",
   "execution_count": null,
   "metadata": {},
   "outputs": [],
   "source": [
    "nome = input(\"Qual é seu nome? \")\n",
    "print(\"Olá,\", nome)\n",
    "gosta = input(\"Você gosta de camarão? \")\n",
    "print(\"Que bom que você respondeu\", gosta, ', porque eu também responderia', gosta, '.')"
   ]
  },
  {
   "cell_type": "markdown",
   "metadata": {},
   "source": [
    "Mas olha agora que estranho: execute o código abaixo e **responda 1 para idade**."
   ]
  },
  {
   "cell_type": "code",
   "execution_count": null,
   "metadata": {},
   "outputs": [],
   "source": [
    "num = input(\"Quantas vezes você nasceu? \")\n",
    "dobro = idade + idade\n",
    "print(\"O dobro da sua idade é\", dobro)"
   ]
  },
  {
   "cell_type": "markdown",
   "metadata": {},
   "source": [
    "**11?? Mas por quê??**"
   ]
  },
  {
   "cell_type": "markdown",
   "metadata": {},
   "source": [
    "O que acontece é que a função `input()` do Python sempre devolve o que o usuário digitar em formato **texto**. \n",
    "\n",
    "Em Python, textos são delimitados por aspas simples ou duplas. Veja:"
   ]
  },
  {
   "cell_type": "code",
   "execution_count": null,
   "metadata": {},
   "outputs": [],
   "source": [
    "\"Maria\""
   ]
  },
  {
   "cell_type": "code",
   "execution_count": null,
   "metadata": {},
   "outputs": [],
   "source": [
    "'João'"
   ]
  },
  {
   "cell_type": "markdown",
   "metadata": {},
   "source": [
    "E olha o que acontece com a soma de dois textos:"
   ]
  },
  {
   "cell_type": "code",
   "execution_count": null,
   "metadata": {},
   "outputs": [],
   "source": [
    "\"Maria\" + \"João\""
   ]
  },
  {
   "cell_type": "markdown",
   "metadata": {},
   "source": [
    "Ou seja, somar dois textos tem o efeito de grudá-los.\n",
    "\n",
    "Para ser um pouco mais formal, nós dizemos que o operador `+` **concatena** os textos.\n",
    "\n",
    "Então, no exemplo anterior, como o Python entendeu que a entrada era um texto, o que ele fez foi equivalente ao seguinte:"
   ]
  },
  {
   "cell_type": "code",
   "execution_count": null,
   "metadata": {},
   "outputs": [],
   "source": [
    "dobro = \"1\" + \"1\"\n",
    "print(dobro)"
   ]
  },
  {
   "cell_type": "markdown",
   "metadata": {},
   "source": [
    "## Conversão texto $\\rightarrow$ número\n",
    "\n",
    "Mas o que fazer se quisermos perguntar números em vez de texto?\n",
    "\n",
    "É importante que você saiba que existem três tipos de dados numéricos no Python 3:\n",
    "\n",
    "* números inteiros ( *int* ), como 1, 0, -1, 2, 4\n",
    "* números de ponto flutuante ( *float* ), como 2.13, 1.1, 1.00001, -12.3\n",
    "* números complexos.\n"
   ]
  },
  {
   "cell_type": "markdown",
   "metadata": {},
   "source": [
    "Para pedir um número ao usuário, basta converter o texto que ele digitou para um número do tipo desejado. Isso pode ser feito através das funções `int()` ou `float()`. Veja um exemplo abaixo."
   ]
  },
  {
   "cell_type": "code",
   "execution_count": null,
   "metadata": {},
   "outputs": [],
   "source": [
    "idade_texto = input(\"Qual é a sua idade? \")\n",
    "idade = int(idade_texto)\n",
    "dobro = idade + idade\n",
    "print(\"O dobro da sua idade é\", dobro)"
   ]
  },
  {
   "cell_type": "markdown",
   "metadata": {},
   "source": [
    "A linha \n",
    "\n",
    "    idade = int(idade_texto)\n",
    "        \n",
    "converte o valor guardado na variável `idade_texto` para o tipo _int_ e guarda o resultado na variável `idade`.\n",
    "A razão pela qual escolhemos o tipo _int_, é que é mais comum considerar idade como sendo um número inteiro.\n",
    "\n",
    "Outro jeito de fazer a mesma coisa:"
   ]
  },
  {
   "cell_type": "code",
   "execution_count": null,
   "metadata": {},
   "outputs": [],
   "source": [
    "idade = int(input(\"Qual é a sua idade? \"))\n",
    "dobro = idade + idade\n",
    "print(\"O dobro da sua idade é\", dobro)"
   ]
  },
  {
   "cell_type": "markdown",
   "metadata": {},
   "source": [
    "Nessa versão do programa, a linha \n",
    "\n",
    "    idade = int(input(\"Qual é a sua idade? \"))\n",
    "    \n",
    "faz o mesmo que as duas linhas \n",
    "\n",
    "    idade_texto = input(\"Qual é a sua idade? \")\n",
    "    idade = int(idade_texto)\n",
    "\n",
    "e tem a vantagem de deixar o código mais sucinto e mais legível."
   ]
  },
  {
   "cell_type": "markdown",
   "metadata": {},
   "source": [
    "<hr>\n",
    "\n",
    "Se você quiser permitir que a idade seja um número quebrado, você pode converter o texto lido para _float_:"
   ]
  },
  {
   "cell_type": "code",
   "execution_count": null,
   "metadata": {},
   "outputs": [],
   "source": [
    "idade = float(input(\"Qual é a sua idade? \"))\n",
    "dobro = idade + idade\n",
    "print(\"O dobro da sua idade é\", dobro)"
   ]
  },
  {
   "cell_type": "markdown",
   "metadata": {},
   "source": [
    "---\n",
    "\n",
    "### Exercício <span class=\"exec\"></span>: autonomia\n",
    "\n",
    "Faça um programa que pergunta ao usuário pela capacidade do tanque de gasolina do carro (em litros), depois pelo consumo de gasolina (em km/l). Depois, seu programa deve mostrar a autonomia do carro com o tanque cheio, ou seja, quantos kilômetros ele consegue viajar com o tanque cheio até parar por falta de combustível.\n",
    "\n",
    "A capacidade do tanque deve ser um número inteiro (_int_). O consumo do carro pode ser um número quebrado (_float_).\n",
    "\n",
    "**Obs.:** lembre-se de digitar os número com ponto (como 18.50 ao invés de 18,50)."
   ]
  },
  {
   "cell_type": "code",
   "execution_count": null,
   "metadata": {},
   "outputs": [],
   "source": []
  },
  {
   "cell_type": "markdown",
   "metadata": {},
   "source": [
    "---\n",
    "\n",
    "### Exercício <span class=\"exec\"></span>: média ponderada\n",
    "\n",
    "Faça um programa que \n",
    "\n",
    "* pergunta a um aluno quanto ele tirou na P1, depois quanto ele tirou na P2; e\n",
    "* mostra na saída a média ponderada, considerando que o peso da P1 é 2.5 e o peso da P2 é 4.0 (portanto a soma dos pesos é 6.5).\n",
    "\n",
    "**Obs.:** lembre-se de digitar os número com ponto (como 18.50 ao invés de 18,50)."
   ]
  },
  {
   "cell_type": "code",
   "execution_count": null,
   "metadata": {},
   "outputs": [],
   "source": []
  },
  {
   "cell_type": "markdown",
   "metadata": {},
   "source": [
    "## Conversão número $\\rightarrow$ texto\n",
    "\n",
    "Para converter um número (ou uma expressão numérica) para texto, você pode usar a função `str()`. Essa sigla é abreviação de _string_ que, em inglês, quer dizer 'cadeia' ou 'corrente'. No contexto de programação uma _string_ quer dizer uma cadeia de caracteres ou um texto. \n",
    "\n",
    "Execute os exemplos e note a diferença entre dado numérico e dado de texto (_string_):"
   ]
  },
  {
   "cell_type": "code",
   "execution_count": null,
   "metadata": {},
   "outputs": [],
   "source": [
    "25"
   ]
  },
  {
   "cell_type": "code",
   "execution_count": null,
   "metadata": {},
   "outputs": [],
   "source": [
    "str(25)"
   ]
  },
  {
   "cell_type": "markdown",
   "metadata": {},
   "source": [
    "E para que precisamos converter um número (ou outro tipo que seja) para texto?\n",
    "\n",
    "Por exemplo, para poder formatar uma mensagem de resposta que tenha números e texto intercalados.\n",
    "\n",
    "Veja o código a seguir:"
   ]
  },
  {
   "cell_type": "code",
   "execution_count": null,
   "metadata": {},
   "outputs": [],
   "source": [
    "'Sua idade é ' + 25 + 'anos.'"
   ]
  },
  {
   "cell_type": "markdown",
   "metadata": {},
   "source": [
    "Note que, ao tentar executar o trecho de código acima, você obteve uma mensagem de erro. O Python sabe somar números e sabe concatenar textos, mas ele não sabe o que fazer quando o sinal de `+` tem um número de um lado e um texto do outro. Somar? Concatenar?\n",
    "\n",
    "A função `str()` é útil para resolver esse tipo de situação. Veja:"
   ]
  },
  {
   "cell_type": "code",
   "execution_count": null,
   "metadata": {},
   "outputs": [],
   "source": [
    "'Sua idade é ' + str(25) + ' anos.'"
   ]
  },
  {
   "cell_type": "markdown",
   "metadata": {},
   "source": [
    "Veja agora um exemplo mais complexo do uso da funçao `str()` para formatar a saída de um programa."
   ]
  },
  {
   "cell_type": "code",
   "execution_count": null,
   "metadata": {},
   "outputs": [],
   "source": [
    "ano1 = int(input('Digite um ano qualquer do passado (4 dígitos): '))\n",
    "ano2 = int(input('Digite o ano em que estamos (4 dígitos): '))\n",
    "print('Do ano ' + str(ano1) + ' até o ano ' + str(ano2) + ' passaram-se ' \n",
    "      + str(ano2 - ano1) + ' anos.')"
   ]
  },
  {
   "cell_type": "markdown",
   "metadata": {},
   "source": [
    "### Limitando as casas decimais\n",
    "\n",
    "Para exibir somente um número limitado de casas decimais de um número _float_, podemos usar a função `round()`. Veja o exemplo abaixo."
   ]
  },
  {
   "cell_type": "code",
   "execution_count": null,
   "metadata": {},
   "outputs": [],
   "source": [
    "round(234.234812312854, 3)"
   ]
  },
  {
   "cell_type": "markdown",
   "metadata": {},
   "source": [
    "Veja um exemplo sem arredondamento:"
   ]
  },
  {
   "cell_type": "code",
   "execution_count": null,
   "metadata": {},
   "outputs": [],
   "source": [
    "valor = 1573.90\n",
    "num_parcelas = 13\n",
    "print('O valor de cada parcela será de R$ ' + str(valor/num_parcelas))"
   ]
  },
  {
   "cell_type": "markdown",
   "metadata": {},
   "source": [
    "E veja o mesmo exemplo, agora usando a função `round()`:"
   ]
  },
  {
   "cell_type": "code",
   "execution_count": null,
   "metadata": {},
   "outputs": [],
   "source": [
    "valor = 1573.90\n",
    "num_parcelas = 13\n",
    "print('O valor de cada parcela será de R$ ' + str(round(valor/num_parcelas, 2)))"
   ]
  },
  {
   "cell_type": "markdown",
   "metadata": {},
   "source": [
    "### Formatação de texto\n",
    "\n",
    "Para mais informações sobre formatação de número ou texto, consulte a página [https://pyformat.info/](https://pyformat.info/)."
   ]
  },
  {
   "cell_type": "markdown",
   "metadata": {},
   "source": [
    "---\n",
    "\n",
    "### Exercício <span class=\"exec\"></span>: parcelas sem juros II\n",
    "\n",
    "Escreva um programa que auxilia uma loja na hora de fazer uma venda. Seu programa deve:\n",
    "\n",
    "* perguntar o preço do produto;\n",
    "* perguntar o número de parcelas em que o cliente deseja pagar (sem juros);\n",
    "* mostrar quanto será o valor de uma parcela (arredondando para duas casas decimais apenas).\n",
    "\n",
    "**Obs.:** lembre-se de digitar os número com ponto (como 18.50 ao invés de 18,50)."
   ]
  },
  {
   "cell_type": "code",
   "execution_count": null,
   "metadata": {},
   "outputs": [],
   "source": []
  },
  {
   "cell_type": "markdown",
   "metadata": {},
   "source": [
    "---\n",
    "\n",
    "### Exercício <span class=\"exec\"></span>: área do triângulo\n",
    "\n",
    "Faça um programa para calcular a área de um triângulo. Seu programa deve pedir para o usuário digitar o comprimento da base e depois a altura, então seu programa deve dizer qual a área de um triângulo com tais parâmetros. Arredonde a resposta para apresentar apenas duas casas decimais."
   ]
  },
  {
   "cell_type": "code",
   "execution_count": null,
   "metadata": {},
   "outputs": [],
   "source": []
  },
  {
   "cell_type": "markdown",
   "metadata": {},
   "source": [
    "# Mais exercícios\n",
    "\n",
    "Nos exercícios a seguir, se as respostas forem números quebrados, apresente-as com apenas duas casas decimais."
   ]
  },
  {
   "cell_type": "markdown",
   "metadata": {},
   "source": [
    "---\n",
    "\n",
    "### Exercício <span class=\"exec\"></span>: gasto com alimentação\n",
    "\n",
    "Faça um programa que: \n",
    "\n",
    "1. pergunta ao usuário o preço pago no almoço, depois pelo preço pago na janta;\n",
    "2. mostra o total gasto com refeições no dia."
   ]
  },
  {
   "cell_type": "code",
   "execution_count": null,
   "metadata": {},
   "outputs": [],
   "source": []
  },
  {
   "cell_type": "markdown",
   "metadata": {},
   "source": [
    "---\n",
    "\n",
    "### Exercício <span class=\"exec\"></span>: perímetro do círculo\n",
    "\n",
    "Faça um programa que:\n",
    "\n",
    "1. pergunta ao usuário pelo raio do círculo;\n",
    "2. mostra o perímetro do círculo.\n",
    "\n",
    "**Obs:** use  o valor `3.1415926` para $\\pi$ (e lembre-se de usar **ponto** em vez de **vírgula**). A fórmula para o perímetro do círculo é $2\\cdot \\pi \\cdot r$."
   ]
  },
  {
   "cell_type": "code",
   "execution_count": null,
   "metadata": {},
   "outputs": [],
   "source": []
  },
  {
   "cell_type": "markdown",
   "metadata": {},
   "source": [
    "---\n",
    "\n",
    "### Exercício <span class=\"exec\"></span>: volume do cilíndro\n",
    "\n",
    "Peça ao usuário para digitar dois números: o raio $r$ da base do cilindro e sua altura $h$, um por vez. Depois mostre na tela o volume do cilindro, que pode ser calculado com a fórmula\n",
    "\n",
    "$$ V = \\pi r^2 h. $$\n",
    "\n",
    "Use o valor 3.1415926 para aproximar $\\pi$."
   ]
  },
  {
   "cell_type": "code",
   "execution_count": null,
   "metadata": {},
   "outputs": [],
   "source": []
  },
  {
   "cell_type": "markdown",
   "metadata": {},
   "source": [
    "---\n",
    "\n",
    "### Exercício <span class=\"exec\"></span>: volume da esfera\n",
    "\n",
    "O cálculo do volume de uma esfera de raio $R$ é feito pela fórmula\n",
    "\n",
    "$$ V = \\frac{4 \\pi R^3}{3}. $$\n",
    "\n",
    "Faça um programa que pergunta ao usuário por um número positivo $R$ e que calcula e depois mostra na tela o volume de uma esfera de raio $R$.\n",
    "\n",
    "Use o valor 3.1415926 para aproximar $\\pi$."
   ]
  },
  {
   "cell_type": "code",
   "execution_count": null,
   "metadata": {},
   "outputs": [],
   "source": []
  },
  {
   "cell_type": "markdown",
   "metadata": {},
   "source": [
    "---\n",
    "\n",
    "### Exercício <span class=\"exec\"></span>: poupança\n",
    "\n",
    "Um investidor depositou uma quantia na poupança, que rende $p$ porcento ao mês. Ajude o investidor a calcular quanto ele terá depois de alguns meses. \n",
    "\n",
    "Seu programa deve:\n",
    "\n",
    "* perguntar pela quantia $d$ de dinheiro depositada na poupança;\n",
    "* perguntar pela taxa $p$ de rendimento da poupança;\n",
    "* perguntar pelo numero $t$ de meses que o dinheiro ficará rendendo;\n",
    "* mostrar o montante de dinheiro na poupança após os $t$ meses.\n",
    "\n",
    "Lembre-se que a quantia $D$ após $t$ meses pode ser calculada por\n",
    "\n",
    "$$ D = d\\Big(1 + \\frac{p}{100}\\Big)^t. $$"
   ]
  },
  {
   "cell_type": "code",
   "execution_count": null,
   "metadata": {},
   "outputs": [],
   "source": []
  },
  {
   "cell_type": "markdown",
   "metadata": {},
   "source": [
    "---\n",
    "\n",
    "### Exercícios <span class=\"exec\"></span>: horas, minutos e segundos\n",
    "\n",
    "Suponha que você trabalha numa empresa e que seu chefe tenha pedido a você que faça um programa para converter uma quantidade $S$ de segundos em horas, minutos e segundos. Por exemplo, 3666 segundos equivale a 1 hora, 1 minuto e 6 segundos. Faça esse programa.\n",
    "\n",
    "**Dicas:** use os operadores de divisão inteira `//` e resto `%`; trabalhe somente com valores inteiros (_int_) e não com números de ponto flutuante (_float_)."
   ]
  },
  {
   "cell_type": "code",
   "execution_count": null,
   "metadata": {},
   "outputs": [],
   "source": []
  },
  {
   "cell_type": "markdown",
   "metadata": {},
   "source": [
    "---\n",
    "\n",
    "### Exercício <span class=\"exec\"></span>: troco\n",
    "\n",
    "Você é comerciante e identificou um problema muito comum: uma pessoa compra um produto de sua loja mas, na hora de passar o cartão dela na maquininha, o caixa cobra $C \\geq 0$ centavos a mais do que deveria e agora precisa dar o troco. Sua loja só trabalha com moedas ou cartão, então o cliente tem direito a receber _em moedas_ a quantidade $C$ de centavos que excedeu o preço da compra. Você quer dar ao cliente o número mínimo de moedas para trocar o valor $C$.\n",
    "\n",
    "Por exemplo, se o caixa cobrou 573 centavos a mais no cartão, o cliente tem direito a receber\n",
    "\n",
    "    5 moeda(s) de  1 real\n",
    "    1 moeda(s) de 50 centavos\n",
    "    0 moeda(s) de 25 centavos\n",
    "    2 moeda(s) de 10 centavos\n",
    "    0 moeda(s) de  5 centavos\n",
    "    3 moeda(s) de  1 centavo\n",
    "\n",
    "Faça um programa para ajudá-lo nesta tarefa:\n",
    "\n",
    "* pergunte ao usuário pela quantidade `C` de centavos que deve ser trocada;\n",
    "* mostre ao usuário quais moedas de cada denominação devem ser devolvidas ao cliente em um troco mínimo.\n",
    "\n",
    "**Dicas:** use os operadores de divisão inteira `//` e resto `%`; trabalhe com valores inteiros."
   ]
  },
  {
   "cell_type": "code",
   "execution_count": null,
   "metadata": {},
   "outputs": [],
   "source": []
  },
  {
   "cell_type": "markdown",
   "metadata": {},
   "source": [
    "---\n",
    "### Exercício <span class=\"exec\"></span>: conversa\n",
    "\n",
    "Faça um programa que seja capaz de conversar com o usuário. Seu programa deve ser capaz de reproduzir o diálogo abaixo (texto em vermelho indica as respostas do usuário).\n",
    "\n",
    "<tt>\n",
    "<br>Olá! Qual é o seu nome? <span style=\"color: red;\">Daniel</span><br>\n",
    "Oi, Daniel. Em que ano você nasceu? <span style=\"color: red;\">1982</span><br>\n",
    "Em que ano estamos, Daniel? <span style=\"color: red;\">2019</span><br>\n",
    "Daniel, você já fez aniversário este ano? Digite 1 para sim e 0 para não: <span style=\"color: red\">1</span><br>\n",
    "Como estamos em 2019, você tem 37 anos de idade, Daniel!<br>\n",
    "</tt>\n",
    "\n",
    "É claro que seu programa deve chamar o usuário pelo nome que ele fornecer, e não simplesmente chamá-lo de Daniel. E é claro que a idade deve corresponder às respostas que o usuário fornecer nas perguntas sobre o ano atual, o ano de nascimento e sobre o usuário ter completado aniversário.\n",
    "\n",
    "Por exemplo, se estivéssemos em 15/06/2035, se o usuário se chamasse Erodilho e tivesse nascido em 22/08/2013, seu programa (o mesmo programa) e o usuário teriam o seguinte diálogo:\n",
    "\n",
    "<tt>\n",
    "<br>Olá! Qual é o seu nome? <span style=\"color: red;\">Erodilho</span><br>\n",
    "Oi, Erodilho. Em que ano você nasceu? <span style=\"color: red;\">2013</span><br>\n",
    "Em que ano estamos, Erodilho? <span style=\"color: red;\">2035</span><br>\n",
    "Erodilho, você já fez aniversário este ano? Digite 1 para sim e 0 para não: <span style=\"color: red\">0</span><br>\n",
    "Como estamos em 2035, você tem 21 anos de idade, Erodilho!<br>\n",
    "</tt>"
   ]
  },
  {
   "cell_type": "code",
   "execution_count": null,
   "metadata": {},
   "outputs": [],
   "source": []
  },
  {
   "cell_type": "markdown",
   "metadata": {},
   "source": [
    "---\n",
    "### Exercício <span class=\"exec\"></span>: distribuição de moedas\n",
    "\n",
    "Alice tem várias moedas de 1 real e ela quer distribuí-las entre seus 3 filhos.\n",
    "\n",
    "Para não ter briga, ela vai distribuir o máximo possível de forma que todos eles recebam exatamente o mesmo número de moedas.\n",
    "\n",
    "Isso significa que podem sobrar algumas moedas que não serão distribuídas.\n",
    "\n",
    "Faça um programa que \n",
    "1. Pergunta a Alice o número de moedas que ela tem.\n",
    "2. Mostra quantas moedas cada filho recebeu.\n",
    "3. Mostra quantas moedas sobraram com Alice.\n",
    "\n",
    "\n",
    "*Dica:* use o operador de divisão inteira `//` e o operador de resto `%`\n"
   ]
  },
  {
   "cell_type": "code",
   "execution_count": null,
   "metadata": {
    "collapsed": true
   },
   "outputs": [],
   "source": []
  },
  {
   "cell_type": "markdown",
   "metadata": {},
   "source": [
    "---\n",
    "### Exercício <span class=\"exec\"></span>: juros\n",
    "\n",
    "Um banco empresta dinheiro a um juros de $2\\%$ ao mês. Pergunte ao usuário pela quantia $d$ que ele quer emprestar. Depois, pergunte o tempo $t$ em meses que ele pretende ficar com esse dinheiro. Supondo que o usuário só irá pagar a dívida depois de passados os $t$ meses, mostre a ele qual será a dívida nesse momento (i.e. ao final dos $t$ meses).\n",
    "\n",
    "Use a fórmula $D = d (1.02)^t$. Teste seu programa para saber o que acontece se o usuário emprestar 1000 reais por 36 meses: a resposta deve ser que ele deverá pagar aproximadamente 2039 reais e 89 centavos ao final desses 36 meses."
   ]
  },
  {
   "cell_type": "code",
   "execution_count": null,
   "metadata": {},
   "outputs": [],
   "source": [
    "         "
   ]
  },
  {
   "cell_type": "markdown",
   "metadata": {},
   "source": [
    "---\n",
    "### Exercício <span class=\"exec\"></span>: pirâmides, cones, etc...\n",
    "\n",
    "<div style=\"margin-top: 1em; text-align: justify; padding: 1em;\">\n",
    "    <p><img style=\"float: left;\" width=\"250px\" src=\"data:image/png;base64,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\" />\n",
    "Uma pirâmide de base triangular, uma pirâmide de base quadrada ou até mesmo um cone são objetos bastante análogos. Para começar, todos esses objetos têm uma base e um ponto especial chamado vértice. Se \"fatiarmos\" qualquer desses objetos com uma faca, fazendo cortes paralelos à base, então todas as fatias têm a mesma forma, e essa forma coincide com a da base, só que as fatias vão diminuindo de tamanho à medida que o corte se afasta da base e se aproxima do vértice. Ademais, se a área da base de um desses objetos é $A$, e se a altura (distância do vértice até o plano da base) for $h$, então o volume de qualquer um desses objetos pode ser calculado com a fórmula:               \n",
    "</p>\n",
    "$$\\frac{h \\cdot A}{3}.$$\n",
    "</div>\n",
    "\n",
    "Faça um programa que calcula a área de pirâmides generalizadas. Seu programa deve perguntar ao usuário pela área $A$ da base e, em seguida, pela altura $h$. Depois, seu programa deve calcular e mostrar o volume da pirâmide generalizada."
   ]
  },
  {
   "cell_type": "code",
   "execution_count": null,
   "metadata": {},
   "outputs": [],
   "source": []
  },
  {
   "cell_type": "markdown",
   "metadata": {},
   "source": [
    "---\n",
    "### Exercício <span class=\"exec\"></span>: tempo em Saturno\n",
    "\n",
    "Em Saturno, um dia dura 11 horas. Ou seja, demora 11 horas para Saturno se revirar uma volta completa em torno de si mesmo. Por outro lado, um ano em Saturno -- o tempo que o planeta leva para completar uma volta ao redor do sol -- são 23633 dias (de Saturno).\n",
    "\n",
    "Faça um programa que, dada uma quantidade de segundos na entrada, converte essa quantidade em tempos de Saturno e mostra ao usuário. Por exemplo, se o usuário digitar 11346783728, seu programa deve mostrar na saída o texto\n",
    "\n",
    "    Em saturno isso equivale a 12 anos 2938 dias 10 horas 22 minutos 8 segundos.\n",
    "    \n",
    "Um exemplo um pouco menor: se o usuário digitar 360000 (o que equivale a 100 horas), seu programa deve mostrar\n",
    "\n",
    "    Em saturno isso equivale a 0 anos, 9 dias, 1 horas, 0 minutos e 0 segundos."
   ]
  },
  {
   "cell_type": "code",
   "execution_count": null,
   "metadata": {},
   "outputs": [],
   "source": []
  },
  {
   "cell_type": "markdown",
   "metadata": {},
   "source": [
    "---\n",
    "### Exercício <span class=\"exec\"></span>: jardas, milhas, pés, polegadas\n",
    "\n",
    "Faça um programa que pergunta por um número (com casas decimais) ao usuário que corresponde a um comprimento em metros. Depois, mostre na tela como expressar esse comprimento em cada uma das unidades do título: jardas, milhas, pés e polegadas. Arredonde as respostas com duas casas decimais. (Pesquise e descubra você mesmo a relação entre o metro e cada uma dessas unidades de distância.)"
   ]
  },
  {
   "cell_type": "code",
   "execution_count": null,
   "metadata": {},
   "outputs": [],
   "source": []
  },
  {
   "cell_type": "markdown",
   "metadata": {},
   "source": [
    "# Extra (sobre Python)\n",
    "\n",
    "## Mais sobre o tipo de dado texto (_string_)\n",
    "\n",
    "Agumas operações com textos são bastante comuns e, por aparecerem frequentemente no dia a dia de um programador, merecem a nossa atenção. \n",
    "\n",
    "Uma dessas operações é encontrar o comprimento de um texto. Isso pode ser feito com a função `len()` em Python. Veja o exemplo:"
   ]
  },
  {
   "cell_type": "code",
   "execution_count": 10,
   "metadata": {},
   "outputs": [
    {
     "data": {
      "text/plain": [
       "7"
      ]
     },
     "execution_count": 10,
     "metadata": {},
     "output_type": "execute_result"
    }
   ],
   "source": [
    "len('Abacaxi')"
   ]
  },
  {
   "cell_type": "markdown",
   "metadata": {},
   "source": [
    "Outras operações frequentes são as seguintes:\n",
    "\n",
    "* transformar os caracteres de um texto todos em maúscula,\n",
    "* transformar em minúsculas,\n",
    "* capitalizar as primeiras letras (como num nome próprio),\n",
    "* eliminar espaços em branco do início e do final de um texto."
   ]
  },
  {
   "cell_type": "code",
   "execution_count": 11,
   "metadata": {},
   "outputs": [
    {
     "data": {
      "text/plain": [
       "'OBRIGADO'"
      ]
     },
     "execution_count": 11,
     "metadata": {},
     "output_type": "execute_result"
    }
   ],
   "source": [
    "'Obrigado'.upper()"
   ]
  },
  {
   "cell_type": "code",
   "execution_count": 14,
   "metadata": {},
   "outputs": [
    {
     "data": {
      "text/plain": [
       "'obrigado'"
      ]
     },
     "execution_count": 14,
     "metadata": {},
     "output_type": "execute_result"
    }
   ],
   "source": [
    "msg = 'Obrigado'\n",
    "msg.lower()"
   ]
  },
  {
   "cell_type": "code",
   "execution_count": 18,
   "metadata": {},
   "outputs": [
    {
     "data": {
      "text/plain": [
       "'Isabel Cristina Leopoldina'"
      ]
     },
     "execution_count": 18,
     "metadata": {},
     "output_type": "execute_result"
    }
   ],
   "source": [
    "msg = 'ISABEL CRISTINA LEOPOLDINA'\n",
    "msg.title()"
   ]
  },
  {
   "cell_type": "code",
   "execution_count": 15,
   "metadata": {},
   "outputs": [
    {
     "data": {
      "text/plain": [
       "'Obrigado'"
      ]
     },
     "execution_count": 15,
     "metadata": {},
     "output_type": "execute_result"
    }
   ],
   "source": [
    "msg = '   Obrigado  '\n",
    "msg.strip()"
   ]
  },
  {
   "cell_type": "markdown",
   "metadata": {},
   "source": [
    "<a rel=\"license\" href=\"http://creativecommons.org/licenses/by-sa/4.0/\"><img alt=\"Creative Commons License\" style=\"border-width:0\" src=\"https://i.creativecommons.org/l/by-sa/4.0/88x31.png\" /></a><br /><span xmlns:dct=\"http://purl.org/dc/terms/\" href=\"http://purl.org/dc/dcmitype/InteractiveResource\" property=\"dct:title\" rel=\"dct:type\">Python 3 Practice Notebooks</span> by <a xmlns:cc=\"http://creativecommons.org/ns#\" href=\"https://github.com/daniel-ufabc/ipycourse\" property=\"cc:attributionName\" rel=\"cc:attributionURL\">Cristiane Sato, Daniel M. Martin and Mirtha L. F. Venero</a> is licensed under a <a rel=\"license\" href=\"http://creativecommons.org/licenses/by-sa/4.0/\">Creative Commons Attribution-ShareAlike 4.0 International License</a>."
   ]
  },
  {
   "cell_type": "markdown",
   "metadata": {},
   "source": [
    "<span style=\"color: red;\">Ignore as próximas células! Elas só estão presentes para personalizar a formatação deste _notebook_. </span>"
   ]
  },
  {
   "cell_type": "code",
   "execution_count": 1,
   "metadata": {
    "init_cell": true
   },
   "outputs": [
    {
     "data": {
      "text/html": [
       "<style>\n",
       "\n",
       ".rendered_html h1 {\n",
       "    background-color: #555;\n",
       "    color: white;\n",
       "    padding: .5em;\n",
       "    // border-bottom: 2px solid #000;\n",
       "    // padding-bottom: .6em;\n",
       "    margin-bottom: 1em;\n",
       "}\n",
       "\n",
       ".rendered_html h2 {\n",
       "    border-bottom: 1px solid #333;\n",
       "    padding-bottom: .6em;\n",
       "}\n",
       "                                      \n",
       ".rendered_html h3 {\n",
       "    color: #034f84;\n",
       "}\n",
       "\n",
       ".rendered_html code  {\n",
       "    padding: 2px 4px;\n",
       "    font-size: 90%;\n",
       "    color: #c7254e;\n",
       "    background-color: #f9f2f4;\n",
       "    border-radius: 4px;\n",
       "}\n",
       "\n",
       ".rendered_html pre code {\n",
       "    padding: 0px;\n",
       "    font-size: 90%;\n",
       "    color: #c7254e;\n",
       "    background-color: rgba(0, 0, 0, 0);\n",
       "}\n",
       "\n",
       "kbd {\n",
       "    border-radius: 3px;  \n",
       "    padding: 2px, 3px;\n",
       "}\n",
       "\n",
       "body {\n",
       "    counter-reset: h1counter excounter;\n",
       "}\n",
       "h1:before {\n",
       "    content: counter(h1counter) \".\\0000a0\\0000a0\";\n",
       "    counter-increment: h1counter;\n",
       "}\n",
       "span.exec:before {\n",
       "    content: counter(excounter);\n",
       "    counter-increment: excounter;\n",
       "}\n",
       "\n",
       "</style>                                      \n"
      ],
      "text/plain": [
       "<IPython.core.display.HTML object>"
      ]
     },
     "metadata": {},
     "output_type": "display_data"
    }
   ],
   "source": [
    "%%html\n",
    "<style>\n",
    "\n",
    ".rendered_html h1 {\n",
    "    background-color: #555;\n",
    "    color: white;\n",
    "    padding: .5em;\n",
    "    // border-bottom: 2px solid #000;\n",
    "    // padding-bottom: .6em;\n",
    "    margin-bottom: 1em;\n",
    "}\n",
    "\n",
    ".rendered_html h2 {\n",
    "    border-bottom: 1px solid #333;\n",
    "    padding-bottom: .6em;\n",
    "}\n",
    "                                      \n",
    ".rendered_html h3 {\n",
    "    color: #034f84;\n",
    "}\n",
    "\n",
    ".rendered_html code  {\n",
    "    padding: 2px 4px;\n",
    "    font-size: 90%;\n",
    "    color: #c7254e;\n",
    "    background-color: #f9f2f4;\n",
    "    border-radius: 4px;\n",
    "}\n",
    "\n",
    ".rendered_html pre code {\n",
    "    padding: 0px;\n",
    "    font-size: 90%;\n",
    "    color: #c7254e;\n",
    "    background-color: rgba(0, 0, 0, 0);\n",
    "}\n",
    "\n",
    "kbd {\n",
    "    border-radius: 3px;  \n",
    "    padding: 2px, 3px;\n",
    "}\n",
    "\n",
    "body {\n",
    "    counter-reset: h1counter excounter;\n",
    "}\n",
    "h1:before {\n",
    "    content: counter(h1counter) \".\\0000a0\\0000a0\";\n",
    "    counter-increment: h1counter;\n",
    "}\n",
    "span.exec:before {\n",
    "    content: counter(excounter);\n",
    "    counter-increment: excounter;\n",
    "}\n",
    "\n",
    "</style>                                      "
   ]
  }
 ],
 "metadata": {
  "kernelspec": {
   "display_name": "Python 3",
   "language": "python",
   "name": "python3"
  },
  "language_info": {
   "codemirror_mode": {
    "name": "ipython",
    "version": 3
   },
   "file_extension": ".py",
   "mimetype": "text/x-python",
   "name": "python",
   "nbconvert_exporter": "python",
   "pygments_lexer": "ipython3",
   "version": "3.5.2"
  }
 },
 "nbformat": 4,
 "nbformat_minor": 1
}
