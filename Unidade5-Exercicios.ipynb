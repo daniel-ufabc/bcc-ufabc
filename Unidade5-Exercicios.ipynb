{
 "cells": [
  {
   "cell_type": "markdown",
   "metadata": {},
   "source": [
    "Nesta lista de exercícios, você deverá submeter os seus códigos pelo site \n",
    "\n",
    "<span style=\"font-size:18pt;\">https://www.urionlinejudge.com.br</span>\n",
    "\n",
    "<span style=\"font-size:18pt\"><b>Entre no site, cadastre-se e logue!</b></span>\n",
    "\n",
    "Vamos mostrar alguns exemplos e te ajudar na entrada e impressão de dados.\n",
    "\n",
    "Vamos começar pelo problema 1003\n",
    "\n",
    "https://www.urionlinejudge.com.br/judge/pt/problems/view/1003\n",
    "\n",
    "Nesse problema, temos que ler dois números inteiros e depois imprimir uma linha com a soma deles. Veja o enunciado:\n",
    "\n",
    "![alt text](http://bcc.ufabc.info/u5/1003.png)\n",
    "\n",
    "O código a seguir resolve esse problema."
   ]
  },
  {
   "cell_type": "code",
   "execution_count": null,
   "metadata": {
    "collapsed": false
   },
   "outputs": [],
   "source": [
    "x = int(input())\n",
    "y = int(input())\n",
    "resp = x+y\n",
    "print(\"SOMA =\",resp) "
   ]
  },
  {
   "cell_type": "markdown",
   "metadata": {},
   "source": [
    "Dois pontos **importantíssimos**:\n",
    "\n",
    "<span style=\"font-size:16pt\">Não colocamos NENHUMA MENSAGEM ao usuário.\n",
    "<br />Imprimimos a resposta no formato EXATAMENTE como especificado. Inclusive o número de espaços em branco!\n",
    "</span>\n",
    "\n",
    "Se você não seguir as duas regras acima, o seu código terá *Wrong Answer* ou *Presentation Error* como resposta.\n",
    "\n",
    "Agora vamos submeter código para correção. Na barra lateral, temos o seguinte menu:\n",
    "\n",
    "![](http://bcc.ufabc.info/u5/lateral.png)\n",
    "\n",
    "Clique em **Enviar**. Você deve estar logado, caso contrário não vai dar certo.\n",
    "\n",
    "Na tela seguinte, escolha **Python 3**\n",
    "\n",
    "![](http://bcc.ufabc.info/u5/sub.png)\n",
    "\n",
    "Agora basta copiar e colar o nosso código:\n",
    "\n",
    "![](http://bcc.ufabc.info/u5/subs2.png)\n",
    "\n",
    "E clicar no botão na parte inferior da página:\n",
    "\n",
    "![](http://bcc.ufabc.info/u5/botao.png)\n",
    "\n",
    "Você pode ver o resultado da sua submissão clicando em um destes dois ícones:\n",
    "\n",
    "![](http://bcc.ufabc.info/u5/subs.png)\n",
    "\n",
    "Se você acertou, o seu problema aparecerá como **Accepted**!\n",
    "\n",
    "<span style=\"font-size:16pt;\">Agora é sua vez! Resolva o problema em https://www.urionlinejudge.com.br/judge/pt/problems/view/1004</span>"
   ]
  },
  {
   "cell_type": "code",
   "execution_count": null,
   "metadata": {
    "collapsed": true
   },
   "outputs": [],
   "source": []
  },
  {
   "cell_type": "markdown",
   "metadata": {},
   "source": [
    "Agora vamos praticar condicionais!\n",
    "\n",
    "<span style=\"font-size:16pt;\">Resolva o problema em \n",
    "https://www.urionlinejudge.com.br/judge/pt/problems/view/1044\n",
    "<br />Note que a resposta não tem acentos!\n",
    "</span>\n",
    "\n",
    "*Observação:* dois números são múltiplos entre si se o primeiro é divisível pelo segundo ou o segundo é divisível pelo primeiro. \n",
    "\n",
    "Lembre-se que x%y é o resto da divisão de x por y.\n",
    "\n",
    "Exemplos:\n",
    "\n",
    "24 e 6 são múltiplos\n",
    "\n",
    "6 e 24 são múltiplos\n",
    "\n",
    "2 e 2 são múltiplos\n",
    "\n",
    "\n",
    "<span style=\"font-size:14pt\">Já fizemos a leitura para você!\n",
    "<br />É um pouco diferente do que temos feito pois os números devem ser digitados em **uma só linha** e estão separados por espaços em branco</span>\n"
   ]
  },
  {
   "cell_type": "code",
   "execution_count": null,
   "metadata": {
    "collapsed": false
   },
   "outputs": [],
   "source": [
    "[n1,n2] = input().split(' ')  #lendo linha e separando pelos espaços\n",
    "n1 = int(n1)\n",
    "n2 = int(n2)\n",
    "# fim da leitura. O primeiro número está em n1 e o segundo número em n2"
   ]
  },
  {
   "cell_type": "markdown",
   "metadata": {},
   "source": [
    "<span style=\"font-size:16pt;\">Para o próximo exercício, você vai precisar imprimir um número com uma quantidade de casas decimais especificada. Veja o seguinte exemplo:</span>"
   ]
  },
  {
   "cell_type": "code",
   "execution_count": null,
   "metadata": {
    "collapsed": false
   },
   "outputs": [],
   "source": [
    "x = 1.123456789\n",
    "#vamos imprimir com 2 casas decimais\n",
    "print(\"%.2f\"%x)\n",
    "\n",
    "#vamos imprimir com 4 casas decimais\n",
    "print(\"Aqui estamos imprimindo com 4 casas decimais %.4f\"%x)"
   ]
  },
  {
   "cell_type": "markdown",
   "metadata": {},
   "source": [
    "<span style=\"font-size:16pt;\">Resolva o problema em https://www.urionlinejudge.com.br/judge/pt/problems/view/1038</span>\n",
    "\n",
    "\n",
    "<span style=\"font-size:14pt\">Já fizemos a leitura para você!</span>"
   ]
  },
  {
   "cell_type": "code",
   "execution_count": null,
   "metadata": {
    "collapsed": false
   },
   "outputs": [],
   "source": [
    "[cod, qte]=input().split(' ') #lendo linha e separando pelos espaços\n",
    "cod = int(cod)\n",
    "qte = int(qte)\n",
    "#fim da leitura. O código está em cod e a quantidade em qte\n",
    "#calcule o preco e coloque em uma variavel chamada preco\n",
    "\n",
    "\n",
    "\n",
    "#A impressao é a seguinte:\n",
    "print(\"Total: R$ %.2f\"%preco)"
   ]
  },
  {
   "cell_type": "markdown",
   "metadata": {},
   "source": [
    "<span style=\"font-size:16pt;\">Resolva o problema em https://www.urionlinejudge.com.br/judge/pt/problems/view/1050\n",
    "<br />Preste atenção nas maiúsculas/minúsculas e não coloque acentos!</span>"
   ]
  },
  {
   "cell_type": "code",
   "execution_count": null,
   "metadata": {
    "collapsed": false
   },
   "outputs": [],
   "source": []
  },
  {
   "cell_type": "markdown",
   "metadata": {},
   "source": [
    "<span style=\"font-size:16pt;\">Resolva o problema em\n",
    "<a href=\"https://www.urionlinejudge.com.br/judge/pt/problems/view/1042\">https://www.urionlinejudge.com.br/judge/pt/problems/view/1042</a></span>\n",
    "\n",
    "\n",
    "<span style=\"font-size:14pt\">Já fizemos a leitura para você novamente!</span>\n",
    "\n",
    "<span style=\"font-size:14pt\">Para imprimir uma linha em branco digite print(\"\")</span>\n"
   ]
  },
  {
   "cell_type": "code",
   "execution_count": null,
   "metadata": {
    "collapsed": false
   },
   "outputs": [],
   "source": [
    "[n1,n2,n3] = input().split(\" \")\n",
    "n1 = int(n1)\n",
    "n2 = int(n2)\n",
    "n3 = int(n3)\n",
    "\n",
    "# fim da leitura"
   ]
  }
 ],
 "metadata": {
  "kernelspec": {
   "display_name": "Python 3",
   "language": "python",
   "name": "python3"
  },
  "language_info": {
   "codemirror_mode": {
    "name": "ipython",
    "version": 3
   },
   "file_extension": ".py",
   "mimetype": "text/x-python",
   "name": "python",
   "nbconvert_exporter": "python",
   "pygments_lexer": "ipython3",
   "version": "3.5.1"
  }
 },
 "nbformat": 4,
 "nbformat_minor": 0
}
