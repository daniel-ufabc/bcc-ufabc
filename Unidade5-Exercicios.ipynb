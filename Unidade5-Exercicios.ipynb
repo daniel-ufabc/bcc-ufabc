{
 "cells": [
  {
   "cell_type": "code",
   "execution_count": null,
   "metadata": {
    "collapsed": true
   },
   "outputs": [],
   "source": []
  },
  {
   "cell_type": "markdown",
   "metadata": {},
   "source": [
    "## Tidia &raquo; Exercícios &raquo; Unidade 5 - Exercícios &raquo; Questão 1\n",
    "\n",
    "Faça um programa que simula um jogo de par ou ímpar:\n",
    "1. Pergunte o número do primeiro jogador.\n",
    "2. Pergunte o número do segundo jogador.\n",
    "3. Se a soma do primeiro e o segundo número for par, informe o usuário que o primeiro jogador ganhou. Se for ímpar, informe o usuário que o segundo jogador ganhou."
   ]
  },
  {
   "cell_type": "code",
   "execution_count": null,
   "metadata": {
    "collapsed": true
   },
   "outputs": [],
   "source": []
  },
  {
   "cell_type": "markdown",
   "metadata": {},
   "source": [
    "## Tidia &raquo; Exercícios &raquo; Unidade 5 - Exercícios &raquo; Questão 2\n",
    "\n",
    "Faça um programa que converte notas númericas em conceitos. O usuário digita a nota dele e você diz qual deve ser o conceito, conforme a tabela a seguir.\n",
    "\n",
    "|           Nota X | Conceito |\n",
    "|-----------------:|----------|\n",
    "|       8.5 &le; X | A        |\n",
    "| 7.5 &le; X < 8.5 | B        |\n",
    "| 6.0 &le; X < 7.5 | C        |\n",
    "| 5.0 &le; X < 6.0 | D        |\n",
    "|          X < 5.0 | F        |"
   ]
  },
  {
   "cell_type": "markdown",
   "metadata": {},
   "source": [
    "## Tidia &raquo; Exercícios &raquo; Unidade 5 - Exercícios &raquo; Questão 3\n",
    "\n",
    "Alice e Bob estão jogando pedra-papel-tesoura. Mas eles não se lembram das regras do jogo.\n",
    "Faça um programa que:\n",
    "1. Pede para Alice digitar 0 para pedra, 1 para papel e 2 para tesoura.\n",
    "2. Pede para Bob digitar 0 para pedra, 1 para papel e 2 para tesoura.\n",
    "3. Mostra na tela, quem ganhou ou se deu empate."
   ]
  },
  {
   "cell_type": "markdown",
   "metadata": {},
   "source": [
    "## Tidia &raquo; Exercícios &raquo; Unidade 5 - Exercícios &raquo; Questão 4\n",
    "\n",
    "Alice, Bob e Carol escolheram um número cada um. Eles querem que você mostre na tela qual é o\n",
    "maior dentre os números.\n",
    "1. Peça para Alice digitar um número.\n",
    "2. Peça para Bob digitar um número.\n",
    "3. Peça para Carol digitar um número.\n",
    "4. Mostre na tela o maior dos números digitados."
   ]
  },
  {
   "cell_type": "code",
   "execution_count": null,
   "metadata": {
    "collapsed": true
   },
   "outputs": [],
   "source": []
  }
 ],
 "metadata": {
  "kernelspec": {
   "display_name": "Python 3",
   "language": "python",
   "name": "python3"
  },
  "language_info": {
   "codemirror_mode": {
    "name": "ipython",
    "version": 3
   },
   "file_extension": ".py",
   "mimetype": "text/x-python",
   "name": "python",
   "nbconvert_exporter": "python",
   "pygments_lexer": "ipython3",
   "version": "3.5.1"
  }
 },
 "nbformat": 4,
 "nbformat_minor": 0
}
