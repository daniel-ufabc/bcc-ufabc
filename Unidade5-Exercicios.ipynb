{
 "cells": [
  {
   "cell_type": "markdown",
   "metadata": {},
   "source": [
    "Nesta lista de exercícios, você deverá submeter os seus códigos pelo site \n",
    "\n",
    "<span style=\"font-size:18pt;\">https://www.urionlinejudge.com.br</span>\n",
    "\n",
    "<span style=\"font-size:18pt\"><b>Entre no site, cadastre-se e logue!</b></span>\n",
    "\n",
    "Vamos mostrar alguns exemplos e te ajudar na entrada e impressão de dados.\n",
    "\n",
    "Vamos começar pelo problema 1003\n",
    "\n",
    "https://www.urionlinejudge.com.br/judge/pt/problems/view/1003\n",
    "\n",
    "Nesse problema, temos que ler dois números inteiros e depois imprimir uma linha com a soma deles. Veja o enunciado:\n",
    "\n",
    "![alt text](http://bcc.ufabc.info/u5/1003.png)\n",
    "\n",
    "O código a seguir resolve esse problema."
   ]
  },
  {
   "cell_type": "code",
   "execution_count": null,
   "metadata": {
    "collapsed": false
   },
   "outputs": [],
   "source": [
    "x = int(input())\n",
    "y = int(input())\n",
    "resp = x+y\n",
    "print(\"SOMA =\",resp) "
   ]
  },
  {
   "cell_type": "markdown",
   "metadata": {},
   "source": [
    "Dois pontos importantíssimos:\n",
    "\n",
    "<span style=\"font-size:16pt\">Não colocamos NENHUMA MENSAGEM ao usuário.\n",
    "<br />Imprimimos a resposta no formato EXATAMENTE como especificado. Inclusive o número de espaços em branco!\n",
    "</span>\n",
    "\n",
    "Se você não seguir as duas regras acima, o seu código terá *Wrong Answer* ou *Presentation Error* como resposta.\n",
    "\n",
    "Agora vamos submeter código para correção. Na barra lateral, temos o seguinte menu:\n",
    "\n",
    "![](http://bcc.ufabc.info/u5/lateral.png)\n",
    "\n",
    "Clique em **Enviar**. Você deve estar logado, caso contrário não vai dar certo.\n",
    "\n",
    "Na tela seguinte, escolha **Python 3**\n",
    "\n",
    "![](http://bcc.ufabc.info/u5/sub.png)\n",
    "\n",
    "Agora basta copiar e colar o nosso código:\n",
    "\n",
    "![](http://bcc.ufabc.info/u5/subs2.png)\n",
    "\n",
    "E clicar no botão na parte inferior da página:\n",
    "\n",
    "![](http://bcc.ufabc.info/u5/botao.png)\n",
    "\n",
    "Você pode ver o resultado da sua submissão clicando em um destes dois ícones:\n",
    "\n",
    "![](http://bcc.ufabc.info/u5/subs.png)\n",
    "\n",
    "Se você acertou, o seu problema aparecerá como **Accepted**\n",
    "\n",
    "<span style=\"font-size:16pt;\">Agora é sua vez! Resolva o problema em https://www.urionlinejudge.com.br/judge/pt/problems/view/1004</span>"
   ]
  },
  {
   "cell_type": "code",
   "execution_count": null,
   "metadata": {
    "collapsed": true
   },
   "outputs": [],
   "source": []
  },
  {
   "cell_type": "markdown",
   "metadata": {},
   "source": [
    "Agora vamos praticar condicionais!\n",
    "\n",
    "<span style=\"font-size:16pt;\">Resolva o problema em \n",
    "<a href=\"https://www.urionlinejudge.com.br/judge/pt/problems/view/1035\">\n",
    "https://www.urionlinejudge.com.br/judge/pt/problems/view/1035</a>\n",
    "<br />Note que a resposta não tem acentos!!\n",
    "</span>\n",
    "\n"
   ]
  },
  {
   "cell_type": "code",
   "execution_count": null,
   "metadata": {
    "collapsed": true
   },
   "outputs": [],
   "source": []
  },
  {
   "cell_type": "markdown",
   "metadata": {},
   "source": [
    "Para o próximo exercício, você vai precisar imprimir um número decimal com uma quantidade de casas decimais específicas.\n",
    "\n",
    "Veja o seguinte exemplo:"
   ]
  },
  {
   "cell_type": "code",
   "execution_count": null,
   "metadata": {
    "collapsed": false
   },
   "outputs": [],
   "source": [
    "x = 1.123456789\n",
    "#vamos imprimir com 2 casas decimais\n",
    "print(\"%.2f\"%x)\n",
    "\n",
    "#vamos imprimir com 4 casas decimais\n",
    "print(\"Imprimindo com 4 casas decimais %.4f\"%x)"
   ]
  },
  {
   "cell_type": "markdown",
   "metadata": {},
   "source": [
    "<span style=\"font-size:16pt;\">Resolva o problema em https://www.urionlinejudge.com.br/judge/pt/problems/view/1040</span>"
   ]
  },
  {
   "cell_type": "code",
   "execution_count": null,
   "metadata": {
    "collapsed": true
   },
   "outputs": [],
   "source": []
  },
  {
   "cell_type": "markdown",
   "metadata": {},
   "source": [
    "<span style=\"font-size:16pt;\">Resolva o problema em\n",
    "<a href=\"https://www.urionlinejudge.com.br/judge/pt/problems/view/1045\">https://www.urionlinejudge.com.br/judge/pt/problems/view/1045</a></span>"
   ]
  },
  {
   "cell_type": "code",
   "execution_count": null,
   "metadata": {
    "collapsed": true
   },
   "outputs": [],
   "source": []
  },
  {
   "cell_type": "markdown",
   "metadata": {},
   "source": [
    "<span style=\"font-size:16pt;\">Resolva o problema em https://www.urionlinejudge.com.br/judge/pt/problems/view/1050</span>"
   ]
  },
  {
   "cell_type": "code",
   "execution_count": null,
   "metadata": {
    "collapsed": true
   },
   "outputs": [],
   "source": []
  }
 ],
 "metadata": {
  "kernelspec": {
   "display_name": "Python 3",
   "language": "python",
   "name": "python3"
  },
  "language_info": {
   "codemirror_mode": {
    "name": "ipython",
    "version": 3
   },
   "file_extension": ".py",
   "mimetype": "text/x-python",
   "name": "python",
   "nbconvert_exporter": "python",
   "pygments_lexer": "ipython3",
   "version": "3.5.1"
  }
 },
 "nbformat": 4,
 "nbformat_minor": 0
}
