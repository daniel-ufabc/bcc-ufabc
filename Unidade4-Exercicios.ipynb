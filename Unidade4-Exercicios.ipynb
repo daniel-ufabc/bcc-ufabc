{
 "cells": [
  {
   "cell_type": "markdown",
   "metadata": {},
   "source": [
    "# Exercício 1\n",
    "\n",
    "Dizemos que dois números $a$ e $b$ são múltiplos se $a$ é divisível por $b$ ou é divisível por $a$.\n",
    "\n",
    "Faça um programa que\n",
    "* Pede para o usuário digitar um número inteiro $a$\n",
    "* Pede para o usuário digitar um número inteiro $b$\n",
    "* Calcula se $a$ e $b$ são múltiplos ou não\n",
    "* Mostra uma mensagem dizendo se $a$ e $b$ são múltiplos ou não\n",
    "\n",
    "Exemplos:\n",
    "* 4 e 2 são múltiplos, pois 4 é divisível por 2\n",
    "* 2 e 4 são múltiplos, pois 4 é divisível por 2\n",
    "* 2 e 3 não são múltiplos\n",
    "\n",
    "*Dica:* Use o operador de resto %"
   ]
  },
  {
   "cell_type": "code",
   "execution_count": null,
   "metadata": {
    "collapsed": false
   },
   "outputs": [],
   "source": []
  },
  {
   "cell_type": "markdown",
   "metadata": {},
   "source": [
    "# Exercício 2\n",
    "\n",
    "Alice tem um carro que faz 10 km para cada litro de gasolina.\n",
    "\n",
    "Ela quer ir para a UFABC e ela quer decidir se vai de carro ou de ônibus. \n",
    "\n",
    "Como ela quer economizar dinheiro, ela quer saber qual é a opção mais barata.\n",
    "\n",
    "O ônibus custa R$ 3.80, mas o preço da gasolina varia bastante.\n",
    "\n",
    "Faça um programa que:\n",
    "* Pede para Alice digitar o preço da gasolina por litro (ela vai digitar um número float)\n",
    "* Pede para Alice digitar a distância de sua casa para à UFABC\n",
    "* Calcula o gasto para ir de carro\n",
    "* Mostra na tela qual é a opção mais barata e o quanto ela economizaria com essa opção. Se der empate, ela vai de carro.\n",
    "\n",
    "Exemplos:\n",
    "* Se o preço da gasolina é 3.50 reais e a casa de Alice fica a 10 km da universidade, então ela gastaria 3.50 reais para ir para a universidade de carro. Portanto, ela economiza 0.30 indo de carro.\n",
    "* Se o preço da gasolina é 4.00 reais e a casa de Alice fica a 9.5 km da universidade, então ela gastaria 3.80 reais para ir para a universidade de carro. Portanto, dá empate e ela vai de carro.\n",
    "* Se o preço da gasolina é 3.50 reais e a casa de Alice fica a 20 km da universidade, então ela gastaria 7.00 reais para ir para a universidade de carro. Portanto, ela economiza 3.20 indo de ônibus.\n",
    "\n",
    "*Obs:* Lembre de digitar números com ponto (3.80 e não 3,80)."
   ]
  },
  {
   "cell_type": "code",
   "execution_count": null,
   "metadata": {
    "collapsed": false
   },
   "outputs": [],
   "source": []
  },
  {
   "cell_type": "markdown",
   "metadata": {},
   "source": [
    "# Exercício 3\n",
    "\n",
    "Alice e Bob querem jogar par ou ímpar.\n",
    "\n",
    "Alice sempre aposta no par e Bob no ímpar. \n",
    "\n",
    "Faça um programa que:\n",
    "\n",
    "* Pede para Alice escolher um número (inteiro)\n",
    "* Pede para Bob escolher um número (inteiro)\n",
    "* Mostre na tela quem é o ganhador\n",
    "\n",
    "\n",
    "*Dica:* Use o operador de resto %"
   ]
  },
  {
   "cell_type": "code",
   "execution_count": null,
   "metadata": {
    "collapsed": false
   },
   "outputs": [],
   "source": []
  },
  {
   "cell_type": "markdown",
   "metadata": {},
   "source": [
    "# Exercício 4\n",
    "\n",
    "Alice que jogar pedra-papel-tesoura com Bob.\n",
    "\n",
    "Para relembrar o jogo, cada jogador escolhe pedra ou papel ou tesoura.\n",
    "* pedra ganha de tesoura\n",
    "* tesoura ganha de papel \n",
    "* papel ganha de pedra\n",
    "* se os jogadores fizerem a mesma escolha, eles empatam.\n",
    "\n",
    "A ideia é que os jogadores mostrem suas escolhas ao mesmo tempo para que ninguém saia em vantagem.\n",
    "\n",
    "Mas Alice percebeu que Bob não sabe jogar direito e ele acaba mostrando a escolha dele um pouco antes de ela mostrar a escolha dela.\n",
    "\n",
    "Faça um programa que:\n",
    "* Pede para Bob digitar sua escolha (0 para pedra, 1 para tesoura e 2 para papel)\n",
    "* Mostra qual escolha Alice deve fazer para que ela ganhe\n",
    "\n"
   ]
  },
  {
   "cell_type": "code",
   "execution_count": null,
   "metadata": {
    "collapsed": true
   },
   "outputs": [],
   "source": []
  },
  {
   "cell_type": "markdown",
   "metadata": {},
   "source": [
    "# Exercício 5\n",
    "\n",
    "Alice tem um cronômetro que só marca segundos. Ela quer converter o tempo em minutos e segundos. \n",
    "\n",
    "Exemplos:\n",
    "* 72 segundos equivalem a 1 minuto 12 segundos\n",
    "* 120 segundos equivalem a 2 minutos 0 segundos\n",
    "* 45 segundos equivalem a 0 minutos e 45 segundos\n",
    "\n",
    "Faça um programa que:\n",
    "* Pede um número inteiro de segundos\n",
    "* Mostra o tempo em minutos e segundos como nos exemplos acima.\n",
    "\n",
    "*Dica:* Use o operador // (divisão inteira)\n"
   ]
  },
  {
   "cell_type": "code",
   "execution_count": null,
   "metadata": {
    "collapsed": true
   },
   "outputs": [],
   "source": []
  }
 ],
 "metadata": {
  "kernelspec": {
   "display_name": "Python 3",
   "language": "python",
   "name": "python3"
  },
  "language_info": {
   "codemirror_mode": {
    "name": "ipython",
    "version": 3
   },
   "file_extension": ".py",
   "mimetype": "text/x-python",
   "name": "python",
   "nbconvert_exporter": "python",
   "pygments_lexer": "ipython3",
   "version": "3.5.2"
  }
 },
 "nbformat": 4,
 "nbformat_minor": 0
}
