{
 "cells": [
  {
   "cell_type": "markdown",
   "metadata": {},
   "source": [
    "# Unidade 7 - Atividades\n",
    "\n",
    "## Bêbado\n",
    "\n",
    "Um bêbado segue por um trilho de trem abandonado muito comprido. Com\n",
    "probabilidade 0.5 ele dá um passo para o leste e com probabilidade 0.5 ele dá um passo para o oeste.\n",
    "Por conveniência, chame o ponto de partida do bêbado de ponto 0, e suponha que o trilho se\n",
    "prolongue por 40 passos para o leste e por 80 passos para o oeste desse ponto. \n",
    "\n",
    "### Exercício 1\n",
    "\n",
    "Faça um programa que simule o passeio do bêbado nesse trilho e diga, no momento em que ele sai do trilho, se foi pela extremidade leste ou oeste."
   ]
  },
  {
   "cell_type": "code",
   "execution_count": null,
   "metadata": {
    "collapsed": false
   },
   "outputs": [],
   "source": []
  },
  {
   "cell_type": "markdown",
   "metadata": {},
   "source": [
    "### Exercício 2\n",
    "\n",
    "Suponha agora que toda noite o bêbado parte do ponto 0 com o\n",
    "mesmo comportamento errante do exercício anterior. Modifique seu programa para estimar a\n",
    "probabilidade de ele sair pelo lado oeste. Dica: repita a simulação do bêbado muitas vezes e veja com que frequência ele sai por cada extremidade."
   ]
  },
  {
   "cell_type": "code",
   "execution_count": null,
   "metadata": {
    "collapsed": false
   },
   "outputs": [],
   "source": []
  },
  {
   "cell_type": "markdown",
   "metadata": {},
   "source": [
    "## Porta da esperança\n",
    "\n",
    "O Programa Sílvio Santos tinha uma quadro muito popular chamado *Porta da Esperança* que era baseado no show americano *Let's Make a Deal* apresentado por Monty Hall na década de 70. O quadro *Porta da Esperança* funcionava mais ou menos assim. \n",
    "\n",
    "Uma pessoa era selecionada para participar do show e ela tinha um sonho que gostaria de realizar (ganhar um carro, fazer uma viagem, encontrar com um ídolo, etc.). No palco havia três portas fechadas e atrás de uma delas estava o objeto do seu desejo (ou algém que iria realizar o seu desejo). As outras duas portas não tinham nada atrás delas.\n",
    "\n",
    "O participante escolhia uma das três portas. O apresentador, então, abria uma das outras duas portas (que o participante não escolheu) e que **não** tinha o prêmio. Neste momento do show há apenas duas portas fechadas: a que o participante escolheu e uma outra, e sabe-se que o prêmio está atrás de uma delas.\n",
    "\n",
    "Em seguida, Sílvio Santos perguntava ao participante se ele gostaria de manter a sua escolha ou se ele gostaria de trocar de porta. Após longo período de exploração sentimental do participante, uma vez que ele tomou sua decição (trocar ou ficar), o apresentador abria a porta combinada e o participante ganhava ou não o prêmio.\n",
    "\n",
    "------------\n",
    "\n",
    "Há uma certa discórdia com relação a qual seria a melhor estratégia para o participante. Algumas pessoas argumentam que é sempre mais vantagioso trocar de porta depois que o apresentador abriu uma delas, pois a chance do participante ter acertado a porta na primeira escolha era de apenas 1/3. Outras dizem que tanto faz trocar ou ficar pois, como restaram duas portas, a chance do prêmio estar atrás de qualquer uma delas é 50%. Chamemos o primeiro grupo de *Grupo A* e o segundo de *Grupo B*.\n",
    "\n",
    "Primeiro, reflita um pouco sobre o problema e veja com qual desses grupos você acha que concorda. \n",
    "\n",
    "### Exercício 3\n",
    "\n",
    "Faça um programa que simule o comportamento do Sílvio Santos. Seu programa deve:\n",
    "1. escolher aleatóriamente uma das três portas e colocar o prêmio atrás dela (**não informe o usuário onde está o prêmio**);\n",
    "2. pedir ao usuário que ele escolha uma das três portas;\n",
    "3. abrir uma porta que não tenha o prêmio e que o usuário não tenha escolhido (se houver mais de uma escolha para a porta a ser aberta, seu programa deve abrir qualquer uma delas com igual probabilidade);\n",
    "4. mostrar ao usuário qual porta foi aberta;\n",
    "5. perguntar ao usuário se ele deseja manter sua escolha inicial ou se ele deseja trocar de porta;\n",
    "6. mostrar ao usuário se ele ganhou ou não o prêmio."
   ]
  },
  {
   "cell_type": "code",
   "execution_count": null,
   "metadata": {
    "collapsed": false
   },
   "outputs": [],
   "source": []
  },
  {
   "cell_type": "markdown",
   "metadata": {},
   "source": [
    "### Exercício 4\n",
    "\n",
    "Faça um programa que simule o quadro porta da esperança 1000 vezes.\n",
    "\n",
    "Em cada uma das 1000 iterações, seu programa deve:\n",
    "1. escolher aleatóriamente uma das três portas e colocar o prêmio atrás dela;\n",
    "2. simular uma escolha aleatória de uma dessas três portas pelo participante;\n",
    "3. abrir uma porta que não tem o prêmio e que o participante não tenha escolhido (se houver mais de uma escolha para a porta a ser aberta, seu programa deve abrir qualquer uma delas com igual probabilidade);\n",
    "4. decidir quem ganha: aquele que quis manter a porta ou aquele que decidiu trocar.\n",
    "\n",
    "No final das 1000 simulações mostre quantas vezes o participante teria ganhado o prêmio se ele:\n",
    "1. sempre trocasse de porta;\n",
    "2. sempre mantivesse a escolha inicial."
   ]
  },
  {
   "cell_type": "code",
   "execution_count": null,
   "metadata": {
    "collapsed": false
   },
   "outputs": [],
   "source": []
  },
  {
   "cell_type": "markdown",
   "metadata": {},
   "source": [
    "## Balística\n",
    "\n",
    "Um morteiro é lançado da origem (do plano cartesiano), no tempo $t = 0$, com um ângulo de lançamento $\\alpha$, para algum $\\alpha$ entre 30 e 90 graus. Sua velocidade inicial é $50 m/s$. Uma câmera de vídeo filma o evento capturando $5 fps$ (5 *frames per second*). Ou seja, a câmera tira 5 fotos por segundo para depois compor o vídeo. \n",
    "\n",
    "### Exercício 5\n",
    "\n",
    "Faça um programa que pergunte ao usuário o ângulo $\\alpha$ e crie o gráfico que consiste da sobreposição de todas as fótos tiradas pela câmera, desde o lançamento do morteiro até o momento em que ele toca o chão novamente. Use a opção `'o'` da função plot."
   ]
  },
  {
   "cell_type": "code",
   "execution_count": null,
   "metadata": {
    "collapsed": false
   },
   "outputs": [],
   "source": []
  }
 ],
 "metadata": {
  "anaconda-cloud": {},
  "kernelspec": {
   "display_name": "Python [Root]",
   "language": "python",
   "name": "Python [Root]"
  },
  "language_info": {
   "codemirror_mode": {
    "name": "ipython",
    "version": 3
   },
   "file_extension": ".py",
   "mimetype": "text/x-python",
   "name": "python",
   "nbconvert_exporter": "python",
   "pygments_lexer": "ipython3",
   "version": "3.5.1"
  }
 },
 "nbformat": 4,
 "nbformat_minor": 0
}
